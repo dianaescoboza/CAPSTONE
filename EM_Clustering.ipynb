{
  "nbformat": 4,
  "nbformat_minor": 0,
  "metadata": {
    "colab": {
      "name": "EM_Clustering",
      "provenance": [],
      "collapsed_sections": []
    },
    "kernelspec": {
      "name": "python3",
      "display_name": "Python 3"
    }
  },
  "cells": [
    {
      "cell_type": "code",
      "metadata": {
        "id": "wvMANs8vKnLe"
      },
      "source": [
        "import numpy as np\n",
        "import matplotlib.pyplot as plt\n",
        "import tensorflow as tf"
      ],
      "execution_count": null,
      "outputs": []
    },
    {
      "cell_type": "code",
      "metadata": {
        "id": "iojGULzaNCCE"
      },
      "source": [
        "def distanceFunc(X, MU):\n",
        "    # Inputs\n",
        "    # X: is an NxD matrix (N observations and D dimensions)\n",
        "    # MU: is an KxD matrix (K means and D dimensions)\n",
        "    # Outputs\n",
        "    # pair_dist: is the squared pairwise distance matrix (NxK)\n",
        "    # TODO\n",
        "    pair_dist = tf.transpose(tf.reduce_sum(tf.square(X - MU), axis=2))\n",
        "    return pair_dist"
      ],
      "execution_count": null,
      "outputs": []
    },
    {
      "cell_type": "code",
      "metadata": {
        "id": "O5YAVbQVPdJw"
      },
      "source": [
        "def log_GaussPDF(X, mu, sigma):\n",
        "    # Inputs\n",
        "    # X: N X D\n",
        "    # mu: K X D\n",
        "    # sigma: K X 1\n",
        "\n",
        "    # Outputs:\n",
        "    # log Gaussian PDF N X K\n",
        "\n",
        "    # TODO\n",
        "    dim = data.shape[1]\n",
        "    dist = distanceFunc(X, mu)\n",
        "    sigma = tf.transpose(sigma)\n",
        "    gauss_coeff = tf.log(2 * np.pi * sigma)\n",
        "    pdf = -(1/2)*dim*gauss_coeff - (dist/(2*sigma))\n",
        "    return pdf"
      ],
      "execution_count": null,
      "outputs": []
    },
    {
      "cell_type": "code",
      "metadata": {
        "id": "fJIbG3BOPgFd"
      },
      "source": [
        "def log_posterior(log_PDF, log_pi):\n",
        "    # Input\n",
        "    # log_PDF: log Gaussian PDF N X K\n",
        "    # log_pi: K X 1\n",
        "\n",
        "    # Outputs\n",
        "    # log_post: N X K\n",
        "\n",
        "    # TODO\n",
        "    log_pi = tf.transpose(log_pi)\n",
        "    prob = log_pi + log_PDF\n",
        "    prob_sum = hlp.reduce_logsumexp(prob, keep_dims=True)\n",
        "    posterior = prob - prob_sum\n",
        "    return posterior"
      ],
      "execution_count": null,
      "outputs": []
    },
    {
      "cell_type": "code",
      "metadata": {
        "id": "o5zzznMNPh9O"
      },
      "source": [
        "def loss_function(log_PDF, log_pi):\n",
        "    loss = -tf.reduce_sum(hlp.reduce_logsumexp(log_PDF + log_pi, 1, keep_dims=True), axis =0)\n",
        "    return loss"
      ],
      "execution_count": null,
      "outputs": []
    }
  ]
}