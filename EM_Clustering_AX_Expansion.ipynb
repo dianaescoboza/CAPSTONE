{
  "nbformat": 4,
  "nbformat_minor": 0,
  "metadata": {
    "colab": {
      "name": "EM_Clustering_AX_Expansion",
      "provenance": [],
      "collapsed_sections": []
    },
    "kernelspec": {
      "name": "python3",
      "display_name": "Python 3"
    }
  },
  "cells": [
    {
      "cell_type": "code",
      "metadata": {
        "id": "wvMANs8vKnLe"
      },
      "source": [
        "import pandas as pd\n",
        "import numpy as np\n",
        "from sklearn import preprocessing\n",
        "from sklearn.mixture import GaussianMixture\n",
        "from sklearn.preprocessing import OneHotEncoder\n",
        "import collections\n",
        "from scipy.spatial.distance import cdist \n",
        "from sklearn.decomposition import PCA\n",
        "from sklearn.preprocessing import scale\n",
        "from time import time\n",
        "import matplotlib.pyplot as plt\n",
        "from sklearn import metrics\n",
        "from pathlib import Path\n",
        "np.random.seed(42)\n",
        "import tensorflow as tf\n",
        "# Resource: https://pythonmachinelearning.pro/clustering-with-gaussian-mixture-models/"
      ],
      "execution_count": null,
      "outputs": []
    },
    {
      "cell_type": "code",
      "metadata": {
        "id": "917b4LqOM6xX"
      },
      "source": [
        "processed_data = pd.read_csv('data.csv')"
      ],
      "execution_count": null,
      "outputs": []
    },
    {
      "cell_type": "code",
      "metadata": {
        "colab": {
          "base_uri": "https://localhost:8080/",
          "height": 609
        },
        "id": "q_yESGqiBfpm",
        "outputId": "12d36de3-55a1-4f52-9ecf-bcdd68b8a78b"
      },
      "source": [
        "processed_data"
      ],
      "execution_count": null,
      "outputs": [
        {
          "output_type": "execute_result",
          "data": {
            "text/html": [
              "<div>\n",
              "<style scoped>\n",
              "    .dataframe tbody tr th:only-of-type {\n",
              "        vertical-align: middle;\n",
              "    }\n",
              "\n",
              "    .dataframe tbody tr th {\n",
              "        vertical-align: top;\n",
              "    }\n",
              "\n",
              "    .dataframe thead th {\n",
              "        text-align: right;\n",
              "    }\n",
              "</style>\n",
              "<table border=\"1\" class=\"dataframe\">\n",
              "  <thead>\n",
              "    <tr style=\"text-align: right;\">\n",
              "      <th></th>\n",
              "      <th>AveragePaymentValue</th>\n",
              "      <th>CustomerKey</th>\n",
              "      <th>DueDate</th>\n",
              "      <th>EarliestPaymentDate</th>\n",
              "      <th>InvoiceKey</th>\n",
              "      <th>NumPayments</th>\n",
              "      <th>OriginalInvoiceAmount</th>\n",
              "      <th>LatestPaymentDate</th>\n",
              "      <th>PaymentType</th>\n",
              "      <th>TotalPaymentValue</th>\n",
              "      <th>RaisedDate</th>\n",
              "      <th>StatementTransactionType</th>\n",
              "    </tr>\n",
              "  </thead>\n",
              "  <tbody>\n",
              "    <tr>\n",
              "      <th>0</th>\n",
              "      <td>168.000</td>\n",
              "      <td>16745090</td>\n",
              "      <td>2018-03-02</td>\n",
              "      <td>2018-11-23</td>\n",
              "      <td>195519971</td>\n",
              "      <td>1.0</td>\n",
              "      <td>168.00</td>\n",
              "      <td>2018-11-23</td>\n",
              "      <td>Barclays Multi</td>\n",
              "      <td>168.00</td>\n",
              "      <td>2018-01-03</td>\n",
              "      <td>INV</td>\n",
              "    </tr>\n",
              "    <tr>\n",
              "      <th>1</th>\n",
              "      <td>819.600</td>\n",
              "      <td>16743947</td>\n",
              "      <td>2018-02-03</td>\n",
              "      <td>2018-10-26</td>\n",
              "      <td>196442471</td>\n",
              "      <td>1.0</td>\n",
              "      <td>819.60</td>\n",
              "      <td>2018-10-26</td>\n",
              "      <td>Barclays Multi</td>\n",
              "      <td>819.60</td>\n",
              "      <td>2018-01-04</td>\n",
              "      <td>INV</td>\n",
              "    </tr>\n",
              "    <tr>\n",
              "      <th>2</th>\n",
              "      <td>718.200</td>\n",
              "      <td>16836264</td>\n",
              "      <td>2018-02-08</td>\n",
              "      <td>2018-11-05</td>\n",
              "      <td>196563186</td>\n",
              "      <td>1.0</td>\n",
              "      <td>749.40</td>\n",
              "      <td>2018-11-05</td>\n",
              "      <td>Barclays Multi</td>\n",
              "      <td>718.20</td>\n",
              "      <td>2018-01-09</td>\n",
              "      <td>INV</td>\n",
              "    </tr>\n",
              "    <tr>\n",
              "      <th>3</th>\n",
              "      <td>1873.080</td>\n",
              "      <td>16843107</td>\n",
              "      <td>2018-03-02</td>\n",
              "      <td>2018-09-04</td>\n",
              "      <td>196711370</td>\n",
              "      <td>1.0</td>\n",
              "      <td>1873.08</td>\n",
              "      <td>2018-09-04</td>\n",
              "      <td>Barclays Multi</td>\n",
              "      <td>1873.08</td>\n",
              "      <td>2018-01-11</td>\n",
              "      <td>INV</td>\n",
              "    </tr>\n",
              "    <tr>\n",
              "      <th>4</th>\n",
              "      <td>1316.090</td>\n",
              "      <td>16739410</td>\n",
              "      <td>2018-02-11</td>\n",
              "      <td>2018-09-26</td>\n",
              "      <td>197134638</td>\n",
              "      <td>1.0</td>\n",
              "      <td>1316.09</td>\n",
              "      <td>2018-09-26</td>\n",
              "      <td>Barclays Multi</td>\n",
              "      <td>1316.09</td>\n",
              "      <td>2018-01-12</td>\n",
              "      <td>INV</td>\n",
              "    </tr>\n",
              "    <tr>\n",
              "      <th>...</th>\n",
              "      <td>...</td>\n",
              "      <td>...</td>\n",
              "      <td>...</td>\n",
              "      <td>...</td>\n",
              "      <td>...</td>\n",
              "      <td>...</td>\n",
              "      <td>...</td>\n",
              "      <td>...</td>\n",
              "      <td>...</td>\n",
              "      <td>...</td>\n",
              "      <td>...</td>\n",
              "      <td>...</td>\n",
              "    </tr>\n",
              "    <tr>\n",
              "      <th>272237</th>\n",
              "      <td>24.815</td>\n",
              "      <td>16849111</td>\n",
              "      <td>2019-07-30</td>\n",
              "      <td>2019-07-30 00:00:00</td>\n",
              "      <td>196911580</td>\n",
              "      <td>2.0</td>\n",
              "      <td>49.63</td>\n",
              "      <td>2019-08-30 00:00:00</td>\n",
              "      <td>Barclays Multi</td>\n",
              "      <td>49.63</td>\n",
              "      <td>2019-06-30</td>\n",
              "      <td>INV</td>\n",
              "    </tr>\n",
              "    <tr>\n",
              "      <th>272238</th>\n",
              "      <td>178.165</td>\n",
              "      <td>16847651</td>\n",
              "      <td>2019-07-30</td>\n",
              "      <td>2019-09-24 00:00:00</td>\n",
              "      <td>195362531</td>\n",
              "      <td>2.0</td>\n",
              "      <td>356.33</td>\n",
              "      <td>2019-10-07 00:00:00</td>\n",
              "      <td>Barclays Multi</td>\n",
              "      <td>356.33</td>\n",
              "      <td>2019-06-30</td>\n",
              "      <td>INV</td>\n",
              "    </tr>\n",
              "    <tr>\n",
              "      <th>272239</th>\n",
              "      <td>36.310</td>\n",
              "      <td>16917308</td>\n",
              "      <td>2019-07-30</td>\n",
              "      <td>2019-07-29 00:00:00</td>\n",
              "      <td>196871858</td>\n",
              "      <td>2.0</td>\n",
              "      <td>72.62</td>\n",
              "      <td>2019-08-09 00:00:00</td>\n",
              "      <td>Barclays Multi</td>\n",
              "      <td>72.62</td>\n",
              "      <td>2019-06-30</td>\n",
              "      <td>INV</td>\n",
              "    </tr>\n",
              "    <tr>\n",
              "      <th>272240</th>\n",
              "      <td>311.440</td>\n",
              "      <td>16782671</td>\n",
              "      <td>2019-07-30</td>\n",
              "      <td>2019-07-22 00:00:00</td>\n",
              "      <td>195891626</td>\n",
              "      <td>2.0</td>\n",
              "      <td>311.44</td>\n",
              "      <td>2019-09-18 00:00:00</td>\n",
              "      <td>CheckM8</td>\n",
              "      <td>622.88</td>\n",
              "      <td>2019-06-30</td>\n",
              "      <td>INV</td>\n",
              "    </tr>\n",
              "    <tr>\n",
              "      <th>272241</th>\n",
              "      <td>226.750</td>\n",
              "      <td>16876991</td>\n",
              "      <td>2019-07-30</td>\n",
              "      <td>2019-08-16 00:00:00</td>\n",
              "      <td>196139086</td>\n",
              "      <td>2.0</td>\n",
              "      <td>453.50</td>\n",
              "      <td>2019-09-20 00:00:00</td>\n",
              "      <td>Barclays Multi</td>\n",
              "      <td>453.50</td>\n",
              "      <td>2019-06-30</td>\n",
              "      <td>INV</td>\n",
              "    </tr>\n",
              "  </tbody>\n",
              "</table>\n",
              "<p>272242 rows × 12 columns</p>\n",
              "</div>"
            ],
            "text/plain": [
              "        AveragePaymentValue  CustomerKey  ...  RaisedDate StatementTransactionType\n",
              "0                   168.000     16745090  ...  2018-01-03                      INV\n",
              "1                   819.600     16743947  ...  2018-01-04                      INV\n",
              "2                   718.200     16836264  ...  2018-01-09                      INV\n",
              "3                  1873.080     16843107  ...  2018-01-11                      INV\n",
              "4                  1316.090     16739410  ...  2018-01-12                      INV\n",
              "...                     ...          ...  ...         ...                      ...\n",
              "272237               24.815     16849111  ...  2019-06-30                      INV\n",
              "272238              178.165     16847651  ...  2019-06-30                      INV\n",
              "272239               36.310     16917308  ...  2019-06-30                      INV\n",
              "272240              311.440     16782671  ...  2019-06-30                      INV\n",
              "272241              226.750     16876991  ...  2019-06-30                      INV\n",
              "\n",
              "[272242 rows x 12 columns]"
            ]
          },
          "metadata": {
            "tags": []
          },
          "execution_count": 3
        }
      ]
    },
    {
      "cell_type": "code",
      "metadata": {
        "id": "9mCs4WoGBzAc"
      },
      "source": [
        "# Drop unnecessary columns\n",
        "#processed_data = processed_data.drop(['ExtractDate'], axis = 1)\n",
        "\n",
        "# Set date values to datetime\n",
        "processed_data[\"RaisedDate\"] = pd.to_datetime(processed_data[\"RaisedDate\"])\n",
        "processed_data[\"DueDate\"] = pd.to_datetime(processed_data[\"DueDate\"])\n",
        "processed_data[\"EarliestPaymentDate\"] = pd.to_datetime(processed_data[\"EarliestPaymentDate\"])\n",
        "processed_data[\"LatestPaymentDate\"] = pd.to_datetime(processed_data[\"LatestPaymentDate\"])\n",
        "\n",
        "# Drop NA\n",
        "processed_data = processed_data.dropna()\n",
        "\n",
        "# Reset Index\n",
        "processed_data = processed_data.reset_index()"
      ],
      "execution_count": null,
      "outputs": []
    },
    {
      "cell_type": "code",
      "metadata": {
        "colab": {
          "base_uri": "https://localhost:8080/",
          "height": 609
        },
        "id": "rTEky1dLB9xi",
        "outputId": "3a62b454-023c-4323-efad-aa2c817fd99b"
      },
      "source": [
        "processed_data"
      ],
      "execution_count": null,
      "outputs": [
        {
          "output_type": "execute_result",
          "data": {
            "text/html": [
              "<div>\n",
              "<style scoped>\n",
              "    .dataframe tbody tr th:only-of-type {\n",
              "        vertical-align: middle;\n",
              "    }\n",
              "\n",
              "    .dataframe tbody tr th {\n",
              "        vertical-align: top;\n",
              "    }\n",
              "\n",
              "    .dataframe thead th {\n",
              "        text-align: right;\n",
              "    }\n",
              "</style>\n",
              "<table border=\"1\" class=\"dataframe\">\n",
              "  <thead>\n",
              "    <tr style=\"text-align: right;\">\n",
              "      <th></th>\n",
              "      <th>index</th>\n",
              "      <th>AveragePaymentValue</th>\n",
              "      <th>CustomerKey</th>\n",
              "      <th>DueDate</th>\n",
              "      <th>EarliestPaymentDate</th>\n",
              "      <th>InvoiceKey</th>\n",
              "      <th>NumPayments</th>\n",
              "      <th>OriginalInvoiceAmount</th>\n",
              "      <th>LatestPaymentDate</th>\n",
              "      <th>PaymentType</th>\n",
              "      <th>TotalPaymentValue</th>\n",
              "      <th>RaisedDate</th>\n",
              "      <th>StatementTransactionType</th>\n",
              "    </tr>\n",
              "  </thead>\n",
              "  <tbody>\n",
              "    <tr>\n",
              "      <th>0</th>\n",
              "      <td>0</td>\n",
              "      <td>168.000</td>\n",
              "      <td>16745090</td>\n",
              "      <td>2018-03-02</td>\n",
              "      <td>2018-11-23</td>\n",
              "      <td>195519971</td>\n",
              "      <td>1.0</td>\n",
              "      <td>168.00</td>\n",
              "      <td>2018-11-23</td>\n",
              "      <td>Barclays Multi</td>\n",
              "      <td>168.00</td>\n",
              "      <td>2018-01-03</td>\n",
              "      <td>INV</td>\n",
              "    </tr>\n",
              "    <tr>\n",
              "      <th>1</th>\n",
              "      <td>1</td>\n",
              "      <td>819.600</td>\n",
              "      <td>16743947</td>\n",
              "      <td>2018-02-03</td>\n",
              "      <td>2018-10-26</td>\n",
              "      <td>196442471</td>\n",
              "      <td>1.0</td>\n",
              "      <td>819.60</td>\n",
              "      <td>2018-10-26</td>\n",
              "      <td>Barclays Multi</td>\n",
              "      <td>819.60</td>\n",
              "      <td>2018-01-04</td>\n",
              "      <td>INV</td>\n",
              "    </tr>\n",
              "    <tr>\n",
              "      <th>2</th>\n",
              "      <td>2</td>\n",
              "      <td>718.200</td>\n",
              "      <td>16836264</td>\n",
              "      <td>2018-02-08</td>\n",
              "      <td>2018-11-05</td>\n",
              "      <td>196563186</td>\n",
              "      <td>1.0</td>\n",
              "      <td>749.40</td>\n",
              "      <td>2018-11-05</td>\n",
              "      <td>Barclays Multi</td>\n",
              "      <td>718.20</td>\n",
              "      <td>2018-01-09</td>\n",
              "      <td>INV</td>\n",
              "    </tr>\n",
              "    <tr>\n",
              "      <th>3</th>\n",
              "      <td>3</td>\n",
              "      <td>1873.080</td>\n",
              "      <td>16843107</td>\n",
              "      <td>2018-03-02</td>\n",
              "      <td>2018-09-04</td>\n",
              "      <td>196711370</td>\n",
              "      <td>1.0</td>\n",
              "      <td>1873.08</td>\n",
              "      <td>2018-09-04</td>\n",
              "      <td>Barclays Multi</td>\n",
              "      <td>1873.08</td>\n",
              "      <td>2018-01-11</td>\n",
              "      <td>INV</td>\n",
              "    </tr>\n",
              "    <tr>\n",
              "      <th>4</th>\n",
              "      <td>4</td>\n",
              "      <td>1316.090</td>\n",
              "      <td>16739410</td>\n",
              "      <td>2018-02-11</td>\n",
              "      <td>2018-09-26</td>\n",
              "      <td>197134638</td>\n",
              "      <td>1.0</td>\n",
              "      <td>1316.09</td>\n",
              "      <td>2018-09-26</td>\n",
              "      <td>Barclays Multi</td>\n",
              "      <td>1316.09</td>\n",
              "      <td>2018-01-12</td>\n",
              "      <td>INV</td>\n",
              "    </tr>\n",
              "    <tr>\n",
              "      <th>...</th>\n",
              "      <td>...</td>\n",
              "      <td>...</td>\n",
              "      <td>...</td>\n",
              "      <td>...</td>\n",
              "      <td>...</td>\n",
              "      <td>...</td>\n",
              "      <td>...</td>\n",
              "      <td>...</td>\n",
              "      <td>...</td>\n",
              "      <td>...</td>\n",
              "      <td>...</td>\n",
              "      <td>...</td>\n",
              "      <td>...</td>\n",
              "    </tr>\n",
              "    <tr>\n",
              "      <th>272237</th>\n",
              "      <td>272237</td>\n",
              "      <td>24.815</td>\n",
              "      <td>16849111</td>\n",
              "      <td>2019-07-30</td>\n",
              "      <td>2019-07-30</td>\n",
              "      <td>196911580</td>\n",
              "      <td>2.0</td>\n",
              "      <td>49.63</td>\n",
              "      <td>2019-08-30</td>\n",
              "      <td>Barclays Multi</td>\n",
              "      <td>49.63</td>\n",
              "      <td>2019-06-30</td>\n",
              "      <td>INV</td>\n",
              "    </tr>\n",
              "    <tr>\n",
              "      <th>272238</th>\n",
              "      <td>272238</td>\n",
              "      <td>178.165</td>\n",
              "      <td>16847651</td>\n",
              "      <td>2019-07-30</td>\n",
              "      <td>2019-09-24</td>\n",
              "      <td>195362531</td>\n",
              "      <td>2.0</td>\n",
              "      <td>356.33</td>\n",
              "      <td>2019-10-07</td>\n",
              "      <td>Barclays Multi</td>\n",
              "      <td>356.33</td>\n",
              "      <td>2019-06-30</td>\n",
              "      <td>INV</td>\n",
              "    </tr>\n",
              "    <tr>\n",
              "      <th>272239</th>\n",
              "      <td>272239</td>\n",
              "      <td>36.310</td>\n",
              "      <td>16917308</td>\n",
              "      <td>2019-07-30</td>\n",
              "      <td>2019-07-29</td>\n",
              "      <td>196871858</td>\n",
              "      <td>2.0</td>\n",
              "      <td>72.62</td>\n",
              "      <td>2019-08-09</td>\n",
              "      <td>Barclays Multi</td>\n",
              "      <td>72.62</td>\n",
              "      <td>2019-06-30</td>\n",
              "      <td>INV</td>\n",
              "    </tr>\n",
              "    <tr>\n",
              "      <th>272240</th>\n",
              "      <td>272240</td>\n",
              "      <td>311.440</td>\n",
              "      <td>16782671</td>\n",
              "      <td>2019-07-30</td>\n",
              "      <td>2019-07-22</td>\n",
              "      <td>195891626</td>\n",
              "      <td>2.0</td>\n",
              "      <td>311.44</td>\n",
              "      <td>2019-09-18</td>\n",
              "      <td>CheckM8</td>\n",
              "      <td>622.88</td>\n",
              "      <td>2019-06-30</td>\n",
              "      <td>INV</td>\n",
              "    </tr>\n",
              "    <tr>\n",
              "      <th>272241</th>\n",
              "      <td>272241</td>\n",
              "      <td>226.750</td>\n",
              "      <td>16876991</td>\n",
              "      <td>2019-07-30</td>\n",
              "      <td>2019-08-16</td>\n",
              "      <td>196139086</td>\n",
              "      <td>2.0</td>\n",
              "      <td>453.50</td>\n",
              "      <td>2019-09-20</td>\n",
              "      <td>Barclays Multi</td>\n",
              "      <td>453.50</td>\n",
              "      <td>2019-06-30</td>\n",
              "      <td>INV</td>\n",
              "    </tr>\n",
              "  </tbody>\n",
              "</table>\n",
              "<p>272242 rows × 13 columns</p>\n",
              "</div>"
            ],
            "text/plain": [
              "         index  AveragePaymentValue  ...  RaisedDate StatementTransactionType\n",
              "0            0              168.000  ...  2018-01-03                      INV\n",
              "1            1              819.600  ...  2018-01-04                      INV\n",
              "2            2              718.200  ...  2018-01-09                      INV\n",
              "3            3             1873.080  ...  2018-01-11                      INV\n",
              "4            4             1316.090  ...  2018-01-12                      INV\n",
              "...        ...                  ...  ...         ...                      ...\n",
              "272237  272237               24.815  ...  2019-06-30                      INV\n",
              "272238  272238              178.165  ...  2019-06-30                      INV\n",
              "272239  272239               36.310  ...  2019-06-30                      INV\n",
              "272240  272240              311.440  ...  2019-06-30                      INV\n",
              "272241  272241              226.750  ...  2019-06-30                      INV\n",
              "\n",
              "[272242 rows x 13 columns]"
            ]
          },
          "metadata": {
            "tags": []
          },
          "execution_count": 5
        }
      ]
    },
    {
      "cell_type": "code",
      "metadata": {
        "id": "yA81lWESM8fZ"
      },
      "source": [
        "# Create onehot encoder\n",
        "enc = OneHotEncoder(handle_unknown='ignore')"
      ],
      "execution_count": null,
      "outputs": []
    },
    {
      "cell_type": "code",
      "metadata": {
        "id": "kGcrJp9jM-4r",
        "colab": {
          "base_uri": "https://localhost:8080/"
        },
        "outputId": "dcb24867-561c-4a5d-9b8b-bf34f6165178"
      },
      "source": [
        "# One Hot Encode Categorical Variables\n",
        "# Statement Transaction Type\n",
        "enc_df = pd.DataFrame(data = enc.fit_transform(processed_data[['StatementTransactionType']]).toarray(), columns = enc.categories_)\n",
        "processed_data = processed_data.join(enc_df)\n",
        "\n",
        "print(\"Encoded statement transaction type.\")\n",
        "\n",
        "# Payment Type\n",
        "enc_df = pd.DataFrame(data = enc.fit_transform(processed_data[['PaymentType']]).toarray(), columns = enc.categories_)\n",
        "processed_data = processed_data.join(enc_df)\n",
        "print(\"Encoded payment type.\")"
      ],
      "execution_count": null,
      "outputs": [
        {
          "output_type": "stream",
          "text": [
            "Encoded statement transaction type.\n",
            "Encoded payment type.\n"
          ],
          "name": "stdout"
        }
      ]
    },
    {
      "cell_type": "code",
      "metadata": {
        "id": "yewxQXENM4Kc"
      },
      "source": [
        "# Generate some variables for dates\n",
        "processed_data[\"PaymentPercentage\"] =  processed_data[\"AveragePaymentValue\"] / processed_data[\"OriginalInvoiceAmount\"]\n",
        "processed_data[\"PaymentTimeRemaining\"] = (processed_data[\"DueDate\"] - processed_data[\"LatestPaymentDate\"]).astype('timedelta64[D]')\n",
        "processed_data[\"1stPaymentTimeRemaining\"] = (processed_data[\"DueDate\"] - processed_data[\"EarliestPaymentDate\"]).astype('timedelta64[D]')\n",
        "processed_data[\"PaymentWindow\"] = (processed_data[\"DueDate\"] - processed_data[\"RaisedDate\"]).astype('timedelta64[D]')"
      ],
      "execution_count": null,
      "outputs": []
    },
    {
      "cell_type": "code",
      "metadata": {
        "colab": {
          "base_uri": "https://localhost:8080/",
          "height": 643
        },
        "id": "y8oKRF0wCS4c",
        "outputId": "bcb90897-022e-4873-c181-2974bba332cf"
      },
      "source": [
        "processed_data"
      ],
      "execution_count": 122,
      "outputs": [
        {
          "output_type": "execute_result",
          "data": {
            "text/html": [
              "<div>\n",
              "<style scoped>\n",
              "    .dataframe tbody tr th:only-of-type {\n",
              "        vertical-align: middle;\n",
              "    }\n",
              "\n",
              "    .dataframe tbody tr th {\n",
              "        vertical-align: top;\n",
              "    }\n",
              "\n",
              "    .dataframe thead th {\n",
              "        text-align: right;\n",
              "    }\n",
              "</style>\n",
              "<table border=\"1\" class=\"dataframe\">\n",
              "  <thead>\n",
              "    <tr style=\"text-align: right;\">\n",
              "      <th></th>\n",
              "      <th>index</th>\n",
              "      <th>AveragePaymentValue</th>\n",
              "      <th>CustomerKey</th>\n",
              "      <th>DueDate</th>\n",
              "      <th>EarliestPaymentDate</th>\n",
              "      <th>InvoiceKey</th>\n",
              "      <th>NumPayments</th>\n",
              "      <th>OriginalInvoiceAmount</th>\n",
              "      <th>LatestPaymentDate</th>\n",
              "      <th>PaymentType</th>\n",
              "      <th>TotalPaymentValue</th>\n",
              "      <th>RaisedDate</th>\n",
              "      <th>StatementTransactionType</th>\n",
              "      <th>(CSH,)</th>\n",
              "      <th>(INV,)</th>\n",
              "      <th>(JRN,)</th>\n",
              "      <th>(Barclays Multi,)</th>\n",
              "      <th>(CheckM8,)</th>\n",
              "      <th>(['Barclays Multi' 'CheckM8'],)</th>\n",
              "      <th>PaymentPercentage</th>\n",
              "      <th>PaymentTimeRemaining</th>\n",
              "      <th>1stPaymentTimeRemaining</th>\n",
              "      <th>PaymentWindow</th>\n",
              "    </tr>\n",
              "  </thead>\n",
              "  <tbody>\n",
              "    <tr>\n",
              "      <th>0</th>\n",
              "      <td>0</td>\n",
              "      <td>168.000</td>\n",
              "      <td>16745090</td>\n",
              "      <td>2018-03-02</td>\n",
              "      <td>2018-11-23</td>\n",
              "      <td>195519971</td>\n",
              "      <td>1.0</td>\n",
              "      <td>168.00</td>\n",
              "      <td>2018-11-23</td>\n",
              "      <td>Barclays Multi</td>\n",
              "      <td>168.00</td>\n",
              "      <td>2018-01-03</td>\n",
              "      <td>INV</td>\n",
              "      <td>0.0</td>\n",
              "      <td>1.0</td>\n",
              "      <td>0.0</td>\n",
              "      <td>1.0</td>\n",
              "      <td>0.0</td>\n",
              "      <td>0.0</td>\n",
              "      <td>1.000000</td>\n",
              "      <td>-266.0</td>\n",
              "      <td>-266.0</td>\n",
              "      <td>58.0</td>\n",
              "    </tr>\n",
              "    <tr>\n",
              "      <th>1</th>\n",
              "      <td>1</td>\n",
              "      <td>819.600</td>\n",
              "      <td>16743947</td>\n",
              "      <td>2018-02-03</td>\n",
              "      <td>2018-10-26</td>\n",
              "      <td>196442471</td>\n",
              "      <td>1.0</td>\n",
              "      <td>819.60</td>\n",
              "      <td>2018-10-26</td>\n",
              "      <td>Barclays Multi</td>\n",
              "      <td>819.60</td>\n",
              "      <td>2018-01-04</td>\n",
              "      <td>INV</td>\n",
              "      <td>0.0</td>\n",
              "      <td>1.0</td>\n",
              "      <td>0.0</td>\n",
              "      <td>1.0</td>\n",
              "      <td>0.0</td>\n",
              "      <td>0.0</td>\n",
              "      <td>1.000000</td>\n",
              "      <td>-265.0</td>\n",
              "      <td>-265.0</td>\n",
              "      <td>30.0</td>\n",
              "    </tr>\n",
              "    <tr>\n",
              "      <th>2</th>\n",
              "      <td>2</td>\n",
              "      <td>718.200</td>\n",
              "      <td>16836264</td>\n",
              "      <td>2018-02-08</td>\n",
              "      <td>2018-11-05</td>\n",
              "      <td>196563186</td>\n",
              "      <td>1.0</td>\n",
              "      <td>749.40</td>\n",
              "      <td>2018-11-05</td>\n",
              "      <td>Barclays Multi</td>\n",
              "      <td>718.20</td>\n",
              "      <td>2018-01-09</td>\n",
              "      <td>INV</td>\n",
              "      <td>0.0</td>\n",
              "      <td>1.0</td>\n",
              "      <td>0.0</td>\n",
              "      <td>1.0</td>\n",
              "      <td>0.0</td>\n",
              "      <td>0.0</td>\n",
              "      <td>0.958367</td>\n",
              "      <td>-270.0</td>\n",
              "      <td>-270.0</td>\n",
              "      <td>30.0</td>\n",
              "    </tr>\n",
              "    <tr>\n",
              "      <th>3</th>\n",
              "      <td>3</td>\n",
              "      <td>1873.080</td>\n",
              "      <td>16843107</td>\n",
              "      <td>2018-03-02</td>\n",
              "      <td>2018-09-04</td>\n",
              "      <td>196711370</td>\n",
              "      <td>1.0</td>\n",
              "      <td>1873.08</td>\n",
              "      <td>2018-09-04</td>\n",
              "      <td>Barclays Multi</td>\n",
              "      <td>1873.08</td>\n",
              "      <td>2018-01-11</td>\n",
              "      <td>INV</td>\n",
              "      <td>0.0</td>\n",
              "      <td>1.0</td>\n",
              "      <td>0.0</td>\n",
              "      <td>1.0</td>\n",
              "      <td>0.0</td>\n",
              "      <td>0.0</td>\n",
              "      <td>1.000000</td>\n",
              "      <td>-186.0</td>\n",
              "      <td>-186.0</td>\n",
              "      <td>50.0</td>\n",
              "    </tr>\n",
              "    <tr>\n",
              "      <th>4</th>\n",
              "      <td>4</td>\n",
              "      <td>1316.090</td>\n",
              "      <td>16739410</td>\n",
              "      <td>2018-02-11</td>\n",
              "      <td>2018-09-26</td>\n",
              "      <td>197134638</td>\n",
              "      <td>1.0</td>\n",
              "      <td>1316.09</td>\n",
              "      <td>2018-09-26</td>\n",
              "      <td>Barclays Multi</td>\n",
              "      <td>1316.09</td>\n",
              "      <td>2018-01-12</td>\n",
              "      <td>INV</td>\n",
              "      <td>0.0</td>\n",
              "      <td>1.0</td>\n",
              "      <td>0.0</td>\n",
              "      <td>1.0</td>\n",
              "      <td>0.0</td>\n",
              "      <td>0.0</td>\n",
              "      <td>1.000000</td>\n",
              "      <td>-227.0</td>\n",
              "      <td>-227.0</td>\n",
              "      <td>30.0</td>\n",
              "    </tr>\n",
              "    <tr>\n",
              "      <th>...</th>\n",
              "      <td>...</td>\n",
              "      <td>...</td>\n",
              "      <td>...</td>\n",
              "      <td>...</td>\n",
              "      <td>...</td>\n",
              "      <td>...</td>\n",
              "      <td>...</td>\n",
              "      <td>...</td>\n",
              "      <td>...</td>\n",
              "      <td>...</td>\n",
              "      <td>...</td>\n",
              "      <td>...</td>\n",
              "      <td>...</td>\n",
              "      <td>...</td>\n",
              "      <td>...</td>\n",
              "      <td>...</td>\n",
              "      <td>...</td>\n",
              "      <td>...</td>\n",
              "      <td>...</td>\n",
              "      <td>...</td>\n",
              "      <td>...</td>\n",
              "      <td>...</td>\n",
              "      <td>...</td>\n",
              "    </tr>\n",
              "    <tr>\n",
              "      <th>272237</th>\n",
              "      <td>272237</td>\n",
              "      <td>24.815</td>\n",
              "      <td>16849111</td>\n",
              "      <td>2019-07-30</td>\n",
              "      <td>2019-07-30</td>\n",
              "      <td>196911580</td>\n",
              "      <td>2.0</td>\n",
              "      <td>49.63</td>\n",
              "      <td>2019-08-30</td>\n",
              "      <td>Barclays Multi</td>\n",
              "      <td>49.63</td>\n",
              "      <td>2019-06-30</td>\n",
              "      <td>INV</td>\n",
              "      <td>0.0</td>\n",
              "      <td>1.0</td>\n",
              "      <td>0.0</td>\n",
              "      <td>1.0</td>\n",
              "      <td>0.0</td>\n",
              "      <td>0.0</td>\n",
              "      <td>0.500000</td>\n",
              "      <td>-31.0</td>\n",
              "      <td>0.0</td>\n",
              "      <td>30.0</td>\n",
              "    </tr>\n",
              "    <tr>\n",
              "      <th>272238</th>\n",
              "      <td>272238</td>\n",
              "      <td>178.165</td>\n",
              "      <td>16847651</td>\n",
              "      <td>2019-07-30</td>\n",
              "      <td>2019-09-24</td>\n",
              "      <td>195362531</td>\n",
              "      <td>2.0</td>\n",
              "      <td>356.33</td>\n",
              "      <td>2019-10-07</td>\n",
              "      <td>Barclays Multi</td>\n",
              "      <td>356.33</td>\n",
              "      <td>2019-06-30</td>\n",
              "      <td>INV</td>\n",
              "      <td>0.0</td>\n",
              "      <td>1.0</td>\n",
              "      <td>0.0</td>\n",
              "      <td>1.0</td>\n",
              "      <td>0.0</td>\n",
              "      <td>0.0</td>\n",
              "      <td>0.500000</td>\n",
              "      <td>-69.0</td>\n",
              "      <td>-56.0</td>\n",
              "      <td>30.0</td>\n",
              "    </tr>\n",
              "    <tr>\n",
              "      <th>272239</th>\n",
              "      <td>272239</td>\n",
              "      <td>36.310</td>\n",
              "      <td>16917308</td>\n",
              "      <td>2019-07-30</td>\n",
              "      <td>2019-07-29</td>\n",
              "      <td>196871858</td>\n",
              "      <td>2.0</td>\n",
              "      <td>72.62</td>\n",
              "      <td>2019-08-09</td>\n",
              "      <td>Barclays Multi</td>\n",
              "      <td>72.62</td>\n",
              "      <td>2019-06-30</td>\n",
              "      <td>INV</td>\n",
              "      <td>0.0</td>\n",
              "      <td>1.0</td>\n",
              "      <td>0.0</td>\n",
              "      <td>1.0</td>\n",
              "      <td>0.0</td>\n",
              "      <td>0.0</td>\n",
              "      <td>0.500000</td>\n",
              "      <td>-10.0</td>\n",
              "      <td>1.0</td>\n",
              "      <td>30.0</td>\n",
              "    </tr>\n",
              "    <tr>\n",
              "      <th>272240</th>\n",
              "      <td>272240</td>\n",
              "      <td>311.440</td>\n",
              "      <td>16782671</td>\n",
              "      <td>2019-07-30</td>\n",
              "      <td>2019-07-22</td>\n",
              "      <td>195891626</td>\n",
              "      <td>2.0</td>\n",
              "      <td>311.44</td>\n",
              "      <td>2019-09-18</td>\n",
              "      <td>CheckM8</td>\n",
              "      <td>622.88</td>\n",
              "      <td>2019-06-30</td>\n",
              "      <td>INV</td>\n",
              "      <td>0.0</td>\n",
              "      <td>1.0</td>\n",
              "      <td>0.0</td>\n",
              "      <td>0.0</td>\n",
              "      <td>1.0</td>\n",
              "      <td>0.0</td>\n",
              "      <td>1.000000</td>\n",
              "      <td>-50.0</td>\n",
              "      <td>8.0</td>\n",
              "      <td>30.0</td>\n",
              "    </tr>\n",
              "    <tr>\n",
              "      <th>272241</th>\n",
              "      <td>272241</td>\n",
              "      <td>226.750</td>\n",
              "      <td>16876991</td>\n",
              "      <td>2019-07-30</td>\n",
              "      <td>2019-08-16</td>\n",
              "      <td>196139086</td>\n",
              "      <td>2.0</td>\n",
              "      <td>453.50</td>\n",
              "      <td>2019-09-20</td>\n",
              "      <td>Barclays Multi</td>\n",
              "      <td>453.50</td>\n",
              "      <td>2019-06-30</td>\n",
              "      <td>INV</td>\n",
              "      <td>0.0</td>\n",
              "      <td>1.0</td>\n",
              "      <td>0.0</td>\n",
              "      <td>1.0</td>\n",
              "      <td>0.0</td>\n",
              "      <td>0.0</td>\n",
              "      <td>0.500000</td>\n",
              "      <td>-52.0</td>\n",
              "      <td>-17.0</td>\n",
              "      <td>30.0</td>\n",
              "    </tr>\n",
              "  </tbody>\n",
              "</table>\n",
              "<p>272242 rows × 23 columns</p>\n",
              "</div>"
            ],
            "text/plain": [
              "         index  AveragePaymentValue  ...  1stPaymentTimeRemaining PaymentWindow\n",
              "0            0              168.000  ...                   -266.0          58.0\n",
              "1            1              819.600  ...                   -265.0          30.0\n",
              "2            2              718.200  ...                   -270.0          30.0\n",
              "3            3             1873.080  ...                   -186.0          50.0\n",
              "4            4             1316.090  ...                   -227.0          30.0\n",
              "...        ...                  ...  ...                      ...           ...\n",
              "272237  272237               24.815  ...                      0.0          30.0\n",
              "272238  272238              178.165  ...                    -56.0          30.0\n",
              "272239  272239               36.310  ...                      1.0          30.0\n",
              "272240  272240              311.440  ...                      8.0          30.0\n",
              "272241  272241              226.750  ...                    -17.0          30.0\n",
              "\n",
              "[272242 rows x 23 columns]"
            ]
          },
          "metadata": {
            "tags": []
          },
          "execution_count": 122
        }
      ]
    },
    {
      "cell_type": "code",
      "metadata": {
        "id": "4_RykAMbNZ51"
      },
      "source": [
        "# Create x using only numerical columns\n",
        "clustering_data = processed_data.drop([\"index\", \"CustomerKey\",\"DueDate\", \"EarliestPaymentDate\", \"InvoiceKey\",\"LatestPaymentDate\", \"RaisedDate\", \"PaymentType\",\"StatementTransactionType\"], axis = 1) "
      ],
      "execution_count": 118,
      "outputs": []
    },
    {
      "cell_type": "code",
      "metadata": {
        "colab": {
          "base_uri": "https://localhost:8080/",
          "height": 470
        },
        "id": "kNfDN7hRirw4",
        "outputId": "444462a0-b1e1-4e99-e0f5-32db624ac275"
      },
      "source": [
        "clustering_data"
      ],
      "execution_count": 119,
      "outputs": [
        {
          "output_type": "execute_result",
          "data": {
            "text/html": [
              "<div>\n",
              "<style scoped>\n",
              "    .dataframe tbody tr th:only-of-type {\n",
              "        vertical-align: middle;\n",
              "    }\n",
              "\n",
              "    .dataframe tbody tr th {\n",
              "        vertical-align: top;\n",
              "    }\n",
              "\n",
              "    .dataframe thead th {\n",
              "        text-align: right;\n",
              "    }\n",
              "</style>\n",
              "<table border=\"1\" class=\"dataframe\">\n",
              "  <thead>\n",
              "    <tr style=\"text-align: right;\">\n",
              "      <th></th>\n",
              "      <th>AveragePaymentValue</th>\n",
              "      <th>NumPayments</th>\n",
              "      <th>OriginalInvoiceAmount</th>\n",
              "      <th>TotalPaymentValue</th>\n",
              "      <th>(CSH,)</th>\n",
              "      <th>(INV,)</th>\n",
              "      <th>(JRN,)</th>\n",
              "      <th>(Barclays Multi,)</th>\n",
              "      <th>(CheckM8,)</th>\n",
              "      <th>(['Barclays Multi' 'CheckM8'],)</th>\n",
              "      <th>PaymentPercentage</th>\n",
              "      <th>PaymentTimeRemaining</th>\n",
              "      <th>1stPaymentTimeRemaining</th>\n",
              "      <th>PaymentWindow</th>\n",
              "    </tr>\n",
              "  </thead>\n",
              "  <tbody>\n",
              "    <tr>\n",
              "      <th>0</th>\n",
              "      <td>168.000</td>\n",
              "      <td>1.0</td>\n",
              "      <td>168.00</td>\n",
              "      <td>168.00</td>\n",
              "      <td>0.0</td>\n",
              "      <td>1.0</td>\n",
              "      <td>0.0</td>\n",
              "      <td>1.0</td>\n",
              "      <td>0.0</td>\n",
              "      <td>0.0</td>\n",
              "      <td>1.000000</td>\n",
              "      <td>-266.0</td>\n",
              "      <td>-266.0</td>\n",
              "      <td>58.0</td>\n",
              "    </tr>\n",
              "    <tr>\n",
              "      <th>1</th>\n",
              "      <td>819.600</td>\n",
              "      <td>1.0</td>\n",
              "      <td>819.60</td>\n",
              "      <td>819.60</td>\n",
              "      <td>0.0</td>\n",
              "      <td>1.0</td>\n",
              "      <td>0.0</td>\n",
              "      <td>1.0</td>\n",
              "      <td>0.0</td>\n",
              "      <td>0.0</td>\n",
              "      <td>1.000000</td>\n",
              "      <td>-265.0</td>\n",
              "      <td>-265.0</td>\n",
              "      <td>30.0</td>\n",
              "    </tr>\n",
              "    <tr>\n",
              "      <th>2</th>\n",
              "      <td>718.200</td>\n",
              "      <td>1.0</td>\n",
              "      <td>749.40</td>\n",
              "      <td>718.20</td>\n",
              "      <td>0.0</td>\n",
              "      <td>1.0</td>\n",
              "      <td>0.0</td>\n",
              "      <td>1.0</td>\n",
              "      <td>0.0</td>\n",
              "      <td>0.0</td>\n",
              "      <td>0.958367</td>\n",
              "      <td>-270.0</td>\n",
              "      <td>-270.0</td>\n",
              "      <td>30.0</td>\n",
              "    </tr>\n",
              "    <tr>\n",
              "      <th>3</th>\n",
              "      <td>1873.080</td>\n",
              "      <td>1.0</td>\n",
              "      <td>1873.08</td>\n",
              "      <td>1873.08</td>\n",
              "      <td>0.0</td>\n",
              "      <td>1.0</td>\n",
              "      <td>0.0</td>\n",
              "      <td>1.0</td>\n",
              "      <td>0.0</td>\n",
              "      <td>0.0</td>\n",
              "      <td>1.000000</td>\n",
              "      <td>-186.0</td>\n",
              "      <td>-186.0</td>\n",
              "      <td>50.0</td>\n",
              "    </tr>\n",
              "    <tr>\n",
              "      <th>4</th>\n",
              "      <td>1316.090</td>\n",
              "      <td>1.0</td>\n",
              "      <td>1316.09</td>\n",
              "      <td>1316.09</td>\n",
              "      <td>0.0</td>\n",
              "      <td>1.0</td>\n",
              "      <td>0.0</td>\n",
              "      <td>1.0</td>\n",
              "      <td>0.0</td>\n",
              "      <td>0.0</td>\n",
              "      <td>1.000000</td>\n",
              "      <td>-227.0</td>\n",
              "      <td>-227.0</td>\n",
              "      <td>30.0</td>\n",
              "    </tr>\n",
              "    <tr>\n",
              "      <th>...</th>\n",
              "      <td>...</td>\n",
              "      <td>...</td>\n",
              "      <td>...</td>\n",
              "      <td>...</td>\n",
              "      <td>...</td>\n",
              "      <td>...</td>\n",
              "      <td>...</td>\n",
              "      <td>...</td>\n",
              "      <td>...</td>\n",
              "      <td>...</td>\n",
              "      <td>...</td>\n",
              "      <td>...</td>\n",
              "      <td>...</td>\n",
              "      <td>...</td>\n",
              "    </tr>\n",
              "    <tr>\n",
              "      <th>272237</th>\n",
              "      <td>24.815</td>\n",
              "      <td>2.0</td>\n",
              "      <td>49.63</td>\n",
              "      <td>49.63</td>\n",
              "      <td>0.0</td>\n",
              "      <td>1.0</td>\n",
              "      <td>0.0</td>\n",
              "      <td>1.0</td>\n",
              "      <td>0.0</td>\n",
              "      <td>0.0</td>\n",
              "      <td>0.500000</td>\n",
              "      <td>-31.0</td>\n",
              "      <td>0.0</td>\n",
              "      <td>30.0</td>\n",
              "    </tr>\n",
              "    <tr>\n",
              "      <th>272238</th>\n",
              "      <td>178.165</td>\n",
              "      <td>2.0</td>\n",
              "      <td>356.33</td>\n",
              "      <td>356.33</td>\n",
              "      <td>0.0</td>\n",
              "      <td>1.0</td>\n",
              "      <td>0.0</td>\n",
              "      <td>1.0</td>\n",
              "      <td>0.0</td>\n",
              "      <td>0.0</td>\n",
              "      <td>0.500000</td>\n",
              "      <td>-69.0</td>\n",
              "      <td>-56.0</td>\n",
              "      <td>30.0</td>\n",
              "    </tr>\n",
              "    <tr>\n",
              "      <th>272239</th>\n",
              "      <td>36.310</td>\n",
              "      <td>2.0</td>\n",
              "      <td>72.62</td>\n",
              "      <td>72.62</td>\n",
              "      <td>0.0</td>\n",
              "      <td>1.0</td>\n",
              "      <td>0.0</td>\n",
              "      <td>1.0</td>\n",
              "      <td>0.0</td>\n",
              "      <td>0.0</td>\n",
              "      <td>0.500000</td>\n",
              "      <td>-10.0</td>\n",
              "      <td>1.0</td>\n",
              "      <td>30.0</td>\n",
              "    </tr>\n",
              "    <tr>\n",
              "      <th>272240</th>\n",
              "      <td>311.440</td>\n",
              "      <td>2.0</td>\n",
              "      <td>311.44</td>\n",
              "      <td>622.88</td>\n",
              "      <td>0.0</td>\n",
              "      <td>1.0</td>\n",
              "      <td>0.0</td>\n",
              "      <td>0.0</td>\n",
              "      <td>1.0</td>\n",
              "      <td>0.0</td>\n",
              "      <td>1.000000</td>\n",
              "      <td>-50.0</td>\n",
              "      <td>8.0</td>\n",
              "      <td>30.0</td>\n",
              "    </tr>\n",
              "    <tr>\n",
              "      <th>272241</th>\n",
              "      <td>226.750</td>\n",
              "      <td>2.0</td>\n",
              "      <td>453.50</td>\n",
              "      <td>453.50</td>\n",
              "      <td>0.0</td>\n",
              "      <td>1.0</td>\n",
              "      <td>0.0</td>\n",
              "      <td>1.0</td>\n",
              "      <td>0.0</td>\n",
              "      <td>0.0</td>\n",
              "      <td>0.500000</td>\n",
              "      <td>-52.0</td>\n",
              "      <td>-17.0</td>\n",
              "      <td>30.0</td>\n",
              "    </tr>\n",
              "  </tbody>\n",
              "</table>\n",
              "<p>272242 rows × 14 columns</p>\n",
              "</div>"
            ],
            "text/plain": [
              "        AveragePaymentValue  ...  PaymentWindow\n",
              "0                   168.000  ...           58.0\n",
              "1                   819.600  ...           30.0\n",
              "2                   718.200  ...           30.0\n",
              "3                  1873.080  ...           50.0\n",
              "4                  1316.090  ...           30.0\n",
              "...                     ...  ...            ...\n",
              "272237               24.815  ...           30.0\n",
              "272238              178.165  ...           30.0\n",
              "272239               36.310  ...           30.0\n",
              "272240              311.440  ...           30.0\n",
              "272241              226.750  ...           30.0\n",
              "\n",
              "[272242 rows x 14 columns]"
            ]
          },
          "metadata": {
            "tags": []
          },
          "execution_count": 119
        }
      ]
    },
    {
      "cell_type": "code",
      "metadata": {
        "id": "koCn95lCowJH"
      },
      "source": [
        "payment_data = clustering_data.drop(['PaymentTimeRemaining','1stPaymentTimeRemaining','PaymentWindow'], axis=1)\n",
        "transaction_data = clustering_data.drop(['NumPayments','AveragePaymentValue','TotalPaymentValue'], axis=1)"
      ],
      "execution_count": 125,
      "outputs": []
    },
    {
      "cell_type": "code",
      "metadata": {
        "id": "IMHkIpyAipGf"
      },
      "source": [
        "# Scale clustering data.\n",
        "payment_scaled = scale(payment_data)\n",
        "transaction_scaled = scale(transaction_data)"
      ],
      "execution_count": 126,
      "outputs": []
    },
    {
      "cell_type": "code",
      "metadata": {
        "colab": {
          "base_uri": "https://localhost:8080/"
        },
        "id": "OCuAh91TYvhF",
        "outputId": "c4dc4d24-aa9b-4f3e-82b9-d0e2b6e1c151"
      },
      "source": [
        "payment_scaled.shape"
      ],
      "execution_count": 121,
      "outputs": [
        {
          "output_type": "execute_result",
          "data": {
            "text/plain": [
              "(272242, 11)"
            ]
          },
          "metadata": {
            "tags": []
          },
          "execution_count": 121
        }
      ]
    },
    {
      "cell_type": "code",
      "metadata": {
        "colab": {
          "base_uri": "https://localhost:8080/"
        },
        "id": "GCXENuquAjMw",
        "outputId": "2b90e6f0-c6d0-4e93-c07f-3a19871681e1"
      },
      "source": [
        "transaction_scaled.shape"
      ],
      "execution_count": 127,
      "outputs": [
        {
          "output_type": "execute_result",
          "data": {
            "text/plain": [
              "(272242, 11)"
            ]
          },
          "metadata": {
            "tags": []
          },
          "execution_count": 127
        }
      ]
    },
    {
      "cell_type": "code",
      "metadata": {
        "id": "Ghz2H0RSAr0_"
      },
      "source": [
        "used_data = transaction_scaled"
      ],
      "execution_count": 152,
      "outputs": []
    },
    {
      "cell_type": "code",
      "metadata": {
        "id": "ecTj8rR_Ywme"
      },
      "source": [
        "distortions = [] \n",
        "covariances = [] \n",
        "mapping1 = {} \n",
        "mapping2 = {} \n",
        "G = range(1,15) \n",
        "\n",
        "# Loop 15 times\n",
        "for g in G: \n",
        "    #Building and fitting the model \n",
        "    GMModel = GaussianMixture(n_components=g, ).fit(used_data) \n",
        "    GMModel.fit(data)     \n",
        "      \n",
        "    distortions.append(sum(np.min(cdist(data, GMModel.means_, \n",
        "                      'cosine'),axis=1)) / data.shape[0]) \n",
        "    covariances.append(GMModel.covariances_) \n",
        "  \n",
        "    mapping1[g] = sum(np.min(cdist(data, GMModel.means_, \n",
        "                 'cosine'),axis=1)) / data.shape[0] \n",
        "    mapping2[g] = GMModel.covariances_ "
      ],
      "execution_count": 153,
      "outputs": []
    },
    {
      "cell_type": "code",
      "metadata": {
        "id": "ILy3ooQJOdGY",
        "colab": {
          "base_uri": "https://localhost:8080/",
          "height": 295
        },
        "outputId": "0759526a-b498-4ce9-a663-b09aaccf0e00"
      },
      "source": [
        "plt.plot(G, distortions, 'bx-') \n",
        "plt.xlabel('Values of G') \n",
        "plt.ylabel('Distortion') \n",
        "plt.title('Elbow Method: Distortion for Transactional Data') \n",
        "plt.show() "
      ],
      "execution_count": 154,
      "outputs": [
        {
          "output_type": "display_data",
          "data": {
            "image/png": "[encoded data removed]",
            "text/plain": [
              "<Figure size 432x288 with 1 Axes>"
            ]
          },
          "metadata": {
            "tags": [],
            "needs_background": "light"
          }
        }
      ]
    },
    {
      "cell_type": "code",
      "metadata": {
        "id": "zDppcJMcfkua"
      },
      "source": [
        "# Visualize the results on PCA-reduced data\n",
        "pca = PCA(2)\n",
        "reduced_data = pca.fit_transform(used_data)"
      ],
      "execution_count": 155,
      "outputs": []
    },
    {
      "cell_type": "code",
      "metadata": {
        "id": "6_27GrzNQmo4",
        "colab": {
          "base_uri": "https://localhost:8080/"
        },
        "outputId": "8aed96cb-0e9e-4f3f-b807-f98b30fa14ef"
      },
      "source": [
        "used_data[0]"
      ],
      "execution_count": 156,
      "outputs": [
        {
          "output_type": "execute_result",
          "data": {
            "text/plain": [
              "array([-0.44315805, -0.01916912,  0.02765159, -0.01992143,  0.33760785,\n",
              "       -0.33742555, -0.00995923,  0.05828185, -6.12744491, -6.14763631,\n",
              "        3.97716222])"
            ]
          },
          "metadata": {
            "tags": []
          },
          "execution_count": 156
        }
      ]
    },
    {
      "cell_type": "code",
      "metadata": {
        "colab": {
          "base_uri": "https://localhost:8080/"
        },
        "id": "CB3wkuyWQT6h",
        "outputId": "10e09cef-222a-4af8-a761-82fbc5f6392c"
      },
      "source": [
        "reduced_data.shape"
      ],
      "execution_count": 157,
      "outputs": [
        {
          "output_type": "execute_result",
          "data": {
            "text/plain": [
              "(272242, 2)"
            ]
          },
          "metadata": {
            "tags": []
          },
          "execution_count": 157
        }
      ]
    },
    {
      "cell_type": "code",
      "metadata": {
        "colab": {
          "base_uri": "https://localhost:8080/"
        },
        "id": "lb9StCoxA9AA",
        "outputId": "1b9cc5f1-7150-4059-8c93-748208972a66"
      },
      "source": [
        "GMModel = GaussianMixture(n_components=4, )\n",
        "GMModel.fit(reduced_data)"
      ],
      "execution_count": 172,
      "outputs": [
        {
          "output_type": "execute_result",
          "data": {
            "text/plain": [
              "GaussianMixture(covariance_type='full', init_params='kmeans', max_iter=100,\n",
              "                means_init=None, n_components=4, n_init=1, precisions_init=None,\n",
              "                random_state=None, reg_covar=1e-06, tol=0.001, verbose=0,\n",
              "                verbose_interval=10, warm_start=False, weights_init=None)"
            ]
          },
          "metadata": {
            "tags": []
          },
          "execution_count": 172
        }
      ]
    },
    {
      "cell_type": "code",
      "metadata": {
        "id": "77ncTrguhvFB"
      },
      "source": [
        "# Step size of the mesh. Decrease to increase the quality of the VQ.\n",
        "h = .02     # point in the mesh [x_min, x_max]x[y_min, y_max]."
      ],
      "execution_count": 173,
      "outputs": []
    },
    {
      "cell_type": "code",
      "metadata": {
        "id": "cfVrcQnNZEPV"
      },
      "source": [
        "# Plot the decision boundary. For that, we will assign a color to each\n",
        "x_min, x_max = reduced_data[:, 0].min() - 5, reduced_data[:, 0].max() + 5\n",
        "y_min, y_max = reduced_data[:, 1].min() - 5, reduced_data[:, 1].max() + 5\n",
        "xx, yy = np.meshgrid(np.arange(x_min, x_max, h), np.arange(y_min, y_max, h))"
      ],
      "execution_count": 174,
      "outputs": []
    },
    {
      "cell_type": "code",
      "metadata": {
        "id": "2qZf-dVQZOt_"
      },
      "source": [
        "Z = GMModel.predict(np.c_[xx.ravel(), yy.ravel()]).reshape(xx.shape)"
      ],
      "execution_count": 175,
      "outputs": []
    },
    {
      "cell_type": "code",
      "metadata": {
        "id": "kbgMk87wZS0a",
        "colab": {
          "base_uri": "https://localhost:8080/"
        },
        "outputId": "a83b38f5-46fe-400e-a1da-1a5db1014b6f"
      },
      "source": [
        "Z"
      ],
      "execution_count": 176,
      "outputs": [
        {
          "output_type": "execute_result",
          "data": {
            "text/plain": [
              "array([[3, 3, 3, ..., 3, 3, 3],\n",
              "       [3, 3, 3, ..., 3, 3, 3],\n",
              "       [3, 3, 3, ..., 3, 3, 3],\n",
              "       ...,\n",
              "       [1, 1, 1, ..., 1, 1, 1],\n",
              "       [1, 1, 1, ..., 1, 1, 1],\n",
              "       [1, 1, 1, ..., 1, 1, 1]])"
            ]
          },
          "metadata": {
            "tags": []
          },
          "execution_count": 176
        }
      ]
    },
    {
      "cell_type": "code",
      "metadata": {
        "id": "rRVJf8WNZWue",
        "colab": {
          "base_uri": "https://localhost:8080/",
          "height": 268
        },
        "outputId": "5db729c0-3530-4f13-a7e8-cbf023cf5d50"
      },
      "source": [
        "plt.figure(1)\n",
        "plt.clf()\n",
        "plt.imshow(Z, interpolation='nearest',\n",
        "           extent=(xx.min(), xx.max(), yy.min(), yy.max()),\n",
        "           cmap=plt.cm.Accent,\n",
        "           aspect='auto', origin='lower')\n",
        "\n",
        "plt.plot(reduced_data[:, 0], reduced_data[:, 1], 'k.', markersize=0.5)\n",
        "# Plot the centroids as a white X\n",
        "means = GMModel.means_\n",
        "plt.scatter(means[:, 0], means[:, 1],\n",
        "            marker='x', s=169, linewidths=3,\n",
        "            color='w', zorder=10, label = \"Centroid\")\n",
        "plt.contour(xx,yy, Z)\n",
        "plt.title('GMM clustering n_comp = 4 for Transactional Info (PCA-reduced data)')\n",
        "plt.legend()\n",
        "plt.xlim(x_min, x_max)\n",
        "plt.ylim(y_min, y_max)\n",
        "plt.xticks(())\n",
        "plt.yticks(())\n",
        "plt.show()"
      ],
      "execution_count": 177,
      "outputs": [
        {
          "output_type": "display_data",
          "data": {
            "image/png": "[encoded data removed]",
            "text/plain": [
              "<Figure size 432x288 with 1 Axes>"
            ]
          },
          "metadata": {
            "tags": []
          }
        }
      ]
    },
    {
      "cell_type": "code",
      "metadata": {
        "id": "d1WXqOGYZaIk",
        "colab": {
          "base_uri": "https://localhost:8080/"
        },
        "outputId": "47ebc277-2dbd-49b1-ab5a-97d054f11427"
      },
      "source": [
        "GMModel = GaussianMixture(n_components=5, )\n",
        "GMModel.fit(reduced_data)"
      ],
      "execution_count": 178,
      "outputs": [
        {
          "output_type": "execute_result",
          "data": {
            "text/plain": [
              "GaussianMixture(covariance_type='full', init_params='kmeans', max_iter=100,\n",
              "                means_init=None, n_components=5, n_init=1, precisions_init=None,\n",
              "                random_state=None, reg_covar=1e-06, tol=0.001, verbose=0,\n",
              "                verbose_interval=10, warm_start=False, weights_init=None)"
            ]
          },
          "metadata": {
            "tags": []
          },
          "execution_count": 178
        }
      ]
    },
    {
      "cell_type": "code",
      "metadata": {
        "id": "_li11veKazMl"
      },
      "source": [
        "# Step size of the mesh. Decrease to increase the quality of the VQ.\n",
        "h = .02     # point in the mesh [x_min, x_max]x[y_min, y_max].\n",
        "\n",
        "# Plot the decision boundary. For that, we will assign a color to each\n",
        "x_min, x_max = reduced_data[:, 0].min() - 5, reduced_data[:, 0].max() + 5\n",
        "y_min, y_max = reduced_data[:, 1].min() - 5, reduced_data[:, 1].max() + 5\n",
        "xx, yy = np.meshgrid(np.arange(x_min, x_max, h), np.arange(y_min, y_max, h))"
      ],
      "execution_count": 179,
      "outputs": []
    },
    {
      "cell_type": "code",
      "metadata": {
        "id": "rb1cU_nea3wb"
      },
      "source": [
        "Z = GMModel.predict(np.c_[xx.ravel(), yy.ravel()]).reshape(xx.shape)"
      ],
      "execution_count": 180,
      "outputs": []
    },
    {
      "cell_type": "code",
      "metadata": {
        "colab": {
          "base_uri": "https://localhost:8080/",
          "height": 268
        },
        "id": "3s3sRHeea7tv",
        "outputId": "ce0287c1-2069-43be-dff9-5cdc9c493a24"
      },
      "source": [
        "plt.figure(1)\n",
        "plt.clf()\n",
        "plt.imshow(Z, interpolation='nearest',\n",
        "           extent=(xx.min(), xx.max(), yy.min(), yy.max()),\n",
        "           cmap=plt.cm.Accent,\n",
        "           aspect='auto', origin='lower')\n",
        "\n",
        "plt.plot(reduced_data[:, 0], reduced_data[:, 1], 'k.', markersize=0.5)\n",
        "# Plot the centroids as a white X\n",
        "means = GMModel.means_\n",
        "plt.scatter(means[:, 0], means[:, 1],\n",
        "            marker='x', s=169, linewidths=3,\n",
        "            color='w', zorder=10, label = \"Centroid\")\n",
        "plt.contour(xx,yy, Z)\n",
        "plt.title('GMM clustering n_comp = 5 for Transactional Info (PCA-reduced data)')\n",
        "plt.legend()\n",
        "plt.xlim(x_min, x_max)\n",
        "plt.ylim(y_min, y_max)\n",
        "plt.xticks(())\n",
        "plt.yticks(())\n",
        "plt.show()"
      ],
      "execution_count": 182,
      "outputs": [
        {
          "output_type": "display_data",
          "data": {
            "image/png": "[encoded data removed]",
            "text/plain": [
              "<Figure size 432x288 with 1 Axes>"
            ]
          },
          "metadata": {
            "tags": []
          }
        }
      ]
    },
    {
      "cell_type": "code",
      "metadata": {
        "colab": {
          "base_uri": "https://localhost:8080/"
        },
        "id": "LgP-pEYma-Jc",
        "outputId": "f28d218c-7127-4a47-f277-91cbd73b04a0"
      },
      "source": [
        "GMModel = GaussianMixture(n_components=6, )\n",
        "GMModel.fit(reduced_data)"
      ],
      "execution_count": 183,
      "outputs": [
        {
          "output_type": "execute_result",
          "data": {
            "text/plain": [
              "GaussianMixture(covariance_type='full', init_params='kmeans', max_iter=100,\n",
              "                means_init=None, n_components=6, n_init=1, precisions_init=None,\n",
              "                random_state=None, reg_covar=1e-06, tol=0.001, verbose=0,\n",
              "                verbose_interval=10, warm_start=False, weights_init=None)"
            ]
          },
          "metadata": {
            "tags": []
          },
          "execution_count": 183
        }
      ]
    },
    {
      "cell_type": "code",
      "metadata": {
        "id": "2qGCzbK-bBOm"
      },
      "source": [
        "# Step size of the mesh. Decrease to increase the quality of the VQ.\n",
        "h = .02     # point in the mesh [x_min, x_max]x[y_min, y_max].\n",
        "\n",
        "# Plot the decision boundary. For that, we will assign a color to each\n",
        "x_min, x_max = reduced_data[:, 0].min() - 5, reduced_data[:, 0].max() + 5\n",
        "y_min, y_max = reduced_data[:, 1].min() - 5, reduced_data[:, 1].max() + 5\n",
        "xx, yy = np.meshgrid(np.arange(x_min, x_max, h), np.arange(y_min, y_max, h))"
      ],
      "execution_count": 184,
      "outputs": []
    },
    {
      "cell_type": "code",
      "metadata": {
        "id": "yVDZ-ccXbDI8"
      },
      "source": [
        "Z = GMModel.predict(np.c_[xx.ravel(), yy.ravel()]).reshape(xx.shape)"
      ],
      "execution_count": 185,
      "outputs": []
    },
    {
      "cell_type": "code",
      "metadata": {
        "colab": {
          "base_uri": "https://localhost:8080/",
          "height": 268
        },
        "id": "EzRSsxjWbE_h",
        "outputId": "fe7d5c95-d2c8-4d45-b2ac-06623c4e8f48"
      },
      "source": [
        "plt.figure(1)\n",
        "plt.clf()\n",
        "plt.imshow(Z, interpolation='nearest',\n",
        "           extent=(xx.min(), xx.max(), yy.min(), yy.max()),\n",
        "           cmap=plt.cm.Accent,\n",
        "           aspect='auto', origin='lower')\n",
        "\n",
        "plt.plot(reduced_data[:, 0], reduced_data[:, 1], 'k.', markersize=0.5)\n",
        "# Plot the centroids as a white X\n",
        "means = GMModel.means_\n",
        "plt.scatter(means[:, 0], means[:, 1],\n",
        "            marker='x', s=169, linewidths=3,\n",
        "            color='w', zorder=10, label = \"Centroid\")\n",
        "plt.contour(xx,yy, Z)\n",
        "plt.title('GMM clustering n_comp = 6 for Transactional Info (PCA-reduced data)')\n",
        "plt.legend()\n",
        "plt.xlim(x_min, x_max)\n",
        "plt.ylim(y_min, y_max)\n",
        "plt.xticks(())\n",
        "plt.yticks(())\n",
        "plt.show()"
      ],
      "execution_count": 186,
      "outputs": [
        {
          "output_type": "display_data",
          "data": {
            "image/png": "[encoded data removed]",
            "text/plain": [
              "<Figure size 432x288 with 1 Axes>"
            ]
          },
          "metadata": {
            "tags": []
          }
        }
      ]
    },
    {
      "cell_type": "code",
      "metadata": {
        "id": "zKCHo5WyBenE"
      },
      "source": [
        ""
      ],
      "execution_count": null,
      "outputs": []
    }
  ]
}