{
  "nbformat": 4,
  "nbformat_minor": 0,
  "metadata": {
    "colab": {
      "name": "FE_GMM_AX.ipynb",
      "provenance": [],
      "collapsed_sections": [],
      "toc_visible": true
    },
    "kernelspec": {
      "name": "python3",
      "display_name": "Python 3"
    }
  },
  "cells": [
    {
      "cell_type": "code",
      "metadata": {
        "id": "0dnVUc451zip"
      },
      "source": [
        "import pandas as pd\n",
        "import numpy as np\n",
        "from sklearn import preprocessing\n",
        "from sklearn.mixture import GaussianMixture\n",
        "from sklearn.preprocessing import OneHotEncoder\n",
        "import collections\n",
        "from scipy.spatial.distance import cdist \n",
        "from sklearn.decomposition import PCA\n",
        "from sklearn.preprocessing import scale\n",
        "from time import time\n",
        "import matplotlib.pyplot as plt\n",
        "from sklearn import metrics\n",
        "from pathlib import Path\n",
        "np.random.seed(42)\n",
        "import tensorflow as tf\n",
        "# Resource: https://pythonmachinelearning.pro/clustering-with-gaussian-mixture-models/"
      ],
      "execution_count": null,
      "outputs": []
    },
    {
      "cell_type": "markdown",
      "metadata": {
        "id": "DguQcOek5Rgz"
      },
      "source": [
        "### Customer Data"
      ]
    },
    {
      "cell_type": "code",
      "metadata": {
        "id": "1VX88Hob2Ea4"
      },
      "source": [
        "customer_data = pd.read_csv('customer_data.csv')"
      ],
      "execution_count": null,
      "outputs": []
    },
    {
      "cell_type": "code",
      "metadata": {
        "colab": {
          "base_uri": "https://localhost:8080/",
          "height": 435
        },
        "id": "2GyuBQB13A0E",
        "outputId": "607e5220-9155-4265-c913-21a4119420f7"
      },
      "source": [
        "customer_data"
      ],
      "execution_count": null,
      "outputs": [
        {
          "output_type": "execute_result",
          "data": {
            "text/html": [
              "<div>\n",
              "<style scoped>\n",
              "    .dataframe tbody tr th:only-of-type {\n",
              "        vertical-align: middle;\n",
              "    }\n",
              "\n",
              "    .dataframe tbody tr th {\n",
              "        vertical-align: top;\n",
              "    }\n",
              "\n",
              "    .dataframe thead th {\n",
              "        text-align: right;\n",
              "    }\n",
              "</style>\n",
              "<table border=\"1\" class=\"dataframe\">\n",
              "  <thead>\n",
              "    <tr style=\"text-align: right;\">\n",
              "      <th></th>\n",
              "      <th>CustomerKey</th>\n",
              "      <th>NumClearedOnTime</th>\n",
              "      <th>NumPaidFully</th>\n",
              "      <th>AveragePaymentAmount</th>\n",
              "      <th>AverageNumPayments</th>\n",
              "      <th>NumInvoices</th>\n",
              "      <th>AverageDaysToFirstPayment</th>\n",
              "      <th>AverageDaysToCleared</th>\n",
              "      <th>FractionFullyPaid</th>\n",
              "      <th>FractionClearedOnTime</th>\n",
              "    </tr>\n",
              "  </thead>\n",
              "  <tbody>\n",
              "    <tr>\n",
              "      <th>0</th>\n",
              "      <td>16721154</td>\n",
              "      <td>4</td>\n",
              "      <td>11</td>\n",
              "      <td>59.680000</td>\n",
              "      <td>1.0</td>\n",
              "      <td>11</td>\n",
              "      <td>53.545455</td>\n",
              "      <td>53.545455</td>\n",
              "      <td>1.0</td>\n",
              "      <td>0.363636</td>\n",
              "    </tr>\n",
              "    <tr>\n",
              "      <th>1</th>\n",
              "      <td>16721167</td>\n",
              "      <td>0</td>\n",
              "      <td>12</td>\n",
              "      <td>190.075000</td>\n",
              "      <td>1.0</td>\n",
              "      <td>12</td>\n",
              "      <td>39.166667</td>\n",
              "      <td>39.166667</td>\n",
              "      <td>1.0</td>\n",
              "      <td>0.000000</td>\n",
              "    </tr>\n",
              "    <tr>\n",
              "      <th>2</th>\n",
              "      <td>16721203</td>\n",
              "      <td>0</td>\n",
              "      <td>12</td>\n",
              "      <td>64.442500</td>\n",
              "      <td>1.0</td>\n",
              "      <td>12</td>\n",
              "      <td>41.916667</td>\n",
              "      <td>41.916667</td>\n",
              "      <td>1.0</td>\n",
              "      <td>0.000000</td>\n",
              "    </tr>\n",
              "    <tr>\n",
              "      <th>3</th>\n",
              "      <td>16721207</td>\n",
              "      <td>0</td>\n",
              "      <td>24</td>\n",
              "      <td>515.975417</td>\n",
              "      <td>1.0</td>\n",
              "      <td>24</td>\n",
              "      <td>48.625000</td>\n",
              "      <td>48.625000</td>\n",
              "      <td>1.0</td>\n",
              "      <td>0.000000</td>\n",
              "    </tr>\n",
              "    <tr>\n",
              "      <th>4</th>\n",
              "      <td>16721212</td>\n",
              "      <td>9</td>\n",
              "      <td>11</td>\n",
              "      <td>411.229091</td>\n",
              "      <td>1.0</td>\n",
              "      <td>11</td>\n",
              "      <td>29.181818</td>\n",
              "      <td>29.181818</td>\n",
              "      <td>1.0</td>\n",
              "      <td>0.818182</td>\n",
              "    </tr>\n",
              "    <tr>\n",
              "      <th>...</th>\n",
              "      <td>...</td>\n",
              "      <td>...</td>\n",
              "      <td>...</td>\n",
              "      <td>...</td>\n",
              "      <td>...</td>\n",
              "      <td>...</td>\n",
              "      <td>...</td>\n",
              "      <td>...</td>\n",
              "      <td>...</td>\n",
              "      <td>...</td>\n",
              "    </tr>\n",
              "    <tr>\n",
              "      <th>12846</th>\n",
              "      <td>16980240</td>\n",
              "      <td>16</td>\n",
              "      <td>22</td>\n",
              "      <td>426.218182</td>\n",
              "      <td>1.0</td>\n",
              "      <td>22</td>\n",
              "      <td>25.181818</td>\n",
              "      <td>25.181818</td>\n",
              "      <td>1.0</td>\n",
              "      <td>0.727273</td>\n",
              "    </tr>\n",
              "    <tr>\n",
              "      <th>12847</th>\n",
              "      <td>16980268</td>\n",
              "      <td>16</td>\n",
              "      <td>16</td>\n",
              "      <td>437.421250</td>\n",
              "      <td>1.0</td>\n",
              "      <td>16</td>\n",
              "      <td>12.875000</td>\n",
              "      <td>12.875000</td>\n",
              "      <td>1.0</td>\n",
              "      <td>1.000000</td>\n",
              "    </tr>\n",
              "    <tr>\n",
              "      <th>12848</th>\n",
              "      <td>16980375</td>\n",
              "      <td>0</td>\n",
              "      <td>62</td>\n",
              "      <td>167.441129</td>\n",
              "      <td>1.0</td>\n",
              "      <td>62</td>\n",
              "      <td>57.209677</td>\n",
              "      <td>57.209677</td>\n",
              "      <td>1.0</td>\n",
              "      <td>0.000000</td>\n",
              "    </tr>\n",
              "    <tr>\n",
              "      <th>12849</th>\n",
              "      <td>16980435</td>\n",
              "      <td>0</td>\n",
              "      <td>12</td>\n",
              "      <td>342.846667</td>\n",
              "      <td>1.0</td>\n",
              "      <td>12</td>\n",
              "      <td>72.083333</td>\n",
              "      <td>72.083333</td>\n",
              "      <td>1.0</td>\n",
              "      <td>0.000000</td>\n",
              "    </tr>\n",
              "    <tr>\n",
              "      <th>12850</th>\n",
              "      <td>16984799</td>\n",
              "      <td>0</td>\n",
              "      <td>10</td>\n",
              "      <td>746.123000</td>\n",
              "      <td>1.0</td>\n",
              "      <td>10</td>\n",
              "      <td>82.400000</td>\n",
              "      <td>82.400000</td>\n",
              "      <td>1.0</td>\n",
              "      <td>0.000000</td>\n",
              "    </tr>\n",
              "  </tbody>\n",
              "</table>\n",
              "<p>12851 rows × 10 columns</p>\n",
              "</div>"
            ],
            "text/plain": [
              "       CustomerKey  NumClearedOnTime  ...  FractionFullyPaid  FractionClearedOnTime\n",
              "0         16721154                 4  ...                1.0               0.363636\n",
              "1         16721167                 0  ...                1.0               0.000000\n",
              "2         16721203                 0  ...                1.0               0.000000\n",
              "3         16721207                 0  ...                1.0               0.000000\n",
              "4         16721212                 9  ...                1.0               0.818182\n",
              "...            ...               ...  ...                ...                    ...\n",
              "12846     16980240                16  ...                1.0               0.727273\n",
              "12847     16980268                16  ...                1.0               1.000000\n",
              "12848     16980375                 0  ...                1.0               0.000000\n",
              "12849     16980435                 0  ...                1.0               0.000000\n",
              "12850     16984799                 0  ...                1.0               0.000000\n",
              "\n",
              "[12851 rows x 10 columns]"
            ]
          },
          "metadata": {
            "tags": []
          },
          "execution_count": 3
        }
      ]
    },
    {
      "cell_type": "code",
      "metadata": {
        "id": "RxsVwQ_F3BfF"
      },
      "source": [
        "# Drop unnecessary columns\n",
        "customer_data = customer_data.drop(['CustomerKey'], axis = 1)"
      ],
      "execution_count": null,
      "outputs": []
    },
    {
      "cell_type": "code",
      "metadata": {
        "id": "CaSIkjuf3kAW"
      },
      "source": [
        "data = scale(customer_data)"
      ],
      "execution_count": null,
      "outputs": []
    },
    {
      "cell_type": "code",
      "metadata": {
        "colab": {
          "base_uri": "https://localhost:8080/"
        },
        "id": "VdLo-TSz3mmC",
        "outputId": "beaf3871-4d21-4d14-804d-08f2b2cf82d4"
      },
      "source": [
        "data.shape"
      ],
      "execution_count": null,
      "outputs": [
        {
          "output_type": "execute_result",
          "data": {
            "text/plain": [
              "(12851, 9)"
            ]
          },
          "metadata": {
            "tags": []
          },
          "execution_count": 6
        }
      ]
    },
    {
      "cell_type": "code",
      "metadata": {
        "id": "ZsiIujsf3LBP"
      },
      "source": [
        "distortions = [] \n",
        "covariances = [] \n",
        "mapping1 = {} \n",
        "mapping2 = {} \n",
        "G = range(1,15) \n",
        "\n",
        "# Loop 10 times\n",
        "for g in G: \n",
        "    #Building and fitting the model \n",
        "    GMModel = GaussianMixture(n_components=g, ).fit(data) \n",
        "    GMModel.fit(data)     \n",
        "      \n",
        "    distortions.append(sum(np.min(cdist(data, GMModel.means_, \n",
        "                      'cosine'),axis=1)) / data.shape[0]) \n",
        "    covariances.append(GMModel.covariances_) \n",
        "  \n",
        "    mapping1[g] = sum(np.min(cdist(data, GMModel.means_, \n",
        "                 'cosine'),axis=1)) / data.shape[0] \n",
        "    mapping2[g] = GMModel.covariances_ "
      ],
      "execution_count": null,
      "outputs": []
    },
    {
      "cell_type": "code",
      "metadata": {
        "colab": {
          "base_uri": "https://localhost:8080/",
          "height": 295
        },
        "id": "L-HEz4w93qR7",
        "outputId": "deeabb6f-18eb-4a46-c746-5db487f60e9d"
      },
      "source": [
        "plt.plot(G, distortions, 'bx-') \n",
        "plt.xlabel('Values of G') \n",
        "plt.ylabel('Distortion') \n",
        "plt.title('Elbow Method: Distortion') \n",
        "plt.show() "
      ],
      "execution_count": null,
      "outputs": [
        {
          "output_type": "display_data",
          "data": {
            "image/png": "[encoded data removed]",
            "text/plain": [
              "<Figure size 432x288 with 1 Axes>"
            ]
          },
          "metadata": {
            "tags": [],
            "needs_background": "light"
          }
        }
      ]
    },
    {
      "cell_type": "code",
      "metadata": {
        "colab": {
          "base_uri": "https://localhost:8080/"
        },
        "id": "Szli_XTp3vt3",
        "outputId": "9fcd99d1-c261-440b-a5b0-75d5a47b46c0"
      },
      "source": [
        "pca = PCA(2)\n",
        "reduced_data = pca.fit_transform(data)\n",
        "GMModel = GaussianMixture(n_components=3, )\n",
        "GMModel.fit(reduced_data)"
      ],
      "execution_count": null,
      "outputs": [
        {
          "output_type": "execute_result",
          "data": {
            "text/plain": [
              "GaussianMixture(covariance_type='full', init_params='kmeans', max_iter=100,\n",
              "                means_init=None, n_components=3, n_init=1, precisions_init=None,\n",
              "                random_state=None, reg_covar=1e-06, tol=0.001, verbose=0,\n",
              "                verbose_interval=10, warm_start=False, weights_init=None)"
            ]
          },
          "metadata": {
            "tags": []
          },
          "execution_count": 10
        }
      ]
    },
    {
      "cell_type": "code",
      "metadata": {
        "colab": {
          "base_uri": "https://localhost:8080/"
        },
        "id": "oYHpKL9o43kq",
        "outputId": "f9d62360-c14e-4592-a79e-4f1dffa647ed"
      },
      "source": [
        "reduced_data.shape"
      ],
      "execution_count": null,
      "outputs": [
        {
          "output_type": "execute_result",
          "data": {
            "text/plain": [
              "(12851, 2)"
            ]
          },
          "metadata": {
            "tags": []
          },
          "execution_count": 11
        }
      ]
    },
    {
      "cell_type": "code",
      "metadata": {
        "id": "tsIc_9m03xan"
      },
      "source": [
        "# Step size of the mesh. Decrease to increase the quality of the VQ.\n",
        "h = .02     # point in the mesh [x_min, x_max]x[y_min, y_max]."
      ],
      "execution_count": null,
      "outputs": []
    },
    {
      "cell_type": "code",
      "metadata": {
        "id": "SOUa3KpI3y8s"
      },
      "source": [
        "# Plot the decision boundary. For that, we will assign a color to each\n",
        "x_min, x_max = reduced_data[:, 0].min() - 1, reduced_data[:, 0].max() + 1\n",
        "y_min, y_max = reduced_data[:, 1].min() - 1, reduced_data[:, 1].max() + 1\n",
        "xx, yy = np.meshgrid(np.arange(x_min, x_max, h), np.arange(y_min, y_max, h))"
      ],
      "execution_count": null,
      "outputs": []
    },
    {
      "cell_type": "code",
      "metadata": {
        "id": "af6nujPU30XK"
      },
      "source": [
        "Z = GMModel.predict(np.c_[xx.ravel(), yy.ravel()]).reshape(xx.shape)"
      ],
      "execution_count": null,
      "outputs": []
    },
    {
      "cell_type": "code",
      "metadata": {
        "colab": {
          "base_uri": "https://localhost:8080/",
          "height": 268
        },
        "id": "vblexSCI31vl",
        "outputId": "213eb566-7a38-40fe-bd41-ca3b5f2163ba"
      },
      "source": [
        "plt.figure(1)\n",
        "plt.clf()\n",
        "plt.imshow(Z, interpolation='nearest',\n",
        "           extent=(xx.min(), xx.max(), yy.min(), yy.max()),\n",
        "           cmap=plt.cm.Accent,\n",
        "           aspect='auto', origin='lower')\n",
        "\n",
        "plt.plot(reduced_data[:, 0], reduced_data[:, 1], 'k.', markersize=0.5)\n",
        "# Plot the centroids as a white X\n",
        "means = GMModel.means_\n",
        "plt.scatter(means[:, 0], means[:, 1],\n",
        "            marker='x', s=169, linewidths=3,\n",
        "            color='w', zorder=10, label = \"Centroid\")\n",
        "plt.contour(xx,yy, Z)\n",
        "plt.title('GMM clustering n_comp = 3 for Customer Data (PCA-reduced data)')\n",
        "plt.legend()\n",
        "plt.xlim(x_min, x_max)\n",
        "plt.ylim(y_min, y_max)\n",
        "plt.xticks(())\n",
        "plt.yticks(())\n",
        "plt.show()"
      ],
      "execution_count": null,
      "outputs": [
        {
          "output_type": "display_data",
          "data": {
            "image/png": "[encoded data removed]",
            "text/plain": [
              "<Figure size 432x288 with 1 Axes>"
            ]
          },
          "metadata": {
            "tags": []
          }
        }
      ]
    },
    {
      "cell_type": "markdown",
      "metadata": {
        "id": "cNnrIpUJ5WsB"
      },
      "source": [
        "### Invoice Data"
      ]
    },
    {
      "cell_type": "code",
      "metadata": {
        "id": "dkvMLqXn37Ud"
      },
      "source": [
        "invoice_data = pd.read_csv('invoice_data.csv')"
      ],
      "execution_count": null,
      "outputs": []
    },
    {
      "cell_type": "code",
      "metadata": {
        "colab": {
          "base_uri": "https://localhost:8080/",
          "height": 609
        },
        "id": "ZHsw1kq25rBf",
        "outputId": "7c9584bb-874d-44ab-f333-fe9365a81d0c"
      },
      "source": [
        "invoice_data"
      ],
      "execution_count": null,
      "outputs": [
        {
          "output_type": "execute_result",
          "data": {
            "text/html": [
              "<div>\n",
              "<style scoped>\n",
              "    .dataframe tbody tr th:only-of-type {\n",
              "        vertical-align: middle;\n",
              "    }\n",
              "\n",
              "    .dataframe tbody tr th {\n",
              "        vertical-align: top;\n",
              "    }\n",
              "\n",
              "    .dataframe thead th {\n",
              "        text-align: right;\n",
              "    }\n",
              "</style>\n",
              "<table border=\"1\" class=\"dataframe\">\n",
              "  <thead>\n",
              "    <tr style=\"text-align: right;\">\n",
              "      <th></th>\n",
              "      <th>AveragePaymentValue</th>\n",
              "      <th>CustomerKey</th>\n",
              "      <th>DueDate</th>\n",
              "      <th>EarliestPaymentDate</th>\n",
              "      <th>InvoiceKey</th>\n",
              "      <th>NumPayments</th>\n",
              "      <th>OriginalInvoiceAmount</th>\n",
              "      <th>LatestPaymentDate</th>\n",
              "      <th>PaymentType</th>\n",
              "      <th>TotalPaymentValue</th>\n",
              "      <th>RaisedDate</th>\n",
              "      <th>StatementTransactionType</th>\n",
              "      <th>IsInvoicePaidFully</th>\n",
              "      <th>RaisedToFirstPayment</th>\n",
              "      <th>RaisedToCleared</th>\n",
              "      <th>IsClearedOnTime</th>\n",
              "    </tr>\n",
              "  </thead>\n",
              "  <tbody>\n",
              "    <tr>\n",
              "      <th>0</th>\n",
              "      <td>168.000</td>\n",
              "      <td>16745090</td>\n",
              "      <td>2018-03-02</td>\n",
              "      <td>2018-11-23</td>\n",
              "      <td>195519971</td>\n",
              "      <td>1.0</td>\n",
              "      <td>168.00</td>\n",
              "      <td>2018-11-23</td>\n",
              "      <td>Barclays Multi</td>\n",
              "      <td>168.00</td>\n",
              "      <td>2018-01-03</td>\n",
              "      <td>INV</td>\n",
              "      <td>1</td>\n",
              "      <td>324</td>\n",
              "      <td>324.0</td>\n",
              "      <td>0</td>\n",
              "    </tr>\n",
              "    <tr>\n",
              "      <th>1</th>\n",
              "      <td>819.600</td>\n",
              "      <td>16743947</td>\n",
              "      <td>2018-02-03</td>\n",
              "      <td>2018-10-26</td>\n",
              "      <td>196442471</td>\n",
              "      <td>1.0</td>\n",
              "      <td>819.60</td>\n",
              "      <td>2018-10-26</td>\n",
              "      <td>Barclays Multi</td>\n",
              "      <td>819.60</td>\n",
              "      <td>2018-01-04</td>\n",
              "      <td>INV</td>\n",
              "      <td>1</td>\n",
              "      <td>295</td>\n",
              "      <td>295.0</td>\n",
              "      <td>0</td>\n",
              "    </tr>\n",
              "    <tr>\n",
              "      <th>2</th>\n",
              "      <td>718.200</td>\n",
              "      <td>16836264</td>\n",
              "      <td>2018-02-08</td>\n",
              "      <td>2018-11-05</td>\n",
              "      <td>196563186</td>\n",
              "      <td>1.0</td>\n",
              "      <td>749.40</td>\n",
              "      <td>2018-11-05</td>\n",
              "      <td>Barclays Multi</td>\n",
              "      <td>718.20</td>\n",
              "      <td>2018-01-09</td>\n",
              "      <td>INV</td>\n",
              "      <td>0</td>\n",
              "      <td>300</td>\n",
              "      <td>NaN</td>\n",
              "      <td>0</td>\n",
              "    </tr>\n",
              "    <tr>\n",
              "      <th>3</th>\n",
              "      <td>1873.080</td>\n",
              "      <td>16843107</td>\n",
              "      <td>2018-03-02</td>\n",
              "      <td>2018-09-04</td>\n",
              "      <td>196711370</td>\n",
              "      <td>1.0</td>\n",
              "      <td>1873.08</td>\n",
              "      <td>2018-09-04</td>\n",
              "      <td>Barclays Multi</td>\n",
              "      <td>1873.08</td>\n",
              "      <td>2018-01-11</td>\n",
              "      <td>INV</td>\n",
              "      <td>1</td>\n",
              "      <td>236</td>\n",
              "      <td>236.0</td>\n",
              "      <td>0</td>\n",
              "    </tr>\n",
              "    <tr>\n",
              "      <th>4</th>\n",
              "      <td>1316.090</td>\n",
              "      <td>16739410</td>\n",
              "      <td>2018-02-11</td>\n",
              "      <td>2018-09-26</td>\n",
              "      <td>197134638</td>\n",
              "      <td>1.0</td>\n",
              "      <td>1316.09</td>\n",
              "      <td>2018-09-26</td>\n",
              "      <td>Barclays Multi</td>\n",
              "      <td>1316.09</td>\n",
              "      <td>2018-01-12</td>\n",
              "      <td>INV</td>\n",
              "      <td>1</td>\n",
              "      <td>257</td>\n",
              "      <td>257.0</td>\n",
              "      <td>0</td>\n",
              "    </tr>\n",
              "    <tr>\n",
              "      <th>...</th>\n",
              "      <td>...</td>\n",
              "      <td>...</td>\n",
              "      <td>...</td>\n",
              "      <td>...</td>\n",
              "      <td>...</td>\n",
              "      <td>...</td>\n",
              "      <td>...</td>\n",
              "      <td>...</td>\n",
              "      <td>...</td>\n",
              "      <td>...</td>\n",
              "      <td>...</td>\n",
              "      <td>...</td>\n",
              "      <td>...</td>\n",
              "      <td>...</td>\n",
              "      <td>...</td>\n",
              "      <td>...</td>\n",
              "    </tr>\n",
              "    <tr>\n",
              "      <th>272237</th>\n",
              "      <td>24.815</td>\n",
              "      <td>16849111</td>\n",
              "      <td>2019-07-30</td>\n",
              "      <td>2019-07-30</td>\n",
              "      <td>196911580</td>\n",
              "      <td>2.0</td>\n",
              "      <td>49.63</td>\n",
              "      <td>2019-08-30</td>\n",
              "      <td>Barclays Multi</td>\n",
              "      <td>49.63</td>\n",
              "      <td>2019-06-30</td>\n",
              "      <td>INV</td>\n",
              "      <td>1</td>\n",
              "      <td>30</td>\n",
              "      <td>61.0</td>\n",
              "      <td>0</td>\n",
              "    </tr>\n",
              "    <tr>\n",
              "      <th>272238</th>\n",
              "      <td>178.165</td>\n",
              "      <td>16847651</td>\n",
              "      <td>2019-07-30</td>\n",
              "      <td>2019-09-24</td>\n",
              "      <td>195362531</td>\n",
              "      <td>2.0</td>\n",
              "      <td>356.33</td>\n",
              "      <td>2019-10-07</td>\n",
              "      <td>Barclays Multi</td>\n",
              "      <td>356.33</td>\n",
              "      <td>2019-06-30</td>\n",
              "      <td>INV</td>\n",
              "      <td>1</td>\n",
              "      <td>86</td>\n",
              "      <td>99.0</td>\n",
              "      <td>0</td>\n",
              "    </tr>\n",
              "    <tr>\n",
              "      <th>272239</th>\n",
              "      <td>36.310</td>\n",
              "      <td>16917308</td>\n",
              "      <td>2019-07-30</td>\n",
              "      <td>2019-07-29</td>\n",
              "      <td>196871858</td>\n",
              "      <td>2.0</td>\n",
              "      <td>72.62</td>\n",
              "      <td>2019-08-09</td>\n",
              "      <td>Barclays Multi</td>\n",
              "      <td>72.62</td>\n",
              "      <td>2019-06-30</td>\n",
              "      <td>INV</td>\n",
              "      <td>1</td>\n",
              "      <td>29</td>\n",
              "      <td>40.0</td>\n",
              "      <td>0</td>\n",
              "    </tr>\n",
              "    <tr>\n",
              "      <th>272240</th>\n",
              "      <td>311.440</td>\n",
              "      <td>16782671</td>\n",
              "      <td>2019-07-30</td>\n",
              "      <td>2019-07-22</td>\n",
              "      <td>195891626</td>\n",
              "      <td>2.0</td>\n",
              "      <td>311.44</td>\n",
              "      <td>2019-09-18</td>\n",
              "      <td>CheckM8</td>\n",
              "      <td>622.88</td>\n",
              "      <td>2019-06-30</td>\n",
              "      <td>INV</td>\n",
              "      <td>1</td>\n",
              "      <td>22</td>\n",
              "      <td>80.0</td>\n",
              "      <td>0</td>\n",
              "    </tr>\n",
              "    <tr>\n",
              "      <th>272241</th>\n",
              "      <td>226.750</td>\n",
              "      <td>16876991</td>\n",
              "      <td>2019-07-30</td>\n",
              "      <td>2019-08-16</td>\n",
              "      <td>196139086</td>\n",
              "      <td>2.0</td>\n",
              "      <td>453.50</td>\n",
              "      <td>2019-09-20</td>\n",
              "      <td>Barclays Multi</td>\n",
              "      <td>453.50</td>\n",
              "      <td>2019-06-30</td>\n",
              "      <td>INV</td>\n",
              "      <td>1</td>\n",
              "      <td>47</td>\n",
              "      <td>82.0</td>\n",
              "      <td>0</td>\n",
              "    </tr>\n",
              "  </tbody>\n",
              "</table>\n",
              "<p>272242 rows × 16 columns</p>\n",
              "</div>"
            ],
            "text/plain": [
              "        AveragePaymentValue  CustomerKey  ... RaisedToCleared IsClearedOnTime\n",
              "0                   168.000     16745090  ...           324.0               0\n",
              "1                   819.600     16743947  ...           295.0               0\n",
              "2                   718.200     16836264  ...             NaN               0\n",
              "3                  1873.080     16843107  ...           236.0               0\n",
              "4                  1316.090     16739410  ...           257.0               0\n",
              "...                     ...          ...  ...             ...             ...\n",
              "272237               24.815     16849111  ...            61.0               0\n",
              "272238              178.165     16847651  ...            99.0               0\n",
              "272239               36.310     16917308  ...            40.0               0\n",
              "272240              311.440     16782671  ...            80.0               0\n",
              "272241              226.750     16876991  ...            82.0               0\n",
              "\n",
              "[272242 rows x 16 columns]"
            ]
          },
          "metadata": {
            "tags": []
          },
          "execution_count": 36
        }
      ]
    },
    {
      "cell_type": "code",
      "metadata": {
        "id": "bIQu97X-5r8i"
      },
      "source": [
        "invoice_data = invoice_data.drop(['CustomerKey'], axis = 1)\n",
        "\n",
        "invoice_data[\"RaisedDate\"] = pd.to_datetime(invoice_data[\"RaisedDate\"])\n",
        "invoice_data[\"DueDate\"] = pd.to_datetime(invoice_data[\"DueDate\"])\n",
        "invoice_data[\"EarliestPaymentDate\"] = pd.to_datetime(invoice_data[\"EarliestPaymentDate\"])\n",
        "invoice_data[\"LatestPaymentDate\"] = pd.to_datetime(invoice_data[\"LatestPaymentDate\"])\n",
        "\n",
        "invoice_data = invoice_data.dropna()"
      ],
      "execution_count": null,
      "outputs": []
    },
    {
      "cell_type": "code",
      "metadata": {
        "id": "W2B00tAf8CkW"
      },
      "source": [
        "# Create onehot encoder\n",
        "enc = OneHotEncoder(handle_unknown='ignore')"
      ],
      "execution_count": null,
      "outputs": []
    },
    {
      "cell_type": "code",
      "metadata": {
        "id": "-DYNbHGR8OO4"
      },
      "source": [
        "# One Hot Encode Categorical Variables\n",
        "# Statement Transaction Type\n",
        "enc_df = pd.DataFrame(data = enc.fit_transform(invoice_data[['StatementTransactionType']]).toarray(), columns = enc.categories_)\n",
        "invoice_data = invoice_data.join(enc_df)\n",
        "\n",
        "# Payment Type\n",
        "enc_df = pd.DataFrame(data = enc.fit_transform(invoice_data[['PaymentType']]).toarray(), columns = enc.categories_)\n",
        "invoice_data = invoice_data.join(enc_df)"
      ],
      "execution_count": null,
      "outputs": []
    },
    {
      "cell_type": "code",
      "metadata": {
        "id": "HIIQaEVJKawr"
      },
      "source": [
        "invoice_data = invoice_data.drop(['PaymentType','StatementTransactionType'], axis=1)"
      ],
      "execution_count": null,
      "outputs": []
    },
    {
      "cell_type": "code",
      "metadata": {
        "id": "UiDNj3yVKoq3"
      },
      "source": [
        "invoice_data = invoice_data.dropna()"
      ],
      "execution_count": null,
      "outputs": []
    },
    {
      "cell_type": "code",
      "metadata": {
        "id": "TEPxIuhoLfWq"
      },
      "source": [
        "invoice_data[\"PaymentPercentage\"] =  invoice_data[\"TotalPaymentValue\"] / invoice_data[\"OriginalInvoiceAmount\"]\n",
        "invoice_data[\"PaymentTimeRemaining\"] = (invoice_data[\"DueDate\"] - invoice_data[\"LatestPaymentDate\"]).astype('timedelta64[D]')\n",
        "invoice_data[\"1stPaymentTimeRemaining\"] = (invoice_data[\"DueDate\"] - invoice_data[\"EarliestPaymentDate\"]).astype('timedelta64[D]')\n",
        "invoice_data[\"PaymentWindow\"] = (invoice_data[\"DueDate\"] - invoice_data[\"RaisedDate\"]).astype('timedelta64[D]')"
      ],
      "execution_count": null,
      "outputs": []
    },
    {
      "cell_type": "code",
      "metadata": {
        "id": "5IqMchbFMQFi"
      },
      "source": [
        "invoice_data = invoice_data.drop([\"DueDate\", \"EarliestPaymentDate\", \"LatestPaymentDate\", \"InvoiceKey\", \"RaisedDate\"], axis=1)"
      ],
      "execution_count": null,
      "outputs": []
    },
    {
      "cell_type": "code",
      "metadata": {
        "id": "JBJYhHBVMsfw"
      },
      "source": [
        "data = scale(invoice_data)"
      ],
      "execution_count": null,
      "outputs": []
    },
    {
      "cell_type": "code",
      "metadata": {
        "id": "KnAvBxWJM75P"
      },
      "source": [
        "distortions = [] \n",
        "covariances = [] \n",
        "mapping1 = {} \n",
        "mapping2 = {} \n",
        "G = range(1,15) \n",
        "\n",
        "# Loop 10 times\n",
        "for g in G: \n",
        "    #Building and fitting the model \n",
        "    GMModel = GaussianMixture(n_components=g, ).fit(data) \n",
        "    GMModel.fit(data)     \n",
        "      \n",
        "    distortions.append(sum(np.min(cdist(data, GMModel.means_, \n",
        "                      'cosine'),axis=1)) / data.shape[0]) \n",
        "    covariances.append(GMModel.covariances_) \n",
        "  \n",
        "    mapping1[g] = sum(np.min(cdist(data, GMModel.means_, \n",
        "                 'cosine'),axis=1)) / data.shape[0] \n",
        "    mapping2[g] = GMModel.covariances_ "
      ],
      "execution_count": null,
      "outputs": []
    },
    {
      "cell_type": "code",
      "metadata": {
        "colab": {
          "base_uri": "https://localhost:8080/",
          "height": 295
        },
        "id": "fbvZI72dM89d",
        "outputId": "26d0b443-f349-44f1-f8fc-44c49ba0d13f"
      },
      "source": [
        "plt.plot(G, distortions, 'bx-') \n",
        "plt.xlabel('Values of G') \n",
        "plt.ylabel('Distortion') \n",
        "plt.title('Elbow Method: Distortion') \n",
        "plt.show() "
      ],
      "execution_count": null,
      "outputs": [
        {
          "output_type": "display_data",
          "data": {
            "image/png": "[encoded data removed]",
            "text/plain": [
              "<Figure size 432x288 with 1 Axes>"
            ]
          },
          "metadata": {
            "tags": [],
            "needs_background": "light"
          }
        }
      ]
    },
    {
      "cell_type": "code",
      "metadata": {
        "colab": {
          "base_uri": "https://localhost:8080/"
        },
        "id": "EoIZUFEFNB6U",
        "outputId": "76c6cbc5-8f07-49b7-90bc-262d9bf927f1"
      },
      "source": [
        "pca = PCA(2)\n",
        "reduced_data = pca.fit_transform(data)\n",
        "GMModel = GaussianMixture(n_components=3, )\n",
        "GMModel.fit(reduced_data)"
      ],
      "execution_count": null,
      "outputs": [
        {
          "output_type": "execute_result",
          "data": {
            "text/plain": [
              "GaussianMixture(covariance_type='full', init_params='kmeans', max_iter=100,\n",
              "                means_init=None, n_components=3, n_init=1, precisions_init=None,\n",
              "                random_state=None, reg_covar=1e-06, tol=0.001, verbose=0,\n",
              "                verbose_interval=10, warm_start=False, weights_init=None)"
            ]
          },
          "metadata": {
            "tags": []
          },
          "execution_count": 76
        }
      ]
    },
    {
      "cell_type": "code",
      "metadata": {
        "id": "AxRanIqrNEIC"
      },
      "source": [
        "# Step size of the mesh. Decrease to increase the quality of the VQ.\n",
        "h = .02     # point in the mesh [x_min, x_max]x[y_min, y_max]."
      ],
      "execution_count": null,
      "outputs": []
    },
    {
      "cell_type": "code",
      "metadata": {
        "id": "LZx2j7u3NGEp"
      },
      "source": [
        "# Plot the decision boundary. For that, we will assign a color to each\n",
        "x_min, x_max = reduced_data[:, 0].min() - 1, reduced_data[:, 0].max() + 1\n",
        "y_min, y_max = reduced_data[:, 1].min() - 1, reduced_data[:, 1].max() + 1\n",
        "xx, yy = np.meshgrid(np.arange(x_min, x_max, h), np.arange(y_min, y_max, h))"
      ],
      "execution_count": null,
      "outputs": []
    },
    {
      "cell_type": "code",
      "metadata": {
        "id": "wPLpX-CrNH9-"
      },
      "source": [
        "Z = GMModel.predict(np.c_[xx.ravel(), yy.ravel()]).reshape(xx.shape)"
      ],
      "execution_count": null,
      "outputs": []
    },
    {
      "cell_type": "code",
      "metadata": {
        "colab": {
          "base_uri": "https://localhost:8080/",
          "height": 268
        },
        "id": "0-RZ7WKPNKWS",
        "outputId": "f2398d42-a8a0-461f-d27f-b976fc63c24e"
      },
      "source": [
        "plt.figure(1)\n",
        "plt.clf()\n",
        "plt.imshow(Z, interpolation='nearest',\n",
        "           extent=(xx.min(), xx.max(), yy.min(), yy.max()),\n",
        "           cmap=plt.cm.Accent,\n",
        "           aspect='auto', origin='lower')\n",
        "\n",
        "plt.plot(reduced_data[:, 0], reduced_data[:, 1], 'k.', markersize=0.5)\n",
        "# Plot the centroids as a white X\n",
        "means = GMModel.means_\n",
        "plt.scatter(means[:, 0], means[:, 1],\n",
        "            marker='x', s=169, linewidths=3,\n",
        "            color='w', zorder=10, label = \"Centroid\")\n",
        "plt.contour(xx,yy, Z)\n",
        "plt.title('GMM clustering n_comp = 3 for Invoice Data (PCA-reduced data)')\n",
        "plt.legend()\n",
        "plt.xlim(x_min, x_max)\n",
        "plt.ylim(y_min, y_max)\n",
        "plt.xticks(())\n",
        "plt.yticks(())\n",
        "plt.show()"
      ],
      "execution_count": null,
      "outputs": [
        {
          "output_type": "display_data",
          "data": {
            "image/png": "[encoded data removed]",
            "text/plain": [
              "<Figure size 432x288 with 1 Axes>"
            ]
          },
          "metadata": {
            "tags": []
          }
        }
      ]
    },
    {
      "cell_type": "code",
      "metadata": {
        "id": "7-6rce7EPl-B"
      },
      "source": [
        ""
      ],
      "execution_count": null,
      "outputs": []
    }
  ]
}