{
  "nbformat": 4,
  "nbformat_minor": 0,
  "metadata": {
    "kernelspec": {
      "display_name": "Python 3",
      "language": "python",
      "name": "python3"
    },
    "language_info": {
      "codemirror_mode": {
        "name": "ipython",
        "version": 3
      },
      "file_extension": ".py",
      "mimetype": "text/x-python",
      "name": "python",
      "nbconvert_exporter": "python",
      "pygments_lexer": "ipython3",
      "version": "3.7.4"
    },
    "colab": {
      "name": "EDA.ipynb",
      "provenance": [],
      "collapsed_sections": []
    }
  },
  "cells": [
    {
      "cell_type": "code",
      "metadata": {
        "id": "ZoUiZvORU8aK"
      },
      "source": [
        "import pandas as pd\n",
        "import numpy as np\n",
        "from pandas.plotting import *\n",
        "import matplotlib.pyplot as plt\n",
        "import seaborn as sns\n",
        "plt.close('all')"
      ],
      "execution_count": 1,
      "outputs": []
    },
    {
      "cell_type": "markdown",
      "metadata": {
        "id": "caA72GgAhaW5"
      },
      "source": [
        "# Loading Data"
      ]
    },
    {
      "cell_type": "code",
      "metadata": {
        "id": "x3HqRBztU8aO"
      },
      "source": [
        "# Read CSVs\n",
        "debtor_df = pd.read_csv(\"DebtorExtract.csv\")\n",
        "invoice_df = pd.read_csv(\"InvoiceExtract.csv\")\n",
        "payment_df = pd.read_csv(\"PaymentsExtract.csv\")"
      ],
      "execution_count": 2,
      "outputs": []
    },
    {
      "cell_type": "code",
      "metadata": {
        "id": "IluHlcXbU8aU"
      },
      "source": [
        "dfs = {\"debt\": debtor_df, \"invoice\":invoice_df, \"payment\":payment_df}"
      ],
      "execution_count": 3,
      "outputs": []
    },
    {
      "cell_type": "code",
      "metadata": {
        "id": "R5BI6zsoU8aW"
      },
      "source": [
        "def df_eda(df_dict):\n",
        "\n",
        "    for df_name in df_dict:\n",
        "        df = df_dict[df_name]\n",
        "        print(\"Number of rows: \" + str(len(df)))\n",
        "        \n",
        "        with pd.ExcelWriter(df_name + \".xlsx\") as writer:\n",
        "            for c in df.columns:\n",
        "                #Print unique counts of columns\n",
        "                print(\"Num unique col \" + c + ': ' + str(df[c].nunique()))\n",
        "                # Print description of column\n",
        "                print(\"Description of column: \" + c)\n",
        "                desc = df[c].describe()\n",
        "                desc.to_excel(writer, sheet_name = c)"
      ],
      "execution_count": 4,
      "outputs": []
    },
    {
      "cell_type": "code",
      "metadata": {
        "id": "Ij4ABqB3U8aY",
        "outputId": "cbecc3ab-ce0a-4a85-fcbc-80239e2c284e",
        "colab": {
          "base_uri": "https://localhost:8080/",
          "height": 85
        }
      },
      "source": [
        "print(\"Invoice unique customers:\" + str(invoice_df[\"CustomerKey\"].nunique()))\n",
        "print(\"Invoice unique invoices:\" + str(invoice_df[\"InvoiceKey\"].nunique()))\n",
        "print(\"Payment unique customers:\" + str(payment_df[\"CustomerKey\"].nunique()))\n",
        "print(\"Payment unique invoices:\" + str(payment_df[\"InvoiceKey\"].nunique()))"
      ],
      "execution_count": 5,
      "outputs": [
        {
          "output_type": "stream",
          "text": [
            "Invoice unique customers:64782\n",
            "Invoice unique invoices:367498\n",
            "Payment unique customers:28535\n",
            "Payment unique invoices:546365\n"
          ],
          "name": "stdout"
        }
      ]
    },
    {
      "cell_type": "code",
      "metadata": {
        "id": "Qz3F_TihU8ad"
      },
      "source": [
        "inv_pay = pd.merge(invoice_df, payment_df, on = ['InvoiceKey', 'CustomerKey'])"
      ],
      "execution_count": 6,
      "outputs": []
    },
    {
      "cell_type": "code",
      "metadata": {
        "id": "uzP75_l8U8af",
        "outputId": "886cd31a-d45d-420c-e4fb-3db094a31bfc",
        "colab": {
          "base_uri": "https://localhost:8080/",
          "height": 609
        }
      },
      "source": [
        "inv_pay"
      ],
      "execution_count": 7,
      "outputs": [
        {
          "output_type": "execute_result",
          "data": {
            "text/html": [
              "<div>\n",
              "<style scoped>\n",
              "    .dataframe tbody tr th:only-of-type {\n",
              "        vertical-align: middle;\n",
              "    }\n",
              "\n",
              "    .dataframe tbody tr th {\n",
              "        vertical-align: top;\n",
              "    }\n",
              "\n",
              "    .dataframe thead th {\n",
              "        text-align: right;\n",
              "    }\n",
              "</style>\n",
              "<table border=\"1\" class=\"dataframe\">\n",
              "  <thead>\n",
              "    <tr style=\"text-align: right;\">\n",
              "      <th></th>\n",
              "      <th>InvoiceKey</th>\n",
              "      <th>CustomerKey</th>\n",
              "      <th>IsCreditInvoice</th>\n",
              "      <th>RaisedDate</th>\n",
              "      <th>DueDate</th>\n",
              "      <th>OriginalInvoiceAmount</th>\n",
              "      <th>AmountOutstanding</th>\n",
              "      <th>StatementTransactionType</th>\n",
              "      <th>ExtractDate</th>\n",
              "      <th>PaymentValue</th>\n",
              "      <th>PaymentDate</th>\n",
              "      <th>PaymentType</th>\n",
              "    </tr>\n",
              "  </thead>\n",
              "  <tbody>\n",
              "    <tr>\n",
              "      <th>0</th>\n",
              "      <td>197057173</td>\n",
              "      <td>16776992.0</td>\n",
              "      <td>1.0</td>\n",
              "      <td>2018-01-02</td>\n",
              "      <td>2018-01-02</td>\n",
              "      <td>-645.66</td>\n",
              "      <td>0.0</td>\n",
              "      <td>JRN</td>\n",
              "      <td>2020-09-18 16:21:06.333</td>\n",
              "      <td>-645.66</td>\n",
              "      <td>2018-12-17</td>\n",
              "      <td>Barclays Multi</td>\n",
              "    </tr>\n",
              "    <tr>\n",
              "      <th>1</th>\n",
              "      <td>196559812</td>\n",
              "      <td>16837363.0</td>\n",
              "      <td>1.0</td>\n",
              "      <td>2018-01-02</td>\n",
              "      <td>2018-01-02</td>\n",
              "      <td>-139.37</td>\n",
              "      <td>0.0</td>\n",
              "      <td>JRN</td>\n",
              "      <td>2020-09-18 16:21:06.333</td>\n",
              "      <td>-139.37</td>\n",
              "      <td>2018-11-01</td>\n",
              "      <td>Barclays Multi</td>\n",
              "    </tr>\n",
              "    <tr>\n",
              "      <th>2</th>\n",
              "      <td>195300967</td>\n",
              "      <td>16724474.0</td>\n",
              "      <td>1.0</td>\n",
              "      <td>2018-01-03</td>\n",
              "      <td>2018-01-03</td>\n",
              "      <td>-88.50</td>\n",
              "      <td>0.0</td>\n",
              "      <td>JRN</td>\n",
              "      <td>2020-09-18 16:21:06.333</td>\n",
              "      <td>-88.50</td>\n",
              "      <td>2018-09-24</td>\n",
              "      <td>Barclays Multi</td>\n",
              "    </tr>\n",
              "    <tr>\n",
              "      <th>3</th>\n",
              "      <td>195519971</td>\n",
              "      <td>16745090.0</td>\n",
              "      <td>0.0</td>\n",
              "      <td>2018-01-03</td>\n",
              "      <td>2018-03-02</td>\n",
              "      <td>168.00</td>\n",
              "      <td>0.0</td>\n",
              "      <td>INV</td>\n",
              "      <td>2020-09-18 16:21:06.333</td>\n",
              "      <td>168.00</td>\n",
              "      <td>2018-11-23</td>\n",
              "      <td>Barclays Multi</td>\n",
              "    </tr>\n",
              "    <tr>\n",
              "      <th>4</th>\n",
              "      <td>196697217</td>\n",
              "      <td>16817529.0</td>\n",
              "      <td>1.0</td>\n",
              "      <td>2018-01-03</td>\n",
              "      <td>2018-01-03</td>\n",
              "      <td>-626.38</td>\n",
              "      <td>0.0</td>\n",
              "      <td>JRN</td>\n",
              "      <td>2020-09-18 16:21:06.333</td>\n",
              "      <td>-626.38</td>\n",
              "      <td>2019-12-17</td>\n",
              "      <td>Barclays Multi</td>\n",
              "    </tr>\n",
              "    <tr>\n",
              "      <th>...</th>\n",
              "      <td>...</td>\n",
              "      <td>...</td>\n",
              "      <td>...</td>\n",
              "      <td>...</td>\n",
              "      <td>...</td>\n",
              "      <td>...</td>\n",
              "      <td>...</td>\n",
              "      <td>...</td>\n",
              "      <td>...</td>\n",
              "      <td>...</td>\n",
              "      <td>...</td>\n",
              "      <td>...</td>\n",
              "    </tr>\n",
              "    <tr>\n",
              "      <th>133537</th>\n",
              "      <td>196217715</td>\n",
              "      <td>16840605.0</td>\n",
              "      <td>1.0</td>\n",
              "      <td>2018-11-27</td>\n",
              "      <td>2018-11-27</td>\n",
              "      <td>-31.43</td>\n",
              "      <td>0.0</td>\n",
              "      <td>CRN</td>\n",
              "      <td>2020-09-18 16:21:06.333</td>\n",
              "      <td>-31.43</td>\n",
              "      <td>2019-01-08</td>\n",
              "      <td>Barclays Multi</td>\n",
              "    </tr>\n",
              "    <tr>\n",
              "      <th>133538</th>\n",
              "      <td>197232843</td>\n",
              "      <td>16887190.0</td>\n",
              "      <td>0.0</td>\n",
              "      <td>2018-11-27</td>\n",
              "      <td>2018-12-27</td>\n",
              "      <td>2347.20</td>\n",
              "      <td>0.0</td>\n",
              "      <td>INV</td>\n",
              "      <td>2020-09-18 16:21:06.333</td>\n",
              "      <td>2347.20</td>\n",
              "      <td>2018-12-31</td>\n",
              "      <td>Barclays Multi</td>\n",
              "    </tr>\n",
              "    <tr>\n",
              "      <th>133539</th>\n",
              "      <td>196854318</td>\n",
              "      <td>16733572.0</td>\n",
              "      <td>0.0</td>\n",
              "      <td>2018-11-27</td>\n",
              "      <td>2018-12-27</td>\n",
              "      <td>864.00</td>\n",
              "      <td>0.0</td>\n",
              "      <td>INV</td>\n",
              "      <td>2020-09-18 16:21:06.333</td>\n",
              "      <td>864.00</td>\n",
              "      <td>2019-01-29</td>\n",
              "      <td>Barclays Multi</td>\n",
              "    </tr>\n",
              "    <tr>\n",
              "      <th>133540</th>\n",
              "      <td>195846431</td>\n",
              "      <td>16742289.0</td>\n",
              "      <td>0.0</td>\n",
              "      <td>2018-11-27</td>\n",
              "      <td>2018-12-27</td>\n",
              "      <td>1621.72</td>\n",
              "      <td>0.0</td>\n",
              "      <td>INV</td>\n",
              "      <td>2020-09-18 16:21:06.333</td>\n",
              "      <td>1621.72</td>\n",
              "      <td>2019-01-04</td>\n",
              "      <td>Barclays Multi</td>\n",
              "    </tr>\n",
              "    <tr>\n",
              "      <th>133541</th>\n",
              "      <td>196626539</td>\n",
              "      <td>16745062.0</td>\n",
              "      <td>1.0</td>\n",
              "      <td>2018-11-27</td>\n",
              "      <td>2018-11-27</td>\n",
              "      <td>-48.20</td>\n",
              "      <td>0.0</td>\n",
              "      <td>CRN</td>\n",
              "      <td>2020-09-18 16:21:06.333</td>\n",
              "      <td>-48.20</td>\n",
              "      <td>2018-12-14</td>\n",
              "      <td>Barclays Multi</td>\n",
              "    </tr>\n",
              "  </tbody>\n",
              "</table>\n",
              "<p>133542 rows × 12 columns</p>\n",
              "</div>"
            ],
            "text/plain": [
              "        InvoiceKey  CustomerKey  ...  PaymentDate     PaymentType\n",
              "0        197057173   16776992.0  ...   2018-12-17  Barclays Multi\n",
              "1        196559812   16837363.0  ...   2018-11-01  Barclays Multi\n",
              "2        195300967   16724474.0  ...   2018-09-24  Barclays Multi\n",
              "3        195519971   16745090.0  ...   2018-11-23  Barclays Multi\n",
              "4        196697217   16817529.0  ...   2019-12-17  Barclays Multi\n",
              "...            ...          ...  ...          ...             ...\n",
              "133537   196217715   16840605.0  ...   2019-01-08  Barclays Multi\n",
              "133538   197232843   16887190.0  ...   2018-12-31  Barclays Multi\n",
              "133539   196854318   16733572.0  ...   2019-01-29  Barclays Multi\n",
              "133540   195846431   16742289.0  ...   2019-01-04  Barclays Multi\n",
              "133541   196626539   16745062.0  ...   2018-12-14  Barclays Multi\n",
              "\n",
              "[133542 rows x 12 columns]"
            ]
          },
          "metadata": {
            "tags": []
          },
          "execution_count": 7
        }
      ]
    },
    {
      "cell_type": "code",
      "metadata": {
        "id": "xp5m__v2U8ai",
        "outputId": "89ad5ed0-0f42-42ee-97c9-957f57203a35",
        "colab": {
          "base_uri": "https://localhost:8080/",
          "height": 34
        }
      },
      "source": [
        "len(payment_df)"
      ],
      "execution_count": 8,
      "outputs": [
        {
          "output_type": "execute_result",
          "data": {
            "text/plain": [
              "549748"
            ]
          },
          "metadata": {
            "tags": []
          },
          "execution_count": 8
        }
      ]
    },
    {
      "cell_type": "code",
      "metadata": {
        "id": "KxP-_ODvU8al",
        "outputId": "ffa4ccca-9360-467d-eab5-801246939607",
        "colab": {
          "base_uri": "https://localhost:8080/",
          "height": 592
        }
      },
      "source": [
        "invoice_df"
      ],
      "execution_count": 9,
      "outputs": [
        {
          "output_type": "execute_result",
          "data": {
            "text/html": [
              "<div>\n",
              "<style scoped>\n",
              "    .dataframe tbody tr th:only-of-type {\n",
              "        vertical-align: middle;\n",
              "    }\n",
              "\n",
              "    .dataframe tbody tr th {\n",
              "        vertical-align: top;\n",
              "    }\n",
              "\n",
              "    .dataframe thead th {\n",
              "        text-align: right;\n",
              "    }\n",
              "</style>\n",
              "<table border=\"1\" class=\"dataframe\">\n",
              "  <thead>\n",
              "    <tr style=\"text-align: right;\">\n",
              "      <th></th>\n",
              "      <th>InvoiceKey</th>\n",
              "      <th>CustomerKey</th>\n",
              "      <th>IsCreditInvoice</th>\n",
              "      <th>RaisedDate</th>\n",
              "      <th>DueDate</th>\n",
              "      <th>OriginalInvoiceAmount</th>\n",
              "      <th>AmountOutstanding</th>\n",
              "      <th>StatementTransactionType</th>\n",
              "      <th>ExtractDate</th>\n",
              "    </tr>\n",
              "  </thead>\n",
              "  <tbody>\n",
              "    <tr>\n",
              "      <th>0</th>\n",
              "      <td>197017110</td>\n",
              "      <td>16744809.0</td>\n",
              "      <td>1.0</td>\n",
              "      <td>2018-01-01</td>\n",
              "      <td>2018-08-31</td>\n",
              "      <td>-61589.70</td>\n",
              "      <td>-61589.70</td>\n",
              "      <td>CRN</td>\n",
              "      <td>2020-09-18 16:21:06.333</td>\n",
              "    </tr>\n",
              "    <tr>\n",
              "      <th>1</th>\n",
              "      <td>197188287</td>\n",
              "      <td>16744809.0</td>\n",
              "      <td>1.0</td>\n",
              "      <td>2018-01-01</td>\n",
              "      <td>2018-12-30</td>\n",
              "      <td>-2826.19</td>\n",
              "      <td>-2826.19</td>\n",
              "      <td>CRN</td>\n",
              "      <td>2020-09-18 16:21:06.333</td>\n",
              "    </tr>\n",
              "    <tr>\n",
              "      <th>2</th>\n",
              "      <td>197057183</td>\n",
              "      <td>16798371.0</td>\n",
              "      <td>1.0</td>\n",
              "      <td>2018-01-02</td>\n",
              "      <td>2018-01-02</td>\n",
              "      <td>-150.00</td>\n",
              "      <td>0.00</td>\n",
              "      <td>CSH</td>\n",
              "      <td>2020-09-18 16:21:06.333</td>\n",
              "    </tr>\n",
              "    <tr>\n",
              "      <th>3</th>\n",
              "      <td>195398038</td>\n",
              "      <td>16732292.0</td>\n",
              "      <td>0.0</td>\n",
              "      <td>2018-01-02</td>\n",
              "      <td>2018-02-01</td>\n",
              "      <td>485.04</td>\n",
              "      <td>0.00</td>\n",
              "      <td>INV</td>\n",
              "      <td>2020-09-18 16:21:06.333</td>\n",
              "    </tr>\n",
              "    <tr>\n",
              "      <th>4</th>\n",
              "      <td>197057173</td>\n",
              "      <td>16776992.0</td>\n",
              "      <td>1.0</td>\n",
              "      <td>2018-01-02</td>\n",
              "      <td>2018-01-02</td>\n",
              "      <td>-645.66</td>\n",
              "      <td>0.00</td>\n",
              "      <td>JRN</td>\n",
              "      <td>2020-09-18 16:21:06.333</td>\n",
              "    </tr>\n",
              "    <tr>\n",
              "      <th>...</th>\n",
              "      <td>...</td>\n",
              "      <td>...</td>\n",
              "      <td>...</td>\n",
              "      <td>...</td>\n",
              "      <td>...</td>\n",
              "      <td>...</td>\n",
              "      <td>...</td>\n",
              "      <td>...</td>\n",
              "      <td>...</td>\n",
              "    </tr>\n",
              "    <tr>\n",
              "      <th>367493</th>\n",
              "      <td>196626539</td>\n",
              "      <td>16745062.0</td>\n",
              "      <td>1.0</td>\n",
              "      <td>2018-11-27</td>\n",
              "      <td>2018-11-27</td>\n",
              "      <td>-48.20</td>\n",
              "      <td>0.00</td>\n",
              "      <td>CRN</td>\n",
              "      <td>2020-09-18 16:21:06.333</td>\n",
              "    </tr>\n",
              "    <tr>\n",
              "      <th>367494</th>\n",
              "      <td>197352537</td>\n",
              "      <td>16877735.0</td>\n",
              "      <td>1.0</td>\n",
              "      <td>2018-11-27</td>\n",
              "      <td>2018-11-27</td>\n",
              "      <td>-11.70</td>\n",
              "      <td>0.00</td>\n",
              "      <td>CSH</td>\n",
              "      <td>2020-09-18 16:21:06.333</td>\n",
              "    </tr>\n",
              "    <tr>\n",
              "      <th>367495</th>\n",
              "      <td>196866836</td>\n",
              "      <td>16745976.0</td>\n",
              "      <td>1.0</td>\n",
              "      <td>2018-11-27</td>\n",
              "      <td>2018-11-27</td>\n",
              "      <td>-29.00</td>\n",
              "      <td>0.00</td>\n",
              "      <td>CSH</td>\n",
              "      <td>2020-09-18 16:21:06.333</td>\n",
              "    </tr>\n",
              "    <tr>\n",
              "      <th>367496</th>\n",
              "      <td>196449430</td>\n",
              "      <td>16739410.0</td>\n",
              "      <td>1.0</td>\n",
              "      <td>2018-11-27</td>\n",
              "      <td>2018-11-27</td>\n",
              "      <td>-72.00</td>\n",
              "      <td>0.00</td>\n",
              "      <td>CSH</td>\n",
              "      <td>2020-09-18 16:21:06.333</td>\n",
              "    </tr>\n",
              "    <tr>\n",
              "      <th>367497</th>\n",
              "      <td>1973</td>\n",
              "      <td>NaN</td>\n",
              "      <td>NaN</td>\n",
              "      <td>NaN</td>\n",
              "      <td>NaN</td>\n",
              "      <td>NaN</td>\n",
              "      <td>NaN</td>\n",
              "      <td>NaN</td>\n",
              "      <td>NaN</td>\n",
              "    </tr>\n",
              "  </tbody>\n",
              "</table>\n",
              "<p>367498 rows × 9 columns</p>\n",
              "</div>"
            ],
            "text/plain": [
              "        InvoiceKey  ...              ExtractDate\n",
              "0        197017110  ...  2020-09-18 16:21:06.333\n",
              "1        197188287  ...  2020-09-18 16:21:06.333\n",
              "2        197057183  ...  2020-09-18 16:21:06.333\n",
              "3        195398038  ...  2020-09-18 16:21:06.333\n",
              "4        197057173  ...  2020-09-18 16:21:06.333\n",
              "...            ...  ...                      ...\n",
              "367493   196626539  ...  2020-09-18 16:21:06.333\n",
              "367494   197352537  ...  2020-09-18 16:21:06.333\n",
              "367495   196866836  ...  2020-09-18 16:21:06.333\n",
              "367496   196449430  ...  2020-09-18 16:21:06.333\n",
              "367497        1973  ...                      NaN\n",
              "\n",
              "[367498 rows x 9 columns]"
            ]
          },
          "metadata": {
            "tags": []
          },
          "execution_count": 9
        }
      ]
    },
    {
      "cell_type": "code",
      "metadata": {
        "id": "QtCu9U-oU8an",
        "outputId": "5c043d92-212a-4383-d3ad-1b0ad17cfc4d",
        "colab": {
          "base_uri": "https://localhost:8080/",
          "height": 80
        }
      },
      "source": [
        "payment_df.loc[payment_df[\"InvoiceKey\"]==197057173]"
      ],
      "execution_count": 10,
      "outputs": [
        {
          "output_type": "execute_result",
          "data": {
            "text/html": [
              "<div>\n",
              "<style scoped>\n",
              "    .dataframe tbody tr th:only-of-type {\n",
              "        vertical-align: middle;\n",
              "    }\n",
              "\n",
              "    .dataframe tbody tr th {\n",
              "        vertical-align: top;\n",
              "    }\n",
              "\n",
              "    .dataframe thead th {\n",
              "        text-align: right;\n",
              "    }\n",
              "</style>\n",
              "<table border=\"1\" class=\"dataframe\">\n",
              "  <thead>\n",
              "    <tr style=\"text-align: right;\">\n",
              "      <th></th>\n",
              "      <th>InvoiceKey</th>\n",
              "      <th>CustomerKey</th>\n",
              "      <th>PaymentValue</th>\n",
              "      <th>PaymentDate</th>\n",
              "      <th>PaymentType</th>\n",
              "    </tr>\n",
              "  </thead>\n",
              "  <tbody>\n",
              "    <tr>\n",
              "      <th>444086</th>\n",
              "      <td>197057173</td>\n",
              "      <td>16776992</td>\n",
              "      <td>-645.66</td>\n",
              "      <td>2018-12-17</td>\n",
              "      <td>Barclays Multi</td>\n",
              "    </tr>\n",
              "  </tbody>\n",
              "</table>\n",
              "</div>"
            ],
            "text/plain": [
              "        InvoiceKey  CustomerKey  PaymentValue PaymentDate     PaymentType\n",
              "444086   197057173     16776992       -645.66  2018-12-17  Barclays Multi"
            ]
          },
          "metadata": {
            "tags": []
          },
          "execution_count": 10
        }
      ]
    },
    {
      "cell_type": "code",
      "metadata": {
        "id": "XD32zVIqU8ap",
        "outputId": "bedca321-c657-4baa-fd4f-c5caec75cadb",
        "colab": {
          "base_uri": "https://localhost:8080/",
          "height": 117
        }
      },
      "source": [
        "invoice_df.loc[invoice_df[\"InvoiceKey\"]==197057173]"
      ],
      "execution_count": 11,
      "outputs": [
        {
          "output_type": "execute_result",
          "data": {
            "text/html": [
              "<div>\n",
              "<style scoped>\n",
              "    .dataframe tbody tr th:only-of-type {\n",
              "        vertical-align: middle;\n",
              "    }\n",
              "\n",
              "    .dataframe tbody tr th {\n",
              "        vertical-align: top;\n",
              "    }\n",
              "\n",
              "    .dataframe thead th {\n",
              "        text-align: right;\n",
              "    }\n",
              "</style>\n",
              "<table border=\"1\" class=\"dataframe\">\n",
              "  <thead>\n",
              "    <tr style=\"text-align: right;\">\n",
              "      <th></th>\n",
              "      <th>InvoiceKey</th>\n",
              "      <th>CustomerKey</th>\n",
              "      <th>IsCreditInvoice</th>\n",
              "      <th>RaisedDate</th>\n",
              "      <th>DueDate</th>\n",
              "      <th>OriginalInvoiceAmount</th>\n",
              "      <th>AmountOutstanding</th>\n",
              "      <th>StatementTransactionType</th>\n",
              "      <th>ExtractDate</th>\n",
              "    </tr>\n",
              "  </thead>\n",
              "  <tbody>\n",
              "    <tr>\n",
              "      <th>4</th>\n",
              "      <td>197057173</td>\n",
              "      <td>16776992.0</td>\n",
              "      <td>1.0</td>\n",
              "      <td>2018-01-02</td>\n",
              "      <td>2018-01-02</td>\n",
              "      <td>-645.66</td>\n",
              "      <td>0.0</td>\n",
              "      <td>JRN</td>\n",
              "      <td>2020-09-18 16:21:06.333</td>\n",
              "    </tr>\n",
              "  </tbody>\n",
              "</table>\n",
              "</div>"
            ],
            "text/plain": [
              "   InvoiceKey  CustomerKey  ...  StatementTransactionType              ExtractDate\n",
              "4   197057173   16776992.0  ...                       JRN  2020-09-18 16:21:06.333\n",
              "\n",
              "[1 rows x 9 columns]"
            ]
          },
          "metadata": {
            "tags": []
          },
          "execution_count": 11
        }
      ]
    },
    {
      "cell_type": "markdown",
      "metadata": {
        "id": "_b7-PDBYgxig"
      },
      "source": [
        "# Data Types, number of unique values, intersection of keys"
      ]
    },
    {
      "cell_type": "code",
      "metadata": {
        "id": "jO62inFVU8ar",
        "outputId": "6cee38b2-7a30-494b-eaa4-312f9eeb15fd",
        "colab": {
          "base_uri": "https://localhost:8080/",
          "height": 170
        }
      },
      "source": [
        "dfs['debt'].info()"
      ],
      "execution_count": 12,
      "outputs": [
        {
          "output_type": "stream",
          "text": [
            "<class 'pandas.core.frame.DataFrame'>\n",
            "RangeIndex: 88099 entries, 0 to 88098\n",
            "Data columns (total 2 columns):\n",
            " #   Column          Non-Null Count  Dtype \n",
            "---  ------          --------------  ----- \n",
            " 0   CustomerKey     88099 non-null  int64 \n",
            " 1    PostcodeOuter  88053 non-null  object\n",
            "dtypes: int64(1), object(1)\n",
            "memory usage: 1.3+ MB\n"
          ],
          "name": "stdout"
        }
      ]
    },
    {
      "cell_type": "code",
      "metadata": {
        "id": "xxuRiC-6ck7J",
        "outputId": "6c3893b9-e060-4483-9e91-93bd5695bafe",
        "colab": {
          "base_uri": "https://localhost:8080/",
          "height": 68
        }
      },
      "source": [
        "dfs['debt'].nunique()"
      ],
      "execution_count": 13,
      "outputs": [
        {
          "output_type": "execute_result",
          "data": {
            "text/plain": [
              "CustomerKey       88099\n",
              " PostcodeOuter     2756\n",
              "dtype: int64"
            ]
          },
          "metadata": {
            "tags": []
          },
          "execution_count": 13
        }
      ]
    },
    {
      "cell_type": "code",
      "metadata": {
        "id": "vofSgyXAU8at",
        "outputId": "39dd43dd-b906-4d88-b750-d906568b7060",
        "colab": {
          "base_uri": "https://localhost:8080/",
          "height": 289
        }
      },
      "source": [
        "dfs['invoice'].info()"
      ],
      "execution_count": 14,
      "outputs": [
        {
          "output_type": "stream",
          "text": [
            "<class 'pandas.core.frame.DataFrame'>\n",
            "RangeIndex: 367498 entries, 0 to 367497\n",
            "Data columns (total 9 columns):\n",
            " #   Column                    Non-Null Count   Dtype  \n",
            "---  ------                    --------------   -----  \n",
            " 0   InvoiceKey                367498 non-null  int64  \n",
            " 1   CustomerKey               367497 non-null  float64\n",
            " 2   IsCreditInvoice           367497 non-null  float64\n",
            " 3   RaisedDate                367497 non-null  object \n",
            " 4   DueDate                   367497 non-null  object \n",
            " 5   OriginalInvoiceAmount     367497 non-null  float64\n",
            " 6   AmountOutstanding         367497 non-null  float64\n",
            " 7   StatementTransactionType  367497 non-null  object \n",
            " 8   ExtractDate               367497 non-null  object \n",
            "dtypes: float64(4), int64(1), object(4)\n",
            "memory usage: 25.2+ MB\n"
          ],
          "name": "stdout"
        }
      ]
    },
    {
      "cell_type": "code",
      "metadata": {
        "id": "WyjMdvtacYmI",
        "outputId": "9b67229a-2672-456e-f554-4dced885ddec",
        "colab": {
          "base_uri": "https://localhost:8080/",
          "height": 187
        }
      },
      "source": [
        "dfs['invoice'].nunique()"
      ],
      "execution_count": 15,
      "outputs": [
        {
          "output_type": "execute_result",
          "data": {
            "text/plain": [
              "InvoiceKey                  367498\n",
              "CustomerKey                  64782\n",
              "IsCreditInvoice                  2\n",
              "RaisedDate                     283\n",
              "DueDate                        386\n",
              "OriginalInvoiceAmount        89315\n",
              "AmountOutstanding              350\n",
              "StatementTransactionType         4\n",
              "ExtractDate                      1\n",
              "dtype: int64"
            ]
          },
          "metadata": {
            "tags": []
          },
          "execution_count": 15
        }
      ]
    },
    {
      "cell_type": "code",
      "metadata": {
        "id": "ZROW9_e-U8aw",
        "outputId": "1fa5504e-6646-4ed8-896e-ed1621d76556",
        "colab": {
          "base_uri": "https://localhost:8080/",
          "height": 221
        }
      },
      "source": [
        "dfs['payment'].info()"
      ],
      "execution_count": 16,
      "outputs": [
        {
          "output_type": "stream",
          "text": [
            "<class 'pandas.core.frame.DataFrame'>\n",
            "RangeIndex: 549748 entries, 0 to 549747\n",
            "Data columns (total 5 columns):\n",
            " #   Column        Non-Null Count   Dtype  \n",
            "---  ------        --------------   -----  \n",
            " 0   InvoiceKey    549748 non-null  int64  \n",
            " 1   CustomerKey   549748 non-null  int64  \n",
            " 2   PaymentValue  549748 non-null  float64\n",
            " 3   PaymentDate   549748 non-null  object \n",
            " 4   PaymentType   549748 non-null  object \n",
            "dtypes: float64(1), int64(2), object(2)\n",
            "memory usage: 21.0+ MB\n"
          ],
          "name": "stdout"
        }
      ]
    },
    {
      "cell_type": "code",
      "metadata": {
        "id": "BI2f1dl6U8ay",
        "outputId": "0a3562a4-7e57-4db4-eaf3-e6808849e88e",
        "colab": {
          "base_uri": "https://localhost:8080/",
          "height": 119
        }
      },
      "source": [
        "dfs['payment'].nunique()"
      ],
      "execution_count": 17,
      "outputs": [
        {
          "output_type": "execute_result",
          "data": {
            "text/plain": [
              "InvoiceKey      546365\n",
              "CustomerKey      28535\n",
              "PaymentValue    153475\n",
              "PaymentDate        518\n",
              "PaymentType          2\n",
              "dtype: int64"
            ]
          },
          "metadata": {
            "tags": []
          },
          "execution_count": 17
        }
      ]
    },
    {
      "cell_type": "code",
      "metadata": {
        "id": "KcpxSImJU8a0",
        "outputId": "eb5dfce7-204f-4d1f-bc1d-bb4e1008d694",
        "colab": {
          "base_uri": "https://localhost:8080/",
          "height": 51
        }
      },
      "source": [
        "print('# of Common invoicekeys shared')\n",
        "len(set(dfs['payment']['InvoiceKey']) & set(dfs['invoice']['InvoiceKey']))"
      ],
      "execution_count": 18,
      "outputs": [
        {
          "output_type": "stream",
          "text": [
            "# of Common invoicekeys shared\n"
          ],
          "name": "stdout"
        },
        {
          "output_type": "execute_result",
          "data": {
            "text/plain": [
              "132870"
            ]
          },
          "metadata": {
            "tags": []
          },
          "execution_count": 18
        }
      ]
    },
    {
      "cell_type": "markdown",
      "metadata": {
        "id": "qNgYa92Rgnit"
      },
      "source": [
        "# Visualizations"
      ]
    },
    {
      "cell_type": "code",
      "metadata": {
        "id": "XeUOKmlRg5sw",
        "outputId": "92247233-d5ea-4591-c435-2187efc15210",
        "colab": {
          "base_uri": "https://localhost:8080/",
          "height": 323
        }
      },
      "source": [
        "df = inv_pay\n",
        "del df['ExtractDate']\n",
        "df.info()"
      ],
      "execution_count": 19,
      "outputs": [
        {
          "output_type": "stream",
          "text": [
            "<class 'pandas.core.frame.DataFrame'>\n",
            "Int64Index: 133542 entries, 0 to 133541\n",
            "Data columns (total 11 columns):\n",
            " #   Column                    Non-Null Count   Dtype  \n",
            "---  ------                    --------------   -----  \n",
            " 0   InvoiceKey                133542 non-null  int64  \n",
            " 1   CustomerKey               133542 non-null  float64\n",
            " 2   IsCreditInvoice           133542 non-null  float64\n",
            " 3   RaisedDate                133542 non-null  object \n",
            " 4   DueDate                   133542 non-null  object \n",
            " 5   OriginalInvoiceAmount     133542 non-null  float64\n",
            " 6   AmountOutstanding         133542 non-null  float64\n",
            " 7   StatementTransactionType  133542 non-null  object \n",
            " 8   PaymentValue              133542 non-null  float64\n",
            " 9   PaymentDate               133542 non-null  object \n",
            " 10  PaymentType               133542 non-null  object \n",
            "dtypes: float64(5), int64(1), object(5)\n",
            "memory usage: 12.2+ MB\n"
          ],
          "name": "stdout"
        }
      ]
    },
    {
      "cell_type": "markdown",
      "metadata": {
        "id": "P_YFvLBctJ3U"
      },
      "source": [
        "## Correlation"
      ]
    },
    {
      "cell_type": "code",
      "metadata": {
        "id": "sJA7yUskmArI",
        "outputId": "7b98d8ac-dbf0-4e80-999e-4a6e6e092598",
        "colab": {
          "base_uri": "https://localhost:8080/",
          "height": 439
        }
      },
      "source": [
        "plt.figure(figsize=(15, 10))\n",
        "sns.heatmap(df.corr(), annot=True)"
      ],
      "execution_count": 20,
      "outputs": [
        {
          "output_type": "execute_result",
          "data": {
            "text/plain": [
              "<matplotlib.axes._subplots.AxesSubplot at 0x7faae624c860>"
            ]
          },
          "metadata": {
            "tags": []
          },
          "execution_count": 20
        },
        {
          "output_type": "display_data",
          "data": {
            "image/png": "[encoded data removed]",
            "text/plain": [
              "<Figure size 1080x720 with 2 Axes>"
            ]
          },
          "metadata": {
            "tags": [],
            "needs_background": "light"
          }
        }
      ]
    },
    {
      "cell_type": "markdown",
      "metadata": {
        "id": "KxQoURYAtsmx"
      },
      "source": [
        "## Histograms"
      ]
    },
    {
      "cell_type": "code",
      "metadata": {
        "id": "vC-xuMMKQiOs",
        "outputId": "4e3eb5c6-0f6a-4f65-8650-c16ad8fc8241",
        "colab": {
          "base_uri": "https://localhost:8080/",
          "height": 102
        }
      },
      "source": [
        "#df[\"StatementTransactionType\"].nunique()\n",
        "trans_types = df[\"StatementTransactionType\"].value_counts()\n",
        "trans_types"
      ],
      "execution_count": 21,
      "outputs": [
        {
          "output_type": "execute_result",
          "data": {
            "text/plain": [
              "INV    130220\n",
              "CRN      2766\n",
              "JRN       380\n",
              "CSH       176\n",
              "Name: StatementTransactionType, dtype: int64"
            ]
          },
          "metadata": {
            "tags": []
          },
          "execution_count": 21
        }
      ]
    },
    {
      "cell_type": "code",
      "metadata": {
        "id": "aaELQ39wygpX",
        "outputId": "e67ef3c4-5b40-4dea-a573-8781863e60b1",
        "colab": {
          "base_uri": "https://localhost:8080/",
          "height": 310
        }
      },
      "source": [
        "trans_types.plot(kind = \"bar\", title = \"StatementTransactionType values Occurences\")"
      ],
      "execution_count": 40,
      "outputs": [
        {
          "output_type": "execute_result",
          "data": {
            "text/plain": [
              "<matplotlib.axes._subplots.AxesSubplot at 0x7faae129b7f0>"
            ]
          },
          "metadata": {
            "tags": []
          },
          "execution_count": 40
        },
        {
          "output_type": "display_data",
          "data": {
            "image/png": "[encoded data removed]",
            "text/plain": [
              "<Figure size 432x288 with 1 Axes>"
            ]
          },
          "metadata": {
            "tags": [],
            "needs_background": "light"
          }
        }
      ]
    },
    {
      "cell_type": "code",
      "metadata": {
        "id": "3O4ugJ2BzTQb",
        "outputId": "68e5b390-cf74-485a-d9c0-cc70f9f54e26",
        "colab": {
          "base_uri": "https://localhost:8080/",
          "height": 68
        }
      },
      "source": [
        "credits_amount = df[\"IsCreditInvoice\"].value_counts()\n",
        "credits_amount"
      ],
      "execution_count": 23,
      "outputs": [
        {
          "output_type": "execute_result",
          "data": {
            "text/plain": [
              "0.0    130297\n",
              "1.0      3245\n",
              "Name: IsCreditInvoice, dtype: int64"
            ]
          },
          "metadata": {
            "tags": []
          },
          "execution_count": 23
        }
      ]
    },
    {
      "cell_type": "code",
      "metadata": {
        "id": "u1-N2Rmj1WZU",
        "outputId": "cb8be0ab-bf80-43d7-c11f-f4f1211bb5f9",
        "colab": {
          "base_uri": "https://localhost:8080/",
          "height": 304
        }
      },
      "source": [
        "credits_amount.plot(kind = \"bar\",title = \"IsCreditInvoice values Occurences\")"
      ],
      "execution_count": 41,
      "outputs": [
        {
          "output_type": "execute_result",
          "data": {
            "text/plain": [
              "<matplotlib.axes._subplots.AxesSubplot at 0x7faae429b9b0>"
            ]
          },
          "metadata": {
            "tags": []
          },
          "execution_count": 41
        },
        {
          "output_type": "display_data",
          "data": {
            "image/png": "[encoded data removed]",
            "text/plain": [
              "<Figure size 432x288 with 1 Axes>"
            ]
          },
          "metadata": {
            "tags": [],
            "needs_background": "light"
          }
        }
      ]
    },
    {
      "cell_type": "code",
      "metadata": {
        "id": "uS1Kcucy1rmt",
        "outputId": "c4466d18-c430-409c-8f74-013cece6e760",
        "colab": {
          "base_uri": "https://localhost:8080/",
          "height": 68
        }
      },
      "source": [
        "pay_types = df[\"PaymentType\"].value_counts()\n",
        "pay_types"
      ],
      "execution_count": 25,
      "outputs": [
        {
          "output_type": "execute_result",
          "data": {
            "text/plain": [
              "Barclays Multi    120542\n",
              "CheckM8            13000\n",
              "Name: PaymentType, dtype: int64"
            ]
          },
          "metadata": {
            "tags": []
          },
          "execution_count": 25
        }
      ]
    },
    {
      "cell_type": "code",
      "metadata": {
        "id": "9oT5Nmi313vk",
        "outputId": "41b78f3a-b6b5-4cf1-d6e2-fed6376c8851",
        "colab": {
          "base_uri": "https://localhost:8080/",
          "height": 359
        }
      },
      "source": [
        "pay_types.plot(kind = \"bar\", title = \"PaymentType values Occurrences\")"
      ],
      "execution_count": 42,
      "outputs": [
        {
          "output_type": "execute_result",
          "data": {
            "text/plain": [
              "<matplotlib.axes._subplots.AxesSubplot at 0x7faad8ca7710>"
            ]
          },
          "metadata": {
            "tags": []
          },
          "execution_count": 42
        },
        {
          "output_type": "display_data",
          "data": {
            "image/png": "[encoded data removed]",
            "text/plain": [
              "<Figure size 432x288 with 1 Axes>"
            ]
          },
          "metadata": {
            "tags": [],
            "needs_background": "light"
          }
        }
      ]
    },
    {
      "cell_type": "markdown",
      "metadata": {
        "id": "2Q9-ic1NtwEE"
      },
      "source": [
        "# Box Plots"
      ]
    },
    {
      "cell_type": "code",
      "metadata": {
        "id": "ANrYZmkV4GUh",
        "outputId": "949aa76b-d8ad-4944-ccfe-029532857103",
        "colab": {
          "base_uri": "https://localhost:8080/",
          "height": 221
        }
      },
      "source": [
        "pay_dates = df[\"PaymentDate\"].nunique()\n",
        "pay_dates = df[\"PaymentDate\"].value_counts()\n",
        "pay_dates"
      ],
      "execution_count": 58,
      "outputs": [
        {
          "output_type": "execute_result",
          "data": {
            "text/plain": [
              "2018-11-30    5088\n",
              "2018-09-28    4680\n",
              "2018-08-31    3755\n",
              "2018-10-31    3497\n",
              "2018-10-01    2537\n",
              "              ... \n",
              "2019-08-30       1\n",
              "2019-10-29       1\n",
              "2020-01-27       1\n",
              "2020-05-15       1\n",
              "2020-04-22       1\n",
              "Name: PaymentDate, Length: 380, dtype: int64"
            ]
          },
          "metadata": {
            "tags": []
          },
          "execution_count": 58
        }
      ]
    },
    {
      "cell_type": "code",
      "metadata": {
        "id": "Xi2vYJxD4eC3",
        "outputId": "c120aeb2-9c33-4dcb-c5c0-188d76cc3445",
        "colab": {
          "base_uri": "https://localhost:8080/",
          "height": 282
        }
      },
      "source": [
        "pay_dates.plot.box()"
      ],
      "execution_count": 59,
      "outputs": [
        {
          "output_type": "execute_result",
          "data": {
            "text/plain": [
              "<matplotlib.axes._subplots.AxesSubplot at 0x7faae10610b8>"
            ]
          },
          "metadata": {
            "tags": []
          },
          "execution_count": 59
        },
        {
          "output_type": "display_data",
          "data": {
            "image/png": "[encoded data removed]",
            "text/plain": [
              "<Figure size 432x288 with 1 Axes>"
            ]
          },
          "metadata": {
            "tags": [],
            "needs_background": "light"
          }
        }
      ]
    },
    {
      "cell_type": "markdown",
      "metadata": {
        "id": "frK1RkMmcUbV"
      },
      "source": [
        "**Information per customer:**"
      ]
    },
    {
      "cell_type": "code",
      "metadata": {
        "id": "GXXE9IsOW2hT",
        "outputId": "f91fe5cd-e036-4a94-c6aa-82d205c634ec",
        "colab": {
          "base_uri": "https://localhost:8080/",
          "height": 419
        }
      },
      "source": [
        "#data points per customer\n",
        "customers = df[\"CustomerKey\"].value_counts().to_frame(name=\"occurences\")\n",
        "customers"
      ],
      "execution_count": 111,
      "outputs": [
        {
          "output_type": "execute_result",
          "data": {
            "text/html": [
              "<div>\n",
              "<style scoped>\n",
              "    .dataframe tbody tr th:only-of-type {\n",
              "        vertical-align: middle;\n",
              "    }\n",
              "\n",
              "    .dataframe tbody tr th {\n",
              "        vertical-align: top;\n",
              "    }\n",
              "\n",
              "    .dataframe thead th {\n",
              "        text-align: right;\n",
              "    }\n",
              "</style>\n",
              "<table border=\"1\" class=\"dataframe\">\n",
              "  <thead>\n",
              "    <tr style=\"text-align: right;\">\n",
              "      <th></th>\n",
              "      <th>occurences</th>\n",
              "    </tr>\n",
              "  </thead>\n",
              "  <tbody>\n",
              "    <tr>\n",
              "      <th>16745090.0</th>\n",
              "      <td>1437</td>\n",
              "    </tr>\n",
              "    <tr>\n",
              "      <th>16738849.0</th>\n",
              "      <td>1419</td>\n",
              "    </tr>\n",
              "    <tr>\n",
              "      <th>16745645.0</th>\n",
              "      <td>1020</td>\n",
              "    </tr>\n",
              "    <tr>\n",
              "      <th>16876991.0</th>\n",
              "      <td>771</td>\n",
              "    </tr>\n",
              "    <tr>\n",
              "      <th>16737254.0</th>\n",
              "      <td>748</td>\n",
              "    </tr>\n",
              "    <tr>\n",
              "      <th>...</th>\n",
              "      <td>...</td>\n",
              "    </tr>\n",
              "    <tr>\n",
              "      <th>16916752.0</th>\n",
              "      <td>1</td>\n",
              "    </tr>\n",
              "    <tr>\n",
              "      <th>16970798.0</th>\n",
              "      <td>1</td>\n",
              "    </tr>\n",
              "    <tr>\n",
              "      <th>16970989.0</th>\n",
              "      <td>1</td>\n",
              "    </tr>\n",
              "    <tr>\n",
              "      <th>16822124.0</th>\n",
              "      <td>1</td>\n",
              "    </tr>\n",
              "    <tr>\n",
              "      <th>16851990.0</th>\n",
              "      <td>1</td>\n",
              "    </tr>\n",
              "  </tbody>\n",
              "</table>\n",
              "<p>20934 rows × 1 columns</p>\n",
              "</div>"
            ],
            "text/plain": [
              "            occurences\n",
              "16745090.0        1437\n",
              "16738849.0        1419\n",
              "16745645.0        1020\n",
              "16876991.0         771\n",
              "16737254.0         748\n",
              "...                ...\n",
              "16916752.0           1\n",
              "16970798.0           1\n",
              "16970989.0           1\n",
              "16822124.0           1\n",
              "16851990.0           1\n",
              "\n",
              "[20934 rows x 1 columns]"
            ]
          },
          "metadata": {
            "tags": []
          },
          "execution_count": 111
        }
      ]
    },
    {
      "cell_type": "code",
      "metadata": {
        "id": "ES-MSp1SXSvM",
        "outputId": "241aee94-e54d-4b1e-c14a-f21f5034aeca",
        "colab": {
          "base_uri": "https://localhost:8080/",
          "height": 51
        }
      },
      "source": [
        "#number of customers that only have one data point\n",
        "customers[customers.occurences == 1].count()"
      ],
      "execution_count": 112,
      "outputs": [
        {
          "output_type": "execute_result",
          "data": {
            "text/plain": [
              "occurences    2695\n",
              "dtype: int64"
            ]
          },
          "metadata": {
            "tags": []
          },
          "execution_count": 112
        }
      ]
    },
    {
      "cell_type": "code",
      "metadata": {
        "id": "ihbOeMTH5Dtg",
        "outputId": "e4a42090-a2d8-4e59-b931-01cd7bd62ec8",
        "colab": {
          "base_uri": "https://localhost:8080/",
          "height": 470
        }
      },
      "source": [
        "#average values of continues variables per customers \n",
        "info_customer = df.groupby(\"CustomerKey\").mean()\n",
        "info_customer.drop(labels = \"InvoiceKey\", axis = 1) "
      ],
      "execution_count": 113,
      "outputs": [
        {
          "output_type": "execute_result",
          "data": {
            "text/html": [
              "<div>\n",
              "<style scoped>\n",
              "    .dataframe tbody tr th:only-of-type {\n",
              "        vertical-align: middle;\n",
              "    }\n",
              "\n",
              "    .dataframe tbody tr th {\n",
              "        vertical-align: top;\n",
              "    }\n",
              "\n",
              "    .dataframe thead th {\n",
              "        text-align: right;\n",
              "    }\n",
              "</style>\n",
              "<table border=\"1\" class=\"dataframe\">\n",
              "  <thead>\n",
              "    <tr style=\"text-align: right;\">\n",
              "      <th></th>\n",
              "      <th>IsCreditInvoice</th>\n",
              "      <th>OriginalInvoiceAmount</th>\n",
              "      <th>AmountOutstanding</th>\n",
              "      <th>PaymentValue</th>\n",
              "    </tr>\n",
              "    <tr>\n",
              "      <th>CustomerKey</th>\n",
              "      <th></th>\n",
              "      <th></th>\n",
              "      <th></th>\n",
              "      <th></th>\n",
              "    </tr>\n",
              "  </thead>\n",
              "  <tbody>\n",
              "    <tr>\n",
              "      <th>16721154.0</th>\n",
              "      <td>0.0</td>\n",
              "      <td>69.216667</td>\n",
              "      <td>0.0</td>\n",
              "      <td>69.216667</td>\n",
              "    </tr>\n",
              "    <tr>\n",
              "      <th>16721167.0</th>\n",
              "      <td>0.0</td>\n",
              "      <td>189.082500</td>\n",
              "      <td>0.0</td>\n",
              "      <td>189.082500</td>\n",
              "    </tr>\n",
              "    <tr>\n",
              "      <th>16721173.0</th>\n",
              "      <td>0.0</td>\n",
              "      <td>359.970000</td>\n",
              "      <td>0.0</td>\n",
              "      <td>359.970000</td>\n",
              "    </tr>\n",
              "    <tr>\n",
              "      <th>16721203.0</th>\n",
              "      <td>0.0</td>\n",
              "      <td>64.440000</td>\n",
              "      <td>0.0</td>\n",
              "      <td>64.440000</td>\n",
              "    </tr>\n",
              "    <tr>\n",
              "      <th>16721207.0</th>\n",
              "      <td>0.0</td>\n",
              "      <td>471.413750</td>\n",
              "      <td>0.0</td>\n",
              "      <td>471.413750</td>\n",
              "    </tr>\n",
              "    <tr>\n",
              "      <th>...</th>\n",
              "      <td>...</td>\n",
              "      <td>...</td>\n",
              "      <td>...</td>\n",
              "      <td>...</td>\n",
              "    </tr>\n",
              "    <tr>\n",
              "      <th>16978037.0</th>\n",
              "      <td>0.0</td>\n",
              "      <td>55.080000</td>\n",
              "      <td>0.0</td>\n",
              "      <td>55.080000</td>\n",
              "    </tr>\n",
              "    <tr>\n",
              "      <th>16978053.0</th>\n",
              "      <td>0.0</td>\n",
              "      <td>1784.483333</td>\n",
              "      <td>0.0</td>\n",
              "      <td>1784.483333</td>\n",
              "    </tr>\n",
              "    <tr>\n",
              "      <th>16978071.0</th>\n",
              "      <td>0.0</td>\n",
              "      <td>130.535000</td>\n",
              "      <td>0.0</td>\n",
              "      <td>130.535000</td>\n",
              "    </tr>\n",
              "    <tr>\n",
              "      <th>16978083.0</th>\n",
              "      <td>0.0</td>\n",
              "      <td>32.510000</td>\n",
              "      <td>0.0</td>\n",
              "      <td>32.510000</td>\n",
              "    </tr>\n",
              "    <tr>\n",
              "      <th>16978184.0</th>\n",
              "      <td>0.0</td>\n",
              "      <td>296.400000</td>\n",
              "      <td>0.0</td>\n",
              "      <td>296.400000</td>\n",
              "    </tr>\n",
              "  </tbody>\n",
              "</table>\n",
              "<p>20934 rows × 4 columns</p>\n",
              "</div>"
            ],
            "text/plain": [
              "             IsCreditInvoice  ...  PaymentValue\n",
              "CustomerKey                   ...              \n",
              "16721154.0               0.0  ...     69.216667\n",
              "16721167.0               0.0  ...    189.082500\n",
              "16721173.0               0.0  ...    359.970000\n",
              "16721203.0               0.0  ...     64.440000\n",
              "16721207.0               0.0  ...    471.413750\n",
              "...                      ...  ...           ...\n",
              "16978037.0               0.0  ...     55.080000\n",
              "16978053.0               0.0  ...   1784.483333\n",
              "16978071.0               0.0  ...    130.535000\n",
              "16978083.0               0.0  ...     32.510000\n",
              "16978184.0               0.0  ...    296.400000\n",
              "\n",
              "[20934 rows x 4 columns]"
            ]
          },
          "metadata": {
            "tags": []
          },
          "execution_count": 113
        }
      ]
    },
    {
      "cell_type": "code",
      "metadata": {
        "id": "Q4uL7ypqmMqt",
        "outputId": "366c13f0-0efd-401f-b93c-dd63bf915f5a",
        "colab": {
          "base_uri": "https://localhost:8080/",
          "height": 298
        }
      },
      "source": [
        "info_customer[\"OriginalInvoiceAmount\"].plot.box(title = \"Average OriginalInvoiceAmount\")"
      ],
      "execution_count": 130,
      "outputs": [
        {
          "output_type": "execute_result",
          "data": {
            "text/plain": [
              "<matplotlib.axes._subplots.AxesSubplot at 0x7faad73c4e10>"
            ]
          },
          "metadata": {
            "tags": []
          },
          "execution_count": 130
        },
        {
          "output_type": "display_data",
          "data": {
            "image/png": "[encoded data removed]",
            "text/plain": [
              "<Figure size 432x288 with 1 Axes>"
            ]
          },
          "metadata": {
            "tags": [],
            "needs_background": "light"
          }
        }
      ]
    },
    {
      "cell_type": "code",
      "metadata": {
        "id": "twZzpuLumuW8",
        "outputId": "723e86a6-b0a4-4d60-fab9-7d4b309efa29",
        "colab": {
          "base_uri": "https://localhost:8080/",
          "height": 131
        }
      },
      "source": [
        "info_customer[info_customer.OriginalInvoiceAmount > 5000000]"
      ],
      "execution_count": 115,
      "outputs": [
        {
          "output_type": "execute_result",
          "data": {
            "text/html": [
              "<div>\n",
              "<style scoped>\n",
              "    .dataframe tbody tr th:only-of-type {\n",
              "        vertical-align: middle;\n",
              "    }\n",
              "\n",
              "    .dataframe tbody tr th {\n",
              "        vertical-align: top;\n",
              "    }\n",
              "\n",
              "    .dataframe thead th {\n",
              "        text-align: right;\n",
              "    }\n",
              "</style>\n",
              "<table border=\"1\" class=\"dataframe\">\n",
              "  <thead>\n",
              "    <tr style=\"text-align: right;\">\n",
              "      <th></th>\n",
              "      <th>InvoiceKey</th>\n",
              "      <th>IsCreditInvoice</th>\n",
              "      <th>OriginalInvoiceAmount</th>\n",
              "      <th>AmountOutstanding</th>\n",
              "      <th>PaymentValue</th>\n",
              "    </tr>\n",
              "    <tr>\n",
              "      <th>CustomerKey</th>\n",
              "      <th></th>\n",
              "      <th></th>\n",
              "      <th></th>\n",
              "      <th></th>\n",
              "      <th></th>\n",
              "    </tr>\n",
              "  </thead>\n",
              "  <tbody>\n",
              "    <tr>\n",
              "      <th>16773629.0</th>\n",
              "      <td>195805651.5</td>\n",
              "      <td>0.0</td>\n",
              "      <td>5113777.845</td>\n",
              "      <td>0.0</td>\n",
              "      <td>5113777.845</td>\n",
              "    </tr>\n",
              "  </tbody>\n",
              "</table>\n",
              "</div>"
            ],
            "text/plain": [
              "              InvoiceKey  IsCreditInvoice  ...  AmountOutstanding  PaymentValue\n",
              "CustomerKey                                ...                                 \n",
              "16773629.0   195805651.5              0.0  ...                0.0   5113777.845\n",
              "\n",
              "[1 rows x 5 columns]"
            ]
          },
          "metadata": {
            "tags": []
          },
          "execution_count": 115
        }
      ]
    },
    {
      "cell_type": "code",
      "metadata": {
        "id": "0ujB8v1ynEwx"
      },
      "source": [
        "info_customer_out = info_customer.drop(index = 16773629.0)"
      ],
      "execution_count": 116,
      "outputs": []
    },
    {
      "cell_type": "code",
      "metadata": {
        "id": "IzEgSe4dnQ_S",
        "outputId": "f2f39802-e5f9-473b-a2d3-4eb783963af5",
        "colab": {
          "base_uri": "https://localhost:8080/",
          "height": 293
        }
      },
      "source": [
        "info_customer_out[\"OriginalInvoiceAmount\"].plot.box()"
      ],
      "execution_count": 118,
      "outputs": [
        {
          "output_type": "execute_result",
          "data": {
            "text/plain": [
              "<matplotlib.axes._subplots.AxesSubplot at 0x7faae09ca240>"
            ]
          },
          "metadata": {
            "tags": []
          },
          "execution_count": 118
        },
        {
          "output_type": "display_data",
          "data": {
            "image/png": "[encoded data removed]",
            "text/plain": [
              "<Figure size 432x288 with 1 Axes>"
            ]
          },
          "metadata": {
            "tags": [],
            "needs_background": "light"
          }
        }
      ]
    },
    {
      "cell_type": "code",
      "metadata": {
        "id": "XSBl8Uv6nrph",
        "outputId": "3b21f74a-e125-400a-cf34-cc643db0fff4",
        "colab": {
          "base_uri": "https://localhost:8080/",
          "height": 119
        }
      },
      "source": [
        "outliers = (info_customer[info_customer.OriginalInvoiceAmount > 500000])\n",
        "outliers.count()"
      ],
      "execution_count": 127,
      "outputs": [
        {
          "output_type": "execute_result",
          "data": {
            "text/plain": [
              "InvoiceKey               5\n",
              "IsCreditInvoice          5\n",
              "OriginalInvoiceAmount    5\n",
              "AmountOutstanding        5\n",
              "PaymentValue             5\n",
              "dtype: int64"
            ]
          },
          "metadata": {
            "tags": []
          },
          "execution_count": 127
        }
      ]
    },
    {
      "cell_type": "code",
      "metadata": {
        "id": "MsMk-_8OogYT",
        "outputId": "c5925b14-b1a7-4ef7-c5e5-18cdee98fd5d",
        "colab": {
          "base_uri": "https://localhost:8080/",
          "height": 298
        }
      },
      "source": [
        "customers_outliers = info_customer.drop(index = outliers.index)\n",
        "customers_outliers[\"OriginalInvoiceAmount\"].plot.box(title = \"Average OriginalInvoiceAmount without outliers\")"
      ],
      "execution_count": 129,
      "outputs": [
        {
          "output_type": "execute_result",
          "data": {
            "text/plain": [
              "<matplotlib.axes._subplots.AxesSubplot at 0x7faad73e2550>"
            ]
          },
          "metadata": {
            "tags": []
          },
          "execution_count": 129
        },
        {
          "output_type": "display_data",
          "data": {
            "image/png": "[encoded data removed]",
            "text/plain": [
              "<Figure size 432x288 with 1 Axes>"
            ]
          },
          "metadata": {
            "tags": [],
            "needs_background": "light"
          }
        }
      ]
    },
    {
      "cell_type": "code",
      "metadata": {
        "id": "_nxXhhTpWaAF",
        "outputId": "55a30e8e-1556-4909-daa5-0cf9664c8330",
        "colab": {
          "base_uri": "https://localhost:8080/",
          "height": 317
        }
      },
      "source": [
        "#Customers with non-zero Amount Outstanding\n",
        "info_customer[info_customer.AmountOutstanding != 0]"
      ],
      "execution_count": 66,
      "outputs": [
        {
          "output_type": "execute_result",
          "data": {
            "text/html": [
              "<div>\n",
              "<style scoped>\n",
              "    .dataframe tbody tr th:only-of-type {\n",
              "        vertical-align: middle;\n",
              "    }\n",
              "\n",
              "    .dataframe tbody tr th {\n",
              "        vertical-align: top;\n",
              "    }\n",
              "\n",
              "    .dataframe thead th {\n",
              "        text-align: right;\n",
              "    }\n",
              "</style>\n",
              "<table border=\"1\" class=\"dataframe\">\n",
              "  <thead>\n",
              "    <tr style=\"text-align: right;\">\n",
              "      <th></th>\n",
              "      <th>InvoiceKey</th>\n",
              "      <th>IsCreditInvoice</th>\n",
              "      <th>OriginalInvoiceAmount</th>\n",
              "      <th>AmountOutstanding</th>\n",
              "      <th>PaymentValue</th>\n",
              "    </tr>\n",
              "    <tr>\n",
              "      <th>CustomerKey</th>\n",
              "      <th></th>\n",
              "      <th></th>\n",
              "      <th></th>\n",
              "      <th></th>\n",
              "      <th></th>\n",
              "    </tr>\n",
              "  </thead>\n",
              "  <tbody>\n",
              "    <tr>\n",
              "      <th>16737254.0</th>\n",
              "      <td>1.961430e+08</td>\n",
              "      <td>0.034759</td>\n",
              "      <td>346.591845</td>\n",
              "      <td>0.094251</td>\n",
              "      <td>341.342888</td>\n",
              "    </tr>\n",
              "    <tr>\n",
              "      <th>16787691.0</th>\n",
              "      <td>1.961830e+08</td>\n",
              "      <td>0.022147</td>\n",
              "      <td>602.766388</td>\n",
              "      <td>4.798739</td>\n",
              "      <td>442.708109</td>\n",
              "    </tr>\n",
              "    <tr>\n",
              "      <th>16859739.0</th>\n",
              "      <td>1.973512e+08</td>\n",
              "      <td>0.000000</td>\n",
              "      <td>2183.440000</td>\n",
              "      <td>441.970000</td>\n",
              "      <td>250.000000</td>\n",
              "    </tr>\n",
              "    <tr>\n",
              "      <th>16876019.0</th>\n",
              "      <td>1.958769e+08</td>\n",
              "      <td>0.000000</td>\n",
              "      <td>838.130000</td>\n",
              "      <td>338.130000</td>\n",
              "      <td>250.000000</td>\n",
              "    </tr>\n",
              "    <tr>\n",
              "      <th>16879763.0</th>\n",
              "      <td>1.963074e+08</td>\n",
              "      <td>0.016260</td>\n",
              "      <td>372.109973</td>\n",
              "      <td>-0.211057</td>\n",
              "      <td>373.016098</td>\n",
              "    </tr>\n",
              "    <tr>\n",
              "      <th>16885817.0</th>\n",
              "      <td>1.961957e+08</td>\n",
              "      <td>0.075368</td>\n",
              "      <td>125.088493</td>\n",
              "      <td>-0.428474</td>\n",
              "      <td>126.865735</td>\n",
              "    </tr>\n",
              "    <tr>\n",
              "      <th>16914697.0</th>\n",
              "      <td>1.967188e+08</td>\n",
              "      <td>0.000000</td>\n",
              "      <td>25544.573333</td>\n",
              "      <td>103.396667</td>\n",
              "      <td>2872.376667</td>\n",
              "    </tr>\n",
              "  </tbody>\n",
              "</table>\n",
              "</div>"
            ],
            "text/plain": [
              "               InvoiceKey  IsCreditInvoice  ...  AmountOutstanding  PaymentValue\n",
              "CustomerKey                                 ...                                 \n",
              "16737254.0   1.961430e+08         0.034759  ...           0.094251    341.342888\n",
              "16787691.0   1.961830e+08         0.022147  ...           4.798739    442.708109\n",
              "16859739.0   1.973512e+08         0.000000  ...         441.970000    250.000000\n",
              "16876019.0   1.958769e+08         0.000000  ...         338.130000    250.000000\n",
              "16879763.0   1.963074e+08         0.016260  ...          -0.211057    373.016098\n",
              "16885817.0   1.961957e+08         0.075368  ...          -0.428474    126.865735\n",
              "16914697.0   1.967188e+08         0.000000  ...         103.396667   2872.376667\n",
              "\n",
              "[7 rows x 5 columns]"
            ]
          },
          "metadata": {
            "tags": []
          },
          "execution_count": 66
        }
      ]
    },
    {
      "cell_type": "code",
      "metadata": {
        "id": "IQLErNTKgHi5",
        "outputId": "2a691ff3-7c37-461e-b3d1-bb41922cef71",
        "colab": {
          "base_uri": "https://localhost:8080/",
          "height": 334
        }
      },
      "source": [
        "#see how much the customers owe \n",
        "info_customer[\"InvoiceAmount-PaymentAmount\"] = pd.Series(info_customer.OriginalInvoiceAmount - info_customer.PaymentValue,index = info_customer.index)\n",
        "info_customer[info_customer.AmountOutstanding != 0]"
      ],
      "execution_count": 71,
      "outputs": [
        {
          "output_type": "execute_result",
          "data": {
            "text/html": [
              "<div>\n",
              "<style scoped>\n",
              "    .dataframe tbody tr th:only-of-type {\n",
              "        vertical-align: middle;\n",
              "    }\n",
              "\n",
              "    .dataframe tbody tr th {\n",
              "        vertical-align: top;\n",
              "    }\n",
              "\n",
              "    .dataframe thead th {\n",
              "        text-align: right;\n",
              "    }\n",
              "</style>\n",
              "<table border=\"1\" class=\"dataframe\">\n",
              "  <thead>\n",
              "    <tr style=\"text-align: right;\">\n",
              "      <th></th>\n",
              "      <th>InvoiceKey</th>\n",
              "      <th>IsCreditInvoice</th>\n",
              "      <th>OriginalInvoiceAmount</th>\n",
              "      <th>AmountOutstanding</th>\n",
              "      <th>PaymentValue</th>\n",
              "      <th>InvoiceAmount-PaymentAmount</th>\n",
              "    </tr>\n",
              "    <tr>\n",
              "      <th>CustomerKey</th>\n",
              "      <th></th>\n",
              "      <th></th>\n",
              "      <th></th>\n",
              "      <th></th>\n",
              "      <th></th>\n",
              "      <th></th>\n",
              "    </tr>\n",
              "  </thead>\n",
              "  <tbody>\n",
              "    <tr>\n",
              "      <th>16737254.0</th>\n",
              "      <td>1.961430e+08</td>\n",
              "      <td>0.034759</td>\n",
              "      <td>346.591845</td>\n",
              "      <td>0.094251</td>\n",
              "      <td>341.342888</td>\n",
              "      <td>5.248957</td>\n",
              "    </tr>\n",
              "    <tr>\n",
              "      <th>16787691.0</th>\n",
              "      <td>1.961830e+08</td>\n",
              "      <td>0.022147</td>\n",
              "      <td>602.766388</td>\n",
              "      <td>4.798739</td>\n",
              "      <td>442.708109</td>\n",
              "      <td>160.058279</td>\n",
              "    </tr>\n",
              "    <tr>\n",
              "      <th>16859739.0</th>\n",
              "      <td>1.973512e+08</td>\n",
              "      <td>0.000000</td>\n",
              "      <td>2183.440000</td>\n",
              "      <td>441.970000</td>\n",
              "      <td>250.000000</td>\n",
              "      <td>1933.440000</td>\n",
              "    </tr>\n",
              "    <tr>\n",
              "      <th>16876019.0</th>\n",
              "      <td>1.958769e+08</td>\n",
              "      <td>0.000000</td>\n",
              "      <td>838.130000</td>\n",
              "      <td>338.130000</td>\n",
              "      <td>250.000000</td>\n",
              "      <td>588.130000</td>\n",
              "    </tr>\n",
              "    <tr>\n",
              "      <th>16879763.0</th>\n",
              "      <td>1.963074e+08</td>\n",
              "      <td>0.016260</td>\n",
              "      <td>372.109973</td>\n",
              "      <td>-0.211057</td>\n",
              "      <td>373.016098</td>\n",
              "      <td>-0.906125</td>\n",
              "    </tr>\n",
              "    <tr>\n",
              "      <th>16885817.0</th>\n",
              "      <td>1.961957e+08</td>\n",
              "      <td>0.075368</td>\n",
              "      <td>125.088493</td>\n",
              "      <td>-0.428474</td>\n",
              "      <td>126.865735</td>\n",
              "      <td>-1.777243</td>\n",
              "    </tr>\n",
              "    <tr>\n",
              "      <th>16914697.0</th>\n",
              "      <td>1.967188e+08</td>\n",
              "      <td>0.000000</td>\n",
              "      <td>25544.573333</td>\n",
              "      <td>103.396667</td>\n",
              "      <td>2872.376667</td>\n",
              "      <td>22672.196667</td>\n",
              "    </tr>\n",
              "  </tbody>\n",
              "</table>\n",
              "</div>"
            ],
            "text/plain": [
              "               InvoiceKey  ...  InvoiceAmount-PaymentAmount\n",
              "CustomerKey                ...                             \n",
              "16737254.0   1.961430e+08  ...                     5.248957\n",
              "16787691.0   1.961830e+08  ...                   160.058279\n",
              "16859739.0   1.973512e+08  ...                  1933.440000\n",
              "16876019.0   1.958769e+08  ...                   588.130000\n",
              "16879763.0   1.963074e+08  ...                    -0.906125\n",
              "16885817.0   1.961957e+08  ...                    -1.777243\n",
              "16914697.0   1.967188e+08  ...                 22672.196667\n",
              "\n",
              "[7 rows x 6 columns]"
            ]
          },
          "metadata": {
            "tags": []
          },
          "execution_count": 71
        }
      ]
    },
    {
      "cell_type": "code",
      "metadata": {
        "id": "wj4y8qAGiHiE",
        "outputId": "40e73e63-874d-45ae-c3c4-52f8b72bca8f",
        "colab": {
          "base_uri": "https://localhost:8080/",
          "height": 34
        }
      },
      "source": [
        "customers_nonzero = info_customer[info_customer.AmountOutstanding != 0]\n",
        "#customers_nonzero\n",
        "customers.rename(columns={\"index\" :\"CustomerKey\"})\n",
        "customers[\"occurences\"].mean() #avg. number of transactions per customer\n",
        "#pd.merge(customers, customers_nonzero, how = \"inner\",on = [customers_nonzero.CustomerKey])\n",
        "#customers.intersection(customers_nonzero)"
      ],
      "execution_count": 198,
      "outputs": [
        {
          "output_type": "execute_result",
          "data": {
            "text/plain": [
              "6.379191745485812"
            ]
          },
          "metadata": {
            "tags": []
          },
          "execution_count": 198
        }
      ]
    },
    {
      "cell_type": "markdown",
      "metadata": {
        "id": "xXO6aQVQl9p4"
      },
      "source": [
        "**Check data points per month**"
      ]
    },
    {
      "cell_type": "code",
      "metadata": {
        "id": "6RET8opkjKOf"
      },
      "source": [
        "#Making dates on DF into date type\n",
        "#df.head()\n",
        "df[\"RaisedDate\"] = pd.to_datetime(df[\"RaisedDate\"])\n",
        "df[\"DueDate\"] = pd.to_datetime(df[\"DueDate\"])\n",
        "df[\"PaymentDate\"] = pd.to_datetime(df[\"PaymentDate\"])\n"
      ],
      "execution_count": 151,
      "outputs": []
    },
    {
      "cell_type": "code",
      "metadata": {
        "id": "0AM2461EsaXX",
        "outputId": "f4b53144-32bc-4ead-f0c5-598608a2a6b9",
        "colab": {
          "base_uri": "https://localhost:8080/",
          "height": 309
        }
      },
      "source": [
        "df.head()"
      ],
      "execution_count": 152,
      "outputs": [
        {
          "output_type": "execute_result",
          "data": {
            "text/html": [
              "<div>\n",
              "<style scoped>\n",
              "    .dataframe tbody tr th:only-of-type {\n",
              "        vertical-align: middle;\n",
              "    }\n",
              "\n",
              "    .dataframe tbody tr th {\n",
              "        vertical-align: top;\n",
              "    }\n",
              "\n",
              "    .dataframe thead th {\n",
              "        text-align: right;\n",
              "    }\n",
              "</style>\n",
              "<table border=\"1\" class=\"dataframe\">\n",
              "  <thead>\n",
              "    <tr style=\"text-align: right;\">\n",
              "      <th></th>\n",
              "      <th>InvoiceKey</th>\n",
              "      <th>CustomerKey</th>\n",
              "      <th>IsCreditInvoice</th>\n",
              "      <th>RaisedDate</th>\n",
              "      <th>DueDate</th>\n",
              "      <th>OriginalInvoiceAmount</th>\n",
              "      <th>AmountOutstanding</th>\n",
              "      <th>StatementTransactionType</th>\n",
              "      <th>PaymentValue</th>\n",
              "      <th>PaymentDate</th>\n",
              "      <th>PaymentType</th>\n",
              "    </tr>\n",
              "  </thead>\n",
              "  <tbody>\n",
              "    <tr>\n",
              "      <th>0</th>\n",
              "      <td>197057173</td>\n",
              "      <td>16776992.0</td>\n",
              "      <td>1.0</td>\n",
              "      <td>2018-01-02</td>\n",
              "      <td>2018-01-02</td>\n",
              "      <td>-645.66</td>\n",
              "      <td>0.0</td>\n",
              "      <td>JRN</td>\n",
              "      <td>-645.66</td>\n",
              "      <td>2018-12-17</td>\n",
              "      <td>Barclays Multi</td>\n",
              "    </tr>\n",
              "    <tr>\n",
              "      <th>1</th>\n",
              "      <td>196559812</td>\n",
              "      <td>16837363.0</td>\n",
              "      <td>1.0</td>\n",
              "      <td>2018-01-02</td>\n",
              "      <td>2018-01-02</td>\n",
              "      <td>-139.37</td>\n",
              "      <td>0.0</td>\n",
              "      <td>JRN</td>\n",
              "      <td>-139.37</td>\n",
              "      <td>2018-11-01</td>\n",
              "      <td>Barclays Multi</td>\n",
              "    </tr>\n",
              "    <tr>\n",
              "      <th>2</th>\n",
              "      <td>195300967</td>\n",
              "      <td>16724474.0</td>\n",
              "      <td>1.0</td>\n",
              "      <td>2018-01-03</td>\n",
              "      <td>2018-01-03</td>\n",
              "      <td>-88.50</td>\n",
              "      <td>0.0</td>\n",
              "      <td>JRN</td>\n",
              "      <td>-88.50</td>\n",
              "      <td>2018-09-24</td>\n",
              "      <td>Barclays Multi</td>\n",
              "    </tr>\n",
              "    <tr>\n",
              "      <th>3</th>\n",
              "      <td>195519971</td>\n",
              "      <td>16745090.0</td>\n",
              "      <td>0.0</td>\n",
              "      <td>2018-01-03</td>\n",
              "      <td>2018-03-02</td>\n",
              "      <td>168.00</td>\n",
              "      <td>0.0</td>\n",
              "      <td>INV</td>\n",
              "      <td>168.00</td>\n",
              "      <td>2018-11-23</td>\n",
              "      <td>Barclays Multi</td>\n",
              "    </tr>\n",
              "    <tr>\n",
              "      <th>4</th>\n",
              "      <td>196697217</td>\n",
              "      <td>16817529.0</td>\n",
              "      <td>1.0</td>\n",
              "      <td>2018-01-03</td>\n",
              "      <td>2018-01-03</td>\n",
              "      <td>-626.38</td>\n",
              "      <td>0.0</td>\n",
              "      <td>JRN</td>\n",
              "      <td>-626.38</td>\n",
              "      <td>2019-12-17</td>\n",
              "      <td>Barclays Multi</td>\n",
              "    </tr>\n",
              "  </tbody>\n",
              "</table>\n",
              "</div>"
            ],
            "text/plain": [
              "   InvoiceKey  CustomerKey  ...  PaymentDate     PaymentType\n",
              "0   197057173   16776992.0  ...   2018-12-17  Barclays Multi\n",
              "1   196559812   16837363.0  ...   2018-11-01  Barclays Multi\n",
              "2   195300967   16724474.0  ...   2018-09-24  Barclays Multi\n",
              "3   195519971   16745090.0  ...   2018-11-23  Barclays Multi\n",
              "4   196697217   16817529.0  ...   2019-12-17  Barclays Multi\n",
              "\n",
              "[5 rows x 11 columns]"
            ]
          },
          "metadata": {
            "tags": []
          },
          "execution_count": 152
        }
      ]
    },
    {
      "cell_type": "code",
      "metadata": {
        "id": "3XdOF4MJvCO1",
        "outputId": "855ec8a7-512b-4376-94db-0b69e9441275",
        "colab": {
          "base_uri": "https://localhost:8080/",
          "height": 51
        }
      },
      "source": [
        "#df[df.RaisedDate].month == \"01\"\n",
        "value = df.loc[df[\"RaisedDate\"].dt.month == 1].count()\n",
        "value = value.to_frame(name = \"count\")\n",
        "(value[value.index == \"InvoiceKey\"])[\"count\"]"
      ],
      "execution_count": 172,
      "outputs": [
        {
          "output_type": "execute_result",
          "data": {
            "text/plain": [
              "InvoiceKey    167\n",
              "Name: count, dtype: int64"
            ]
          },
          "metadata": {
            "tags": []
          },
          "execution_count": 172
        }
      ]
    },
    {
      "cell_type": "code",
      "metadata": {
        "id": "rYSwcD75ytJ_",
        "outputId": "e587bae7-b6e5-4fce-e878-a4587ef427f7",
        "colab": {
          "base_uri": "https://localhost:8080/",
          "height": 629
        }
      },
      "source": [
        "#counting the amount of invoices raised transactions per month\n",
        "for i in range(12):\n",
        "  print(\"Invoices raised on month {}:\".format(i+1))\n",
        "  value = df.loc[df[\"RaisedDate\"].dt.month == i+1].count()\n",
        "  value = value.to_frame(name = \"count\")\n",
        "  print((value[value.index == \"InvoiceKey\"])[\"count\"])"
      ],
      "execution_count": 173,
      "outputs": [
        {
          "output_type": "stream",
          "text": [
            "Invoices raised on month 1:\n",
            "InvoiceKey    167\n",
            "Name: count, dtype: int64\n",
            "Invoices raised on month 2:\n",
            "InvoiceKey    251\n",
            "Name: count, dtype: int64\n",
            "Invoices raised on month 3:\n",
            "InvoiceKey    511\n",
            "Name: count, dtype: int64\n",
            "Invoices raised on month 4:\n",
            "InvoiceKey    997\n",
            "Name: count, dtype: int64\n",
            "Invoices raised on month 5:\n",
            "InvoiceKey    1881\n",
            "Name: count, dtype: int64\n",
            "Invoices raised on month 6:\n",
            "InvoiceKey    6046\n",
            "Name: count, dtype: int64\n",
            "Invoices raised on month 7:\n",
            "InvoiceKey    22371\n",
            "Name: count, dtype: int64\n",
            "Invoices raised on month 8:\n",
            "InvoiceKey    30289\n",
            "Name: count, dtype: int64\n",
            "Invoices raised on month 9:\n",
            "InvoiceKey    34678\n",
            "Name: count, dtype: int64\n",
            "Invoices raised on month 10:\n",
            "InvoiceKey    31265\n",
            "Name: count, dtype: int64\n",
            "Invoices raised on month 11:\n",
            "InvoiceKey    5086\n",
            "Name: count, dtype: int64\n",
            "Invoices raised on month 12:\n",
            "InvoiceKey    0\n",
            "Name: count, dtype: int64\n"
          ],
          "name": "stdout"
        }
      ]
    },
    {
      "cell_type": "code",
      "metadata": {
        "id": "bbqB5gXzxEJ4"
      },
      "source": [
        "#raised_months = pd.DataFrame(data = {\"January\":167,\"February\":251,\"March\":511,\"April\":997,\"May\":1881,\"June\":6046,\"July\":22371,\"August\":30289,\"September\":34678,\"October\":31265,\"November\":5086,\"December\":0})\n",
        "months = [\"January\",\"February\",\"March\",\"April\",\"May\",\"June\",\"July\",\"August\",\"September\",\"October\",\"November\",\"December\"]\n",
        "raised_months = [167,251,511,997,1881,6046,22371,30289,34678,31265,5086,0]\n",
        "d = {\"Month\": months,\"InvoicesRaised\":raised_months}\n",
        "raised_months = pd.DataFrame(data = d)"
      ],
      "execution_count": 182,
      "outputs": []
    },
    {
      "cell_type": "code",
      "metadata": {
        "id": "xBzu1gYd2QFb",
        "outputId": "d953a6b8-3837-4b19-d851-9c24d592f9a3",
        "colab": {
          "base_uri": "https://localhost:8080/",
          "height": 421
        }
      },
      "source": [
        "raised_months"
      ],
      "execution_count": 183,
      "outputs": [
        {
          "output_type": "execute_result",
          "data": {
            "text/html": [
              "<div>\n",
              "<style scoped>\n",
              "    .dataframe tbody tr th:only-of-type {\n",
              "        vertical-align: middle;\n",
              "    }\n",
              "\n",
              "    .dataframe tbody tr th {\n",
              "        vertical-align: top;\n",
              "    }\n",
              "\n",
              "    .dataframe thead th {\n",
              "        text-align: right;\n",
              "    }\n",
              "</style>\n",
              "<table border=\"1\" class=\"dataframe\">\n",
              "  <thead>\n",
              "    <tr style=\"text-align: right;\">\n",
              "      <th></th>\n",
              "      <th>Month</th>\n",
              "      <th>InvoicesRaised</th>\n",
              "    </tr>\n",
              "  </thead>\n",
              "  <tbody>\n",
              "    <tr>\n",
              "      <th>0</th>\n",
              "      <td>January</td>\n",
              "      <td>167</td>\n",
              "    </tr>\n",
              "    <tr>\n",
              "      <th>1</th>\n",
              "      <td>February</td>\n",
              "      <td>251</td>\n",
              "    </tr>\n",
              "    <tr>\n",
              "      <th>2</th>\n",
              "      <td>March</td>\n",
              "      <td>511</td>\n",
              "    </tr>\n",
              "    <tr>\n",
              "      <th>3</th>\n",
              "      <td>April</td>\n",
              "      <td>997</td>\n",
              "    </tr>\n",
              "    <tr>\n",
              "      <th>4</th>\n",
              "      <td>May</td>\n",
              "      <td>1881</td>\n",
              "    </tr>\n",
              "    <tr>\n",
              "      <th>5</th>\n",
              "      <td>June</td>\n",
              "      <td>6046</td>\n",
              "    </tr>\n",
              "    <tr>\n",
              "      <th>6</th>\n",
              "      <td>July</td>\n",
              "      <td>22371</td>\n",
              "    </tr>\n",
              "    <tr>\n",
              "      <th>7</th>\n",
              "      <td>August</td>\n",
              "      <td>30289</td>\n",
              "    </tr>\n",
              "    <tr>\n",
              "      <th>8</th>\n",
              "      <td>September</td>\n",
              "      <td>34678</td>\n",
              "    </tr>\n",
              "    <tr>\n",
              "      <th>9</th>\n",
              "      <td>October</td>\n",
              "      <td>31265</td>\n",
              "    </tr>\n",
              "    <tr>\n",
              "      <th>10</th>\n",
              "      <td>November</td>\n",
              "      <td>5086</td>\n",
              "    </tr>\n",
              "    <tr>\n",
              "      <th>11</th>\n",
              "      <td>December</td>\n",
              "      <td>0</td>\n",
              "    </tr>\n",
              "  </tbody>\n",
              "</table>\n",
              "</div>"
            ],
            "text/plain": [
              "        Month  InvoicesRaised\n",
              "0     January             167\n",
              "1    February             251\n",
              "2       March             511\n",
              "3       April             997\n",
              "4         May            1881\n",
              "5        June            6046\n",
              "6        July           22371\n",
              "7      August           30289\n",
              "8   September           34678\n",
              "9     October           31265\n",
              "10   November            5086\n",
              "11   December               0"
            ]
          },
          "metadata": {
            "tags": []
          },
          "execution_count": 183
        }
      ]
    },
    {
      "cell_type": "code",
      "metadata": {
        "id": "fU0udZXu3zJv",
        "outputId": "2f18117b-f933-4530-98a4-a347bd057007",
        "colab": {
          "base_uri": "https://localhost:8080/",
          "height": 357
        }
      },
      "source": [
        "raised_months.plot.bar(x = \"Month\", y = \"InvoicesRaised\",title = \"Amount of Invoices Raised per Month\") "
      ],
      "execution_count": 189,
      "outputs": [
        {
          "output_type": "execute_result",
          "data": {
            "text/plain": [
              "<matplotlib.axes._subplots.AxesSubplot at 0x7faad6f380f0>"
            ]
          },
          "metadata": {
            "tags": []
          },
          "execution_count": 189
        },
        {
          "output_type": "display_data",
          "data": {
            "image/png": "[encoded data removed]",
            "text/plain": [
              "<Figure size 432x288 with 1 Axes>"
            ]
          },
          "metadata": {
            "tags": [],
            "needs_background": "light"
          }
        }
      ]
    },
    {
      "cell_type": "code",
      "metadata": {
        "id": "d8b1i_nc3238",
        "outputId": "98167f32-97cc-479c-f30f-a8dd07c84d64",
        "colab": {
          "base_uri": "https://localhost:8080/",
          "height": 629
        }
      },
      "source": [
        "#counting the amount of payments made per month\n",
        "for i in range(12):\n",
        "  print(\"Pyments made on month {}:\".format(i+1))\n",
        "  value = df.loc[df[\"PaymentDate\"].dt.month == i+1].count()\n",
        "  value = value.to_frame(name = \"count\")\n",
        "  print((value[value.index == \"InvoiceKey\"])[\"count\"])"
      ],
      "execution_count": 191,
      "outputs": [
        {
          "output_type": "stream",
          "text": [
            "Pyments made on month 1:\n",
            "InvoiceKey    6898\n",
            "Name: count, dtype: int64\n",
            "Pyments made on month 2:\n",
            "InvoiceKey    3649\n",
            "Name: count, dtype: int64\n",
            "Pyments made on month 3:\n",
            "InvoiceKey    1155\n",
            "Name: count, dtype: int64\n",
            "Pyments made on month 4:\n",
            "InvoiceKey    823\n",
            "Name: count, dtype: int64\n",
            "Pyments made on month 5:\n",
            "InvoiceKey    444\n",
            "Name: count, dtype: int64\n",
            "Pyments made on month 6:\n",
            "InvoiceKey    234\n",
            "Name: count, dtype: int64\n",
            "Pyments made on month 7:\n",
            "InvoiceKey    194\n",
            "Name: count, dtype: int64\n",
            "Pyments made on month 8:\n",
            "InvoiceKey    3856\n",
            "Name: count, dtype: int64\n",
            "Pyments made on month 9:\n",
            "InvoiceKey    27940\n",
            "Name: count, dtype: int64\n",
            "Pyments made on month 10:\n",
            "InvoiceKey    35449\n",
            "Name: count, dtype: int64\n",
            "Pyments made on month 11:\n",
            "InvoiceKey    33247\n",
            "Name: count, dtype: int64\n",
            "Pyments made on month 12:\n",
            "InvoiceKey    19653\n",
            "Name: count, dtype: int64\n"
          ],
          "name": "stdout"
        }
      ]
    },
    {
      "cell_type": "code",
      "metadata": {
        "id": "5RDD2Rwc5UUi",
        "outputId": "5696a29b-8fb5-4db5-d419-acc3c0e1be9a",
        "colab": {
          "base_uri": "https://localhost:8080/",
          "height": 421
        }
      },
      "source": [
        "payments_made = [6898,3649,1155,823,444,234,194,3856,27940,35449,33247,19653]\n",
        "d = {\"Month\": months,\"PaymentsMade\":payments_made}\n",
        "payments_made = pd.DataFrame(data = d)\n",
        "payments_made"
      ],
      "execution_count": 194,
      "outputs": [
        {
          "output_type": "execute_result",
          "data": {
            "text/html": [
              "<div>\n",
              "<style scoped>\n",
              "    .dataframe tbody tr th:only-of-type {\n",
              "        vertical-align: middle;\n",
              "    }\n",
              "\n",
              "    .dataframe tbody tr th {\n",
              "        vertical-align: top;\n",
              "    }\n",
              "\n",
              "    .dataframe thead th {\n",
              "        text-align: right;\n",
              "    }\n",
              "</style>\n",
              "<table border=\"1\" class=\"dataframe\">\n",
              "  <thead>\n",
              "    <tr style=\"text-align: right;\">\n",
              "      <th></th>\n",
              "      <th>Month</th>\n",
              "      <th>PaymentsMade</th>\n",
              "    </tr>\n",
              "  </thead>\n",
              "  <tbody>\n",
              "    <tr>\n",
              "      <th>0</th>\n",
              "      <td>January</td>\n",
              "      <td>6898</td>\n",
              "    </tr>\n",
              "    <tr>\n",
              "      <th>1</th>\n",
              "      <td>February</td>\n",
              "      <td>3649</td>\n",
              "    </tr>\n",
              "    <tr>\n",
              "      <th>2</th>\n",
              "      <td>March</td>\n",
              "      <td>1155</td>\n",
              "    </tr>\n",
              "    <tr>\n",
              "      <th>3</th>\n",
              "      <td>April</td>\n",
              "      <td>823</td>\n",
              "    </tr>\n",
              "    <tr>\n",
              "      <th>4</th>\n",
              "      <td>May</td>\n",
              "      <td>444</td>\n",
              "    </tr>\n",
              "    <tr>\n",
              "      <th>5</th>\n",
              "      <td>June</td>\n",
              "      <td>234</td>\n",
              "    </tr>\n",
              "    <tr>\n",
              "      <th>6</th>\n",
              "      <td>July</td>\n",
              "      <td>194</td>\n",
              "    </tr>\n",
              "    <tr>\n",
              "      <th>7</th>\n",
              "      <td>August</td>\n",
              "      <td>3856</td>\n",
              "    </tr>\n",
              "    <tr>\n",
              "      <th>8</th>\n",
              "      <td>September</td>\n",
              "      <td>27940</td>\n",
              "    </tr>\n",
              "    <tr>\n",
              "      <th>9</th>\n",
              "      <td>October</td>\n",
              "      <td>35449</td>\n",
              "    </tr>\n",
              "    <tr>\n",
              "      <th>10</th>\n",
              "      <td>November</td>\n",
              "      <td>33247</td>\n",
              "    </tr>\n",
              "    <tr>\n",
              "      <th>11</th>\n",
              "      <td>December</td>\n",
              "      <td>19653</td>\n",
              "    </tr>\n",
              "  </tbody>\n",
              "</table>\n",
              "</div>"
            ],
            "text/plain": [
              "        Month  PaymentsMade\n",
              "0     January          6898\n",
              "1    February          3649\n",
              "2       March          1155\n",
              "3       April           823\n",
              "4         May           444\n",
              "5        June           234\n",
              "6        July           194\n",
              "7      August          3856\n",
              "8   September         27940\n",
              "9     October         35449\n",
              "10   November         33247\n",
              "11   December         19653"
            ]
          },
          "metadata": {
            "tags": []
          },
          "execution_count": 194
        }
      ]
    },
    {
      "cell_type": "code",
      "metadata": {
        "id": "rRa6XEnq6AOf",
        "outputId": "e40a2629-daed-4d20-f769-df4943e39bee",
        "colab": {
          "base_uri": "https://localhost:8080/",
          "height": 357
        }
      },
      "source": [
        "payments_made.plot.bar(x = \"Month\", y = \"PaymentsMade\",title = \"Amount of Payments made per Month\") "
      ],
      "execution_count": 197,
      "outputs": [
        {
          "output_type": "execute_result",
          "data": {
            "text/plain": [
              "<matplotlib.axes._subplots.AxesSubplot at 0x7faad6ec7860>"
            ]
          },
          "metadata": {
            "tags": []
          },
          "execution_count": 197
        },
        {
          "output_type": "display_data",
          "data": {
            "image/png": "[encoded data removed]",
            "text/plain": [
              "<Figure size 432x288 with 1 Axes>"
            ]
          },
          "metadata": {
            "tags": [],
            "needs_background": "light"
          }
        }
      ]
    },
    {
      "cell_type": "code",
      "metadata": {
        "id": "dNhJVs4w6Xkk"
      },
      "source": [
        ""
      ],
      "execution_count": null,
      "outputs": []
    }
  ]
}