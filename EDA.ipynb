{
  "nbformat": 4,
  "nbformat_minor": 0,
  "metadata": {
    "kernelspec": {
      "display_name": "Python 3",
      "language": "python",
      "name": "python3"
    },
    "language_info": {
      "codemirror_mode": {
        "name": "ipython",
        "version": 3
      },
      "file_extension": ".py",
      "mimetype": "text/x-python",
      "name": "python",
      "nbconvert_exporter": "python",
      "pygments_lexer": "ipython3",
      "version": "3.7.4"
    },
    "colab": {
      "name": "EDA.ipynb",
      "provenance": [],
      "collapsed_sections": [],
      "toc_visible": true
    }
  },
  "cells": [
    {
      "cell_type": "code",
      "metadata": {
        "id": "ZoUiZvORU8aK"
      },
      "source": [
        "import pandas as pd\n",
        "import numpy as np\n",
        "from pandas.plotting import *\n",
        "import matplotlib.pyplot as plt\n",
        "import seaborn as sns\n",
        "plt.close('all')"
      ],
      "execution_count": null,
      "outputs": []
    },
    {
      "cell_type": "markdown",
      "metadata": {
        "id": "caA72GgAhaW5"
      },
      "source": [
        "# Loading Data"
      ]
    },
    {
      "cell_type": "code",
      "metadata": {
        "id": "x3HqRBztU8aO"
      },
      "source": [
        "# Read CSVs\n",
        "debtor_df = pd.read_csv(\"DebtorExtract.csv\")\n",
        "invoice_df = pd.read_csv(\"InvoiceExtract.csv\")\n",
        "payment_df = pd.read_csv(\"PaymentsExtract.csv\")"
      ],
      "execution_count": null,
      "outputs": []
    },
    {
      "cell_type": "code",
      "metadata": {
        "id": "IluHlcXbU8aU"
      },
      "source": [
        "dfs = {\"debt\": debtor_df, \"invoice\":invoice_df, \"payment\":payment_df}"
      ],
      "execution_count": null,
      "outputs": []
    },
    {
      "cell_type": "code",
      "metadata": {
        "id": "R5BI6zsoU8aW"
      },
      "source": [
        "def df_eda(df_dict):\n",
        "\n",
        "    for df_name in df_dict:\n",
        "        df = df_dict[df_name]\n",
        "        print(\"Number of rows: \" + str(len(df)))\n",
        "        \n",
        "        with pd.ExcelWriter(df_name + \".xlsx\") as writer:\n",
        "            for c in df.columns:\n",
        "                #Print unique counts of columns\n",
        "                print(\"Num unique col \" + c + ': ' + str(df[c].nunique()))\n",
        "                # Print description of column\n",
        "                print(\"Description of column: \" + c)\n",
        "                desc = df[c].describe()\n",
        "                desc.to_excel(writer, sheet_name = c)"
      ],
      "execution_count": null,
      "outputs": []
    },
    {
      "cell_type": "code",
      "metadata": {
        "id": "Ij4ABqB3U8aY",
        "colab": {
          "base_uri": "https://localhost:8080/"
        },
        "outputId": "8202634a-e5b5-418c-ba52-cf51ec92a8aa"
      },
      "source": [
        "print(\"Invoice unique customers:\" + str(invoice_df[\"CustomerKey\"].nunique()))\n",
        "print(\"Invoice unique invoices:\" + str(invoice_df[\"InvoiceKey\"].nunique()))\n",
        "print(\"Payment unique customers:\" + str(payment_df[\"CustomerKey\"].nunique()))\n",
        "print(\"Payment unique invoices:\" + str(payment_df[\"InvoiceKey\"].nunique()))"
      ],
      "execution_count": null,
      "outputs": [
        {
          "output_type": "stream",
          "text": [
            "Invoice unique customers:83799\n",
            "Invoice unique invoices:1009327\n",
            "Payment unique customers:28535\n",
            "Payment unique invoices:546365\n"
          ],
          "name": "stdout"
        }
      ]
    },
    {
      "cell_type": "code",
      "metadata": {
        "id": "Qz3F_TihU8ad"
      },
      "source": [
        "inv_pay = pd.merge(invoice_df, payment_df, on = ['InvoiceKey', 'CustomerKey'])"
      ],
      "execution_count": null,
      "outputs": []
    },
    {
      "cell_type": "code",
      "metadata": {
        "id": "uzP75_l8U8af",
        "colab": {
          "base_uri": "https://localhost:8080/",
          "height": 609
        },
        "outputId": "f0666c8c-8b08-412d-ec35-2050c1a7810a"
      },
      "source": [
        "inv_pay"
      ],
      "execution_count": null,
      "outputs": [
        {
          "output_type": "execute_result",
          "data": {
            "text/html": [
              "<div>\n",
              "<style scoped>\n",
              "    .dataframe tbody tr th:only-of-type {\n",
              "        vertical-align: middle;\n",
              "    }\n",
              "\n",
              "    .dataframe tbody tr th {\n",
              "        vertical-align: top;\n",
              "    }\n",
              "\n",
              "    .dataframe thead th {\n",
              "        text-align: right;\n",
              "    }\n",
              "</style>\n",
              "<table border=\"1\" class=\"dataframe\">\n",
              "  <thead>\n",
              "    <tr style=\"text-align: right;\">\n",
              "      <th></th>\n",
              "      <th>InvoiceKey</th>\n",
              "      <th>CustomerKey</th>\n",
              "      <th>IsCreditInvoice</th>\n",
              "      <th>RaisedDate</th>\n",
              "      <th>DueDate</th>\n",
              "      <th>OriginalInvoiceAmount</th>\n",
              "      <th>AmountOutstanding</th>\n",
              "      <th>StatementTransactionType</th>\n",
              "      <th>ExtractDate</th>\n",
              "      <th>PaymentValue</th>\n",
              "      <th>PaymentDate</th>\n",
              "      <th>PaymentType</th>\n",
              "    </tr>\n",
              "  </thead>\n",
              "  <tbody>\n",
              "    <tr>\n",
              "      <th>0</th>\n",
              "      <td>197057173</td>\n",
              "      <td>16776992</td>\n",
              "      <td>1</td>\n",
              "      <td>2018-01-02</td>\n",
              "      <td>2018-01-02</td>\n",
              "      <td>-645.66</td>\n",
              "      <td>0.0</td>\n",
              "      <td>JRN</td>\n",
              "      <td>2020-09-18 16:21:06.333</td>\n",
              "      <td>-645.66</td>\n",
              "      <td>2018-12-17</td>\n",
              "      <td>Barclays Multi</td>\n",
              "    </tr>\n",
              "    <tr>\n",
              "      <th>1</th>\n",
              "      <td>196559812</td>\n",
              "      <td>16837363</td>\n",
              "      <td>1</td>\n",
              "      <td>2018-01-02</td>\n",
              "      <td>2018-01-02</td>\n",
              "      <td>-139.37</td>\n",
              "      <td>0.0</td>\n",
              "      <td>JRN</td>\n",
              "      <td>2020-09-18 16:21:06.333</td>\n",
              "      <td>-139.37</td>\n",
              "      <td>2018-11-01</td>\n",
              "      <td>Barclays Multi</td>\n",
              "    </tr>\n",
              "    <tr>\n",
              "      <th>2</th>\n",
              "      <td>195300967</td>\n",
              "      <td>16724474</td>\n",
              "      <td>1</td>\n",
              "      <td>2018-01-03</td>\n",
              "      <td>2018-01-03</td>\n",
              "      <td>-88.50</td>\n",
              "      <td>0.0</td>\n",
              "      <td>JRN</td>\n",
              "      <td>2020-09-18 16:21:06.333</td>\n",
              "      <td>-88.50</td>\n",
              "      <td>2018-09-24</td>\n",
              "      <td>Barclays Multi</td>\n",
              "    </tr>\n",
              "    <tr>\n",
              "      <th>3</th>\n",
              "      <td>195519971</td>\n",
              "      <td>16745090</td>\n",
              "      <td>0</td>\n",
              "      <td>2018-01-03</td>\n",
              "      <td>2018-03-02</td>\n",
              "      <td>168.00</td>\n",
              "      <td>0.0</td>\n",
              "      <td>INV</td>\n",
              "      <td>2020-09-18 16:21:06.333</td>\n",
              "      <td>168.00</td>\n",
              "      <td>2018-11-23</td>\n",
              "      <td>Barclays Multi</td>\n",
              "    </tr>\n",
              "    <tr>\n",
              "      <th>4</th>\n",
              "      <td>196697217</td>\n",
              "      <td>16817529</td>\n",
              "      <td>1</td>\n",
              "      <td>2018-01-03</td>\n",
              "      <td>2018-01-03</td>\n",
              "      <td>-626.38</td>\n",
              "      <td>0.0</td>\n",
              "      <td>JRN</td>\n",
              "      <td>2020-09-18 16:21:06.333</td>\n",
              "      <td>-626.38</td>\n",
              "      <td>2019-12-17</td>\n",
              "      <td>Barclays Multi</td>\n",
              "    </tr>\n",
              "    <tr>\n",
              "      <th>...</th>\n",
              "      <td>...</td>\n",
              "      <td>...</td>\n",
              "      <td>...</td>\n",
              "      <td>...</td>\n",
              "      <td>...</td>\n",
              "      <td>...</td>\n",
              "      <td>...</td>\n",
              "      <td>...</td>\n",
              "      <td>...</td>\n",
              "      <td>...</td>\n",
              "      <td>...</td>\n",
              "      <td>...</td>\n",
              "    </tr>\n",
              "    <tr>\n",
              "      <th>361514</th>\n",
              "      <td>196340182</td>\n",
              "      <td>16725749</td>\n",
              "      <td>0</td>\n",
              "      <td>2019-06-30</td>\n",
              "      <td>2019-07-30</td>\n",
              "      <td>95.90</td>\n",
              "      <td>0.0</td>\n",
              "      <td>INV</td>\n",
              "      <td>2020-09-18 16:21:06.333</td>\n",
              "      <td>95.90</td>\n",
              "      <td>2019-08-14</td>\n",
              "      <td>Barclays Multi</td>\n",
              "    </tr>\n",
              "    <tr>\n",
              "      <th>361515</th>\n",
              "      <td>196340751</td>\n",
              "      <td>16728765</td>\n",
              "      <td>0</td>\n",
              "      <td>2019-06-30</td>\n",
              "      <td>2019-07-30</td>\n",
              "      <td>406.09</td>\n",
              "      <td>0.0</td>\n",
              "      <td>INV</td>\n",
              "      <td>2020-09-18 16:21:06.333</td>\n",
              "      <td>406.09</td>\n",
              "      <td>2019-08-05</td>\n",
              "      <td>Barclays Multi</td>\n",
              "    </tr>\n",
              "    <tr>\n",
              "      <th>361516</th>\n",
              "      <td>196341240</td>\n",
              "      <td>16971160</td>\n",
              "      <td>0</td>\n",
              "      <td>2019-06-30</td>\n",
              "      <td>2019-07-30</td>\n",
              "      <td>130.56</td>\n",
              "      <td>0.0</td>\n",
              "      <td>INV</td>\n",
              "      <td>2020-09-18 16:21:06.333</td>\n",
              "      <td>130.56</td>\n",
              "      <td>2019-07-24</td>\n",
              "      <td>CheckM8</td>\n",
              "    </tr>\n",
              "    <tr>\n",
              "      <th>361517</th>\n",
              "      <td>196341411</td>\n",
              "      <td>16764236</td>\n",
              "      <td>0</td>\n",
              "      <td>2019-06-30</td>\n",
              "      <td>2019-07-30</td>\n",
              "      <td>15.00</td>\n",
              "      <td>0.0</td>\n",
              "      <td>INV</td>\n",
              "      <td>2020-09-18 16:21:06.333</td>\n",
              "      <td>15.00</td>\n",
              "      <td>2019-07-08</td>\n",
              "      <td>Barclays Multi</td>\n",
              "    </tr>\n",
              "    <tr>\n",
              "      <th>361518</th>\n",
              "      <td>196341507</td>\n",
              "      <td>16832368</td>\n",
              "      <td>0</td>\n",
              "      <td>2019-06-30</td>\n",
              "      <td>2019-07-30</td>\n",
              "      <td>74.76</td>\n",
              "      <td>0.0</td>\n",
              "      <td>INV</td>\n",
              "      <td>2020-09-18 16:21:06.333</td>\n",
              "      <td>74.76</td>\n",
              "      <td>2019-07-15</td>\n",
              "      <td>CheckM8</td>\n",
              "    </tr>\n",
              "  </tbody>\n",
              "</table>\n",
              "<p>361519 rows × 12 columns</p>\n",
              "</div>"
            ],
            "text/plain": [
              "        InvoiceKey  CustomerKey  ...  PaymentDate     PaymentType\n",
              "0        197057173     16776992  ...   2018-12-17  Barclays Multi\n",
              "1        196559812     16837363  ...   2018-11-01  Barclays Multi\n",
              "2        195300967     16724474  ...   2018-09-24  Barclays Multi\n",
              "3        195519971     16745090  ...   2018-11-23  Barclays Multi\n",
              "4        196697217     16817529  ...   2019-12-17  Barclays Multi\n",
              "...            ...          ...  ...          ...             ...\n",
              "361514   196340182     16725749  ...   2019-08-14  Barclays Multi\n",
              "361515   196340751     16728765  ...   2019-08-05  Barclays Multi\n",
              "361516   196341240     16971160  ...   2019-07-24         CheckM8\n",
              "361517   196341411     16764236  ...   2019-07-08  Barclays Multi\n",
              "361518   196341507     16832368  ...   2019-07-15         CheckM8\n",
              "\n",
              "[361519 rows x 12 columns]"
            ]
          },
          "metadata": {
            "tags": []
          },
          "execution_count": 8
        }
      ]
    },
    {
      "cell_type": "code",
      "metadata": {
        "id": "xp5m__v2U8ai",
        "colab": {
          "base_uri": "https://localhost:8080/"
        },
        "outputId": "8f0ccd65-3d36-43f3-dac2-de2b087da76a"
      },
      "source": [
        "len(payment_df)"
      ],
      "execution_count": null,
      "outputs": [
        {
          "output_type": "execute_result",
          "data": {
            "text/plain": [
              "549748"
            ]
          },
          "metadata": {
            "tags": []
          },
          "execution_count": 9
        }
      ]
    },
    {
      "cell_type": "code",
      "metadata": {
        "id": "KxP-_ODvU8al",
        "colab": {
          "base_uri": "https://localhost:8080/",
          "height": 609
        },
        "outputId": "c427e059-bd48-43a9-c95a-e6518f5710c3"
      },
      "source": [
        "invoice_df"
      ],
      "execution_count": null,
      "outputs": [
        {
          "output_type": "execute_result",
          "data": {
            "text/html": [
              "<div>\n",
              "<style scoped>\n",
              "    .dataframe tbody tr th:only-of-type {\n",
              "        vertical-align: middle;\n",
              "    }\n",
              "\n",
              "    .dataframe tbody tr th {\n",
              "        vertical-align: top;\n",
              "    }\n",
              "\n",
              "    .dataframe thead th {\n",
              "        text-align: right;\n",
              "    }\n",
              "</style>\n",
              "<table border=\"1\" class=\"dataframe\">\n",
              "  <thead>\n",
              "    <tr style=\"text-align: right;\">\n",
              "      <th></th>\n",
              "      <th>InvoiceKey</th>\n",
              "      <th>CustomerKey</th>\n",
              "      <th>IsCreditInvoice</th>\n",
              "      <th>RaisedDate</th>\n",
              "      <th>DueDate</th>\n",
              "      <th>OriginalInvoiceAmount</th>\n",
              "      <th>AmountOutstanding</th>\n",
              "      <th>StatementTransactionType</th>\n",
              "      <th>ExtractDate</th>\n",
              "    </tr>\n",
              "  </thead>\n",
              "  <tbody>\n",
              "    <tr>\n",
              "      <th>0</th>\n",
              "      <td>197017110</td>\n",
              "      <td>16744809</td>\n",
              "      <td>1</td>\n",
              "      <td>2018-01-01</td>\n",
              "      <td>2018-08-31</td>\n",
              "      <td>-61589.70</td>\n",
              "      <td>-61589.70</td>\n",
              "      <td>CRN</td>\n",
              "      <td>2020-09-18 16:21:06.333</td>\n",
              "    </tr>\n",
              "    <tr>\n",
              "      <th>1</th>\n",
              "      <td>197188287</td>\n",
              "      <td>16744809</td>\n",
              "      <td>1</td>\n",
              "      <td>2018-01-01</td>\n",
              "      <td>2018-12-30</td>\n",
              "      <td>-2826.19</td>\n",
              "      <td>-2826.19</td>\n",
              "      <td>CRN</td>\n",
              "      <td>2020-09-18 16:21:06.333</td>\n",
              "    </tr>\n",
              "    <tr>\n",
              "      <th>2</th>\n",
              "      <td>197057183</td>\n",
              "      <td>16798371</td>\n",
              "      <td>1</td>\n",
              "      <td>2018-01-02</td>\n",
              "      <td>2018-01-02</td>\n",
              "      <td>-150.00</td>\n",
              "      <td>0.00</td>\n",
              "      <td>CSH</td>\n",
              "      <td>2020-09-18 16:21:06.333</td>\n",
              "    </tr>\n",
              "    <tr>\n",
              "      <th>3</th>\n",
              "      <td>195398038</td>\n",
              "      <td>16732292</td>\n",
              "      <td>0</td>\n",
              "      <td>2018-01-02</td>\n",
              "      <td>2018-02-01</td>\n",
              "      <td>485.04</td>\n",
              "      <td>0.00</td>\n",
              "      <td>INV</td>\n",
              "      <td>2020-09-18 16:21:06.333</td>\n",
              "    </tr>\n",
              "    <tr>\n",
              "      <th>4</th>\n",
              "      <td>197057173</td>\n",
              "      <td>16776992</td>\n",
              "      <td>1</td>\n",
              "      <td>2018-01-02</td>\n",
              "      <td>2018-01-02</td>\n",
              "      <td>-645.66</td>\n",
              "      <td>0.00</td>\n",
              "      <td>JRN</td>\n",
              "      <td>2020-09-18 16:21:06.333</td>\n",
              "    </tr>\n",
              "    <tr>\n",
              "      <th>...</th>\n",
              "      <td>...</td>\n",
              "      <td>...</td>\n",
              "      <td>...</td>\n",
              "      <td>...</td>\n",
              "      <td>...</td>\n",
              "      <td>...</td>\n",
              "      <td>...</td>\n",
              "      <td>...</td>\n",
              "      <td>...</td>\n",
              "    </tr>\n",
              "    <tr>\n",
              "      <th>1009322</th>\n",
              "      <td>196341240</td>\n",
              "      <td>16971160</td>\n",
              "      <td>0</td>\n",
              "      <td>2019-06-30</td>\n",
              "      <td>2019-07-30</td>\n",
              "      <td>130.56</td>\n",
              "      <td>0.00</td>\n",
              "      <td>INV</td>\n",
              "      <td>2020-09-18 16:21:06.333</td>\n",
              "    </tr>\n",
              "    <tr>\n",
              "      <th>1009323</th>\n",
              "      <td>196341244</td>\n",
              "      <td>16829160</td>\n",
              "      <td>0</td>\n",
              "      <td>2019-06-30</td>\n",
              "      <td>2019-07-30</td>\n",
              "      <td>63.60</td>\n",
              "      <td>0.00</td>\n",
              "      <td>INV</td>\n",
              "      <td>2020-09-18 16:21:06.333</td>\n",
              "    </tr>\n",
              "    <tr>\n",
              "      <th>1009324</th>\n",
              "      <td>196341411</td>\n",
              "      <td>16764236</td>\n",
              "      <td>0</td>\n",
              "      <td>2019-06-30</td>\n",
              "      <td>2019-07-30</td>\n",
              "      <td>15.00</td>\n",
              "      <td>0.00</td>\n",
              "      <td>INV</td>\n",
              "      <td>2020-09-18 16:21:06.333</td>\n",
              "    </tr>\n",
              "    <tr>\n",
              "      <th>1009325</th>\n",
              "      <td>196341507</td>\n",
              "      <td>16832368</td>\n",
              "      <td>0</td>\n",
              "      <td>2019-06-30</td>\n",
              "      <td>2019-07-30</td>\n",
              "      <td>74.76</td>\n",
              "      <td>0.00</td>\n",
              "      <td>INV</td>\n",
              "      <td>2020-09-18 16:21:06.333</td>\n",
              "    </tr>\n",
              "    <tr>\n",
              "      <th>1009326</th>\n",
              "      <td>196341512</td>\n",
              "      <td>16878904</td>\n",
              "      <td>0</td>\n",
              "      <td>2019-06-30</td>\n",
              "      <td>2019-07-30</td>\n",
              "      <td>94.90</td>\n",
              "      <td>0.00</td>\n",
              "      <td>INV</td>\n",
              "      <td>2020-09-18 16:21:06.333</td>\n",
              "    </tr>\n",
              "  </tbody>\n",
              "</table>\n",
              "<p>1009327 rows × 9 columns</p>\n",
              "</div>"
            ],
            "text/plain": [
              "         InvoiceKey  ...              ExtractDate\n",
              "0         197017110  ...  2020-09-18 16:21:06.333\n",
              "1         197188287  ...  2020-09-18 16:21:06.333\n",
              "2         197057183  ...  2020-09-18 16:21:06.333\n",
              "3         195398038  ...  2020-09-18 16:21:06.333\n",
              "4         197057173  ...  2020-09-18 16:21:06.333\n",
              "...             ...  ...                      ...\n",
              "1009322   196341240  ...  2020-09-18 16:21:06.333\n",
              "1009323   196341244  ...  2020-09-18 16:21:06.333\n",
              "1009324   196341411  ...  2020-09-18 16:21:06.333\n",
              "1009325   196341507  ...  2020-09-18 16:21:06.333\n",
              "1009326   196341512  ...  2020-09-18 16:21:06.333\n",
              "\n",
              "[1009327 rows x 9 columns]"
            ]
          },
          "metadata": {
            "tags": []
          },
          "execution_count": 10
        }
      ]
    },
    {
      "cell_type": "code",
      "metadata": {
        "id": "QtCu9U-oU8an",
        "colab": {
          "base_uri": "https://localhost:8080/",
          "height": 80
        },
        "outputId": "bb253e37-fd83-45b0-e9ed-c62e08595c80"
      },
      "source": [
        "payment_df.loc[payment_df[\"InvoiceKey\"]==197057173]"
      ],
      "execution_count": null,
      "outputs": [
        {
          "output_type": "execute_result",
          "data": {
            "text/html": [
              "<div>\n",
              "<style scoped>\n",
              "    .dataframe tbody tr th:only-of-type {\n",
              "        vertical-align: middle;\n",
              "    }\n",
              "\n",
              "    .dataframe tbody tr th {\n",
              "        vertical-align: top;\n",
              "    }\n",
              "\n",
              "    .dataframe thead th {\n",
              "        text-align: right;\n",
              "    }\n",
              "</style>\n",
              "<table border=\"1\" class=\"dataframe\">\n",
              "  <thead>\n",
              "    <tr style=\"text-align: right;\">\n",
              "      <th></th>\n",
              "      <th>InvoiceKey</th>\n",
              "      <th>CustomerKey</th>\n",
              "      <th>PaymentValue</th>\n",
              "      <th>PaymentDate</th>\n",
              "      <th>PaymentType</th>\n",
              "    </tr>\n",
              "  </thead>\n",
              "  <tbody>\n",
              "    <tr>\n",
              "      <th>444086</th>\n",
              "      <td>197057173</td>\n",
              "      <td>16776992</td>\n",
              "      <td>-645.66</td>\n",
              "      <td>2018-12-17</td>\n",
              "      <td>Barclays Multi</td>\n",
              "    </tr>\n",
              "  </tbody>\n",
              "</table>\n",
              "</div>"
            ],
            "text/plain": [
              "        InvoiceKey  CustomerKey  PaymentValue PaymentDate     PaymentType\n",
              "444086   197057173     16776992       -645.66  2018-12-17  Barclays Multi"
            ]
          },
          "metadata": {
            "tags": []
          },
          "execution_count": 11
        }
      ]
    },
    {
      "cell_type": "code",
      "metadata": {
        "id": "XD32zVIqU8ap",
        "colab": {
          "base_uri": "https://localhost:8080/",
          "height": 117
        },
        "outputId": "a95738c0-34f5-4527-96e4-963a53b75af0"
      },
      "source": [
        "invoice_df.loc[invoice_df[\"InvoiceKey\"]==197057173]"
      ],
      "execution_count": null,
      "outputs": [
        {
          "output_type": "execute_result",
          "data": {
            "text/html": [
              "<div>\n",
              "<style scoped>\n",
              "    .dataframe tbody tr th:only-of-type {\n",
              "        vertical-align: middle;\n",
              "    }\n",
              "\n",
              "    .dataframe tbody tr th {\n",
              "        vertical-align: top;\n",
              "    }\n",
              "\n",
              "    .dataframe thead th {\n",
              "        text-align: right;\n",
              "    }\n",
              "</style>\n",
              "<table border=\"1\" class=\"dataframe\">\n",
              "  <thead>\n",
              "    <tr style=\"text-align: right;\">\n",
              "      <th></th>\n",
              "      <th>InvoiceKey</th>\n",
              "      <th>CustomerKey</th>\n",
              "      <th>IsCreditInvoice</th>\n",
              "      <th>RaisedDate</th>\n",
              "      <th>DueDate</th>\n",
              "      <th>OriginalInvoiceAmount</th>\n",
              "      <th>AmountOutstanding</th>\n",
              "      <th>StatementTransactionType</th>\n",
              "      <th>ExtractDate</th>\n",
              "    </tr>\n",
              "  </thead>\n",
              "  <tbody>\n",
              "    <tr>\n",
              "      <th>4</th>\n",
              "      <td>197057173</td>\n",
              "      <td>16776992</td>\n",
              "      <td>1</td>\n",
              "      <td>2018-01-02</td>\n",
              "      <td>2018-01-02</td>\n",
              "      <td>-645.66</td>\n",
              "      <td>0.0</td>\n",
              "      <td>JRN</td>\n",
              "      <td>2020-09-18 16:21:06.333</td>\n",
              "    </tr>\n",
              "  </tbody>\n",
              "</table>\n",
              "</div>"
            ],
            "text/plain": [
              "   InvoiceKey  CustomerKey  ...  StatementTransactionType              ExtractDate\n",
              "4   197057173     16776992  ...                       JRN  2020-09-18 16:21:06.333\n",
              "\n",
              "[1 rows x 9 columns]"
            ]
          },
          "metadata": {
            "tags": []
          },
          "execution_count": 12
        }
      ]
    },
    {
      "cell_type": "markdown",
      "metadata": {
        "id": "_b7-PDBYgxig"
      },
      "source": [
        "# Data Types, number of unique values, intersection of keys"
      ]
    },
    {
      "cell_type": "code",
      "metadata": {
        "id": "jO62inFVU8ar",
        "colab": {
          "base_uri": "https://localhost:8080/"
        },
        "outputId": "d1cd6d05-ddcc-4c03-a7a4-2eda93044521"
      },
      "source": [
        "dfs['debt'].info()"
      ],
      "execution_count": null,
      "outputs": [
        {
          "output_type": "stream",
          "text": [
            "<class 'pandas.core.frame.DataFrame'>\n",
            "RangeIndex: 88099 entries, 0 to 88098\n",
            "Data columns (total 2 columns):\n",
            " #   Column          Non-Null Count  Dtype \n",
            "---  ------          --------------  ----- \n",
            " 0   CustomerKey     88099 non-null  int64 \n",
            " 1    PostcodeOuter  88053 non-null  object\n",
            "dtypes: int64(1), object(1)\n",
            "memory usage: 1.3+ MB\n"
          ],
          "name": "stdout"
        }
      ]
    },
    {
      "cell_type": "code",
      "metadata": {
        "id": "xxuRiC-6ck7J",
        "colab": {
          "base_uri": "https://localhost:8080/"
        },
        "outputId": "19e79ef5-2efe-42c6-da0c-429a7df7f45b"
      },
      "source": [
        "dfs['debt'].nunique()"
      ],
      "execution_count": null,
      "outputs": [
        {
          "output_type": "execute_result",
          "data": {
            "text/plain": [
              "CustomerKey       88099\n",
              " PostcodeOuter     2756\n",
              "dtype: int64"
            ]
          },
          "metadata": {
            "tags": []
          },
          "execution_count": 14
        }
      ]
    },
    {
      "cell_type": "code",
      "metadata": {
        "id": "vofSgyXAU8at",
        "colab": {
          "base_uri": "https://localhost:8080/"
        },
        "outputId": "02e53fb5-7c62-4022-d785-b060476cf096"
      },
      "source": [
        "dfs['invoice'].info()"
      ],
      "execution_count": null,
      "outputs": [
        {
          "output_type": "stream",
          "text": [
            "<class 'pandas.core.frame.DataFrame'>\n",
            "RangeIndex: 1009327 entries, 0 to 1009326\n",
            "Data columns (total 9 columns):\n",
            " #   Column                    Non-Null Count    Dtype  \n",
            "---  ------                    --------------    -----  \n",
            " 0   InvoiceKey                1009327 non-null  int64  \n",
            " 1   CustomerKey               1009327 non-null  int64  \n",
            " 2   IsCreditInvoice           1009327 non-null  int64  \n",
            " 3   RaisedDate                1009327 non-null  object \n",
            " 4   DueDate                   1009327 non-null  object \n",
            " 5   OriginalInvoiceAmount     1009327 non-null  float64\n",
            " 6   AmountOutstanding         1009327 non-null  float64\n",
            " 7   StatementTransactionType  1009327 non-null  object \n",
            " 8   ExtractDate               1009327 non-null  object \n",
            "dtypes: float64(2), int64(3), object(4)\n",
            "memory usage: 69.3+ MB\n"
          ],
          "name": "stdout"
        }
      ]
    },
    {
      "cell_type": "code",
      "metadata": {
        "id": "WyjMdvtacYmI",
        "colab": {
          "base_uri": "https://localhost:8080/"
        },
        "outputId": "a609518e-3e7c-42f2-e6d7-c1abe128e197"
      },
      "source": [
        "dfs['invoice'].nunique()"
      ],
      "execution_count": null,
      "outputs": [
        {
          "output_type": "execute_result",
          "data": {
            "text/plain": [
              "InvoiceKey                  1009327\n",
              "CustomerKey                   83799\n",
              "IsCreditInvoice                   2\n",
              "RaisedDate                      490\n",
              "DueDate                         608\n",
              "OriginalInvoiceAmount        159622\n",
              "AmountOutstanding              1806\n",
              "StatementTransactionType          4\n",
              "ExtractDate                       1\n",
              "dtype: int64"
            ]
          },
          "metadata": {
            "tags": []
          },
          "execution_count": 16
        }
      ]
    },
    {
      "cell_type": "code",
      "metadata": {
        "id": "ZROW9_e-U8aw",
        "colab": {
          "base_uri": "https://localhost:8080/"
        },
        "outputId": "79892d16-2170-4fac-f311-0eb6d6a7028c"
      },
      "source": [
        "dfs['payment'].info()"
      ],
      "execution_count": null,
      "outputs": [
        {
          "output_type": "stream",
          "text": [
            "<class 'pandas.core.frame.DataFrame'>\n",
            "RangeIndex: 549748 entries, 0 to 549747\n",
            "Data columns (total 5 columns):\n",
            " #   Column        Non-Null Count   Dtype  \n",
            "---  ------        --------------   -----  \n",
            " 0   InvoiceKey    549748 non-null  int64  \n",
            " 1   CustomerKey   549748 non-null  int64  \n",
            " 2   PaymentValue  549748 non-null  float64\n",
            " 3   PaymentDate   549748 non-null  object \n",
            " 4   PaymentType   549748 non-null  object \n",
            "dtypes: float64(1), int64(2), object(2)\n",
            "memory usage: 21.0+ MB\n"
          ],
          "name": "stdout"
        }
      ]
    },
    {
      "cell_type": "code",
      "metadata": {
        "id": "BI2f1dl6U8ay",
        "colab": {
          "base_uri": "https://localhost:8080/"
        },
        "outputId": "c75e4125-e82b-4255-8a81-ae04b7a0cefb"
      },
      "source": [
        "dfs['payment'].nunique()"
      ],
      "execution_count": null,
      "outputs": [
        {
          "output_type": "execute_result",
          "data": {
            "text/plain": [
              "InvoiceKey      546365\n",
              "CustomerKey      28535\n",
              "PaymentValue    153475\n",
              "PaymentDate        518\n",
              "PaymentType          2\n",
              "dtype: int64"
            ]
          },
          "metadata": {
            "tags": []
          },
          "execution_count": 80
        }
      ]
    },
    {
      "cell_type": "code",
      "metadata": {
        "id": "KcpxSImJU8a0",
        "colab": {
          "base_uri": "https://localhost:8080/"
        },
        "outputId": "66eb43f9-6dd6-468f-ae0b-eed15d2414d7"
      },
      "source": [
        "print('# of Common invoicekeys shared')\n",
        "len(set(dfs['payment']['InvoiceKey']) & set(dfs['invoice']['InvoiceKey']))"
      ],
      "execution_count": null,
      "outputs": [
        {
          "output_type": "stream",
          "text": [
            "# of Common invoicekeys shared\n"
          ],
          "name": "stdout"
        },
        {
          "output_type": "execute_result",
          "data": {
            "text/plain": [
              "359279"
            ]
          },
          "metadata": {
            "tags": []
          },
          "execution_count": 81
        }
      ]
    },
    {
      "cell_type": "markdown",
      "metadata": {
        "id": "qNgYa92Rgnit"
      },
      "source": [
        "# Visualizations"
      ]
    },
    {
      "cell_type": "code",
      "metadata": {
        "id": "XeUOKmlRg5sw",
        "colab": {
          "base_uri": "https://localhost:8080/"
        },
        "outputId": "56d333d1-2a50-4297-96f4-4ff00ad96e83"
      },
      "source": [
        "df = inv_pay\n",
        "del df['ExtractDate']\n",
        "df.info()"
      ],
      "execution_count": null,
      "outputs": [
        {
          "output_type": "stream",
          "text": [
            "<class 'pandas.core.frame.DataFrame'>\n",
            "Int64Index: 361519 entries, 0 to 361518\n",
            "Data columns (total 11 columns):\n",
            " #   Column                    Non-Null Count   Dtype  \n",
            "---  ------                    --------------   -----  \n",
            " 0   InvoiceKey                361519 non-null  int64  \n",
            " 1   CustomerKey               361519 non-null  int64  \n",
            " 2   IsCreditInvoice           361519 non-null  int64  \n",
            " 3   RaisedDate                361519 non-null  object \n",
            " 4   DueDate                   361519 non-null  object \n",
            " 5   OriginalInvoiceAmount     361519 non-null  float64\n",
            " 6   AmountOutstanding         361519 non-null  float64\n",
            " 7   StatementTransactionType  361519 non-null  object \n",
            " 8   PaymentValue              361519 non-null  float64\n",
            " 9   PaymentDate               361519 non-null  object \n",
            " 10  PaymentType               361519 non-null  object \n",
            "dtypes: float64(3), int64(3), object(5)\n",
            "memory usage: 33.1+ MB\n"
          ],
          "name": "stdout"
        }
      ]
    },
    {
      "cell_type": "markdown",
      "metadata": {
        "id": "P_YFvLBctJ3U"
      },
      "source": [
        "## Correlation"
      ]
    },
    {
      "cell_type": "code",
      "metadata": {
        "id": "sJA7yUskmArI",
        "colab": {
          "base_uri": "https://localhost:8080/",
          "height": 613
        },
        "outputId": "832d329c-082a-40f4-cb90-e3c88b27094e"
      },
      "source": [
        "plt.figure(figsize=(15, 10))\n",
        "sns.heatmap(df.corr(), annot=True)"
      ],
      "execution_count": null,
      "outputs": [
        {
          "output_type": "execute_result",
          "data": {
            "text/plain": [
              "<matplotlib.axes._subplots.AxesSubplot at 0x7f1f7a33a6a0>"
            ]
          },
          "metadata": {
            "tags": []
          },
          "execution_count": 83
        },
        {
          "output_type": "display_data",
          "data": {
            "image/png": "[encoded data removed]",
            "text/plain": [
              "<Figure size 1080x720 with 2 Axes>"
            ]
          },
          "metadata": {
            "tags": [],
            "needs_background": "light"
          }
        }
      ]
    },
    {
      "cell_type": "markdown",
      "metadata": {
        "id": "KxQoURYAtsmx"
      },
      "source": [
        "## Histograms"
      ]
    },
    {
      "cell_type": "code",
      "metadata": {
        "id": "vC-xuMMKQiOs",
        "colab": {
          "base_uri": "https://localhost:8080/"
        },
        "outputId": "2403b0b1-4278-48d3-ed4d-8f4b5639bd34"
      },
      "source": [
        "#df[\"StatementTransactionType\"].nunique()\n",
        "trans_types = df[\"StatementTransactionType\"].value_counts()\n",
        "trans_types"
      ],
      "execution_count": null,
      "outputs": [
        {
          "output_type": "execute_result",
          "data": {
            "text/plain": [
              "INV    352165\n",
              "CRN      7057\n",
              "JRN      1278\n",
              "CSH      1019\n",
              "Name: StatementTransactionType, dtype: int64"
            ]
          },
          "metadata": {
            "tags": []
          },
          "execution_count": 84
        }
      ]
    },
    {
      "cell_type": "code",
      "metadata": {
        "id": "aaELQ39wygpX",
        "colab": {
          "base_uri": "https://localhost:8080/",
          "height": 310
        },
        "outputId": "2802a8ef-40c7-4ec4-afed-2d6e296d8aef"
      },
      "source": [
        "trans_types.plot(kind = \"bar\", title = \"StatementTransactionType values Occurences\")"
      ],
      "execution_count": null,
      "outputs": [
        {
          "output_type": "execute_result",
          "data": {
            "text/plain": [
              "<matplotlib.axes._subplots.AxesSubplot at 0x7f1f749956d8>"
            ]
          },
          "metadata": {
            "tags": []
          },
          "execution_count": 85
        },
        {
          "output_type": "display_data",
          "data": {
            "image/png": "[encoded data removed]",
            "text/plain": [
              "<Figure size 432x288 with 1 Axes>"
            ]
          },
          "metadata": {
            "tags": [],
            "needs_background": "light"
          }
        }
      ]
    },
    {
      "cell_type": "code",
      "metadata": {
        "id": "3O4ugJ2BzTQb",
        "colab": {
          "base_uri": "https://localhost:8080/"
        },
        "outputId": "3b000ca9-b0b7-48fc-a83d-6f14b754cb1e"
      },
      "source": [
        "credits_amount = df[\"IsCreditInvoice\"].value_counts()\n",
        "credits_amount"
      ],
      "execution_count": null,
      "outputs": [
        {
          "output_type": "execute_result",
          "data": {
            "text/plain": [
              "0    352936\n",
              "1      8583\n",
              "Name: IsCreditInvoice, dtype: int64"
            ]
          },
          "metadata": {
            "tags": []
          },
          "execution_count": 86
        }
      ]
    },
    {
      "cell_type": "code",
      "metadata": {
        "id": "u1-N2Rmj1WZU",
        "colab": {
          "base_uri": "https://localhost:8080/",
          "height": 295
        },
        "outputId": "d1333f69-ec67-4f32-e2e0-2e715bf13b7c"
      },
      "source": [
        "credits_amount.plot(kind = \"bar\",title = \"IsCreditInvoice values Occurences\")"
      ],
      "execution_count": null,
      "outputs": [
        {
          "output_type": "execute_result",
          "data": {
            "text/plain": [
              "<matplotlib.axes._subplots.AxesSubplot at 0x7f1f7597e400>"
            ]
          },
          "metadata": {
            "tags": []
          },
          "execution_count": 87
        },
        {
          "output_type": "display_data",
          "data": {
            "image/png": "[encoded data removed]",
            "text/plain": [
              "<Figure size 432x288 with 1 Axes>"
            ]
          },
          "metadata": {
            "tags": [],
            "needs_background": "light"
          }
        }
      ]
    },
    {
      "cell_type": "code",
      "metadata": {
        "id": "uS1Kcucy1rmt",
        "colab": {
          "base_uri": "https://localhost:8080/"
        },
        "outputId": "3d7e3b2f-ab31-4b53-c399-acc0551fce5e"
      },
      "source": [
        "pay_types = df[\"PaymentType\"].value_counts()\n",
        "pay_types"
      ],
      "execution_count": null,
      "outputs": [
        {
          "output_type": "execute_result",
          "data": {
            "text/plain": [
              "Barclays Multi    327982\n",
              "CheckM8            33537\n",
              "Name: PaymentType, dtype: int64"
            ]
          },
          "metadata": {
            "tags": []
          },
          "execution_count": 88
        }
      ]
    },
    {
      "cell_type": "code",
      "metadata": {
        "id": "9oT5Nmi313vk",
        "colab": {
          "base_uri": "https://localhost:8080/",
          "height": 359
        },
        "outputId": "9b78ba76-4a45-4503-b20d-0beb71855af6"
      },
      "source": [
        "pay_types.plot(kind = \"bar\", title = \"PaymentType values Occurrences\")"
      ],
      "execution_count": null,
      "outputs": [
        {
          "output_type": "execute_result",
          "data": {
            "text/plain": [
              "<matplotlib.axes._subplots.AxesSubplot at 0x7f1f7594b588>"
            ]
          },
          "metadata": {
            "tags": []
          },
          "execution_count": 89
        },
        {
          "output_type": "display_data",
          "data": {
            "image/png": "[encoded data removed]",
            "text/plain": [
              "<Figure size 432x288 with 1 Axes>"
            ]
          },
          "metadata": {
            "tags": [],
            "needs_background": "light"
          }
        }
      ]
    },
    {
      "cell_type": "markdown",
      "metadata": {
        "id": "jUfMX8-O3fBb"
      },
      "source": [
        "## Number of invoices/customer \n",
        "\n"
      ]
    },
    {
      "cell_type": "code",
      "metadata": {
        "id": "fZhmTP6Y4vjw",
        "colab": {
          "base_uri": "https://localhost:8080/"
        },
        "outputId": "0e2c2b3a-df2a-4636-bff1-19945928b3e1"
      },
      "source": [
        "#average number of invoices per customer\n",
        "customers = df[\"CustomerKey\"].value_counts().to_frame(name=\"occurences\")\n",
        "customers[\"occurences\"].mean()"
      ],
      "execution_count": null,
      "outputs": [
        {
          "output_type": "execute_result",
          "data": {
            "text/plain": [
              "14.133429766605419"
            ]
          },
          "metadata": {
            "tags": []
          },
          "execution_count": 134
        }
      ]
    },
    {
      "cell_type": "code",
      "metadata": {
        "id": "X3mmVa7P5MbG",
        "colab": {
          "base_uri": "https://localhost:8080/"
        },
        "outputId": "9bfdf236-6786-42ec-e4ac-b34be90e45ae"
      },
      "source": [
        "#avg #invoices per customer / excluding the customers with only one invoice (filtering below lower bound)\n",
        "#customers[customers.occurences != 1].plot(kind = \"bar\", title = \"Number of Invoices per Customer\") ##too many customers, cant do histogram\n",
        "customers_filtered = customers[customers.occurences != 1]\n",
        "customers_filtered[\"occurences\"].mean()"
      ],
      "execution_count": null,
      "outputs": [
        {
          "output_type": "execute_result",
          "data": {
            "text/plain": [
              "16.538390379278447"
            ]
          },
          "metadata": {
            "tags": []
          },
          "execution_count": 142
        }
      ]
    },
    {
      "cell_type": "code",
      "metadata": {
        "id": "OtNZLHo55h3I",
        "colab": {
          "base_uri": "https://localhost:8080/"
        },
        "outputId": "e37efc90-8f27-4f61-ad8b-c4fbe56fa1a9"
      },
      "source": [
        "#standard deviation\n",
        "customers_filtered[\"occurences\"].std()"
      ],
      "execution_count": null,
      "outputs": [
        {
          "output_type": "execute_result",
          "data": {
            "text/plain": [
              "63.16403868621502"
            ]
          },
          "metadata": {
            "tags": []
          },
          "execution_count": 143
        }
      ]
    },
    {
      "cell_type": "code",
      "metadata": {
        "id": "kZ0MYTFH6sJY",
        "colab": {
          "base_uri": "https://localhost:8080/",
          "height": 282
        },
        "outputId": "1cad9e94-51c0-4a29-e33c-25c2645dc2eb"
      },
      "source": [
        "#finding upper bound to filter out #invoices\n",
        "customers_filtered.plot.box()"
      ],
      "execution_count": null,
      "outputs": [
        {
          "output_type": "execute_result",
          "data": {
            "text/plain": [
              "<matplotlib.axes._subplots.AxesSubplot at 0x7f1f48fd4e48>"
            ]
          },
          "metadata": {
            "tags": []
          },
          "execution_count": 144
        },
        {
          "output_type": "display_data",
          "data": {
            "image/png": "[encoded data removed]",
            "text/plain": [
              "<Figure size 432x288 with 1 Axes>"
            ]
          },
          "metadata": {
            "tags": [],
            "needs_background": "light"
          }
        }
      ]
    },
    {
      "cell_type": "code",
      "metadata": {
        "id": "S8dozRnaExf6",
        "colab": {
          "base_uri": "https://localhost:8080/",
          "height": 316
        },
        "outputId": "cab5b28a-005f-4241-d4b9-925d9fd94687"
      },
      "source": [
        "#customers_filtered[customers_filtered.occurences > 3000] only 14 customers with more than 1000 invoices\n",
        "customers_filtered = customers_filtered[customers_filtered.occurences < 1000]\n",
        "print(customers_filtered[\"occurences\"].mean())\n",
        "print(customers_filtered[\"occurences\"].std())\n",
        "customers_filtered.plot.box()"
      ],
      "execution_count": null,
      "outputs": [
        {
          "output_type": "stream",
          "text": [
            "15.21398815034253\n",
            "32.264942456544276\n"
          ],
          "name": "stdout"
        },
        {
          "output_type": "execute_result",
          "data": {
            "text/plain": [
              "<matplotlib.axes._subplots.AxesSubplot at 0x7f1f4930e240>"
            ]
          },
          "metadata": {
            "tags": []
          },
          "execution_count": 156
        },
        {
          "output_type": "display_data",
          "data": {
            "image/png": "[encoded data removed]",
            "text/plain": [
              "<Figure size 432x288 with 1 Axes>"
            ]
          },
          "metadata": {
            "tags": [],
            "needs_background": "light"
          }
        }
      ]
    },
    {
      "cell_type": "code",
      "metadata": {
        "id": "-Yri_KdaHk07",
        "colab": {
          "base_uri": "https://localhost:8080/",
          "height": 514
        },
        "outputId": "e0336b1b-ac21-48cb-ea6b-973ccae4b896"
      },
      "source": [
        "# looking at the highest values\n",
        "#(customers_filtered.sort_values(by = [\"occurences\"], ascending=False))[:15]"
      ],
      "execution_count": null,
      "outputs": [
        {
          "output_type": "execute_result",
          "data": {
            "text/html": [
              "<div>\n",
              "<style scoped>\n",
              "    .dataframe tbody tr th:only-of-type {\n",
              "        vertical-align: middle;\n",
              "    }\n",
              "\n",
              "    .dataframe tbody tr th {\n",
              "        vertical-align: top;\n",
              "    }\n",
              "\n",
              "    .dataframe thead th {\n",
              "        text-align: right;\n",
              "    }\n",
              "</style>\n",
              "<table border=\"1\" class=\"dataframe\">\n",
              "  <thead>\n",
              "    <tr style=\"text-align: right;\">\n",
              "      <th></th>\n",
              "      <th>occurences</th>\n",
              "    </tr>\n",
              "  </thead>\n",
              "  <tbody>\n",
              "    <tr>\n",
              "      <th>16876991</th>\n",
              "      <td>2289</td>\n",
              "    </tr>\n",
              "    <tr>\n",
              "      <th>16745645</th>\n",
              "      <td>2191</td>\n",
              "    </tr>\n",
              "    <tr>\n",
              "      <th>16737254</th>\n",
              "      <td>1935</td>\n",
              "    </tr>\n",
              "    <tr>\n",
              "      <th>16836264</th>\n",
              "      <td>1692</td>\n",
              "    </tr>\n",
              "    <tr>\n",
              "      <th>16739410</th>\n",
              "      <td>1608</td>\n",
              "    </tr>\n",
              "    <tr>\n",
              "      <th>16885817</th>\n",
              "      <td>1564</td>\n",
              "    </tr>\n",
              "    <tr>\n",
              "      <th>16787691</th>\n",
              "      <td>1543</td>\n",
              "    </tr>\n",
              "    <tr>\n",
              "      <th>16832368</th>\n",
              "      <td>1254</td>\n",
              "    </tr>\n",
              "    <tr>\n",
              "      <th>16910812</th>\n",
              "      <td>1219</td>\n",
              "    </tr>\n",
              "    <tr>\n",
              "      <th>16837342</th>\n",
              "      <td>1200</td>\n",
              "    </tr>\n",
              "    <tr>\n",
              "      <th>16976228</th>\n",
              "      <td>1173</td>\n",
              "    </tr>\n",
              "    <tr>\n",
              "      <th>16851518</th>\n",
              "      <td>1136</td>\n",
              "    </tr>\n",
              "    <tr>\n",
              "      <th>16879763</th>\n",
              "      <td>1102</td>\n",
              "    </tr>\n",
              "    <tr>\n",
              "      <th>16735854</th>\n",
              "      <td>1091</td>\n",
              "    </tr>\n",
              "    <tr>\n",
              "      <th>16845004</th>\n",
              "      <td>905</td>\n",
              "    </tr>\n",
              "  </tbody>\n",
              "</table>\n",
              "</div>"
            ],
            "text/plain": [
              "          occurences\n",
              "16876991        2289\n",
              "16745645        2191\n",
              "16737254        1935\n",
              "16836264        1692\n",
              "16739410        1608\n",
              "16885817        1564\n",
              "16787691        1543\n",
              "16832368        1254\n",
              "16910812        1219\n",
              "16837342        1200\n",
              "16976228        1173\n",
              "16851518        1136\n",
              "16879763        1102\n",
              "16735854        1091\n",
              "16845004         905"
            ]
          },
          "metadata": {
            "tags": []
          },
          "execution_count": 155
        }
      ]
    },
    {
      "cell_type": "markdown",
      "metadata": {
        "id": "2Q9-ic1NtwEE"
      },
      "source": [
        "# Box Plots"
      ]
    },
    {
      "cell_type": "code",
      "metadata": {
        "id": "ANrYZmkV4GUh",
        "colab": {
          "base_uri": "https://localhost:8080/"
        },
        "outputId": "532203a2-0356-4944-c94c-21aafb689c5a"
      },
      "source": [
        "pay_dates = df[\"PaymentDate\"].nunique()\n",
        "pay_dates = df[\"PaymentDate\"].value_counts()\n",
        "pay_dates"
      ],
      "execution_count": null,
      "outputs": [
        {
          "output_type": "execute_result",
          "data": {
            "text/plain": [
              "2018-11-30    5091\n",
              "2018-09-28    4680\n",
              "2019-03-29    4532\n",
              "2019-06-28    4493\n",
              "2019-05-31    4181\n",
              "              ... \n",
              "2020-09-03       1\n",
              "2020-05-26       1\n",
              "2020-02-24       1\n",
              "2020-06-04       1\n",
              "2020-07-01       1\n",
              "Name: PaymentDate, Length: 492, dtype: int64"
            ]
          },
          "metadata": {
            "tags": []
          },
          "execution_count": 90
        }
      ]
    },
    {
      "cell_type": "code",
      "metadata": {
        "id": "Xi2vYJxD4eC3",
        "colab": {
          "base_uri": "https://localhost:8080/",
          "height": 282
        },
        "outputId": "d035626d-5a1d-43d3-930c-e78cd628f97d"
      },
      "source": [
        "pay_dates.plot.box()"
      ],
      "execution_count": null,
      "outputs": [
        {
          "output_type": "execute_result",
          "data": {
            "text/plain": [
              "<matplotlib.axes._subplots.AxesSubplot at 0x7f1f758c0c18>"
            ]
          },
          "metadata": {
            "tags": []
          },
          "execution_count": 91
        },
        {
          "output_type": "display_data",
          "data": {
            "image/png": "[encoded data removed]",
            "text/plain": [
              "<Figure size 432x288 with 1 Axes>"
            ]
          },
          "metadata": {
            "tags": [],
            "needs_background": "light"
          }
        }
      ]
    },
    {
      "cell_type": "markdown",
      "metadata": {
        "id": "gpYfhfSEuUCK"
      },
      "source": [
        "# Information per customer"
      ]
    },
    {
      "cell_type": "code",
      "metadata": {
        "id": "GXXE9IsOW2hT",
        "colab": {
          "base_uri": "https://localhost:8080/",
          "height": 419
        },
        "outputId": "43077d72-48aa-4bdb-aee4-de1303ea617f"
      },
      "source": [
        "#Invoices per customer\n",
        "customers = df[\"CustomerKey\"].value_counts().to_frame(name=\"occurences\")\n",
        "customers\n",
        "#average number of invoices per customer\n",
        "#customers[\"occurences\"].mean() "
      ],
      "execution_count": null,
      "outputs": [
        {
          "output_type": "execute_result",
          "data": {
            "text/html": [
              "<div>\n",
              "<style scoped>\n",
              "    .dataframe tbody tr th:only-of-type {\n",
              "        vertical-align: middle;\n",
              "    }\n",
              "\n",
              "    .dataframe tbody tr th {\n",
              "        vertical-align: top;\n",
              "    }\n",
              "\n",
              "    .dataframe thead th {\n",
              "        text-align: right;\n",
              "    }\n",
              "</style>\n",
              "<table border=\"1\" class=\"dataframe\">\n",
              "  <thead>\n",
              "    <tr style=\"text-align: right;\">\n",
              "      <th></th>\n",
              "      <th>occurences</th>\n",
              "    </tr>\n",
              "  </thead>\n",
              "  <tbody>\n",
              "    <tr>\n",
              "      <th>16745090</th>\n",
              "      <td>3953</td>\n",
              "    </tr>\n",
              "    <tr>\n",
              "      <th>16738849</th>\n",
              "      <td>3927</td>\n",
              "    </tr>\n",
              "    <tr>\n",
              "      <th>16876991</th>\n",
              "      <td>2289</td>\n",
              "    </tr>\n",
              "    <tr>\n",
              "      <th>16745645</th>\n",
              "      <td>2191</td>\n",
              "    </tr>\n",
              "    <tr>\n",
              "      <th>16737254</th>\n",
              "      <td>1935</td>\n",
              "    </tr>\n",
              "    <tr>\n",
              "      <th>...</th>\n",
              "      <td>...</td>\n",
              "    </tr>\n",
              "    <tr>\n",
              "      <th>16983848</th>\n",
              "      <td>1</td>\n",
              "    </tr>\n",
              "    <tr>\n",
              "      <th>16977709</th>\n",
              "      <td>1</td>\n",
              "    </tr>\n",
              "    <tr>\n",
              "      <th>16979381</th>\n",
              "      <td>1</td>\n",
              "    </tr>\n",
              "    <tr>\n",
              "      <th>16973192</th>\n",
              "      <td>1</td>\n",
              "    </tr>\n",
              "    <tr>\n",
              "      <th>16795639</th>\n",
              "      <td>1</td>\n",
              "    </tr>\n",
              "  </tbody>\n",
              "</table>\n",
              "<p>25579 rows × 1 columns</p>\n",
              "</div>"
            ],
            "text/plain": [
              "          occurences\n",
              "16745090        3953\n",
              "16738849        3927\n",
              "16876991        2289\n",
              "16745645        2191\n",
              "16737254        1935\n",
              "...              ...\n",
              "16983848           1\n",
              "16977709           1\n",
              "16979381           1\n",
              "16973192           1\n",
              "16795639           1\n",
              "\n",
              "[25579 rows x 1 columns]"
            ]
          },
          "metadata": {
            "tags": []
          },
          "execution_count": 135
        }
      ]
    },
    {
      "cell_type": "code",
      "metadata": {
        "id": "ES-MSp1SXSvM",
        "colab": {
          "base_uri": "https://localhost:8080/"
        },
        "outputId": "0d89554a-ac64-4383-b597-0735e2d5a355"
      },
      "source": [
        "#number of customers that only have one invoice\n",
        "print(customers[customers.occurences == 1].count())"
      ],
      "execution_count": null,
      "outputs": [
        {
          "output_type": "stream",
          "text": [
            "occurences    3959\n",
            "dtype: int64\n"
          ],
          "name": "stdout"
        }
      ]
    },
    {
      "cell_type": "code",
      "metadata": {
        "id": "ihbOeMTH5Dtg"
      },
      "source": [
        "#average values of continues variables per customers \n",
        "info_customer = df.groupby(\"CustomerKey\").mean() #average Original Invoice Amount and average Payment Value\n",
        "info_customer = info_customer.drop(labels = \"InvoiceKey\", axis = 1) \n",
        "info_customer = info_customer.drop(labels = \"IsCreditInvoice\", axis = 1) "
      ],
      "execution_count": null,
      "outputs": []
    },
    {
      "cell_type": "markdown",
      "metadata": {
        "id": "bAHLrLdh04HC"
      },
      "source": [
        "## Possible Outliers"
      ]
    },
    {
      "cell_type": "code",
      "metadata": {
        "id": "Q4uL7ypqmMqt",
        "colab": {
          "base_uri": "https://localhost:8080/",
          "height": 298
        },
        "outputId": "93c7c38c-0d7a-4485-e3a9-7e58f192d4ec"
      },
      "source": [
        "#Looking at the distribution of avg OriginalInvoiceAmount\n",
        "info_customer[\"OriginalInvoiceAmount\"].plot.box(title = \"Average OriginalInvoiceAmount\")"
      ],
      "execution_count": null,
      "outputs": [
        {
          "output_type": "execute_result",
          "data": {
            "text/plain": [
              "<matplotlib.axes._subplots.AxesSubplot at 0x7f1f7597ea58>"
            ]
          },
          "metadata": {
            "tags": []
          },
          "execution_count": 106
        },
        {
          "output_type": "display_data",
          "data": {
            "image/png": "[encoded data removed]",
            "text/plain": [
              "<Figure size 432x288 with 1 Axes>"
            ]
          },
          "metadata": {
            "tags": [],
            "needs_background": "light"
          }
        }
      ]
    },
    {
      "cell_type": "code",
      "metadata": {
        "id": "twZzpuLumuW8",
        "colab": {
          "base_uri": "https://localhost:8080/"
        },
        "outputId": "3d5d9f14-0028-4986-f1e7-588cadc27ee3"
      },
      "source": [
        "# Customers with an average OriginalInvoiceAmount greater than 0.5million\n",
        "info_customer[info_customer.OriginalInvoiceAmount > 500000]\n",
        "outliers = (info_customer[info_customer.OriginalInvoiceAmount > 500000])\n",
        "outliers.count() #only 7 "
      ],
      "execution_count": null,
      "outputs": [
        {
          "output_type": "execute_result",
          "data": {
            "text/plain": [
              "InvoiceKey               7\n",
              "IsCreditInvoice          7\n",
              "OriginalInvoiceAmount    7\n",
              "AmountOutstanding        7\n",
              "PaymentValue             7\n",
              "dtype: int64"
            ]
          },
          "metadata": {
            "tags": []
          },
          "execution_count": 112
        }
      ]
    },
    {
      "cell_type": "code",
      "metadata": {
        "id": "MsMk-_8OogYT",
        "colab": {
          "base_uri": "https://localhost:8080/",
          "height": 298
        },
        "outputId": "3b9217a5-7551-46e8-c86c-15df15a17244"
      },
      "source": [
        "# Box plot wihtout the possible outliers: customers with an avg OriginalInvoiceAmount > 0.5million\n",
        "customers_outliers = info_customer.drop(index = outliers.index)\n",
        "customers_outliers[\"OriginalInvoiceAmount\"].plot.box(title = \"Average OriginalInvoiceAmount without outliers\")"
      ],
      "execution_count": null,
      "outputs": [
        {
          "output_type": "execute_result",
          "data": {
            "text/plain": [
              "<matplotlib.axes._subplots.AxesSubplot at 0x7f1f75700358>"
            ]
          },
          "metadata": {
            "tags": []
          },
          "execution_count": 113
        },
        {
          "output_type": "display_data",
          "data": {
            "image/png": "[encoded data removed]",
            "text/plain": [
              "<Figure size 432x288 with 1 Axes>"
            ]
          },
          "metadata": {
            "tags": [],
            "needs_background": "light"
          }
        }
      ]
    },
    {
      "cell_type": "code",
      "metadata": {
        "id": "mOVV_fh3zP0Z",
        "colab": {
          "base_uri": "https://localhost:8080/",
          "height": 298
        },
        "outputId": "dfee6d37-ad08-48d9-d919-508548a06df9"
      },
      "source": [
        "# Same steps for possible outliers with average PaymentValue\n",
        "info_customer[\"PaymentValue\"].plot.box(title = \"Average PaymentValue\")"
      ],
      "execution_count": null,
      "outputs": [
        {
          "output_type": "execute_result",
          "data": {
            "text/plain": [
              "<matplotlib.axes._subplots.AxesSubplot at 0x7f1f75659b38>"
            ]
          },
          "metadata": {
            "tags": []
          },
          "execution_count": 114
        },
        {
          "output_type": "display_data",
          "data": {
            "image/png": "[encoded data removed]",
            "text/plain": [
              "<Figure size 432x288 with 1 Axes>"
            ]
          },
          "metadata": {
            "tags": [],
            "needs_background": "light"
          }
        }
      ]
    },
    {
      "cell_type": "code",
      "metadata": {
        "id": "QDgy88xRzqjX",
        "colab": {
          "base_uri": "https://localhost:8080/",
          "height": 298
        },
        "outputId": "5a39f7a3-c0a3-4a2e-be40-e6527c853f8a"
      },
      "source": [
        "info_customer[info_customer.PaymentValue > 500000]\n",
        "outliers_payment = (info_customer[info_customer.PaymentValue > 500000])\n",
        "outliers_payment.count() #only 7 \n",
        "customers_outliers_payment = info_customer.drop(index = outliers_payment.index)\n",
        "customers_outliers_payment[\"PaymentValue\"].plot.box(title = \"Average PaymentValue without outliers\")"
      ],
      "execution_count": null,
      "outputs": [
        {
          "output_type": "execute_result",
          "data": {
            "text/plain": [
              "<matplotlib.axes._subplots.AxesSubplot at 0x7f1f75637b38>"
            ]
          },
          "metadata": {
            "tags": []
          },
          "execution_count": 117
        },
        {
          "output_type": "display_data",
          "data": {
            "image/png": "[encoded data removed]",
            "text/plain": [
              "<Figure size 432x288 with 1 Axes>"
            ]
          },
          "metadata": {
            "tags": [],
            "needs_background": "light"
          }
        }
      ]
    },
    {
      "cell_type": "code",
      "metadata": {
        "id": "_nxXhhTpWaAF",
        "colab": {
          "base_uri": "https://localhost:8080/"
        },
        "outputId": "cb330585-385f-47c0-d5c3-63ab03c75b75"
      },
      "source": [
        "#Customers with non-zero Amount Outstanding / people that dont clear out their amount outstanding\n",
        "customers_owe = info_customer[info_customer.AmountOutstanding != 0]\n",
        "customers_owe.count()"
      ],
      "execution_count": null,
      "outputs": [
        {
          "output_type": "execute_result",
          "data": {
            "text/plain": [
              "InvoiceKey                     23\n",
              "IsCreditInvoice                23\n",
              "OriginalInvoiceAmount          23\n",
              "AmountOutstanding              23\n",
              "PaymentValue                   23\n",
              "InvoiceAmount-PaymentAmount    23\n",
              "dtype: int64"
            ]
          },
          "metadata": {
            "tags": []
          },
          "execution_count": 121
        }
      ]
    },
    {
      "cell_type": "code",
      "metadata": {
        "id": "IQLErNTKgHi5",
        "colab": {
          "base_uri": "https://localhost:8080/",
          "height": 793
        },
        "outputId": "0b4f7255-553c-42d1-ac64-fada262238af"
      },
      "source": [
        "#see how much the customers owe on average \n",
        "info_customer[\"InvoiceAmount-PaymentAmount\"] = pd.Series(info_customer.OriginalInvoiceAmount - info_customer.PaymentValue,index = info_customer.index)\n",
        "customers_owe = info_customer[info_customer.AmountOutstanding != 0]\n",
        "customers_owe"
      ],
      "execution_count": null,
      "outputs": [
        {
          "output_type": "execute_result",
          "data": {
            "text/html": [
              "<div>\n",
              "<style scoped>\n",
              "    .dataframe tbody tr th:only-of-type {\n",
              "        vertical-align: middle;\n",
              "    }\n",
              "\n",
              "    .dataframe tbody tr th {\n",
              "        vertical-align: top;\n",
              "    }\n",
              "\n",
              "    .dataframe thead th {\n",
              "        text-align: right;\n",
              "    }\n",
              "</style>\n",
              "<table border=\"1\" class=\"dataframe\">\n",
              "  <thead>\n",
              "    <tr style=\"text-align: right;\">\n",
              "      <th></th>\n",
              "      <th>OriginalInvoiceAmount</th>\n",
              "      <th>AmountOutstanding</th>\n",
              "      <th>PaymentValue</th>\n",
              "      <th>InvoiceAmount-PaymentAmount</th>\n",
              "    </tr>\n",
              "    <tr>\n",
              "      <th>CustomerKey</th>\n",
              "      <th></th>\n",
              "      <th></th>\n",
              "      <th></th>\n",
              "      <th></th>\n",
              "    </tr>\n",
              "  </thead>\n",
              "  <tbody>\n",
              "    <tr>\n",
              "      <th>16737254</th>\n",
              "      <td>329.888067</td>\n",
              "      <td>0.169059</td>\n",
              "      <td>326.329214</td>\n",
              "      <td>3.558853</td>\n",
              "    </tr>\n",
              "    <tr>\n",
              "      <th>16743648</th>\n",
              "      <td>1311.976359</td>\n",
              "      <td>4.555179</td>\n",
              "      <td>1256.011436</td>\n",
              "      <td>55.964923</td>\n",
              "    </tr>\n",
              "    <tr>\n",
              "      <th>16745090</th>\n",
              "      <td>587.667625</td>\n",
              "      <td>0.003959</td>\n",
              "      <td>586.090139</td>\n",
              "      <td>1.577485</td>\n",
              "    </tr>\n",
              "    <tr>\n",
              "      <th>16752657</th>\n",
              "      <td>780.663871</td>\n",
              "      <td>0.000054</td>\n",
              "      <td>780.662849</td>\n",
              "      <td>0.001022</td>\n",
              "    </tr>\n",
              "    <tr>\n",
              "      <th>16787691</th>\n",
              "      <td>591.425353</td>\n",
              "      <td>7.199721</td>\n",
              "      <td>477.627952</td>\n",
              "      <td>113.797401</td>\n",
              "    </tr>\n",
              "    <tr>\n",
              "      <th>16827936</th>\n",
              "      <td>1020.735000</td>\n",
              "      <td>29.055000</td>\n",
              "      <td>954.180000</td>\n",
              "      <td>66.555000</td>\n",
              "    </tr>\n",
              "    <tr>\n",
              "      <th>16858889</th>\n",
              "      <td>139.336488</td>\n",
              "      <td>0.038180</td>\n",
              "      <td>139.279122</td>\n",
              "      <td>0.057366</td>\n",
              "    </tr>\n",
              "    <tr>\n",
              "      <th>16859739</th>\n",
              "      <td>2183.440000</td>\n",
              "      <td>441.970000</td>\n",
              "      <td>250.000000</td>\n",
              "      <td>1933.440000</td>\n",
              "    </tr>\n",
              "    <tr>\n",
              "      <th>16869741</th>\n",
              "      <td>369.917097</td>\n",
              "      <td>2.418065</td>\n",
              "      <td>298.391935</td>\n",
              "      <td>71.525161</td>\n",
              "    </tr>\n",
              "    <tr>\n",
              "      <th>16873970</th>\n",
              "      <td>126.818182</td>\n",
              "      <td>4.710000</td>\n",
              "      <td>122.108182</td>\n",
              "      <td>4.710000</td>\n",
              "    </tr>\n",
              "    <tr>\n",
              "      <th>16876019</th>\n",
              "      <td>838.130000</td>\n",
              "      <td>338.130000</td>\n",
              "      <td>250.000000</td>\n",
              "      <td>588.130000</td>\n",
              "    </tr>\n",
              "    <tr>\n",
              "      <th>16876941</th>\n",
              "      <td>315.326000</td>\n",
              "      <td>66.240000</td>\n",
              "      <td>249.086000</td>\n",
              "      <td>66.240000</td>\n",
              "    </tr>\n",
              "    <tr>\n",
              "      <th>16879763</th>\n",
              "      <td>340.990191</td>\n",
              "      <td>-0.070672</td>\n",
              "      <td>341.293603</td>\n",
              "      <td>-0.303412</td>\n",
              "    </tr>\n",
              "    <tr>\n",
              "      <th>16880581</th>\n",
              "      <td>33.580000</td>\n",
              "      <td>-0.553846</td>\n",
              "      <td>34.133846</td>\n",
              "      <td>-0.553846</td>\n",
              "    </tr>\n",
              "    <tr>\n",
              "      <th>16885062</th>\n",
              "      <td>107.781429</td>\n",
              "      <td>4.242500</td>\n",
              "      <td>28.790000</td>\n",
              "      <td>78.991429</td>\n",
              "    </tr>\n",
              "    <tr>\n",
              "      <th>16885130</th>\n",
              "      <td>272.012979</td>\n",
              "      <td>-5.033191</td>\n",
              "      <td>257.444681</td>\n",
              "      <td>14.568298</td>\n",
              "    </tr>\n",
              "    <tr>\n",
              "      <th>16885226</th>\n",
              "      <td>33.220000</td>\n",
              "      <td>2.595000</td>\n",
              "      <td>30.625000</td>\n",
              "      <td>2.595000</td>\n",
              "    </tr>\n",
              "    <tr>\n",
              "      <th>16885817</th>\n",
              "      <td>105.781221</td>\n",
              "      <td>-0.159431</td>\n",
              "      <td>106.512756</td>\n",
              "      <td>-0.731535</td>\n",
              "    </tr>\n",
              "    <tr>\n",
              "      <th>16908585</th>\n",
              "      <td>973.320000</td>\n",
              "      <td>554.190000</td>\n",
              "      <td>125.000000</td>\n",
              "      <td>848.320000</td>\n",
              "    </tr>\n",
              "    <tr>\n",
              "      <th>16914697</th>\n",
              "      <td>19185.207500</td>\n",
              "      <td>77.547500</td>\n",
              "      <td>2181.060000</td>\n",
              "      <td>17004.147500</td>\n",
              "    </tr>\n",
              "    <tr>\n",
              "      <th>16915471</th>\n",
              "      <td>65.940000</td>\n",
              "      <td>9.710000</td>\n",
              "      <td>56.230000</td>\n",
              "      <td>9.710000</td>\n",
              "    </tr>\n",
              "    <tr>\n",
              "      <th>16982028</th>\n",
              "      <td>7857.075000</td>\n",
              "      <td>3857.075000</td>\n",
              "      <td>4000.000000</td>\n",
              "      <td>3857.075000</td>\n",
              "    </tr>\n",
              "    <tr>\n",
              "      <th>16982688</th>\n",
              "      <td>612.240000</td>\n",
              "      <td>59.040000</td>\n",
              "      <td>553.200000</td>\n",
              "      <td>59.040000</td>\n",
              "    </tr>\n",
              "  </tbody>\n",
              "</table>\n",
              "</div>"
            ],
            "text/plain": [
              "             OriginalInvoiceAmount  ...  InvoiceAmount-PaymentAmount\n",
              "CustomerKey                         ...                             \n",
              "16737254                329.888067  ...                     3.558853\n",
              "16743648               1311.976359  ...                    55.964923\n",
              "16745090                587.667625  ...                     1.577485\n",
              "16752657                780.663871  ...                     0.001022\n",
              "16787691                591.425353  ...                   113.797401\n",
              "16827936               1020.735000  ...                    66.555000\n",
              "16858889                139.336488  ...                     0.057366\n",
              "16859739               2183.440000  ...                  1933.440000\n",
              "16869741                369.917097  ...                    71.525161\n",
              "16873970                126.818182  ...                     4.710000\n",
              "16876019                838.130000  ...                   588.130000\n",
              "16876941                315.326000  ...                    66.240000\n",
              "16879763                340.990191  ...                    -0.303412\n",
              "16880581                 33.580000  ...                    -0.553846\n",
              "16885062                107.781429  ...                    78.991429\n",
              "16885130                272.012979  ...                    14.568298\n",
              "16885226                 33.220000  ...                     2.595000\n",
              "16885817                105.781221  ...                    -0.731535\n",
              "16908585                973.320000  ...                   848.320000\n",
              "16914697              19185.207500  ...                 17004.147500\n",
              "16915471                 65.940000  ...                     9.710000\n",
              "16982028               7857.075000  ...                  3857.075000\n",
              "16982688                612.240000  ...                    59.040000\n",
              "\n",
              "[23 rows x 4 columns]"
            ]
          },
          "metadata": {
            "tags": []
          },
          "execution_count": 130
        }
      ]
    },
    {
      "cell_type": "markdown",
      "metadata": {
        "id": "xXO6aQVQl9p4"
      },
      "source": [
        "**Check data points per month**"
      ]
    },
    {
      "cell_type": "code",
      "metadata": {
        "id": "6RET8opkjKOf"
      },
      "source": [
        "#Making dates on DF into date type\n",
        "#df.head()\n",
        "df[\"RaisedDate\"] = pd.to_datetime(df[\"RaisedDate\"])\n",
        "df[\"DueDate\"] = pd.to_datetime(df[\"DueDate\"])\n",
        "df[\"PaymentDate\"] = pd.to_datetime(df[\"PaymentDate\"])\n"
      ],
      "execution_count": null,
      "outputs": []
    },
    {
      "cell_type": "code",
      "metadata": {
        "id": "0AM2461EsaXX",
        "colab": {
          "base_uri": "https://localhost:8080/",
          "height": 309
        },
        "outputId": "8a1d4ec1-2107-4365-9de8-762e824fa6f6"
      },
      "source": [
        "df.head()"
      ],
      "execution_count": null,
      "outputs": [
        {
          "output_type": "execute_result",
          "data": {
            "text/html": [
              "<div>\n",
              "<style scoped>\n",
              "    .dataframe tbody tr th:only-of-type {\n",
              "        vertical-align: middle;\n",
              "    }\n",
              "\n",
              "    .dataframe tbody tr th {\n",
              "        vertical-align: top;\n",
              "    }\n",
              "\n",
              "    .dataframe thead th {\n",
              "        text-align: right;\n",
              "    }\n",
              "</style>\n",
              "<table border=\"1\" class=\"dataframe\">\n",
              "  <thead>\n",
              "    <tr style=\"text-align: right;\">\n",
              "      <th></th>\n",
              "      <th>InvoiceKey</th>\n",
              "      <th>CustomerKey</th>\n",
              "      <th>IsCreditInvoice</th>\n",
              "      <th>RaisedDate</th>\n",
              "      <th>DueDate</th>\n",
              "      <th>OriginalInvoiceAmount</th>\n",
              "      <th>AmountOutstanding</th>\n",
              "      <th>StatementTransactionType</th>\n",
              "      <th>PaymentValue</th>\n",
              "      <th>PaymentDate</th>\n",
              "      <th>PaymentType</th>\n",
              "    </tr>\n",
              "  </thead>\n",
              "  <tbody>\n",
              "    <tr>\n",
              "      <th>0</th>\n",
              "      <td>196697217</td>\n",
              "      <td>16817529</td>\n",
              "      <td>1</td>\n",
              "      <td>2018-01-03</td>\n",
              "      <td>2018-01-03</td>\n",
              "      <td>-626.38</td>\n",
              "      <td>0.0</td>\n",
              "      <td>JRN</td>\n",
              "      <td>-626.38</td>\n",
              "      <td>2019-12-17</td>\n",
              "      <td>Barclays Multi</td>\n",
              "    </tr>\n",
              "    <tr>\n",
              "      <th>1</th>\n",
              "      <td>195746315</td>\n",
              "      <td>16743753</td>\n",
              "      <td>0</td>\n",
              "      <td>2018-01-05</td>\n",
              "      <td>2018-02-28</td>\n",
              "      <td>3082.20</td>\n",
              "      <td>0.0</td>\n",
              "      <td>INV</td>\n",
              "      <td>3082.20</td>\n",
              "      <td>2018-11-29</td>\n",
              "      <td>CheckM8</td>\n",
              "    </tr>\n",
              "    <tr>\n",
              "      <th>2</th>\n",
              "      <td>195574232</td>\n",
              "      <td>16742415</td>\n",
              "      <td>1</td>\n",
              "      <td>2018-01-05</td>\n",
              "      <td>2018-01-05</td>\n",
              "      <td>-820.26</td>\n",
              "      <td>0.0</td>\n",
              "      <td>CRN</td>\n",
              "      <td>-820.26</td>\n",
              "      <td>2020-03-05</td>\n",
              "      <td>Barclays Multi</td>\n",
              "    </tr>\n",
              "    <tr>\n",
              "      <th>3</th>\n",
              "      <td>195861541</td>\n",
              "      <td>16742646</td>\n",
              "      <td>1</td>\n",
              "      <td>2018-01-11</td>\n",
              "      <td>2018-01-11</td>\n",
              "      <td>-15.60</td>\n",
              "      <td>0.0</td>\n",
              "      <td>CRN</td>\n",
              "      <td>-15.60</td>\n",
              "      <td>2018-11-09</td>\n",
              "      <td>CheckM8</td>\n",
              "    </tr>\n",
              "    <tr>\n",
              "      <th>4</th>\n",
              "      <td>196222694</td>\n",
              "      <td>16915326</td>\n",
              "      <td>1</td>\n",
              "      <td>2018-01-22</td>\n",
              "      <td>2018-01-22</td>\n",
              "      <td>-18.00</td>\n",
              "      <td>0.0</td>\n",
              "      <td>CRN</td>\n",
              "      <td>-18.00</td>\n",
              "      <td>2018-09-14</td>\n",
              "      <td>CheckM8</td>\n",
              "    </tr>\n",
              "  </tbody>\n",
              "</table>\n",
              "</div>"
            ],
            "text/plain": [
              "   InvoiceKey  CustomerKey  ...  PaymentDate     PaymentType\n",
              "0   196697217     16817529  ...   2019-12-17  Barclays Multi\n",
              "1   195746315     16743753  ...   2018-11-29         CheckM8\n",
              "2   195574232     16742415  ...   2020-03-05  Barclays Multi\n",
              "3   195861541     16742646  ...   2018-11-09         CheckM8\n",
              "4   196222694     16915326  ...   2018-09-14         CheckM8\n",
              "\n",
              "[5 rows x 11 columns]"
            ]
          },
          "metadata": {
            "tags": []
          },
          "execution_count": 42
        }
      ]
    },
    {
      "cell_type": "code",
      "metadata": {
        "id": "3XdOF4MJvCO1",
        "colab": {
          "base_uri": "https://localhost:8080/"
        },
        "outputId": "24826de5-dddf-4050-d5d5-12fe99ae486b"
      },
      "source": [
        "#df[df.RaisedDate].month == \"01\"\n",
        "value = df.loc[df[\"RaisedDate\"].dt.month == 1].count()\n",
        "value = value.to_frame(name = \"count\")\n",
        "(value[value.index == \"InvoiceKey\"])[\"count\"]"
      ],
      "execution_count": null,
      "outputs": [
        {
          "output_type": "execute_result",
          "data": {
            "text/plain": [
              "InvoiceKey    17\n",
              "Name: count, dtype: int64"
            ]
          },
          "metadata": {
            "tags": []
          },
          "execution_count": 43
        }
      ]
    },
    {
      "cell_type": "code",
      "metadata": {
        "id": "rYSwcD75ytJ_",
        "colab": {
          "base_uri": "https://localhost:8080/"
        },
        "outputId": "d40c40ad-b47c-43a4-9f74-20ec1231c7af"
      },
      "source": [
        "#counting the amount of invoices raised transactions per month\n",
        "for i in range(12):\n",
        "  print(\"Invoices raised on month {}:\".format(i+1))\n",
        "  value = df.loc[df[\"RaisedDate\"].dt.month == i+1].count()\n",
        "  value = value.to_frame(name = \"count\")\n",
        "  print((value[value.index == \"InvoiceKey\"])[\"count\"])"
      ],
      "execution_count": null,
      "outputs": [
        {
          "output_type": "stream",
          "text": [
            "Invoices raised on month 1:\n",
            "InvoiceKey    17\n",
            "Name: count, dtype: int64\n",
            "Invoices raised on month 2:\n",
            "InvoiceKey    24\n",
            "Name: count, dtype: int64\n",
            "Invoices raised on month 3:\n",
            "InvoiceKey    36\n",
            "Name: count, dtype: int64\n",
            "Invoices raised on month 4:\n",
            "InvoiceKey    72\n",
            "Name: count, dtype: int64\n",
            "Invoices raised on month 5:\n",
            "InvoiceKey    127\n",
            "Name: count, dtype: int64\n",
            "Invoices raised on month 6:\n",
            "InvoiceKey    471\n",
            "Name: count, dtype: int64\n",
            "Invoices raised on month 7:\n",
            "InvoiceKey    2164\n",
            "Name: count, dtype: int64\n",
            "Invoices raised on month 8:\n",
            "InvoiceKey    1421\n",
            "Name: count, dtype: int64\n",
            "Invoices raised on month 9:\n",
            "InvoiceKey    0\n",
            "Name: count, dtype: int64\n",
            "Invoices raised on month 10:\n",
            "InvoiceKey    0\n",
            "Name: count, dtype: int64\n",
            "Invoices raised on month 11:\n",
            "InvoiceKey    0\n",
            "Name: count, dtype: int64\n",
            "Invoices raised on month 12:\n",
            "InvoiceKey    0\n",
            "Name: count, dtype: int64\n"
          ],
          "name": "stdout"
        }
      ]
    },
    {
      "cell_type": "code",
      "metadata": {
        "id": "bbqB5gXzxEJ4"
      },
      "source": [
        "#raised_months = pd.DataFrame(data = {\"January\":167,\"February\":251,\"March\":511,\"April\":997,\"May\":1881,\"June\":6046,\"July\":22371,\"August\":30289,\"September\":34678,\"October\":31265,\"November\":5086,\"December\":0})\n",
        "months = [\"January\",\"February\",\"March\",\"April\",\"May\",\"June\",\"July\",\"August\",\"September\",\"October\",\"November\",\"December\"]\n",
        "raised_months = [167,251,511,997,1881,6046,22371,30289,34678,31265,5086,0]\n",
        "d = {\"Month\": months,\"InvoicesRaised\":raised_months}\n",
        "raised_months = pd.DataFrame(data = d)"
      ],
      "execution_count": null,
      "outputs": []
    },
    {
      "cell_type": "code",
      "metadata": {
        "id": "xBzu1gYd2QFb",
        "colab": {
          "base_uri": "https://localhost:8080/",
          "height": 421
        },
        "outputId": "420db16a-4a8f-42ed-bcdd-587a6f268240"
      },
      "source": [
        "raised_months"
      ],
      "execution_count": null,
      "outputs": [
        {
          "output_type": "execute_result",
          "data": {
            "text/html": [
              "<div>\n",
              "<style scoped>\n",
              "    .dataframe tbody tr th:only-of-type {\n",
              "        vertical-align: middle;\n",
              "    }\n",
              "\n",
              "    .dataframe tbody tr th {\n",
              "        vertical-align: top;\n",
              "    }\n",
              "\n",
              "    .dataframe thead th {\n",
              "        text-align: right;\n",
              "    }\n",
              "</style>\n",
              "<table border=\"1\" class=\"dataframe\">\n",
              "  <thead>\n",
              "    <tr style=\"text-align: right;\">\n",
              "      <th></th>\n",
              "      <th>Month</th>\n",
              "      <th>InvoicesRaised</th>\n",
              "    </tr>\n",
              "  </thead>\n",
              "  <tbody>\n",
              "    <tr>\n",
              "      <th>0</th>\n",
              "      <td>January</td>\n",
              "      <td>167</td>\n",
              "    </tr>\n",
              "    <tr>\n",
              "      <th>1</th>\n",
              "      <td>February</td>\n",
              "      <td>251</td>\n",
              "    </tr>\n",
              "    <tr>\n",
              "      <th>2</th>\n",
              "      <td>March</td>\n",
              "      <td>511</td>\n",
              "    </tr>\n",
              "    <tr>\n",
              "      <th>3</th>\n",
              "      <td>April</td>\n",
              "      <td>997</td>\n",
              "    </tr>\n",
              "    <tr>\n",
              "      <th>4</th>\n",
              "      <td>May</td>\n",
              "      <td>1881</td>\n",
              "    </tr>\n",
              "    <tr>\n",
              "      <th>5</th>\n",
              "      <td>June</td>\n",
              "      <td>6046</td>\n",
              "    </tr>\n",
              "    <tr>\n",
              "      <th>6</th>\n",
              "      <td>July</td>\n",
              "      <td>22371</td>\n",
              "    </tr>\n",
              "    <tr>\n",
              "      <th>7</th>\n",
              "      <td>August</td>\n",
              "      <td>30289</td>\n",
              "    </tr>\n",
              "    <tr>\n",
              "      <th>8</th>\n",
              "      <td>September</td>\n",
              "      <td>34678</td>\n",
              "    </tr>\n",
              "    <tr>\n",
              "      <th>9</th>\n",
              "      <td>October</td>\n",
              "      <td>31265</td>\n",
              "    </tr>\n",
              "    <tr>\n",
              "      <th>10</th>\n",
              "      <td>November</td>\n",
              "      <td>5086</td>\n",
              "    </tr>\n",
              "    <tr>\n",
              "      <th>11</th>\n",
              "      <td>December</td>\n",
              "      <td>0</td>\n",
              "    </tr>\n",
              "  </tbody>\n",
              "</table>\n",
              "</div>"
            ],
            "text/plain": [
              "        Month  InvoicesRaised\n",
              "0     January             167\n",
              "1    February             251\n",
              "2       March             511\n",
              "3       April             997\n",
              "4         May            1881\n",
              "5        June            6046\n",
              "6        July           22371\n",
              "7      August           30289\n",
              "8   September           34678\n",
              "9     October           31265\n",
              "10   November            5086\n",
              "11   December               0"
            ]
          },
          "metadata": {
            "tags": []
          },
          "execution_count": 46
        }
      ]
    },
    {
      "cell_type": "code",
      "metadata": {
        "id": "fU0udZXu3zJv",
        "colab": {
          "base_uri": "https://localhost:8080/",
          "height": 357
        },
        "outputId": "050afdfd-61b7-4c0a-a9a0-21755d151e77"
      },
      "source": [
        "raised_months.plot.bar(x = \"Month\", y = \"InvoicesRaised\",title = \"Amount of Invoices Raised per Month\") "
      ],
      "execution_count": null,
      "outputs": [
        {
          "output_type": "execute_result",
          "data": {
            "text/plain": [
              "<matplotlib.axes._subplots.AxesSubplot at 0x7f1f78fe8160>"
            ]
          },
          "metadata": {
            "tags": []
          },
          "execution_count": 47
        },
        {
          "output_type": "display_data",
          "data": {
            "image/png": "[encoded data removed]",
            "text/plain": [
              "<Figure size 432x288 with 1 Axes>"
            ]
          },
          "metadata": {
            "tags": [],
            "needs_background": "light"
          }
        }
      ]
    },
    {
      "cell_type": "code",
      "metadata": {
        "id": "d8b1i_nc3238",
        "colab": {
          "base_uri": "https://localhost:8080/"
        },
        "outputId": "412d4309-14da-40a4-9c49-c7aa84c85b44"
      },
      "source": [
        "#counting the amount of payments made per month\n",
        "for i in range(12):\n",
        "  print(\"Pyments made on month {}:\".format(i+1))\n",
        "  value = df.loc[df[\"PaymentDate\"].dt.month == i+1].count()\n",
        "  value = value.to_frame(name = \"count\")\n",
        "  print((value[value.index == \"InvoiceKey\"])[\"count\"])"
      ],
      "execution_count": null,
      "outputs": [
        {
          "output_type": "stream",
          "text": [
            "Pyments made on month 1:\n",
            "InvoiceKey    74\n",
            "Name: count, dtype: int64\n",
            "Pyments made on month 2:\n",
            "InvoiceKey    43\n",
            "Name: count, dtype: int64\n",
            "Pyments made on month 3:\n",
            "InvoiceKey    39\n",
            "Name: count, dtype: int64\n",
            "Pyments made on month 4:\n",
            "InvoiceKey    29\n",
            "Name: count, dtype: int64\n",
            "Pyments made on month 5:\n",
            "InvoiceKey    10\n",
            "Name: count, dtype: int64\n",
            "Pyments made on month 6:\n",
            "InvoiceKey    23\n",
            "Name: count, dtype: int64\n",
            "Pyments made on month 7:\n",
            "InvoiceKey    5\n",
            "Name: count, dtype: int64\n",
            "Pyments made on month 8:\n",
            "InvoiceKey    4\n",
            "Name: count, dtype: int64\n",
            "Pyments made on month 9:\n",
            "InvoiceKey    2537\n",
            "Name: count, dtype: int64\n",
            "Pyments made on month 10:\n",
            "InvoiceKey    1123\n",
            "Name: count, dtype: int64\n",
            "Pyments made on month 11:\n",
            "InvoiceKey    303\n",
            "Name: count, dtype: int64\n",
            "Pyments made on month 12:\n",
            "InvoiceKey    142\n",
            "Name: count, dtype: int64\n"
          ],
          "name": "stdout"
        }
      ]
    },
    {
      "cell_type": "code",
      "metadata": {
        "id": "5RDD2Rwc5UUi",
        "colab": {
          "base_uri": "https://localhost:8080/",
          "height": 421
        },
        "outputId": "cea1373d-dc76-4ff9-f90d-3c3db8e3da9f"
      },
      "source": [
        "payments_made = [6898,3649,1155,823,444,234,194,3856,27940,35449,33247,19653]\n",
        "d = {\"Month\": months,\"PaymentsMade\":payments_made}\n",
        "payments_made = pd.DataFrame(data = d)\n",
        "payments_made"
      ],
      "execution_count": null,
      "outputs": [
        {
          "output_type": "execute_result",
          "data": {
            "text/html": [
              "<div>\n",
              "<style scoped>\n",
              "    .dataframe tbody tr th:only-of-type {\n",
              "        vertical-align: middle;\n",
              "    }\n",
              "\n",
              "    .dataframe tbody tr th {\n",
              "        vertical-align: top;\n",
              "    }\n",
              "\n",
              "    .dataframe thead th {\n",
              "        text-align: right;\n",
              "    }\n",
              "</style>\n",
              "<table border=\"1\" class=\"dataframe\">\n",
              "  <thead>\n",
              "    <tr style=\"text-align: right;\">\n",
              "      <th></th>\n",
              "      <th>Month</th>\n",
              "      <th>PaymentsMade</th>\n",
              "    </tr>\n",
              "  </thead>\n",
              "  <tbody>\n",
              "    <tr>\n",
              "      <th>0</th>\n",
              "      <td>January</td>\n",
              "      <td>6898</td>\n",
              "    </tr>\n",
              "    <tr>\n",
              "      <th>1</th>\n",
              "      <td>February</td>\n",
              "      <td>3649</td>\n",
              "    </tr>\n",
              "    <tr>\n",
              "      <th>2</th>\n",
              "      <td>March</td>\n",
              "      <td>1155</td>\n",
              "    </tr>\n",
              "    <tr>\n",
              "      <th>3</th>\n",
              "      <td>April</td>\n",
              "      <td>823</td>\n",
              "    </tr>\n",
              "    <tr>\n",
              "      <th>4</th>\n",
              "      <td>May</td>\n",
              "      <td>444</td>\n",
              "    </tr>\n",
              "    <tr>\n",
              "      <th>5</th>\n",
              "      <td>June</td>\n",
              "      <td>234</td>\n",
              "    </tr>\n",
              "    <tr>\n",
              "      <th>6</th>\n",
              "      <td>July</td>\n",
              "      <td>194</td>\n",
              "    </tr>\n",
              "    <tr>\n",
              "      <th>7</th>\n",
              "      <td>August</td>\n",
              "      <td>3856</td>\n",
              "    </tr>\n",
              "    <tr>\n",
              "      <th>8</th>\n",
              "      <td>September</td>\n",
              "      <td>27940</td>\n",
              "    </tr>\n",
              "    <tr>\n",
              "      <th>9</th>\n",
              "      <td>October</td>\n",
              "      <td>35449</td>\n",
              "    </tr>\n",
              "    <tr>\n",
              "      <th>10</th>\n",
              "      <td>November</td>\n",
              "      <td>33247</td>\n",
              "    </tr>\n",
              "    <tr>\n",
              "      <th>11</th>\n",
              "      <td>December</td>\n",
              "      <td>19653</td>\n",
              "    </tr>\n",
              "  </tbody>\n",
              "</table>\n",
              "</div>"
            ],
            "text/plain": [
              "        Month  PaymentsMade\n",
              "0     January          6898\n",
              "1    February          3649\n",
              "2       March          1155\n",
              "3       April           823\n",
              "4         May           444\n",
              "5        June           234\n",
              "6        July           194\n",
              "7      August          3856\n",
              "8   September         27940\n",
              "9     October         35449\n",
              "10   November         33247\n",
              "11   December         19653"
            ]
          },
          "metadata": {
            "tags": []
          },
          "execution_count": 49
        }
      ]
    },
    {
      "cell_type": "code",
      "metadata": {
        "id": "rRa6XEnq6AOf",
        "colab": {
          "base_uri": "https://localhost:8080/",
          "height": 357
        },
        "outputId": "d6c9753c-f6a8-4acf-ba32-648620bfd187"
      },
      "source": [
        "payments_made.plot.bar(x = \"Month\", y = \"PaymentsMade\",title = \"Amount of Payments made per Month\") "
      ],
      "execution_count": null,
      "outputs": [
        {
          "output_type": "execute_result",
          "data": {
            "text/plain": [
              "<matplotlib.axes._subplots.AxesSubplot at 0x7f1f75c414e0>"
            ]
          },
          "metadata": {
            "tags": []
          },
          "execution_count": 50
        },
        {
          "output_type": "display_data",
          "data": {
            "image/png": "[encoded data removed]",
            "text/plain": [
              "<Figure size 432x288 with 1 Axes>"
            ]
          },
          "metadata": {
            "tags": [],
            "needs_background": "light"
          }
        }
      ]
    },
    {
      "cell_type": "code",
      "metadata": {
        "id": "dNhJVs4w6Xkk"
      },
      "source": [
        ""
      ],
      "execution_count": null,
      "outputs": []
    },
    {
      "cell_type": "markdown",
      "metadata": {
        "id": "Z61gGaw9v6Cl"
      },
      "source": [
        "## Customers that have ceased to exist"
      ]
    },
    {
      "cell_type": "code",
      "metadata": {
        "id": "YfAKXWDSwCuf",
        "colab": {
          "base_uri": "https://localhost:8080/",
          "height": 419
        },
        "outputId": "ed8c45c4-6670-44f3-cc21-b09bbdffab2b"
      },
      "source": [
        "# CustomersID of customers with one invoice\n",
        "customers_one = customers[customers.occurences == 1]\n",
        "customers_one"
      ],
      "execution_count": null,
      "outputs": [
        {
          "output_type": "execute_result",
          "data": {
            "text/html": [
              "<div>\n",
              "<style scoped>\n",
              "    .dataframe tbody tr th:only-of-type {\n",
              "        vertical-align: middle;\n",
              "    }\n",
              "\n",
              "    .dataframe tbody tr th {\n",
              "        vertical-align: top;\n",
              "    }\n",
              "\n",
              "    .dataframe thead th {\n",
              "        text-align: right;\n",
              "    }\n",
              "</style>\n",
              "<table border=\"1\" class=\"dataframe\">\n",
              "  <thead>\n",
              "    <tr style=\"text-align: right;\">\n",
              "      <th></th>\n",
              "      <th>occurences</th>\n",
              "    </tr>\n",
              "  </thead>\n",
              "  <tbody>\n",
              "    <tr>\n",
              "      <th>16888038</th>\n",
              "      <td>1</td>\n",
              "    </tr>\n",
              "    <tr>\n",
              "      <th>16837809</th>\n",
              "      <td>1</td>\n",
              "    </tr>\n",
              "    <tr>\n",
              "      <th>16768375</th>\n",
              "      <td>1</td>\n",
              "    </tr>\n",
              "    <tr>\n",
              "      <th>16766977</th>\n",
              "      <td>1</td>\n",
              "    </tr>\n",
              "    <tr>\n",
              "      <th>16972011</th>\n",
              "      <td>1</td>\n",
              "    </tr>\n",
              "    <tr>\n",
              "      <th>...</th>\n",
              "      <td>...</td>\n",
              "    </tr>\n",
              "    <tr>\n",
              "      <th>16724600</th>\n",
              "      <td>1</td>\n",
              "    </tr>\n",
              "    <tr>\n",
              "      <th>16837243</th>\n",
              "      <td>1</td>\n",
              "    </tr>\n",
              "    <tr>\n",
              "      <th>16775809</th>\n",
              "      <td>1</td>\n",
              "    </tr>\n",
              "    <tr>\n",
              "      <th>16745090</th>\n",
              "      <td>1</td>\n",
              "    </tr>\n",
              "    <tr>\n",
              "      <th>16975801</th>\n",
              "      <td>1</td>\n",
              "    </tr>\n",
              "  </tbody>\n",
              "</table>\n",
              "<p>1342 rows × 1 columns</p>\n",
              "</div>"
            ],
            "text/plain": [
              "          occurences\n",
              "16888038           1\n",
              "16837809           1\n",
              "16768375           1\n",
              "16766977           1\n",
              "16972011           1\n",
              "...              ...\n",
              "16724600           1\n",
              "16837243           1\n",
              "16775809           1\n",
              "16745090           1\n",
              "16975801           1\n",
              "\n",
              "[1342 rows x 1 columns]"
            ]
          },
          "metadata": {
            "tags": []
          },
          "execution_count": 60
        }
      ]
    },
    {
      "cell_type": "code",
      "metadata": {
        "id": "gYX0aRJGwN-o"
      },
      "source": [
        ""
      ],
      "execution_count": null,
      "outputs": []
    }
  ]
}