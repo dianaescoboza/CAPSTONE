{
  "nbformat": 4,
  "nbformat_minor": 0,
  "metadata": {
    "colab": {
      "name": "EM_Clustering",
      "provenance": [],
      "collapsed_sections": []
    },
    "kernelspec": {
      "name": "python3",
      "display_name": "Python 3"
    }
  },
  "cells": [
    {
      "cell_type": "code",
      "metadata": {
        "id": "wvMANs8vKnLe"
      },
      "source": [
<<<<<<< HEAD
        "import pandas as pd\n",
        "import numpy as np\n",
        "from sklearn import preprocessing\n",
        "from sklearn.mixture import GaussianMixture\n",
        "from sklearn.preprocessing import OneHotEncoder\n",
        "import collections\n",
        "from scipy.spatial.distance import cdist \n",
        "from sklearn.decomposition import PCA\n",
        "from sklearn.preprocessing import scale\n",
        "from time import time\n",
        "import matplotlib.pyplot as plt\n",
        "from sklearn import metrics\n",
        "from pathlib import Path\n",
        "np.random.seed(42)\n",
        "import tensorflow as tf\n",
        "from sklearn.mixture import GaussianMixture # https://pythonmachinelearning.pro/clustering-with-gaussian-mixture-models/"
      ],
      "execution_count": 1,
=======
        "import os\n",
        "import sys\n",
        "from pathlib import Path\n",
        "import numpy as np\n",
        "import pandas as pd\n",
        "import matplotlib.pyplot as plt\n",
        "import tensorflow as tf\n",
        "from sklearn.mixture import GaussianMixture # https://pythonmachinelearning.pro/clustering-with-gaussian-mixture-models/"
      ],
      "execution_count": 13,
>>>>>>> 1b5752da86ee7542af835d076db8871a952fe34f
      "outputs": []
    },
    {
      "cell_type": "code",
      "metadata": {
        "id": "rgW6qdI2wzE9"
      },
      "source": [
        "DATA_DIR = \"data\"\n",
        "data_files = [str(filePath) for filePath in Path(DATA_DIR).glob(\"**/*\") if filePath.is_file()]"
      ],
<<<<<<< HEAD
      "execution_count": 5,
=======
      "execution_count": 4,
>>>>>>> 1b5752da86ee7542af835d076db8871a952fe34f
      "outputs": []
    },
    {
      "cell_type": "code",
      "metadata": {
        "id": "4fThM2n215F-",
<<<<<<< HEAD
        "outputId": "20df0b65-1a2b-4462-dd61-e8a6e9b428b6",
        "colab": {
          "base_uri": "https://localhost:8080/"
=======
        "outputId": "d6e29337-12fd-4cff-eefb-5203bf82849c",
        "colab": {
          "base_uri": "https://localhost:8080/",
          "height": 69
>>>>>>> 1b5752da86ee7542af835d076db8871a952fe34f
        }
      },
      "source": [
        "data_files"
      ],
<<<<<<< HEAD
      "execution_count": 6,
=======
      "execution_count": 5,
>>>>>>> 1b5752da86ee7542af835d076db8871a952fe34f
      "outputs": [
        {
          "output_type": "execute_result",
          "data": {
            "text/plain": [
<<<<<<< HEAD
              "['data/InvoiceExtract.csv',\n",
              " 'data/PaymentsExtract.csv',\n",
              " 'data/DebtorExtract.csv']"
=======
              "['data/DebtorExtract.csv',\n",
              " 'data/InvoiceExtract.csv',\n",
              " 'data/PaymentsExtract.csv']"
>>>>>>> 1b5752da86ee7542af835d076db8871a952fe34f
            ]
          },
          "metadata": {
            "tags": []
          },
<<<<<<< HEAD
          "execution_count": 6
=======
          "execution_count": 5
>>>>>>> 1b5752da86ee7542af835d076db8871a952fe34f
        }
      ]
    },
    {
      "cell_type": "code",
      "metadata": {
<<<<<<< HEAD
        "id": "jBbJD-jR189v"
      },
      "source": [
        "data_labels = ['Invoice','Payments','Debtor']\n",
        "data_dict = {data_labels[i]: pd.read_csv(data_files[i]) for i in range(len(data_labels))}"
      ],
      "execution_count": 7,
      "outputs": []
    },
    {
      "cell_type": "code",
      "metadata": {
        "id": "_nW0WTWCR7dx"
      },
      "source": [
        "debtor_df = data_dict['Debtor']\n",
        "payment_df = data_dict['Payments']\n",
        "invoice_df = data_dict['Invoice']"
      ],
      "execution_count": 8,
      "outputs": []
=======
        "id": "Sl5_nJH14KbX",
        "outputId": "c9ea4119-49e6-40d0-c891-bcda5209c963",
        "colab": {
          "base_uri": "https://localhost:8080/",
          "height": 415
        }
      },
      "source": [
        "pd.read_csv('data/DebtorExtract.csv')"
      ],
      "execution_count": 6,
      "outputs": [
        {
          "output_type": "execute_result",
          "data": {
            "text/html": [
              "<div>\n",
              "<style scoped>\n",
              "    .dataframe tbody tr th:only-of-type {\n",
              "        vertical-align: middle;\n",
              "    }\n",
              "\n",
              "    .dataframe tbody tr th {\n",
              "        vertical-align: top;\n",
              "    }\n",
              "\n",
              "    .dataframe thead th {\n",
              "        text-align: right;\n",
              "    }\n",
              "</style>\n",
              "<table border=\"1\" class=\"dataframe\">\n",
              "  <thead>\n",
              "    <tr style=\"text-align: right;\">\n",
              "      <th></th>\n",
              "      <th>CustomerKey</th>\n",
              "      <th>PostcodeOuter</th>\n",
              "    </tr>\n",
              "  </thead>\n",
              "  <tbody>\n",
              "    <tr>\n",
              "      <th>0</th>\n",
              "      <td>16721147</td>\n",
              "      <td>B11</td>\n",
              "    </tr>\n",
              "    <tr>\n",
              "      <th>1</th>\n",
              "      <td>16721148</td>\n",
              "      <td>DN31</td>\n",
              "    </tr>\n",
              "    <tr>\n",
              "      <th>2</th>\n",
              "      <td>16721154</td>\n",
              "      <td>BA11</td>\n",
              "    </tr>\n",
              "    <tr>\n",
              "      <th>3</th>\n",
              "      <td>16721165</td>\n",
              "      <td>IP18</td>\n",
              "    </tr>\n",
              "    <tr>\n",
              "      <th>4</th>\n",
              "      <td>16721166</td>\n",
              "      <td>B79</td>\n",
              "    </tr>\n",
              "    <tr>\n",
              "      <th>...</th>\n",
              "      <td>...</td>\n",
              "      <td>...</td>\n",
              "    </tr>\n",
              "    <tr>\n",
              "      <th>88094</th>\n",
              "      <td>16987538</td>\n",
              "      <td>HU12</td>\n",
              "    </tr>\n",
              "    <tr>\n",
              "      <th>88095</th>\n",
              "      <td>16987539</td>\n",
              "      <td>S3</td>\n",
              "    </tr>\n",
              "    <tr>\n",
              "      <th>88096</th>\n",
              "      <td>16987540</td>\n",
              "      <td>FK1</td>\n",
              "    </tr>\n",
              "    <tr>\n",
              "      <th>88097</th>\n",
              "      <td>16989241</td>\n",
              "      <td>PE2</td>\n",
              "    </tr>\n",
              "    <tr>\n",
              "      <th>88098</th>\n",
              "      <td>16984465</td>\n",
              "      <td>ME8</td>\n",
              "    </tr>\n",
              "  </tbody>\n",
              "</table>\n",
              "<p>88099 rows × 2 columns</p>\n",
              "</div>"
            ],
            "text/plain": [
              "       CustomerKey  PostcodeOuter\n",
              "0         16721147            B11\n",
              "1         16721148           DN31\n",
              "2         16721154           BA11\n",
              "3         16721165           IP18\n",
              "4         16721166            B79\n",
              "...            ...            ...\n",
              "88094     16987538           HU12\n",
              "88095     16987539             S3\n",
              "88096     16987540            FK1\n",
              "88097     16989241            PE2\n",
              "88098     16984465            ME8\n",
              "\n",
              "[88099 rows x 2 columns]"
            ]
          },
          "metadata": {
            "tags": []
          },
          "execution_count": 6
        }
      ]
>>>>>>> 1b5752da86ee7542af835d076db8871a952fe34f
    },
    {
      "cell_type": "code",
      "metadata": {
<<<<<<< HEAD
        "id": "bB5AoHnfSkkH"
      },
      "source": [
        "# Inner Join on Customer Key\n",
        "a = debtor_df.merge(invoice_df)"
      ],
      "execution_count": 9,
      "outputs": []
    },
    {
      "cell_type": "code",
      "metadata": {
        "id": "QO3qYYvdMyPL"
      },
      "source": [
        "# Inner Join on Invoice Key\n",
        "b = a.merge(payment_df, on = 'InvoiceKey')"
      ],
      "execution_count": 10,
      "outputs": []
    },
    {
      "cell_type": "code",
      "metadata": {
        "id": "VEviUCWDM1Lk"
      },
      "source": [
        "# Drop unnecessary columns\n",
        "b = b.drop(['CustomerKey_x', 'ExtractDate'], axis = 1)"
      ],
      "execution_count": 11,
      "outputs": []
    },
    {
      "cell_type": "code",
      "metadata": {
        "id": "pbnCLSUMM3iq"
      },
      "source": [
        "# Drop NA\n",
        "b = b.dropna()"
      ],
      "execution_count": 12,
      "outputs": []
=======
        "id": "dKY7kaMORz6q",
        "outputId": "81664226-9520-4ef2-dee4-dca17280b21d",
        "colab": {
          "base_uri": "https://localhost:8080/",
          "height": 609
        }
      },
      "source": [
        "pd.read_csv('data/InvoiceExtract.csv')"
      ],
      "execution_count": 9,
      "outputs": [
        {
          "output_type": "execute_result",
          "data": {
            "text/html": [
              "<div>\n",
              "<style scoped>\n",
              "    .dataframe tbody tr th:only-of-type {\n",
              "        vertical-align: middle;\n",
              "    }\n",
              "\n",
              "    .dataframe tbody tr th {\n",
              "        vertical-align: top;\n",
              "    }\n",
              "\n",
              "    .dataframe thead th {\n",
              "        text-align: right;\n",
              "    }\n",
              "</style>\n",
              "<table border=\"1\" class=\"dataframe\">\n",
              "  <thead>\n",
              "    <tr style=\"text-align: right;\">\n",
              "      <th></th>\n",
              "      <th>InvoiceKey</th>\n",
              "      <th>CustomerKey</th>\n",
              "      <th>IsCreditInvoice</th>\n",
              "      <th>RaisedDate</th>\n",
              "      <th>DueDate</th>\n",
              "      <th>OriginalInvoiceAmount</th>\n",
              "      <th>AmountOutstanding</th>\n",
              "      <th>StatementTransactionType</th>\n",
              "      <th>ExtractDate</th>\n",
              "    </tr>\n",
              "  </thead>\n",
              "  <tbody>\n",
              "    <tr>\n",
              "      <th>0</th>\n",
              "      <td>197017110</td>\n",
              "      <td>16744809</td>\n",
              "      <td>1</td>\n",
              "      <td>2018-01-01</td>\n",
              "      <td>2018-08-31</td>\n",
              "      <td>-61589.70</td>\n",
              "      <td>-61589.70</td>\n",
              "      <td>CRN</td>\n",
              "      <td>2020-09-18 16:21:06.333</td>\n",
              "    </tr>\n",
              "    <tr>\n",
              "      <th>1</th>\n",
              "      <td>197188287</td>\n",
              "      <td>16744809</td>\n",
              "      <td>1</td>\n",
              "      <td>2018-01-01</td>\n",
              "      <td>2018-12-30</td>\n",
              "      <td>-2826.19</td>\n",
              "      <td>-2826.19</td>\n",
              "      <td>CRN</td>\n",
              "      <td>2020-09-18 16:21:06.333</td>\n",
              "    </tr>\n",
              "    <tr>\n",
              "      <th>2</th>\n",
              "      <td>197057183</td>\n",
              "      <td>16798371</td>\n",
              "      <td>1</td>\n",
              "      <td>2018-01-02</td>\n",
              "      <td>2018-01-02</td>\n",
              "      <td>-150.00</td>\n",
              "      <td>0.00</td>\n",
              "      <td>CSH</td>\n",
              "      <td>2020-09-18 16:21:06.333</td>\n",
              "    </tr>\n",
              "    <tr>\n",
              "      <th>3</th>\n",
              "      <td>195398038</td>\n",
              "      <td>16732292</td>\n",
              "      <td>0</td>\n",
              "      <td>2018-01-02</td>\n",
              "      <td>2018-02-01</td>\n",
              "      <td>485.04</td>\n",
              "      <td>0.00</td>\n",
              "      <td>INV</td>\n",
              "      <td>2020-09-18 16:21:06.333</td>\n",
              "    </tr>\n",
              "    <tr>\n",
              "      <th>4</th>\n",
              "      <td>197057173</td>\n",
              "      <td>16776992</td>\n",
              "      <td>1</td>\n",
              "      <td>2018-01-02</td>\n",
              "      <td>2018-01-02</td>\n",
              "      <td>-645.66</td>\n",
              "      <td>0.00</td>\n",
              "      <td>JRN</td>\n",
              "      <td>2020-09-18 16:21:06.333</td>\n",
              "    </tr>\n",
              "    <tr>\n",
              "      <th>...</th>\n",
              "      <td>...</td>\n",
              "      <td>...</td>\n",
              "      <td>...</td>\n",
              "      <td>...</td>\n",
              "      <td>...</td>\n",
              "      <td>...</td>\n",
              "      <td>...</td>\n",
              "      <td>...</td>\n",
              "      <td>...</td>\n",
              "    </tr>\n",
              "    <tr>\n",
              "      <th>1009322</th>\n",
              "      <td>196341240</td>\n",
              "      <td>16971160</td>\n",
              "      <td>0</td>\n",
              "      <td>2019-06-30</td>\n",
              "      <td>2019-07-30</td>\n",
              "      <td>130.56</td>\n",
              "      <td>0.00</td>\n",
              "      <td>INV</td>\n",
              "      <td>2020-09-18 16:21:06.333</td>\n",
              "    </tr>\n",
              "    <tr>\n",
              "      <th>1009323</th>\n",
              "      <td>196341244</td>\n",
              "      <td>16829160</td>\n",
              "      <td>0</td>\n",
              "      <td>2019-06-30</td>\n",
              "      <td>2019-07-30</td>\n",
              "      <td>63.60</td>\n",
              "      <td>0.00</td>\n",
              "      <td>INV</td>\n",
              "      <td>2020-09-18 16:21:06.333</td>\n",
              "    </tr>\n",
              "    <tr>\n",
              "      <th>1009324</th>\n",
              "      <td>196341411</td>\n",
              "      <td>16764236</td>\n",
              "      <td>0</td>\n",
              "      <td>2019-06-30</td>\n",
              "      <td>2019-07-30</td>\n",
              "      <td>15.00</td>\n",
              "      <td>0.00</td>\n",
              "      <td>INV</td>\n",
              "      <td>2020-09-18 16:21:06.333</td>\n",
              "    </tr>\n",
              "    <tr>\n",
              "      <th>1009325</th>\n",
              "      <td>196341507</td>\n",
              "      <td>16832368</td>\n",
              "      <td>0</td>\n",
              "      <td>2019-06-30</td>\n",
              "      <td>2019-07-30</td>\n",
              "      <td>74.76</td>\n",
              "      <td>0.00</td>\n",
              "      <td>INV</td>\n",
              "      <td>2020-09-18 16:21:06.333</td>\n",
              "    </tr>\n",
              "    <tr>\n",
              "      <th>1009326</th>\n",
              "      <td>196341512</td>\n",
              "      <td>16878904</td>\n",
              "      <td>0</td>\n",
              "      <td>2019-06-30</td>\n",
              "      <td>2019-07-30</td>\n",
              "      <td>94.90</td>\n",
              "      <td>0.00</td>\n",
              "      <td>INV</td>\n",
              "      <td>2020-09-18 16:21:06.333</td>\n",
              "    </tr>\n",
              "  </tbody>\n",
              "</table>\n",
              "<p>1009327 rows × 9 columns</p>\n",
              "</div>"
            ],
            "text/plain": [
              "         InvoiceKey  ...              ExtractDate\n",
              "0         197017110  ...  2020-09-18 16:21:06.333\n",
              "1         197188287  ...  2020-09-18 16:21:06.333\n",
              "2         197057183  ...  2020-09-18 16:21:06.333\n",
              "3         195398038  ...  2020-09-18 16:21:06.333\n",
              "4         197057173  ...  2020-09-18 16:21:06.333\n",
              "...             ...  ...                      ...\n",
              "1009322   196341240  ...  2020-09-18 16:21:06.333\n",
              "1009323   196341244  ...  2020-09-18 16:21:06.333\n",
              "1009324   196341411  ...  2020-09-18 16:21:06.333\n",
              "1009325   196341507  ...  2020-09-18 16:21:06.333\n",
              "1009326   196341512  ...  2020-09-18 16:21:06.333\n",
              "\n",
              "[1009327 rows x 9 columns]"
            ]
          },
          "metadata": {
            "tags": []
          },
          "execution_count": 9
        }
      ]
>>>>>>> 1b5752da86ee7542af835d076db8871a952fe34f
    },
    {
      "cell_type": "code",
      "metadata": {
<<<<<<< HEAD
        "id": "ldCyGvpnNO6P"
      },
      "source": [
        "# Set date values to datetime\n",
        "b[\"RaisedDate\"] = pd.to_datetime(b[\"RaisedDate\"])\n",
        "b[\"DueDate\"] = pd.to_datetime(b[\"DueDate\"])\n",
        "b[\"PaymentDate\"] = pd.to_datetime(b[\"PaymentDate\"])"
      ],
      "execution_count": 13,
      "outputs": []
=======
        "id": "xQ41Ef--4Wza",
        "outputId": "88fb4be2-df1d-43d8-d0d9-e26fbab76bee",
        "colab": {
          "base_uri": "https://localhost:8080/",
          "height": 415
        }
      },
      "source": [
        "pd.read_csv('data/PaymentsExtract.csv')"
      ],
      "execution_count": 7,
      "outputs": [
        {
          "output_type": "execute_result",
          "data": {
            "text/html": [
              "<div>\n",
              "<style scoped>\n",
              "    .dataframe tbody tr th:only-of-type {\n",
              "        vertical-align: middle;\n",
              "    }\n",
              "\n",
              "    .dataframe tbody tr th {\n",
              "        vertical-align: top;\n",
              "    }\n",
              "\n",
              "    .dataframe thead th {\n",
              "        text-align: right;\n",
              "    }\n",
              "</style>\n",
              "<table border=\"1\" class=\"dataframe\">\n",
              "  <thead>\n",
              "    <tr style=\"text-align: right;\">\n",
              "      <th></th>\n",
              "      <th>InvoiceKey</th>\n",
              "      <th>CustomerKey</th>\n",
              "      <th>PaymentValue</th>\n",
              "      <th>PaymentDate</th>\n",
              "      <th>PaymentType</th>\n",
              "    </tr>\n",
              "  </thead>\n",
              "  <tbody>\n",
              "    <tr>\n",
              "      <th>0</th>\n",
              "      <td>196327726</td>\n",
              "      <td>16909966</td>\n",
              "      <td>137.82</td>\n",
              "      <td>2018-08-31</td>\n",
              "      <td>Barclays Multi</td>\n",
              "    </tr>\n",
              "    <tr>\n",
              "      <th>1</th>\n",
              "      <td>195354898</td>\n",
              "      <td>16758142</td>\n",
              "      <td>123.05</td>\n",
              "      <td>2020-09-15</td>\n",
              "      <td>Barclays Multi</td>\n",
              "    </tr>\n",
              "    <tr>\n",
              "      <th>2</th>\n",
              "      <td>196819246</td>\n",
              "      <td>16758142</td>\n",
              "      <td>145.76</td>\n",
              "      <td>2020-09-15</td>\n",
              "      <td>Barclays Multi</td>\n",
              "    </tr>\n",
              "    <tr>\n",
              "      <th>3</th>\n",
              "      <td>196385894</td>\n",
              "      <td>16765211</td>\n",
              "      <td>1149.72</td>\n",
              "      <td>2020-09-15</td>\n",
              "      <td>Barclays Multi</td>\n",
              "    </tr>\n",
              "    <tr>\n",
              "      <th>4</th>\n",
              "      <td>197226397</td>\n",
              "      <td>16907262</td>\n",
              "      <td>39.94</td>\n",
              "      <td>2020-09-15</td>\n",
              "      <td>Barclays Multi</td>\n",
              "    </tr>\n",
              "    <tr>\n",
              "      <th>...</th>\n",
              "      <td>...</td>\n",
              "      <td>...</td>\n",
              "      <td>...</td>\n",
              "      <td>...</td>\n",
              "      <td>...</td>\n",
              "    </tr>\n",
              "    <tr>\n",
              "      <th>549743</th>\n",
              "      <td>195439402</td>\n",
              "      <td>16836504</td>\n",
              "      <td>78.16</td>\n",
              "      <td>2018-08-31</td>\n",
              "      <td>Barclays Multi</td>\n",
              "    </tr>\n",
              "    <tr>\n",
              "      <th>549744</th>\n",
              "      <td>197095238</td>\n",
              "      <td>16772250</td>\n",
              "      <td>1771.79</td>\n",
              "      <td>2018-08-31</td>\n",
              "      <td>Barclays Multi</td>\n",
              "    </tr>\n",
              "    <tr>\n",
              "      <th>549745</th>\n",
              "      <td>195527079</td>\n",
              "      <td>16802894</td>\n",
              "      <td>41.89</td>\n",
              "      <td>2018-08-31</td>\n",
              "      <td>Barclays Multi</td>\n",
              "    </tr>\n",
              "    <tr>\n",
              "      <th>549746</th>\n",
              "      <td>195695090</td>\n",
              "      <td>16965351</td>\n",
              "      <td>1377.00</td>\n",
              "      <td>2018-08-31</td>\n",
              "      <td>Barclays Multi</td>\n",
              "    </tr>\n",
              "    <tr>\n",
              "      <th>549747</th>\n",
              "      <td>197144429</td>\n",
              "      <td>16729571</td>\n",
              "      <td>318.48</td>\n",
              "      <td>2018-08-31</td>\n",
              "      <td>Barclays Multi</td>\n",
              "    </tr>\n",
              "  </tbody>\n",
              "</table>\n",
              "<p>549748 rows × 5 columns</p>\n",
              "</div>"
            ],
            "text/plain": [
              "        InvoiceKey  CustomerKey  PaymentValue PaymentDate     PaymentType\n",
              "0        196327726     16909966        137.82  2018-08-31  Barclays Multi\n",
              "1        195354898     16758142        123.05  2020-09-15  Barclays Multi\n",
              "2        196819246     16758142        145.76  2020-09-15  Barclays Multi\n",
              "3        196385894     16765211       1149.72  2020-09-15  Barclays Multi\n",
              "4        197226397     16907262         39.94  2020-09-15  Barclays Multi\n",
              "...            ...          ...           ...         ...             ...\n",
              "549743   195439402     16836504         78.16  2018-08-31  Barclays Multi\n",
              "549744   197095238     16772250       1771.79  2018-08-31  Barclays Multi\n",
              "549745   195527079     16802894         41.89  2018-08-31  Barclays Multi\n",
              "549746   195695090     16965351       1377.00  2018-08-31  Barclays Multi\n",
              "549747   197144429     16729571        318.48  2018-08-31  Barclays Multi\n",
              "\n",
              "[549748 rows x 5 columns]"
            ]
          },
          "metadata": {
            "tags": []
          },
          "execution_count": 7
        }
      ]
>>>>>>> 1b5752da86ee7542af835d076db8871a952fe34f
    },
    {
      "cell_type": "code",
      "metadata": {
<<<<<<< HEAD
        "id": "917b4LqOM6xX"
      },
      "source": [
        "# Reset Index\n",
        "b = b.reset_index()"
      ],
      "execution_count": 14,
=======
        "id": "jBbJD-jR189v"
      },
      "source": [
        "data_labels = ['Debtor', 'Invoice', 'Payments']\n",
        "data_dict = {data_labels[i]: pd.read_csv(data_files[i]) for i in range(len(data_labels))}"
      ],
      "execution_count": 8,
>>>>>>> 1b5752da86ee7542af835d076db8871a952fe34f
      "outputs": []
    },
    {
      "cell_type": "code",
      "metadata": {
<<<<<<< HEAD
        "id": "yA81lWESM8fZ"
      },
      "source": [
        "# Create onehot encoder\n",
        "enc = OneHotEncoder(handle_unknown='ignore')"
      ],
      "execution_count": 15,
=======
        "id": "_nW0WTWCR7dx"
      },
      "source": [
        "df = pd.merge(data_dict['Invoice'], data_dict['Payments'], on = ['InvoiceKey', 'CustomerKey'])"
      ],
      "execution_count": 10,
>>>>>>> 1b5752da86ee7542af835d076db8871a952fe34f
      "outputs": []
    },
    {
      "cell_type": "code",
      "metadata": {
<<<<<<< HEAD
        "id": "kGcrJp9jM-4r",
        "outputId": "25538e23-a177-4b9e-83a5-b5e8349a75fa",
        "colab": {
          "base_uri": "https://localhost:8080/"
        }
      },
      "source": [
        "# One Hot Encode Categorical Variables\n",
        "# Statement Transaction Type\n",
        "enc_df = pd.DataFrame(data = enc.fit_transform(b[['StatementTransactionType']]).toarray(), columns = enc.categories_)\n",
        "b = b.join(enc_df)\n",
        "\n",
        "print(\"Encoded statement transaction type.\")\n",
        "\n",
        "# Payment Type\n",
        "enc_df = pd.DataFrame(data = enc.fit_transform(b[['PaymentType']]).toarray(), columns = enc.categories_)\n",
        "b = b.join(enc_df)\n",
        "print(\"Encoded payment type.\")\n",
        "\n",
        "\n",
        "# Is credit invoice\n",
        "enc_df = pd.DataFrame(data = enc.fit_transform(b[['IsCreditInvoice']]).toarray(), columns = enc.categories_)\n",
        "b = b.join(enc_df)\n",
        "print(\"Encoded is credit invoice.\")\n",
        "\n",
        "\n",
        "#Postal code\n",
        "\n",
        "#nc_df = pd.DataFrame(data = enc.fit_transform(b[[' PostcodeOuter']]).toarray(), columns = enc.categories_)\n",
        "# = b.join(enc_df)\n",
        "      \n",
        "#rint(\"Encoded postal code.\")\n",
        "\n",
        "b=b.drop([\"StatementTransactionType\", \"PaymentType\", \" PostcodeOuter\", \"IsCreditInvoice\"], axis = 1)"
      ],
      "execution_count": 16,
      "outputs": [
        {
          "output_type": "stream",
          "text": [
            "Encoded statement transaction type.\n",
            "Encoded payment type.\n",
            "Encoded is credit invoice.\n"
          ],
          "name": "stdout"
=======
        "id": "bB5AoHnfSkkH",
        "outputId": "19c2d2a1-0c1a-4e56-94ad-500cdbc3394a",
        "colab": {
          "base_uri": "https://localhost:8080/",
          "height": 609
        }
      },
      "source": [
        "df"
      ],
      "execution_count": 11,
      "outputs": [
        {
          "output_type": "execute_result",
          "data": {
            "text/html": [
              "<div>\n",
              "<style scoped>\n",
              "    .dataframe tbody tr th:only-of-type {\n",
              "        vertical-align: middle;\n",
              "    }\n",
              "\n",
              "    .dataframe tbody tr th {\n",
              "        vertical-align: top;\n",
              "    }\n",
              "\n",
              "    .dataframe thead th {\n",
              "        text-align: right;\n",
              "    }\n",
              "</style>\n",
              "<table border=\"1\" class=\"dataframe\">\n",
              "  <thead>\n",
              "    <tr style=\"text-align: right;\">\n",
              "      <th></th>\n",
              "      <th>InvoiceKey</th>\n",
              "      <th>CustomerKey</th>\n",
              "      <th>IsCreditInvoice</th>\n",
              "      <th>RaisedDate</th>\n",
              "      <th>DueDate</th>\n",
              "      <th>OriginalInvoiceAmount</th>\n",
              "      <th>AmountOutstanding</th>\n",
              "      <th>StatementTransactionType</th>\n",
              "      <th>ExtractDate</th>\n",
              "      <th>PaymentValue</th>\n",
              "      <th>PaymentDate</th>\n",
              "      <th>PaymentType</th>\n",
              "    </tr>\n",
              "  </thead>\n",
              "  <tbody>\n",
              "    <tr>\n",
              "      <th>0</th>\n",
              "      <td>197057173</td>\n",
              "      <td>16776992</td>\n",
              "      <td>1</td>\n",
              "      <td>2018-01-02</td>\n",
              "      <td>2018-01-02</td>\n",
              "      <td>-645.66</td>\n",
              "      <td>0.0</td>\n",
              "      <td>JRN</td>\n",
              "      <td>2020-09-18 16:21:06.333</td>\n",
              "      <td>-645.66</td>\n",
              "      <td>2018-12-17</td>\n",
              "      <td>Barclays Multi</td>\n",
              "    </tr>\n",
              "    <tr>\n",
              "      <th>1</th>\n",
              "      <td>196559812</td>\n",
              "      <td>16837363</td>\n",
              "      <td>1</td>\n",
              "      <td>2018-01-02</td>\n",
              "      <td>2018-01-02</td>\n",
              "      <td>-139.37</td>\n",
              "      <td>0.0</td>\n",
              "      <td>JRN</td>\n",
              "      <td>2020-09-18 16:21:06.333</td>\n",
              "      <td>-139.37</td>\n",
              "      <td>2018-11-01</td>\n",
              "      <td>Barclays Multi</td>\n",
              "    </tr>\n",
              "    <tr>\n",
              "      <th>2</th>\n",
              "      <td>195300967</td>\n",
              "      <td>16724474</td>\n",
              "      <td>1</td>\n",
              "      <td>2018-01-03</td>\n",
              "      <td>2018-01-03</td>\n",
              "      <td>-88.50</td>\n",
              "      <td>0.0</td>\n",
              "      <td>JRN</td>\n",
              "      <td>2020-09-18 16:21:06.333</td>\n",
              "      <td>-88.50</td>\n",
              "      <td>2018-09-24</td>\n",
              "      <td>Barclays Multi</td>\n",
              "    </tr>\n",
              "    <tr>\n",
              "      <th>3</th>\n",
              "      <td>195519971</td>\n",
              "      <td>16745090</td>\n",
              "      <td>0</td>\n",
              "      <td>2018-01-03</td>\n",
              "      <td>2018-03-02</td>\n",
              "      <td>168.00</td>\n",
              "      <td>0.0</td>\n",
              "      <td>INV</td>\n",
              "      <td>2020-09-18 16:21:06.333</td>\n",
              "      <td>168.00</td>\n",
              "      <td>2018-11-23</td>\n",
              "      <td>Barclays Multi</td>\n",
              "    </tr>\n",
              "    <tr>\n",
              "      <th>4</th>\n",
              "      <td>196697217</td>\n",
              "      <td>16817529</td>\n",
              "      <td>1</td>\n",
              "      <td>2018-01-03</td>\n",
              "      <td>2018-01-03</td>\n",
              "      <td>-626.38</td>\n",
              "      <td>0.0</td>\n",
              "      <td>JRN</td>\n",
              "      <td>2020-09-18 16:21:06.333</td>\n",
              "      <td>-626.38</td>\n",
              "      <td>2019-12-17</td>\n",
              "      <td>Barclays Multi</td>\n",
              "    </tr>\n",
              "    <tr>\n",
              "      <th>...</th>\n",
              "      <td>...</td>\n",
              "      <td>...</td>\n",
              "      <td>...</td>\n",
              "      <td>...</td>\n",
              "      <td>...</td>\n",
              "      <td>...</td>\n",
              "      <td>...</td>\n",
              "      <td>...</td>\n",
              "      <td>...</td>\n",
              "      <td>...</td>\n",
              "      <td>...</td>\n",
              "      <td>...</td>\n",
              "    </tr>\n",
              "    <tr>\n",
              "      <th>361514</th>\n",
              "      <td>196340182</td>\n",
              "      <td>16725749</td>\n",
              "      <td>0</td>\n",
              "      <td>2019-06-30</td>\n",
              "      <td>2019-07-30</td>\n",
              "      <td>95.90</td>\n",
              "      <td>0.0</td>\n",
              "      <td>INV</td>\n",
              "      <td>2020-09-18 16:21:06.333</td>\n",
              "      <td>95.90</td>\n",
              "      <td>2019-08-14</td>\n",
              "      <td>Barclays Multi</td>\n",
              "    </tr>\n",
              "    <tr>\n",
              "      <th>361515</th>\n",
              "      <td>196340751</td>\n",
              "      <td>16728765</td>\n",
              "      <td>0</td>\n",
              "      <td>2019-06-30</td>\n",
              "      <td>2019-07-30</td>\n",
              "      <td>406.09</td>\n",
              "      <td>0.0</td>\n",
              "      <td>INV</td>\n",
              "      <td>2020-09-18 16:21:06.333</td>\n",
              "      <td>406.09</td>\n",
              "      <td>2019-08-05</td>\n",
              "      <td>Barclays Multi</td>\n",
              "    </tr>\n",
              "    <tr>\n",
              "      <th>361516</th>\n",
              "      <td>196341240</td>\n",
              "      <td>16971160</td>\n",
              "      <td>0</td>\n",
              "      <td>2019-06-30</td>\n",
              "      <td>2019-07-30</td>\n",
              "      <td>130.56</td>\n",
              "      <td>0.0</td>\n",
              "      <td>INV</td>\n",
              "      <td>2020-09-18 16:21:06.333</td>\n",
              "      <td>130.56</td>\n",
              "      <td>2019-07-24</td>\n",
              "      <td>CheckM8</td>\n",
              "    </tr>\n",
              "    <tr>\n",
              "      <th>361517</th>\n",
              "      <td>196341411</td>\n",
              "      <td>16764236</td>\n",
              "      <td>0</td>\n",
              "      <td>2019-06-30</td>\n",
              "      <td>2019-07-30</td>\n",
              "      <td>15.00</td>\n",
              "      <td>0.0</td>\n",
              "      <td>INV</td>\n",
              "      <td>2020-09-18 16:21:06.333</td>\n",
              "      <td>15.00</td>\n",
              "      <td>2019-07-08</td>\n",
              "      <td>Barclays Multi</td>\n",
              "    </tr>\n",
              "    <tr>\n",
              "      <th>361518</th>\n",
              "      <td>196341507</td>\n",
              "      <td>16832368</td>\n",
              "      <td>0</td>\n",
              "      <td>2019-06-30</td>\n",
              "      <td>2019-07-30</td>\n",
              "      <td>74.76</td>\n",
              "      <td>0.0</td>\n",
              "      <td>INV</td>\n",
              "      <td>2020-09-18 16:21:06.333</td>\n",
              "      <td>74.76</td>\n",
              "      <td>2019-07-15</td>\n",
              "      <td>CheckM8</td>\n",
              "    </tr>\n",
              "  </tbody>\n",
              "</table>\n",
              "<p>361519 rows × 12 columns</p>\n",
              "</div>"
            ],
            "text/plain": [
              "        InvoiceKey  CustomerKey  ...  PaymentDate     PaymentType\n",
              "0        197057173     16776992  ...   2018-12-17  Barclays Multi\n",
              "1        196559812     16837363  ...   2018-11-01  Barclays Multi\n",
              "2        195300967     16724474  ...   2018-09-24  Barclays Multi\n",
              "3        195519971     16745090  ...   2018-11-23  Barclays Multi\n",
              "4        196697217     16817529  ...   2019-12-17  Barclays Multi\n",
              "...            ...          ...  ...          ...             ...\n",
              "361514   196340182     16725749  ...   2019-08-14  Barclays Multi\n",
              "361515   196340751     16728765  ...   2019-08-05  Barclays Multi\n",
              "361516   196341240     16971160  ...   2019-07-24         CheckM8\n",
              "361517   196341411     16764236  ...   2019-07-08  Barclays Multi\n",
              "361518   196341507     16832368  ...   2019-07-15         CheckM8\n",
              "\n",
              "[361519 rows x 12 columns]"
            ]
          },
          "metadata": {
            "tags": []
          },
          "execution_count": 11
>>>>>>> 1b5752da86ee7542af835d076db8871a952fe34f
        }
      ]
    },
    {
      "cell_type": "code",
      "metadata": {
<<<<<<< HEAD
        "id": "yewxQXENM4Kc"
      },
      "source": [
        "# Generate some variables for dates\n",
        "b[\"PaymentPercentage\"] =  b[\"PaymentValue\"] / b[\"OriginalInvoiceAmount\"]\n",
        "b[\"DaysToDue\"] = (b[\"DueDate\"] - b[\"PaymentDate\"]).astype('timedelta64[D]')\n",
        "b[\"PaymentWindow\"] = (b[\"DueDate\"] - b[\"RaisedDate\"]).astype('timedelta64[D]')"
      ],
      "execution_count": 17,
      "outputs": []
    },
    {
      "cell_type": "code",
      "metadata": {
        "id": "4_RykAMbNZ51"
      },
      "source": [
        "# Create x using only numerical columns\n",
        "remove_cols = [\"index\", \"CustomerKey_y\", \"InvoiceKey\", \"RaisedDate\", \"DueDate\", \"PaymentDate\"]\n",
        "x_cols = list(b.columns)\n",
        "for i in remove_cols:\n",
        "    x_cols.remove(i)\n",
        "x = b[x_cols]\n",
        "\n",
        "# Scale x\n",
        "data = scale(x)"
      ],
      "execution_count": 18,
=======
        "id": "yCWwIsTFX80Y"
      },
      "source": [
        "categorical_feats = ['IsCreditInvoice', 'StatementTransactionType', 'PaymentType']\n",
        "continuous_feats = ['OriginalInvoiceAmount', 'AmountOutstanding', 'PaymentValue']"
      ],
      "execution_count": 12,
>>>>>>> 1b5752da86ee7542af835d076db8871a952fe34f
      "outputs": []
    },
    {
      "cell_type": "code",
      "metadata": {
<<<<<<< HEAD
        "id": "ecTj8rR_Ywme"
      },
      "source": [
        "distortions = [] \n",
        "covariances = [] \n",
        "mapping1 = {} \n",
        "mapping2 = {} \n",
        "G = range(1,15) \n",
        "\n",
        "# Loop 10 times\n",
        "for g in G: \n",
        "    #Building and fitting the model \n",
        "    GMModel = GaussianMixture(n_components=g, ).fit(data) \n",
        "    GMModel.fit(data)     \n",
        "      \n",
        "    distortions.append(sum(np.min(cdist(data, GMModel.means_, \n",
        "                      'cosine'),axis=1)) / data.shape[0]) \n",
        "    covariances.append(GMModel.covariances_) \n",
        "  \n",
        "    mapping1[g] = sum(np.min(cdist(data, GMModel.means_, \n",
        "                 'cosine'),axis=1)) / data.shape[0] \n",
        "    mapping2[g] = GMModel.covariances_ "
      ],
      "execution_count": 19,
=======
        "id": "j5Kb3ECGX-Pt"
      },
      "source": [
        "gmm = GaussianMixture(n_components=2)"
      ],
      "execution_count": 14,
>>>>>>> 1b5752da86ee7542af835d076db8871a952fe34f
      "outputs": []
    },
    {
      "cell_type": "code",
      "metadata": {
<<<<<<< HEAD
        "id": "ILy3ooQJOdGY",
        "outputId": "49426f0a-862b-436a-abe0-76acbd2f72d0",
        "colab": {
          "base_uri": "https://localhost:8080/",
          "height": 295
        }
      },
      "source": [
        "plt.plot(G, distortions, 'bx-') \n",
        "plt.xlabel('Values of G') \n",
        "plt.ylabel('Distortion') \n",
        "plt.title('Elbow Method: Distortion') \n",
        "plt.show() "
      ],
      "execution_count": 20,
      "outputs": [
        {
          "output_type": "display_data",
          "data": {
            "image/png": "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\n",
            "text/plain": [
              "<Figure size 432x288 with 1 Axes>"
            ]
          },
          "metadata": {
            "tags": [],
            "needs_background": "light"
          }
=======
        "id": "-fwGA3V3ZhR8",
        "outputId": "b4786d74-24fd-4df8-ce32-89197b719948",
        "colab": {
          "base_uri": "https://localhost:8080/",
          "height": 415
        }
      },
      "source": [
        "df[['IsCreditInvoice'] + continuous_feats]"
      ],
      "execution_count": 18,
      "outputs": [
        {
          "output_type": "execute_result",
          "data": {
            "text/html": [
              "<div>\n",
              "<style scoped>\n",
              "    .dataframe tbody tr th:only-of-type {\n",
              "        vertical-align: middle;\n",
              "    }\n",
              "\n",
              "    .dataframe tbody tr th {\n",
              "        vertical-align: top;\n",
              "    }\n",
              "\n",
              "    .dataframe thead th {\n",
              "        text-align: right;\n",
              "    }\n",
              "</style>\n",
              "<table border=\"1\" class=\"dataframe\">\n",
              "  <thead>\n",
              "    <tr style=\"text-align: right;\">\n",
              "      <th></th>\n",
              "      <th>IsCreditInvoice</th>\n",
              "      <th>OriginalInvoiceAmount</th>\n",
              "      <th>AmountOutstanding</th>\n",
              "      <th>PaymentValue</th>\n",
              "    </tr>\n",
              "  </thead>\n",
              "  <tbody>\n",
              "    <tr>\n",
              "      <th>0</th>\n",
              "      <td>1</td>\n",
              "      <td>-645.66</td>\n",
              "      <td>0.0</td>\n",
              "      <td>-645.66</td>\n",
              "    </tr>\n",
              "    <tr>\n",
              "      <th>1</th>\n",
              "      <td>1</td>\n",
              "      <td>-139.37</td>\n",
              "      <td>0.0</td>\n",
              "      <td>-139.37</td>\n",
              "    </tr>\n",
              "    <tr>\n",
              "      <th>2</th>\n",
              "      <td>1</td>\n",
              "      <td>-88.50</td>\n",
              "      <td>0.0</td>\n",
              "      <td>-88.50</td>\n",
              "    </tr>\n",
              "    <tr>\n",
              "      <th>3</th>\n",
              "      <td>0</td>\n",
              "      <td>168.00</td>\n",
              "      <td>0.0</td>\n",
              "      <td>168.00</td>\n",
              "    </tr>\n",
              "    <tr>\n",
              "      <th>4</th>\n",
              "      <td>1</td>\n",
              "      <td>-626.38</td>\n",
              "      <td>0.0</td>\n",
              "      <td>-626.38</td>\n",
              "    </tr>\n",
              "    <tr>\n",
              "      <th>...</th>\n",
              "      <td>...</td>\n",
              "      <td>...</td>\n",
              "      <td>...</td>\n",
              "      <td>...</td>\n",
              "    </tr>\n",
              "    <tr>\n",
              "      <th>361514</th>\n",
              "      <td>0</td>\n",
              "      <td>95.90</td>\n",
              "      <td>0.0</td>\n",
              "      <td>95.90</td>\n",
              "    </tr>\n",
              "    <tr>\n",
              "      <th>361515</th>\n",
              "      <td>0</td>\n",
              "      <td>406.09</td>\n",
              "      <td>0.0</td>\n",
              "      <td>406.09</td>\n",
              "    </tr>\n",
              "    <tr>\n",
              "      <th>361516</th>\n",
              "      <td>0</td>\n",
              "      <td>130.56</td>\n",
              "      <td>0.0</td>\n",
              "      <td>130.56</td>\n",
              "    </tr>\n",
              "    <tr>\n",
              "      <th>361517</th>\n",
              "      <td>0</td>\n",
              "      <td>15.00</td>\n",
              "      <td>0.0</td>\n",
              "      <td>15.00</td>\n",
              "    </tr>\n",
              "    <tr>\n",
              "      <th>361518</th>\n",
              "      <td>0</td>\n",
              "      <td>74.76</td>\n",
              "      <td>0.0</td>\n",
              "      <td>74.76</td>\n",
              "    </tr>\n",
              "  </tbody>\n",
              "</table>\n",
              "<p>361519 rows × 4 columns</p>\n",
              "</div>"
            ],
            "text/plain": [
              "        IsCreditInvoice  OriginalInvoiceAmount  AmountOutstanding  PaymentValue\n",
              "0                     1                -645.66                0.0       -645.66\n",
              "1                     1                -139.37                0.0       -139.37\n",
              "2                     1                 -88.50                0.0        -88.50\n",
              "3                     0                 168.00                0.0        168.00\n",
              "4                     1                -626.38                0.0       -626.38\n",
              "...                 ...                    ...                ...           ...\n",
              "361514                0                  95.90                0.0         95.90\n",
              "361515                0                 406.09                0.0        406.09\n",
              "361516                0                 130.56                0.0        130.56\n",
              "361517                0                  15.00                0.0         15.00\n",
              "361518                0                  74.76                0.0         74.76\n",
              "\n",
              "[361519 rows x 4 columns]"
            ]
          },
          "metadata": {
            "tags": []
          },
          "execution_count": 18
>>>>>>> 1b5752da86ee7542af835d076db8871a952fe34f
        }
      ]
    },
    {
      "cell_type": "code",
      "metadata": {
<<<<<<< HEAD
        "id": "zDppcJMcfkua",
        "outputId": "447b5142-5845-4a13-de21-aae9f63537bd",
        "colab": {
          "base_uri": "https://localhost:8080/"
        }
      },
      "source": [
        "# Visualize the results on PCA-reduced data\n",
        "pca = PCA(2)\n",
        "reduced_data = pca.fit_transform(data)\n",
        "GMModel = GaussianMixture(n_components=3, )\n",
        "GMModel.fit(reduced_data)"
      ],
      "execution_count": 21,
=======
        "id": "ecTj8rR_Ywme",
        "outputId": "d8b625fa-84a2-4464-c3f1-07ac1e0d564e",
        "colab": {
          "base_uri": "https://localhost:8080/",
          "height": 87
        }
      },
      "source": [
        "gmm.fit(df[['IsCreditInvoice'] + continuous_feats])"
      ],
      "execution_count": 19,
>>>>>>> 1b5752da86ee7542af835d076db8871a952fe34f
      "outputs": [
        {
          "output_type": "execute_result",
          "data": {
            "text/plain": [
              "GaussianMixture(covariance_type='full', init_params='kmeans', max_iter=100,\n",
<<<<<<< HEAD
              "                means_init=None, n_components=3, n_init=1, precisions_init=None,\n",
=======
              "                means_init=None, n_components=2, n_init=1, precisions_init=None,\n",
>>>>>>> 1b5752da86ee7542af835d076db8871a952fe34f
              "                random_state=None, reg_covar=1e-06, tol=0.001, verbose=0,\n",
              "                verbose_interval=10, warm_start=False, weights_init=None)"
            ]
          },
          "metadata": {
            "tags": []
          },
<<<<<<< HEAD
          "execution_count": 21
=======
          "execution_count": 19
>>>>>>> 1b5752da86ee7542af835d076db8871a952fe34f
        }
      ]
    },
    {
      "cell_type": "code",
      "metadata": {
<<<<<<< HEAD
        "id": "77ncTrguhvFB"
      },
      "source": [
        "# Step size of the mesh. Decrease to increase the quality of the VQ.\n",
        "h = .02     # point in the mesh [x_min, x_max]x[y_min, y_max]."
      ],
      "execution_count": 22,
      "outputs": []
    },
    {
      "cell_type": "code",
      "metadata": {
        "id": "cfVrcQnNZEPV"
      },
      "source": [
        "# Plot the decision boundary. For that, we will assign a color to each\n",
        "x_min, x_max = reduced_data[:, 0].min() - 1, reduced_data[:, 0].max() + 1\n",
        "y_min, y_max = reduced_data[:, 1].min() - 1, reduced_data[:, 1].max() + 1\n",
        "xx, yy = np.meshgrid(np.arange(x_min, x_max, h), np.arange(y_min, y_max, h))"
      ],
      "execution_count": 23,
      "outputs": []
    },
    {
      "cell_type": "code",
      "metadata": {
        "id": "2qZf-dVQZOt_"
      },
      "source": [
        "Z = GMModel.predict(np.c_[xx.ravel(), yy.ravel()])"
      ],
      "execution_count": 24,
=======
        "id": "iojGULzaNCCE"
      },
      "source": [
        "def distanceFunc(X, MU):\n",
        "    # Inputs\n",
        "    # X: is an NxD matrix (N observations and D dimensions)\n",
        "    # MU: is an KxD matrix (K means and D dimensions)\n",
        "    # Outputs\n",
        "    # pair_dist: is the squared pairwise distance matrix (NxK)\n",
        "    # TODO\n",
        "    pair_dist = tf.transpose(tf.reduce_sum(tf.square(X - MU), axis=2))\n",
        "    return pair_dist"
      ],
      "execution_count": null,
>>>>>>> 1b5752da86ee7542af835d076db8871a952fe34f
      "outputs": []
    },
    {
      "cell_type": "code",
      "metadata": {
<<<<<<< HEAD
        "id": "kbgMk87wZS0a",
        "outputId": "6115b2bf-fff6-41ab-99f7-117ad2373881",
        "colab": {
          "base_uri": "https://localhost:8080/"
        }
      },
      "source": [
        "Z"
      ],
      "execution_count": 25,
      "outputs": [
        {
          "output_type": "execute_result",
          "data": {
            "text/plain": [
              "array([2, 2, 2, ..., 1, 1, 1])"
            ]
          },
          "metadata": {
            "tags": []
          },
          "execution_count": 25
        }
      ]
    },
    {
      "cell_type": "code",
      "metadata": {
        "id": "tM6Ow1cwZT4O"
      },
      "source": [
        "Z = Z.reshape(xx.shape)"
      ],
      "execution_count": 26,
=======
        "id": "O5YAVbQVPdJw"
      },
      "source": [
        "def log_GaussPDF(X, mu, sigma):\n",
        "    # Inputs\n",
        "    # X: N X D\n",
        "    # mu: K X D\n",
        "    # sigma: K X 1\n",
        "\n",
        "    # Outputs:\n",
        "    # log Gaussian PDF N X K\n",
        "\n",
        "    # TODO\n",
        "    dim = data.shape[1]\n",
        "    dist = distanceFunc(X, mu)\n",
        "    sigma = tf.transpose(sigma)\n",
        "    gauss_coeff = tf.log(2 * np.pi * sigma)\n",
        "    pdf = -(1/2)*dim*gauss_coeff - (dist/(2*sigma))\n",
        "    return pdf"
      ],
      "execution_count": null,
>>>>>>> 1b5752da86ee7542af835d076db8871a952fe34f
      "outputs": []
    },
    {
      "cell_type": "code",
      "metadata": {
<<<<<<< HEAD
        "id": "rRVJf8WNZWue",
        "outputId": "11d2745c-3739-46ff-aef0-5d02a028e784",
        "colab": {
          "base_uri": "https://localhost:8080/",
          "height": 268
        }
      },
      "source": [
        "plt.figure(1)\n",
        "plt.clf()\n",
        "plt.imshow(Z, interpolation='nearest',\n",
        "           extent=(xx.min(), xx.max(), yy.min(), yy.max()),\n",
        "           cmap=plt.cm.Accent,\n",
        "           aspect='auto', origin='lower')\n",
        "\n",
        "plt.plot(reduced_data[:, 0], reduced_data[:, 1], 'k.', markersize=0.5)\n",
        "# Plot the centroids as a white X\n",
        "means = GMModel.means_\n",
        "plt.scatter(means[:, 0], means[:, 1],\n",
        "            marker='x', s=169, linewidths=3,\n",
        "            color='w', zorder=10, label = \"Centroid\")\n",
        "plt.contour(xx,yy, Z)\n",
        "plt.title('GMM clustering (PCA-reduced data)')\n",
        "plt.legend()\n",
        "plt.xlim(x_min, x_max)\n",
        "plt.ylim(y_min, y_max)\n",
        "plt.xticks(())\n",
        "plt.yticks(())\n",
        "plt.show()"
      ],
      "execution_count": 34,
      "outputs": [
        {
          "output_type": "display_data",
          "data": {
            "image/png": "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\n",
            "text/plain": [
              "<Figure size 432x288 with 1 Axes>"
            ]
          },
          "metadata": {
            "tags": []
          }
        }
      ]
=======
        "id": "fJIbG3BOPgFd"
      },
      "source": [
        "def log_posterior(log_PDF, log_pi):\n",
        "    # Input\n",
        "    # log_PDF: log Gaussian PDF N X K\n",
        "    # log_pi: K X 1\n",
        "\n",
        "    # Outputs\n",
        "    # log_post: N X K\n",
        "\n",
        "    # TODO\n",
        "    log_pi = tf.transpose(log_pi)\n",
        "    prob = log_pi + log_PDF\n",
        "    prob_sum = hlp.reduce_logsumexp(prob, keep_dims=True)\n",
        "    posterior = prob - prob_sum\n",
        "    return posterior"
      ],
      "execution_count": null,
      "outputs": []
>>>>>>> 1b5752da86ee7542af835d076db8871a952fe34f
    },
    {
      "cell_type": "code",
      "metadata": {
<<<<<<< HEAD
        "id": "d1WXqOGYZaIk"
      },
      "source": [
        ""
=======
        "id": "o5zzznMNPh9O"
      },
      "source": [
        "def loss_function(log_PDF, log_pi):\n",
        "    loss = -tf.reduce_sum(hlp.reduce_logsumexp(log_PDF + log_pi, 1, keep_dims=True), axis =0)\n",
        "    return loss"
>>>>>>> 1b5752da86ee7542af835d076db8871a952fe34f
      ],
      "execution_count": null,
      "outputs": []
    }
  ]
}