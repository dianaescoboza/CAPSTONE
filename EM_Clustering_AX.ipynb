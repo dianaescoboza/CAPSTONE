{
  "nbformat": 4,
  "nbformat_minor": 0,
  "metadata": {
    "colab": {
      "name": "EM_Clustering_AX",
      "provenance": [],
      "collapsed_sections": []
    },
    "kernelspec": {
      "name": "python3",
      "display_name": "Python 3"
    }
  },
  "cells": [
    {
      "cell_type": "code",
      "metadata": {
        "id": "wvMANs8vKnLe"
      },
      "source": [
        "import pandas as pd\n",
        "import numpy as np\n",
        "from sklearn import preprocessing\n",
        "from sklearn.mixture import GaussianMixture\n",
        "from sklearn.preprocessing import OneHotEncoder\n",
        "import collections\n",
        "from scipy.spatial.distance import cdist \n",
        "from sklearn.decomposition import PCA\n",
        "from sklearn.preprocessing import scale\n",
        "from time import time\n",
        "import matplotlib.pyplot as plt\n",
        "from sklearn import metrics\n",
        "from pathlib import Path\n",
        "np.random.seed(42)\n",
        "import tensorflow as tf\n",
        "from sklearn.mixture import GaussianMixture # https://pythonmachinelearning.pro/clustering-with-gaussian-mixture-models/"
      ],
      "execution_count": 1,
      "outputs": []
    },
    {
      "cell_type": "code",
      "metadata": {
        "id": "rgW6qdI2wzE9"
      },
      "source": [
        "DATA_DIR = \"data\"\n",
        "data_files = [str(filePath) for filePath in Path(DATA_DIR).glob(\"**/*\") if filePath.is_file()]"
      ],
      "execution_count": 5,
      "outputs": []
    },
    {
      "cell_type": "code",
      "metadata": {
        "id": "4fThM2n215F-",
        "outputId": "20df0b65-1a2b-4462-dd61-e8a6e9b428b6",
        "colab": {
          "base_uri": "https://localhost:8080/"
        }
      },
      "source": [
        "data_files"
      ],
      "execution_count": 6,
      "outputs": [
        {
          "output_type": "execute_result",
          "data": {
            "text/plain": [
              "['data/InvoiceExtract.csv',\n",
              " 'data/PaymentsExtract.csv',\n",
              " 'data/DebtorExtract.csv']"
            ]
          },
          "metadata": {
            "tags": []
          },
          "execution_count": 6
        }
      ]
    },
    {
      "cell_type": "code",
      "metadata": {
        "id": "jBbJD-jR189v"
      },
      "source": [
        "data_labels = ['Invoice','Payments','Debtor']\n",
        "data_dict = {data_labels[i]: pd.read_csv(data_files[i]) for i in range(len(data_labels))}"
      ],
      "execution_count": 7,
      "outputs": []
    },
    {
      "cell_type": "code",
      "metadata": {
        "id": "_nW0WTWCR7dx"
      },
      "source": [
        "debtor_df = data_dict['Debtor']\n",
        "payment_df = data_dict['Payments']\n",
        "invoice_df = data_dict['Invoice']"
      ],
      "execution_count": 8,
      "outputs": []
    },
    {
      "cell_type": "code",
      "metadata": {
        "id": "bB5AoHnfSkkH"
      },
      "source": [
        "# Inner Join on Customer Key\n",
        "a = debtor_df.merge(invoice_df)"
      ],
      "execution_count": 9,
      "outputs": []
    },
    {
      "cell_type": "code",
      "metadata": {
        "id": "QO3qYYvdMyPL"
      },
      "source": [
        "# Inner Join on Invoice Key\n",
        "b = a.merge(payment_df, on = 'InvoiceKey')"
      ],
      "execution_count": 10,
      "outputs": []
    },
    {
      "cell_type": "code",
      "metadata": {
        "id": "VEviUCWDM1Lk"
      },
      "source": [
        "# Drop unnecessary columns\n",
        "b = b.drop(['CustomerKey_x', 'ExtractDate'], axis = 1)"
      ],
      "execution_count": 11,
      "outputs": []
    },
    {
      "cell_type": "code",
      "metadata": {
        "id": "pbnCLSUMM3iq"
      },
      "source": [
        "# Drop NA\n",
        "b = b.dropna()"
      ],
      "execution_count": 12,
      "outputs": []
    },
    {
      "cell_type": "code",
      "metadata": {
        "id": "ldCyGvpnNO6P"
      },
      "source": [
        "# Set date values to datetime\n",
        "b[\"RaisedDate\"] = pd.to_datetime(b[\"RaisedDate\"])\n",
        "b[\"DueDate\"] = pd.to_datetime(b[\"DueDate\"])\n",
        "b[\"PaymentDate\"] = pd.to_datetime(b[\"PaymentDate\"])"
      ],
      "execution_count": 13,
      "outputs": []
    },
    {
      "cell_type": "code",
      "metadata": {
        "id": "917b4LqOM6xX"
      },
      "source": [
        "# Reset Index\n",
        "b = b.reset_index()"
      ],
      "execution_count": 14,
      "outputs": []
    },
    {
      "cell_type": "code",
      "metadata": {
        "id": "yA81lWESM8fZ"
      },
      "source": [
        "# Create onehot encoder\n",
        "enc = OneHotEncoder(handle_unknown='ignore')"
      ],
      "execution_count": 15,
      "outputs": []
    },
    {
      "cell_type": "code",
      "metadata": {
        "id": "kGcrJp9jM-4r",
        "outputId": "25538e23-a177-4b9e-83a5-b5e8349a75fa",
        "colab": {
          "base_uri": "https://localhost:8080/"
        }
      },
      "source": [
        "# One Hot Encode Categorical Variables\n",
        "# Statement Transaction Type\n",
        "enc_df = pd.DataFrame(data = enc.fit_transform(b[['StatementTransactionType']]).toarray(), columns = enc.categories_)\n",
        "b = b.join(enc_df)\n",
        "\n",
        "print(\"Encoded statement transaction type.\")\n",
        "\n",
        "# Payment Type\n",
        "enc_df = pd.DataFrame(data = enc.fit_transform(b[['PaymentType']]).toarray(), columns = enc.categories_)\n",
        "b = b.join(enc_df)\n",
        "print(\"Encoded payment type.\")\n",
        "\n",
        "\n",
        "# Is credit invoice\n",
        "enc_df = pd.DataFrame(data = enc.fit_transform(b[['IsCreditInvoice']]).toarray(), columns = enc.categories_)\n",
        "b = b.join(enc_df)\n",
        "print(\"Encoded is credit invoice.\")\n",
        "\n",
        "\n",
        "#Postal code\n",
        "\n",
        "#nc_df = pd.DataFrame(data = enc.fit_transform(b[[' PostcodeOuter']]).toarray(), columns = enc.categories_)\n",
        "# = b.join(enc_df)\n",
        "      \n",
        "#rint(\"Encoded postal code.\")\n",
        "\n",
        "b=b.drop([\"StatementTransactionType\", \"PaymentType\", \" PostcodeOuter\", \"IsCreditInvoice\"], axis = 1)"
      ],
      "execution_count": 16,
      "outputs": [
        {
          "output_type": "stream",
          "text": [
            "Encoded statement transaction type.\n",
            "Encoded payment type.\n",
            "Encoded is credit invoice.\n"
          ],
          "name": "stdout"
        }
      ]
    },
    {
      "cell_type": "code",
      "metadata": {
        "id": "yewxQXENM4Kc"
      },
      "source": [
        "# Generate some variables for dates\n",
        "b[\"PaymentPercentage\"] =  b[\"PaymentValue\"] / b[\"OriginalInvoiceAmount\"]\n",
        "b[\"DaysToDue\"] = (b[\"DueDate\"] - b[\"PaymentDate\"]).astype('timedelta64[D]')\n",
        "b[\"PaymentWindow\"] = (b[\"DueDate\"] - b[\"RaisedDate\"]).astype('timedelta64[D]')"
      ],
      "execution_count": 17,
      "outputs": []
    },
    {
      "cell_type": "code",
      "metadata": {
        "id": "4_RykAMbNZ51"
      },
      "source": [
        "# Create x using only numerical columns\n",
        "remove_cols = [\"index\", \"CustomerKey_y\", \"InvoiceKey\", \"RaisedDate\", \"DueDate\", \"PaymentDate\"]\n",
        "x_cols = list(b.columns)\n",
        "for i in remove_cols:\n",
        "    x_cols.remove(i)\n",
        "x = b[x_cols]\n",
        "\n",
        "# Scale x\n",
        "data = scale(x)"
      ],
      "execution_count": 18,
      "outputs": []
    },
    {
      "cell_type": "code",
      "metadata": {
        "id": "ecTj8rR_Ywme"
      },
      "source": [
        "distortions = [] \n",
        "covariances = [] \n",
        "mapping1 = {} \n",
        "mapping2 = {} \n",
        "G = range(1,15) \n",
        "\n",
        "# Loop 10 times\n",
        "for g in G: \n",
        "    #Building and fitting the model \n",
        "    GMModel = GaussianMixture(n_components=g, ).fit(data) \n",
        "    GMModel.fit(data)     \n",
        "      \n",
        "    distortions.append(sum(np.min(cdist(data, GMModel.means_, \n",
        "                      'cosine'),axis=1)) / data.shape[0]) \n",
        "    covariances.append(GMModel.covariances_) \n",
        "  \n",
        "    mapping1[g] = sum(np.min(cdist(data, GMModel.means_, \n",
        "                 'cosine'),axis=1)) / data.shape[0] \n",
        "    mapping2[g] = GMModel.covariances_ "
      ],
      "execution_count": 19,
      "outputs": []
    },
    {
      "cell_type": "code",
      "metadata": {
        "id": "ILy3ooQJOdGY",
        "outputId": "49426f0a-862b-436a-abe0-76acbd2f72d0",
        "colab": {
          "base_uri": "https://localhost:8080/",
          "height": 295
        }
      },
      "source": [
        "plt.plot(G, distortions, 'bx-') \n",
        "plt.xlabel('Values of G') \n",
        "plt.ylabel('Distortion') \n",
        "plt.title('Elbow Method: Distortion') \n",
        "plt.show() "
      ],
      "execution_count": 20,
      "outputs": [
        {
          "output_type": "display_data",
          "data": {
            "image/png": "[encoded data removed]",
            "text/plain": [
              "<Figure size 432x288 with 1 Axes>"
            ]
          },
          "metadata": {
            "tags": [],
            "needs_background": "light"
          }
        }
      ]
    },
    {
      "cell_type": "code",
      "metadata": {
        "id": "zDppcJMcfkua",
        "outputId": "447b5142-5845-4a13-de21-aae9f63537bd",
        "colab": {
          "base_uri": "https://localhost:8080/"
        }
      },
      "source": [
        "# Visualize the results on PCA-reduced data\n",
        "pca = PCA(2)\n",
        "reduced_data = pca.fit_transform(data)\n",
        "GMModel = GaussianMixture(n_components=3, )\n",
        "GMModel.fit(reduced_data)"
      ],
      "execution_count": 21,
      "outputs": [
        {
          "output_type": "execute_result",
          "data": {
            "text/plain": [
              "GaussianMixture(covariance_type='full', init_params='kmeans', max_iter=100,\n",
              "                means_init=None, n_components=3, n_init=1, precisions_init=None,\n",
              "                random_state=None, reg_covar=1e-06, tol=0.001, verbose=0,\n",
              "                verbose_interval=10, warm_start=False, weights_init=None)"
            ]
          },
          "metadata": {
            "tags": []
          },
          "execution_count": 21
        }
      ]
    },
    {
      "cell_type": "code",
      "metadata": {
        "id": "77ncTrguhvFB"
      },
      "source": [
        "# Step size of the mesh. Decrease to increase the quality of the VQ.\n",
        "h = .02     # point in the mesh [x_min, x_max]x[y_min, y_max]."
      ],
      "execution_count": 22,
      "outputs": []
    },
    {
      "cell_type": "code",
      "metadata": {
        "id": "cfVrcQnNZEPV"
      },
      "source": [
        "# Plot the decision boundary. For that, we will assign a color to each\n",
        "x_min, x_max = reduced_data[:, 0].min() - 1, reduced_data[:, 0].max() + 1\n",
        "y_min, y_max = reduced_data[:, 1].min() - 1, reduced_data[:, 1].max() + 1\n",
        "xx, yy = np.meshgrid(np.arange(x_min, x_max, h), np.arange(y_min, y_max, h))"
      ],
      "execution_count": 23,
      "outputs": []
    },
    {
      "cell_type": "code",
      "metadata": {
        "id": "2qZf-dVQZOt_"
      },
      "source": [
        "Z = GMModel.predict(np.c_[xx.ravel(), yy.ravel()])"
      ],
      "execution_count": 24,
      "outputs": []
    },
    {
      "cell_type": "code",
      "metadata": {
        "id": "kbgMk87wZS0a",
        "outputId": "6115b2bf-fff6-41ab-99f7-117ad2373881",
        "colab": {
          "base_uri": "https://localhost:8080/"
        }
      },
      "source": [
        "Z"
      ],
      "execution_count": 25,
      "outputs": [
        {
          "output_type": "execute_result",
          "data": {
            "text/plain": [
              "array([2, 2, 2, ..., 1, 1, 1])"
            ]
          },
          "metadata": {
            "tags": []
          },
          "execution_count": 25
        }
      ]
    },
    {
      "cell_type": "code",
      "metadata": {
        "id": "tM6Ow1cwZT4O"
      },
      "source": [
        "Z = Z.reshape(xx.shape)"
      ],
      "execution_count": 26,
      "outputs": []
    },
    {
      "cell_type": "code",
      "metadata": {
        "id": "rRVJf8WNZWue",
        "outputId": "11d2745c-3739-46ff-aef0-5d02a028e784",
        "colab": {
          "base_uri": "https://localhost:8080/",
          "height": 268
        }
      },
      "source": [
        "plt.figure(1)\n",
        "plt.clf()\n",
        "plt.imshow(Z, interpolation='nearest',\n",
        "           extent=(xx.min(), xx.max(), yy.min(), yy.max()),\n",
        "           cmap=plt.cm.Accent,\n",
        "           aspect='auto', origin='lower')\n",
        "\n",
        "plt.plot(reduced_data[:, 0], reduced_data[:, 1], 'k.', markersize=0.5)\n",
        "# Plot the centroids as a white X\n",
        "means = GMModel.means_\n",
        "plt.scatter(means[:, 0], means[:, 1],\n",
        "            marker='x', s=169, linewidths=3,\n",
        "            color='w', zorder=10, label = \"Centroid\")\n",
        "plt.contour(xx,yy, Z)\n",
        "plt.title('GMM clustering (PCA-reduced data)')\n",
        "plt.legend()\n",
        "plt.xlim(x_min, x_max)\n",
        "plt.ylim(y_min, y_max)\n",
        "plt.xticks(())\n",
        "plt.yticks(())\n",
        "plt.show()"
      ],
      "execution_count": 34,
      "outputs": [
        {
          "output_type": "display_data",
          "data": {
            "image/png": "[encoded data removed]",
            "text/plain": [
              "<Figure size 432x288 with 1 Axes>"
            ]
          },
          "metadata": {
            "tags": []
          }
        }
      ]
    },
    {
      "cell_type": "code",
      "metadata": {
        "id": "d1WXqOGYZaIk"
      },
      "source": [
        ""
      ],
      "execution_count": null,
      "outputs": []
    }
  ]
}