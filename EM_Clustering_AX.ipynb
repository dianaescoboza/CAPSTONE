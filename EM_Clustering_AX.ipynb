{
  "nbformat": 4,
  "nbformat_minor": 0,
  "metadata": {
    "colab": {
      "name": "EM_Clustering_AX",
      "provenance": [],
      "collapsed_sections": []
    },
    "kernelspec": {
      "name": "python3",
      "display_name": "Python 3"
    }
  },
  "cells": [
    {
      "cell_type": "code",
      "metadata": {
        "id": "wvMANs8vKnLe"
      },
      "source": [
        "import pandas as pd\n",
        "import numpy as np\n",
        "from sklearn import preprocessing\n",
        "from sklearn.mixture import GaussianMixture\n",
        "from sklearn.preprocessing import OneHotEncoder\n",
        "import collections\n",
        "from scipy.spatial.distance import cdist \n",
        "from sklearn.decomposition import PCA\n",
        "from sklearn.preprocessing import scale\n",
        "from time import time\n",
        "import matplotlib.pyplot as plt\n",
        "from sklearn import metrics\n",
        "from pathlib import Path\n",
        "np.random.seed(42)\n",
        "import tensorflow as tf\n",
        "# Resource: https://pythonmachinelearning.pro/clustering-with-gaussian-mixture-models/"
      ],
      "execution_count": 1,
      "outputs": []
    },
    {
      "cell_type": "code",
      "metadata": {
        "id": "917b4LqOM6xX",
        "colab": {
          "base_uri": "https://localhost:8080/"
        },
        "outputId": "6027a5c6-8454-4400-ab62-19a8c212499c"
      },
      "source": [
        "processed_data = pd.read_csv('data.csv')"
      ],
      "execution_count": 2,
      "outputs": [
        {
          "output_type": "stream",
          "text": [
            "/usr/local/lib/python3.6/dist-packages/IPython/core/interactiveshell.py:2718: DtypeWarning: Columns (3) have mixed types.Specify dtype option on import or set low_memory=False.\n",
            "  interactivity=interactivity, compiler=compiler, result=result)\n"
          ],
          "name": "stderr"
        }
      ]
    },
    {
      "cell_type": "code",
      "metadata": {
        "colab": {
          "base_uri": "https://localhost:8080/",
          "height": 609
        },
        "id": "q_yESGqiBfpm",
        "outputId": "8656c674-078b-48ab-9a82-0985c7faf05b"
      },
      "source": [
        "processed_data"
      ],
      "execution_count": 3,
      "outputs": [
        {
          "output_type": "execute_result",
          "data": {
            "text/html": [
              "<div>\n",
              "<style scoped>\n",
              "    .dataframe tbody tr th:only-of-type {\n",
              "        vertical-align: middle;\n",
              "    }\n",
              "\n",
              "    .dataframe tbody tr th {\n",
              "        vertical-align: top;\n",
              "    }\n",
              "\n",
              "    .dataframe thead th {\n",
              "        text-align: right;\n",
              "    }\n",
              "</style>\n",
              "<table border=\"1\" class=\"dataframe\">\n",
              "  <thead>\n",
              "    <tr style=\"text-align: right;\">\n",
              "      <th></th>\n",
              "      <th>AmountOutstanding</th>\n",
              "      <th>CustomerKey</th>\n",
              "      <th>DueDate</th>\n",
              "      <th>EarliestPaymentDate</th>\n",
              "      <th>ExtractDate</th>\n",
              "      <th>InvoiceKey</th>\n",
              "      <th>IsCreditInvoice</th>\n",
              "      <th>OriginalInvoiceAmount</th>\n",
              "      <th>PaymentDate</th>\n",
              "      <th>PaymentType</th>\n",
              "      <th>PaymentValue</th>\n",
              "      <th>RaisedDate</th>\n",
              "      <th>StatementTransactionType</th>\n",
              "    </tr>\n",
              "  </thead>\n",
              "  <tbody>\n",
              "    <tr>\n",
              "      <th>0</th>\n",
              "      <td>0.0</td>\n",
              "      <td>16732292</td>\n",
              "      <td>2018-02-01</td>\n",
              "      <td>NaN</td>\n",
              "      <td>2020-09-18 16:21:06.333</td>\n",
              "      <td>195398038</td>\n",
              "      <td>0</td>\n",
              "      <td>485.04</td>\n",
              "      <td>NaN</td>\n",
              "      <td>NaN</td>\n",
              "      <td>NaN</td>\n",
              "      <td>2018-01-02</td>\n",
              "      <td>INV</td>\n",
              "    </tr>\n",
              "    <tr>\n",
              "      <th>1</th>\n",
              "      <td>0.0</td>\n",
              "      <td>16875354</td>\n",
              "      <td>2018-01-02</td>\n",
              "      <td>NaN</td>\n",
              "      <td>2020-09-18 16:21:06.333</td>\n",
              "      <td>196501155</td>\n",
              "      <td>0</td>\n",
              "      <td>46.08</td>\n",
              "      <td>NaN</td>\n",
              "      <td>NaN</td>\n",
              "      <td>NaN</td>\n",
              "      <td>2018-01-02</td>\n",
              "      <td>CSH</td>\n",
              "    </tr>\n",
              "    <tr>\n",
              "      <th>2</th>\n",
              "      <td>0.0</td>\n",
              "      <td>16742684</td>\n",
              "      <td>2018-03-02</td>\n",
              "      <td>NaN</td>\n",
              "      <td>2020-09-18 16:21:06.333</td>\n",
              "      <td>197118804</td>\n",
              "      <td>0</td>\n",
              "      <td>138.34</td>\n",
              "      <td>NaN</td>\n",
              "      <td>NaN</td>\n",
              "      <td>NaN</td>\n",
              "      <td>2018-01-02</td>\n",
              "      <td>INV</td>\n",
              "    </tr>\n",
              "    <tr>\n",
              "      <th>3</th>\n",
              "      <td>0.0</td>\n",
              "      <td>16745090</td>\n",
              "      <td>2018-03-02</td>\n",
              "      <td>NaN</td>\n",
              "      <td>2020-09-18 16:21:06.333</td>\n",
              "      <td>195519971</td>\n",
              "      <td>0</td>\n",
              "      <td>168.00</td>\n",
              "      <td>2018-11-23</td>\n",
              "      <td>Barclays Multi</td>\n",
              "      <td>168.00</td>\n",
              "      <td>2018-01-03</td>\n",
              "      <td>INV</td>\n",
              "    </tr>\n",
              "    <tr>\n",
              "      <th>4</th>\n",
              "      <td>0.0</td>\n",
              "      <td>16743947</td>\n",
              "      <td>2018-02-03</td>\n",
              "      <td>NaN</td>\n",
              "      <td>2020-09-18 16:21:06.333</td>\n",
              "      <td>196442471</td>\n",
              "      <td>0</td>\n",
              "      <td>819.60</td>\n",
              "      <td>2018-10-26</td>\n",
              "      <td>Barclays Multi</td>\n",
              "      <td>819.60</td>\n",
              "      <td>2018-01-04</td>\n",
              "      <td>INV</td>\n",
              "    </tr>\n",
              "    <tr>\n",
              "      <th>...</th>\n",
              "      <td>...</td>\n",
              "      <td>...</td>\n",
              "      <td>...</td>\n",
              "      <td>...</td>\n",
              "      <td>...</td>\n",
              "      <td>...</td>\n",
              "      <td>...</td>\n",
              "      <td>...</td>\n",
              "      <td>...</td>\n",
              "      <td>...</td>\n",
              "      <td>...</td>\n",
              "      <td>...</td>\n",
              "      <td>...</td>\n",
              "    </tr>\n",
              "    <tr>\n",
              "      <th>815389</th>\n",
              "      <td>0.0</td>\n",
              "      <td>16849111</td>\n",
              "      <td>2019-07-30</td>\n",
              "      <td>2019-07-30</td>\n",
              "      <td>2020-09-18 16:21:06.333</td>\n",
              "      <td>196911580</td>\n",
              "      <td>0</td>\n",
              "      <td>49.63</td>\n",
              "      <td>2019-08-30 00:00:00</td>\n",
              "      <td>Barclays Multi</td>\n",
              "      <td>49.63</td>\n",
              "      <td>2019-06-30</td>\n",
              "      <td>INV</td>\n",
              "    </tr>\n",
              "    <tr>\n",
              "      <th>815390</th>\n",
              "      <td>0.0</td>\n",
              "      <td>16847651</td>\n",
              "      <td>2019-07-30</td>\n",
              "      <td>2019-09-24</td>\n",
              "      <td>2020-09-18 16:21:06.333</td>\n",
              "      <td>195362531</td>\n",
              "      <td>0</td>\n",
              "      <td>356.33</td>\n",
              "      <td>2019-10-07 00:00:00</td>\n",
              "      <td>Barclays Multi</td>\n",
              "      <td>356.33</td>\n",
              "      <td>2019-06-30</td>\n",
              "      <td>INV</td>\n",
              "    </tr>\n",
              "    <tr>\n",
              "      <th>815391</th>\n",
              "      <td>0.0</td>\n",
              "      <td>16917308</td>\n",
              "      <td>2019-07-30</td>\n",
              "      <td>2019-07-29</td>\n",
              "      <td>2020-09-18 16:21:06.333</td>\n",
              "      <td>196871858</td>\n",
              "      <td>0</td>\n",
              "      <td>72.62</td>\n",
              "      <td>2019-08-09 00:00:00</td>\n",
              "      <td>Barclays Multi</td>\n",
              "      <td>72.62</td>\n",
              "      <td>2019-06-30</td>\n",
              "      <td>INV</td>\n",
              "    </tr>\n",
              "    <tr>\n",
              "      <th>815392</th>\n",
              "      <td>0.0</td>\n",
              "      <td>16782671</td>\n",
              "      <td>2019-07-30</td>\n",
              "      <td>2019-07-22</td>\n",
              "      <td>2020-09-18 16:21:06.333</td>\n",
              "      <td>195891626</td>\n",
              "      <td>0</td>\n",
              "      <td>311.44</td>\n",
              "      <td>2019-09-18 00:00:00</td>\n",
              "      <td>CheckM8</td>\n",
              "      <td>622.88</td>\n",
              "      <td>2019-06-30</td>\n",
              "      <td>INV</td>\n",
              "    </tr>\n",
              "    <tr>\n",
              "      <th>815393</th>\n",
              "      <td>0.0</td>\n",
              "      <td>16876991</td>\n",
              "      <td>2019-07-30</td>\n",
              "      <td>2019-08-16</td>\n",
              "      <td>2020-09-18 16:21:06.333</td>\n",
              "      <td>196139086</td>\n",
              "      <td>0</td>\n",
              "      <td>453.50</td>\n",
              "      <td>2019-09-20 00:00:00</td>\n",
              "      <td>Barclays Multi</td>\n",
              "      <td>453.50</td>\n",
              "      <td>2019-06-30</td>\n",
              "      <td>INV</td>\n",
              "    </tr>\n",
              "  </tbody>\n",
              "</table>\n",
              "<p>815394 rows × 13 columns</p>\n",
              "</div>"
            ],
            "text/plain": [
              "        AmountOutstanding  CustomerKey  ...  RaisedDate StatementTransactionType\n",
              "0                     0.0     16732292  ...  2018-01-02                      INV\n",
              "1                     0.0     16875354  ...  2018-01-02                      CSH\n",
              "2                     0.0     16742684  ...  2018-01-02                      INV\n",
              "3                     0.0     16745090  ...  2018-01-03                      INV\n",
              "4                     0.0     16743947  ...  2018-01-04                      INV\n",
              "...                   ...          ...  ...         ...                      ...\n",
              "815389                0.0     16849111  ...  2019-06-30                      INV\n",
              "815390                0.0     16847651  ...  2019-06-30                      INV\n",
              "815391                0.0     16917308  ...  2019-06-30                      INV\n",
              "815392                0.0     16782671  ...  2019-06-30                      INV\n",
              "815393                0.0     16876991  ...  2019-06-30                      INV\n",
              "\n",
              "[815394 rows x 13 columns]"
            ]
          },
          "metadata": {
            "tags": []
          },
          "execution_count": 3
        }
      ]
    },
    {
      "cell_type": "code",
      "metadata": {
        "id": "9mCs4WoGBzAc"
      },
      "source": [
        "# Drop unnecessary columns\n",
        "processed_data = processed_data.drop(['ExtractDate'], axis = 1)\n",
        "\n",
        "# Set date values to datetime\n",
        "processed_data[\"RaisedDate\"] = pd.to_datetime(processed_data[\"RaisedDate\"])\n",
        "processed_data[\"DueDate\"] = pd.to_datetime(processed_data[\"DueDate\"])\n",
        "processed_data[\"PaymentDate\"] = pd.to_datetime(processed_data[\"PaymentDate\"])\n",
        "\n",
        "# Drop NA\n",
        "processed_data = processed_data.dropna()\n",
        "\n",
        "# Reset Index\n",
        "processed_data = processed_data.reset_index()"
      ],
      "execution_count": 4,
      "outputs": []
    },
    {
      "cell_type": "code",
      "metadata": {
        "colab": {
          "base_uri": "https://localhost:8080/",
          "height": 609
        },
        "id": "rTEky1dLB9xi",
        "outputId": "2cb83f66-82c5-4ea9-9f84-308c2f6255e4"
      },
      "source": [
        "processed_data"
      ],
      "execution_count": 5,
      "outputs": [
        {
          "output_type": "execute_result",
          "data": {
            "text/html": [
              "<div>\n",
              "<style scoped>\n",
              "    .dataframe tbody tr th:only-of-type {\n",
              "        vertical-align: middle;\n",
              "    }\n",
              "\n",
              "    .dataframe tbody tr th {\n",
              "        vertical-align: top;\n",
              "    }\n",
              "\n",
              "    .dataframe thead th {\n",
              "        text-align: right;\n",
              "    }\n",
              "</style>\n",
              "<table border=\"1\" class=\"dataframe\">\n",
              "  <thead>\n",
              "    <tr style=\"text-align: right;\">\n",
              "      <th></th>\n",
              "      <th>index</th>\n",
              "      <th>AmountOutstanding</th>\n",
              "      <th>CustomerKey</th>\n",
              "      <th>DueDate</th>\n",
              "      <th>EarliestPaymentDate</th>\n",
              "      <th>InvoiceKey</th>\n",
              "      <th>IsCreditInvoice</th>\n",
              "      <th>OriginalInvoiceAmount</th>\n",
              "      <th>PaymentDate</th>\n",
              "      <th>PaymentType</th>\n",
              "      <th>PaymentValue</th>\n",
              "      <th>RaisedDate</th>\n",
              "      <th>StatementTransactionType</th>\n",
              "    </tr>\n",
              "  </thead>\n",
              "  <tbody>\n",
              "    <tr>\n",
              "      <th>0</th>\n",
              "      <td>814738</td>\n",
              "      <td>0.0</td>\n",
              "      <td>16889316</td>\n",
              "      <td>2018-02-28</td>\n",
              "      <td>2018-10-02</td>\n",
              "      <td>196750593</td>\n",
              "      <td>0</td>\n",
              "      <td>121.32</td>\n",
              "      <td>2018-10-23</td>\n",
              "      <td>Barclays Multi</td>\n",
              "      <td>121.32</td>\n",
              "      <td>2018-01-31</td>\n",
              "      <td>INV</td>\n",
              "    </tr>\n",
              "    <tr>\n",
              "      <th>1</th>\n",
              "      <td>814739</td>\n",
              "      <td>0.0</td>\n",
              "      <td>16967640</td>\n",
              "      <td>2018-05-30</td>\n",
              "      <td>2018-09-27</td>\n",
              "      <td>196851739</td>\n",
              "      <td>0</td>\n",
              "      <td>341.92</td>\n",
              "      <td>2019-01-08</td>\n",
              "      <td>Barclays Multi</td>\n",
              "      <td>341.92</td>\n",
              "      <td>2018-04-30</td>\n",
              "      <td>INV</td>\n",
              "    </tr>\n",
              "    <tr>\n",
              "      <th>2</th>\n",
              "      <td>814740</td>\n",
              "      <td>0.0</td>\n",
              "      <td>16916837</td>\n",
              "      <td>2018-06-30</td>\n",
              "      <td>2018-09-27</td>\n",
              "      <td>195665446</td>\n",
              "      <td>0</td>\n",
              "      <td>1300.82</td>\n",
              "      <td>2018-09-27</td>\n",
              "      <td>Barclays Multi</td>\n",
              "      <td>1300.82</td>\n",
              "      <td>2018-05-07</td>\n",
              "      <td>INV</td>\n",
              "    </tr>\n",
              "    <tr>\n",
              "      <th>3</th>\n",
              "      <td>814741</td>\n",
              "      <td>0.0</td>\n",
              "      <td>16916837</td>\n",
              "      <td>2018-06-30</td>\n",
              "      <td>2018-09-27</td>\n",
              "      <td>196283427</td>\n",
              "      <td>0</td>\n",
              "      <td>1874.34</td>\n",
              "      <td>2018-09-27</td>\n",
              "      <td>Barclays Multi</td>\n",
              "      <td>1874.34</td>\n",
              "      <td>2018-05-07</td>\n",
              "      <td>INV</td>\n",
              "    </tr>\n",
              "    <tr>\n",
              "      <th>4</th>\n",
              "      <td>814742</td>\n",
              "      <td>0.0</td>\n",
              "      <td>16885062</td>\n",
              "      <td>2018-06-30</td>\n",
              "      <td>2018-10-02</td>\n",
              "      <td>195552537</td>\n",
              "      <td>0</td>\n",
              "      <td>112.27</td>\n",
              "      <td>2018-12-04</td>\n",
              "      <td>Barclays Multi</td>\n",
              "      <td>112.27</td>\n",
              "      <td>2018-05-31</td>\n",
              "      <td>INV</td>\n",
              "    </tr>\n",
              "    <tr>\n",
              "      <th>...</th>\n",
              "      <td>...</td>\n",
              "      <td>...</td>\n",
              "      <td>...</td>\n",
              "      <td>...</td>\n",
              "      <td>...</td>\n",
              "      <td>...</td>\n",
              "      <td>...</td>\n",
              "      <td>...</td>\n",
              "      <td>...</td>\n",
              "      <td>...</td>\n",
              "      <td>...</td>\n",
              "      <td>...</td>\n",
              "      <td>...</td>\n",
              "    </tr>\n",
              "    <tr>\n",
              "      <th>651</th>\n",
              "      <td>815389</td>\n",
              "      <td>0.0</td>\n",
              "      <td>16849111</td>\n",
              "      <td>2019-07-30</td>\n",
              "      <td>2019-07-30</td>\n",
              "      <td>196911580</td>\n",
              "      <td>0</td>\n",
              "      <td>49.63</td>\n",
              "      <td>2019-08-30</td>\n",
              "      <td>Barclays Multi</td>\n",
              "      <td>49.63</td>\n",
              "      <td>2019-06-30</td>\n",
              "      <td>INV</td>\n",
              "    </tr>\n",
              "    <tr>\n",
              "      <th>652</th>\n",
              "      <td>815390</td>\n",
              "      <td>0.0</td>\n",
              "      <td>16847651</td>\n",
              "      <td>2019-07-30</td>\n",
              "      <td>2019-09-24</td>\n",
              "      <td>195362531</td>\n",
              "      <td>0</td>\n",
              "      <td>356.33</td>\n",
              "      <td>2019-10-07</td>\n",
              "      <td>Barclays Multi</td>\n",
              "      <td>356.33</td>\n",
              "      <td>2019-06-30</td>\n",
              "      <td>INV</td>\n",
              "    </tr>\n",
              "    <tr>\n",
              "      <th>653</th>\n",
              "      <td>815391</td>\n",
              "      <td>0.0</td>\n",
              "      <td>16917308</td>\n",
              "      <td>2019-07-30</td>\n",
              "      <td>2019-07-29</td>\n",
              "      <td>196871858</td>\n",
              "      <td>0</td>\n",
              "      <td>72.62</td>\n",
              "      <td>2019-08-09</td>\n",
              "      <td>Barclays Multi</td>\n",
              "      <td>72.62</td>\n",
              "      <td>2019-06-30</td>\n",
              "      <td>INV</td>\n",
              "    </tr>\n",
              "    <tr>\n",
              "      <th>654</th>\n",
              "      <td>815392</td>\n",
              "      <td>0.0</td>\n",
              "      <td>16782671</td>\n",
              "      <td>2019-07-30</td>\n",
              "      <td>2019-07-22</td>\n",
              "      <td>195891626</td>\n",
              "      <td>0</td>\n",
              "      <td>311.44</td>\n",
              "      <td>2019-09-18</td>\n",
              "      <td>CheckM8</td>\n",
              "      <td>622.88</td>\n",
              "      <td>2019-06-30</td>\n",
              "      <td>INV</td>\n",
              "    </tr>\n",
              "    <tr>\n",
              "      <th>655</th>\n",
              "      <td>815393</td>\n",
              "      <td>0.0</td>\n",
              "      <td>16876991</td>\n",
              "      <td>2019-07-30</td>\n",
              "      <td>2019-08-16</td>\n",
              "      <td>196139086</td>\n",
              "      <td>0</td>\n",
              "      <td>453.50</td>\n",
              "      <td>2019-09-20</td>\n",
              "      <td>Barclays Multi</td>\n",
              "      <td>453.50</td>\n",
              "      <td>2019-06-30</td>\n",
              "      <td>INV</td>\n",
              "    </tr>\n",
              "  </tbody>\n",
              "</table>\n",
              "<p>656 rows × 13 columns</p>\n",
              "</div>"
            ],
            "text/plain": [
              "      index  AmountOutstanding  ...  RaisedDate StatementTransactionType\n",
              "0    814738                0.0  ...  2018-01-31                      INV\n",
              "1    814739                0.0  ...  2018-04-30                      INV\n",
              "2    814740                0.0  ...  2018-05-07                      INV\n",
              "3    814741                0.0  ...  2018-05-07                      INV\n",
              "4    814742                0.0  ...  2018-05-31                      INV\n",
              "..      ...                ...  ...         ...                      ...\n",
              "651  815389                0.0  ...  2019-06-30                      INV\n",
              "652  815390                0.0  ...  2019-06-30                      INV\n",
              "653  815391                0.0  ...  2019-06-30                      INV\n",
              "654  815392                0.0  ...  2019-06-30                      INV\n",
              "655  815393                0.0  ...  2019-06-30                      INV\n",
              "\n",
              "[656 rows x 13 columns]"
            ]
          },
          "metadata": {
            "tags": []
          },
          "execution_count": 5
        }
      ]
    },
    {
      "cell_type": "code",
      "metadata": {
        "id": "yA81lWESM8fZ"
      },
      "source": [
        "# Create onehot encoder\n",
        "enc = OneHotEncoder(handle_unknown='ignore')"
      ],
      "execution_count": 6,
      "outputs": []
    },
    {
      "cell_type": "code",
      "metadata": {
        "id": "kGcrJp9jM-4r",
        "colab": {
          "base_uri": "https://localhost:8080/"
        },
        "outputId": "e9e122e2-e186-4e54-f720-0555e8059454"
      },
      "source": [
        "# One Hot Encode Categorical Variables\n",
        "# Statement Transaction Type\n",
        "enc_df = pd.DataFrame(data = enc.fit_transform(processed_data[['StatementTransactionType']]).toarray(), columns = enc.categories_)\n",
        "processed_data = processed_data.join(enc_df)\n",
        "\n",
        "print(\"Encoded statement transaction type.\")\n",
        "\n",
        "# Payment Type\n",
        "enc_df = pd.DataFrame(data = enc.fit_transform(processed_data[['PaymentType']]).toarray(), columns = enc.categories_)\n",
        "processed_data = processed_data.join(enc_df)\n",
        "print(\"Encoded payment type.\")\n",
        "\n",
        "\n",
        "# Is credit invoice\n",
        "enc_df = pd.DataFrame(data = enc.fit_transform(processed_data[['IsCreditInvoice']]).toarray(), columns = enc.categories_)\n",
        "processed_data = processed_data.join(enc_df)\n",
        "print(\"Encoded credit invoice.\")\n",
        "\n",
        "processed_data=processed_data.drop([\"StatementTransactionType\", \"PaymentType\", \"IsCreditInvoice\"], axis = 1)"
      ],
      "execution_count": 8,
      "outputs": [
        {
          "output_type": "stream",
          "text": [
            "Encoded statement transaction type.\n",
            "Encoded payment type.\n",
            "Encoded credit invoice.\n"
          ],
          "name": "stdout"
        }
      ]
    },
    {
      "cell_type": "code",
      "metadata": {
        "id": "yewxQXENM4Kc"
      },
      "source": [
        "# Generate some variables for dates\n",
        "processed_data[\"PaymentPercentage\"] =  processed_data[\"PaymentValue\"] / processed_data[\"OriginalInvoiceAmount\"]\n",
        "processed_data[\"DaysToDue\"] = (processed_data[\"DueDate\"] - processed_data[\"PaymentDate\"]).astype('timedelta64[D]')\n",
        "processed_data[\"PaymentWindow\"] = (processed_data[\"DueDate\"] - processed_data[\"RaisedDate\"]).astype('timedelta64[D]')"
      ],
      "execution_count": 9,
      "outputs": []
    },
    {
      "cell_type": "code",
      "metadata": {
        "colab": {
          "base_uri": "https://localhost:8080/",
          "height": 643
        },
        "id": "y8oKRF0wCS4c",
        "outputId": "1a00ccb6-892c-43fb-9060-e5bd71ecdbe4"
      },
      "source": [
        "processed_data"
      ],
      "execution_count": 10,
      "outputs": [
        {
          "output_type": "execute_result",
          "data": {
            "text/html": [
              "<div>\n",
              "<style scoped>\n",
              "    .dataframe tbody tr th:only-of-type {\n",
              "        vertical-align: middle;\n",
              "    }\n",
              "\n",
              "    .dataframe tbody tr th {\n",
              "        vertical-align: top;\n",
              "    }\n",
              "\n",
              "    .dataframe thead th {\n",
              "        text-align: right;\n",
              "    }\n",
              "</style>\n",
              "<table border=\"1\" class=\"dataframe\">\n",
              "  <thead>\n",
              "    <tr style=\"text-align: right;\">\n",
              "      <th></th>\n",
              "      <th>index</th>\n",
              "      <th>AmountOutstanding</th>\n",
              "      <th>CustomerKey</th>\n",
              "      <th>DueDate</th>\n",
              "      <th>EarliestPaymentDate</th>\n",
              "      <th>InvoiceKey</th>\n",
              "      <th>OriginalInvoiceAmount</th>\n",
              "      <th>PaymentDate</th>\n",
              "      <th>PaymentValue</th>\n",
              "      <th>RaisedDate</th>\n",
              "      <th>(CSH,)</th>\n",
              "      <th>(INV,)</th>\n",
              "      <th>(Barclays Multi,)</th>\n",
              "      <th>(CheckM8,)</th>\n",
              "      <th>(['Barclays Multi' 'CheckM8'],)</th>\n",
              "      <th>(0,)</th>\n",
              "      <th>PaymentPercentage</th>\n",
              "      <th>DaysToDue</th>\n",
              "      <th>PaymentWindow</th>\n",
              "    </tr>\n",
              "  </thead>\n",
              "  <tbody>\n",
              "    <tr>\n",
              "      <th>0</th>\n",
              "      <td>814738</td>\n",
              "      <td>0.0</td>\n",
              "      <td>16889316</td>\n",
              "      <td>2018-02-28</td>\n",
              "      <td>2018-10-02</td>\n",
              "      <td>196750593</td>\n",
              "      <td>121.32</td>\n",
              "      <td>2018-10-23</td>\n",
              "      <td>121.32</td>\n",
              "      <td>2018-01-31</td>\n",
              "      <td>0.0</td>\n",
              "      <td>1.0</td>\n",
              "      <td>1.0</td>\n",
              "      <td>0.0</td>\n",
              "      <td>0.0</td>\n",
              "      <td>1.0</td>\n",
              "      <td>1.0</td>\n",
              "      <td>-237.0</td>\n",
              "      <td>28.0</td>\n",
              "    </tr>\n",
              "    <tr>\n",
              "      <th>1</th>\n",
              "      <td>814739</td>\n",
              "      <td>0.0</td>\n",
              "      <td>16967640</td>\n",
              "      <td>2018-05-30</td>\n",
              "      <td>2018-09-27</td>\n",
              "      <td>196851739</td>\n",
              "      <td>341.92</td>\n",
              "      <td>2019-01-08</td>\n",
              "      <td>341.92</td>\n",
              "      <td>2018-04-30</td>\n",
              "      <td>0.0</td>\n",
              "      <td>1.0</td>\n",
              "      <td>1.0</td>\n",
              "      <td>0.0</td>\n",
              "      <td>0.0</td>\n",
              "      <td>1.0</td>\n",
              "      <td>1.0</td>\n",
              "      <td>-223.0</td>\n",
              "      <td>30.0</td>\n",
              "    </tr>\n",
              "    <tr>\n",
              "      <th>2</th>\n",
              "      <td>814740</td>\n",
              "      <td>0.0</td>\n",
              "      <td>16916837</td>\n",
              "      <td>2018-06-30</td>\n",
              "      <td>2018-09-27</td>\n",
              "      <td>195665446</td>\n",
              "      <td>1300.82</td>\n",
              "      <td>2018-09-27</td>\n",
              "      <td>1300.82</td>\n",
              "      <td>2018-05-07</td>\n",
              "      <td>0.0</td>\n",
              "      <td>1.0</td>\n",
              "      <td>1.0</td>\n",
              "      <td>0.0</td>\n",
              "      <td>0.0</td>\n",
              "      <td>1.0</td>\n",
              "      <td>1.0</td>\n",
              "      <td>-89.0</td>\n",
              "      <td>54.0</td>\n",
              "    </tr>\n",
              "    <tr>\n",
              "      <th>3</th>\n",
              "      <td>814741</td>\n",
              "      <td>0.0</td>\n",
              "      <td>16916837</td>\n",
              "      <td>2018-06-30</td>\n",
              "      <td>2018-09-27</td>\n",
              "      <td>196283427</td>\n",
              "      <td>1874.34</td>\n",
              "      <td>2018-09-27</td>\n",
              "      <td>1874.34</td>\n",
              "      <td>2018-05-07</td>\n",
              "      <td>0.0</td>\n",
              "      <td>1.0</td>\n",
              "      <td>1.0</td>\n",
              "      <td>0.0</td>\n",
              "      <td>0.0</td>\n",
              "      <td>1.0</td>\n",
              "      <td>1.0</td>\n",
              "      <td>-89.0</td>\n",
              "      <td>54.0</td>\n",
              "    </tr>\n",
              "    <tr>\n",
              "      <th>4</th>\n",
              "      <td>814742</td>\n",
              "      <td>0.0</td>\n",
              "      <td>16885062</td>\n",
              "      <td>2018-06-30</td>\n",
              "      <td>2018-10-02</td>\n",
              "      <td>195552537</td>\n",
              "      <td>112.27</td>\n",
              "      <td>2018-12-04</td>\n",
              "      <td>112.27</td>\n",
              "      <td>2018-05-31</td>\n",
              "      <td>0.0</td>\n",
              "      <td>1.0</td>\n",
              "      <td>1.0</td>\n",
              "      <td>0.0</td>\n",
              "      <td>0.0</td>\n",
              "      <td>1.0</td>\n",
              "      <td>1.0</td>\n",
              "      <td>-157.0</td>\n",
              "      <td>30.0</td>\n",
              "    </tr>\n",
              "    <tr>\n",
              "      <th>...</th>\n",
              "      <td>...</td>\n",
              "      <td>...</td>\n",
              "      <td>...</td>\n",
              "      <td>...</td>\n",
              "      <td>...</td>\n",
              "      <td>...</td>\n",
              "      <td>...</td>\n",
              "      <td>...</td>\n",
              "      <td>...</td>\n",
              "      <td>...</td>\n",
              "      <td>...</td>\n",
              "      <td>...</td>\n",
              "      <td>...</td>\n",
              "      <td>...</td>\n",
              "      <td>...</td>\n",
              "      <td>...</td>\n",
              "      <td>...</td>\n",
              "      <td>...</td>\n",
              "      <td>...</td>\n",
              "    </tr>\n",
              "    <tr>\n",
              "      <th>651</th>\n",
              "      <td>815389</td>\n",
              "      <td>0.0</td>\n",
              "      <td>16849111</td>\n",
              "      <td>2019-07-30</td>\n",
              "      <td>2019-07-30</td>\n",
              "      <td>196911580</td>\n",
              "      <td>49.63</td>\n",
              "      <td>2019-08-30</td>\n",
              "      <td>49.63</td>\n",
              "      <td>2019-06-30</td>\n",
              "      <td>0.0</td>\n",
              "      <td>1.0</td>\n",
              "      <td>1.0</td>\n",
              "      <td>0.0</td>\n",
              "      <td>0.0</td>\n",
              "      <td>1.0</td>\n",
              "      <td>1.0</td>\n",
              "      <td>-31.0</td>\n",
              "      <td>30.0</td>\n",
              "    </tr>\n",
              "    <tr>\n",
              "      <th>652</th>\n",
              "      <td>815390</td>\n",
              "      <td>0.0</td>\n",
              "      <td>16847651</td>\n",
              "      <td>2019-07-30</td>\n",
              "      <td>2019-09-24</td>\n",
              "      <td>195362531</td>\n",
              "      <td>356.33</td>\n",
              "      <td>2019-10-07</td>\n",
              "      <td>356.33</td>\n",
              "      <td>2019-06-30</td>\n",
              "      <td>0.0</td>\n",
              "      <td>1.0</td>\n",
              "      <td>1.0</td>\n",
              "      <td>0.0</td>\n",
              "      <td>0.0</td>\n",
              "      <td>1.0</td>\n",
              "      <td>1.0</td>\n",
              "      <td>-69.0</td>\n",
              "      <td>30.0</td>\n",
              "    </tr>\n",
              "    <tr>\n",
              "      <th>653</th>\n",
              "      <td>815391</td>\n",
              "      <td>0.0</td>\n",
              "      <td>16917308</td>\n",
              "      <td>2019-07-30</td>\n",
              "      <td>2019-07-29</td>\n",
              "      <td>196871858</td>\n",
              "      <td>72.62</td>\n",
              "      <td>2019-08-09</td>\n",
              "      <td>72.62</td>\n",
              "      <td>2019-06-30</td>\n",
              "      <td>0.0</td>\n",
              "      <td>1.0</td>\n",
              "      <td>1.0</td>\n",
              "      <td>0.0</td>\n",
              "      <td>0.0</td>\n",
              "      <td>1.0</td>\n",
              "      <td>1.0</td>\n",
              "      <td>-10.0</td>\n",
              "      <td>30.0</td>\n",
              "    </tr>\n",
              "    <tr>\n",
              "      <th>654</th>\n",
              "      <td>815392</td>\n",
              "      <td>0.0</td>\n",
              "      <td>16782671</td>\n",
              "      <td>2019-07-30</td>\n",
              "      <td>2019-07-22</td>\n",
              "      <td>195891626</td>\n",
              "      <td>311.44</td>\n",
              "      <td>2019-09-18</td>\n",
              "      <td>622.88</td>\n",
              "      <td>2019-06-30</td>\n",
              "      <td>0.0</td>\n",
              "      <td>1.0</td>\n",
              "      <td>0.0</td>\n",
              "      <td>1.0</td>\n",
              "      <td>0.0</td>\n",
              "      <td>1.0</td>\n",
              "      <td>2.0</td>\n",
              "      <td>-50.0</td>\n",
              "      <td>30.0</td>\n",
              "    </tr>\n",
              "    <tr>\n",
              "      <th>655</th>\n",
              "      <td>815393</td>\n",
              "      <td>0.0</td>\n",
              "      <td>16876991</td>\n",
              "      <td>2019-07-30</td>\n",
              "      <td>2019-08-16</td>\n",
              "      <td>196139086</td>\n",
              "      <td>453.50</td>\n",
              "      <td>2019-09-20</td>\n",
              "      <td>453.50</td>\n",
              "      <td>2019-06-30</td>\n",
              "      <td>0.0</td>\n",
              "      <td>1.0</td>\n",
              "      <td>1.0</td>\n",
              "      <td>0.0</td>\n",
              "      <td>0.0</td>\n",
              "      <td>1.0</td>\n",
              "      <td>1.0</td>\n",
              "      <td>-52.0</td>\n",
              "      <td>30.0</td>\n",
              "    </tr>\n",
              "  </tbody>\n",
              "</table>\n",
              "<p>656 rows × 19 columns</p>\n",
              "</div>"
            ],
            "text/plain": [
              "      index  AmountOutstanding  ...  DaysToDue PaymentWindow\n",
              "0    814738                0.0  ...     -237.0          28.0\n",
              "1    814739                0.0  ...     -223.0          30.0\n",
              "2    814740                0.0  ...      -89.0          54.0\n",
              "3    814741                0.0  ...      -89.0          54.0\n",
              "4    814742                0.0  ...     -157.0          30.0\n",
              "..      ...                ...  ...        ...           ...\n",
              "651  815389                0.0  ...      -31.0          30.0\n",
              "652  815390                0.0  ...      -69.0          30.0\n",
              "653  815391                0.0  ...      -10.0          30.0\n",
              "654  815392                0.0  ...      -50.0          30.0\n",
              "655  815393                0.0  ...      -52.0          30.0\n",
              "\n",
              "[656 rows x 19 columns]"
            ]
          },
          "metadata": {
            "tags": []
          },
          "execution_count": 10
        }
      ]
    },
    {
      "cell_type": "code",
      "metadata": {
        "id": "4_RykAMbNZ51"
      },
      "source": [
        "# Create x using only numerical columns\n",
        "remove_cols = [\"index\", \"DueDate\", \"EarliestPaymentDate\", \"InvoiceKey\", \"PaymentDate\", \"RaisedDate\"]\n",
        "x_cols = list(processed_data.columns)\n",
        "for i in remove_cols:\n",
        "    x_cols.remove(i)\n",
        "x = processed_data[x_cols]\n",
        "\n",
        "# Scale x\n",
        "data = scale(x)"
      ],
      "execution_count": 11,
      "outputs": []
    },
    {
      "cell_type": "code",
      "metadata": {
        "colab": {
          "base_uri": "https://localhost:8080/"
        },
        "id": "OCuAh91TYvhF",
        "outputId": "21f95029-9021-4e8c-c7ab-ad6548a4af42"
      },
      "source": [
        "data.shape"
      ],
      "execution_count": 13,
      "outputs": [
        {
          "output_type": "execute_result",
          "data": {
            "text/plain": [
              "(656, 13)"
            ]
          },
          "metadata": {
            "tags": []
          },
          "execution_count": 13
        }
      ]
    },
    {
      "cell_type": "code",
      "metadata": {
        "id": "ecTj8rR_Ywme"
      },
      "source": [
        "distortions = [] \n",
        "covariances = [] \n",
        "mapping1 = {} \n",
        "mapping2 = {} \n",
        "G = range(1,15) \n",
        "\n",
        "# Loop 10 times\n",
        "for g in G: \n",
        "    #Building and fitting the model \n",
        "    GMModel = GaussianMixture(n_components=g, ).fit(data) \n",
        "    GMModel.fit(data)     \n",
        "      \n",
        "    distortions.append(sum(np.min(cdist(data, GMModel.means_, \n",
        "                      'cosine'),axis=1)) / data.shape[0]) \n",
        "    covariances.append(GMModel.covariances_) \n",
        "  \n",
        "    mapping1[g] = sum(np.min(cdist(data, GMModel.means_, \n",
        "                 'cosine'),axis=1)) / data.shape[0] \n",
        "    mapping2[g] = GMModel.covariances_ "
      ],
      "execution_count": 14,
      "outputs": []
    },
    {
      "cell_type": "code",
      "metadata": {
        "id": "ILy3ooQJOdGY",
        "colab": {
          "base_uri": "https://localhost:8080/",
          "height": 295
        },
        "outputId": "c42945e8-d9be-428e-8881-5b813623d75a"
      },
      "source": [
        "plt.plot(G, distortions, 'bx-') \n",
        "plt.xlabel('Values of G') \n",
        "plt.ylabel('Distortion') \n",
        "plt.title('Elbow Method: Distortion') \n",
        "plt.show() "
      ],
      "execution_count": 15,
      "outputs": [
        {
          "output_type": "display_data",
          "data": {
            "image/png": "[encoded data removed]",
            "text/plain": [
              "<Figure size 432x288 with 1 Axes>"
            ]
          },
          "metadata": {
            "tags": [],
            "needs_background": "light"
          }
        }
      ]
    },
    {
      "cell_type": "code",
      "metadata": {
        "id": "zDppcJMcfkua",
        "colab": {
          "base_uri": "https://localhost:8080/"
        },
        "outputId": "2ec6848a-9292-45eb-ab2e-d6ad4ad864dd"
      },
      "source": [
        "# Visualize the results on PCA-reduced data\n",
        "pca = PCA(2)\n",
        "reduced_data = pca.fit_transform(data)\n",
        "GMModel = GaussianMixture(n_components=3, )\n",
        "GMModel.fit(reduced_data)"
      ],
      "execution_count": 23,
      "outputs": [
        {
          "output_type": "execute_result",
          "data": {
            "text/plain": [
              "GaussianMixture(covariance_type='full', init_params='kmeans', max_iter=100,\n",
              "                means_init=None, n_components=3, n_init=1, precisions_init=None,\n",
              "                random_state=None, reg_covar=1e-06, tol=0.001, verbose=0,\n",
              "                verbose_interval=10, warm_start=False, weights_init=None)"
            ]
          },
          "metadata": {
            "tags": []
          },
          "execution_count": 23
        }
      ]
    },
    {
      "cell_type": "code",
      "metadata": {
        "id": "77ncTrguhvFB"
      },
      "source": [
        "# Step size of the mesh. Decrease to increase the quality of the VQ.\n",
        "h = .02     # point in the mesh [x_min, x_max]x[y_min, y_max]."
      ],
      "execution_count": 24,
      "outputs": []
    },
    {
      "cell_type": "code",
      "metadata": {
        "id": "cfVrcQnNZEPV"
      },
      "source": [
        "# Plot the decision boundary. For that, we will assign a color to each\n",
        "x_min, x_max = reduced_data[:, 0].min() - 1, reduced_data[:, 0].max() + 1\n",
        "y_min, y_max = reduced_data[:, 1].min() - 1, reduced_data[:, 1].max() + 1\n",
        "xx, yy = np.meshgrid(np.arange(x_min, x_max, h), np.arange(y_min, y_max, h))"
      ],
      "execution_count": 25,
      "outputs": []
    },
    {
      "cell_type": "code",
      "metadata": {
        "id": "2qZf-dVQZOt_"
      },
      "source": [
        "Z = GMModel.predict(np.c_[xx.ravel(), yy.ravel()])"
      ],
      "execution_count": 26,
      "outputs": []
    },
    {
      "cell_type": "code",
      "metadata": {
        "id": "kbgMk87wZS0a",
        "colab": {
          "base_uri": "https://localhost:8080/"
        },
        "outputId": "bb2cf80f-454c-443d-85a0-6e0bc1f026de"
      },
      "source": [
        "Z"
      ],
      "execution_count": 27,
      "outputs": [
        {
          "output_type": "execute_result",
          "data": {
            "text/plain": [
              "array([0, 0, 0, ..., 1, 1, 1])"
            ]
          },
          "metadata": {
            "tags": []
          },
          "execution_count": 27
        }
      ]
    },
    {
      "cell_type": "code",
      "metadata": {
        "id": "tM6Ow1cwZT4O"
      },
      "source": [
        "Z = Z.reshape(xx.shape)"
      ],
      "execution_count": 28,
      "outputs": []
    },
    {
      "cell_type": "code",
      "metadata": {
        "id": "rRVJf8WNZWue",
        "colab": {
          "base_uri": "https://localhost:8080/",
          "height": 268
        },
        "outputId": "1ab14360-a07d-4c94-b2da-07f68044a006"
      },
      "source": [
        "plt.figure(1)\n",
        "plt.clf()\n",
        "plt.imshow(Z, interpolation='nearest',\n",
        "           extent=(xx.min(), xx.max(), yy.min(), yy.max()),\n",
        "           cmap=plt.cm.Accent,\n",
        "           aspect='auto', origin='lower')\n",
        "\n",
        "plt.plot(reduced_data[:, 0], reduced_data[:, 1], 'k.', markersize=0.5)\n",
        "# Plot the centroids as a white X\n",
        "means = GMModel.means_\n",
        "plt.scatter(means[:, 0], means[:, 1],\n",
        "            marker='x', s=169, linewidths=3,\n",
        "            color='w', zorder=10, label = \"Centroid\")\n",
        "plt.contour(xx,yy, Z)\n",
        "plt.title('GMM clustering k = 3 (PCA-reduced data)')\n",
        "plt.legend()\n",
        "plt.xlim(x_min, x_max)\n",
        "plt.ylim(y_min, y_max)\n",
        "plt.xticks(())\n",
        "plt.yticks(())\n",
        "plt.show()"
      ],
      "execution_count": 30,
      "outputs": [
        {
          "output_type": "display_data",
          "data": {
            "image/png": "[encoded data removed]",
            "text/plain": [
              "<Figure size 432x288 with 1 Axes>"
            ]
          },
          "metadata": {
            "tags": []
          }
        }
      ]
    },
    {
      "cell_type": "code",
      "metadata": {
        "id": "d1WXqOGYZaIk",
        "colab": {
          "base_uri": "https://localhost:8080/"
        },
        "outputId": "7227966a-16ae-46fa-e87b-b4cbbfb15781"
      },
      "source": [
        "GMModel = GaussianMixture(n_components=4, )\n",
        "GMModel.fit(reduced_data)"
      ],
      "execution_count": 31,
      "outputs": [
        {
          "output_type": "execute_result",
          "data": {
            "text/plain": [
              "GaussianMixture(covariance_type='full', init_params='kmeans', max_iter=100,\n",
              "                means_init=None, n_components=4, n_init=1, precisions_init=None,\n",
              "                random_state=None, reg_covar=1e-06, tol=0.001, verbose=0,\n",
              "                verbose_interval=10, warm_start=False, weights_init=None)"
            ]
          },
          "metadata": {
            "tags": []
          },
          "execution_count": 31
        }
      ]
    },
    {
      "cell_type": "code",
      "metadata": {
        "id": "_li11veKazMl"
      },
      "source": [
        "# Step size of the mesh. Decrease to increase the quality of the VQ.\n",
        "h = .02     # point in the mesh [x_min, x_max]x[y_min, y_max].\n",
        "\n",
        "# Plot the decision boundary. For that, we will assign a color to each\n",
        "x_min, x_max = reduced_data[:, 0].min() - 1, reduced_data[:, 0].max() + 1\n",
        "y_min, y_max = reduced_data[:, 1].min() - 1, reduced_data[:, 1].max() + 1\n",
        "xx, yy = np.meshgrid(np.arange(x_min, x_max, h), np.arange(y_min, y_max, h))"
      ],
      "execution_count": 32,
      "outputs": []
    },
    {
      "cell_type": "code",
      "metadata": {
        "id": "rb1cU_nea3wb"
      },
      "source": [
        "Z = GMModel.predict(np.c_[xx.ravel(), yy.ravel()]).reshape(xx.shape)"
      ],
      "execution_count": 33,
      "outputs": []
    },
    {
      "cell_type": "code",
      "metadata": {
        "colab": {
          "base_uri": "https://localhost:8080/",
          "height": 268
        },
        "id": "3s3sRHeea7tv",
        "outputId": "5969a93d-627d-4873-9cc3-4685367a45b2"
      },
      "source": [
        "plt.figure(1)\n",
        "plt.clf()\n",
        "plt.imshow(Z, interpolation='nearest',\n",
        "           extent=(xx.min(), xx.max(), yy.min(), yy.max()),\n",
        "           cmap=plt.cm.Accent,\n",
        "           aspect='auto', origin='lower')\n",
        "\n",
        "plt.plot(reduced_data[:, 0], reduced_data[:, 1], 'k.', markersize=0.5)\n",
        "# Plot the centroids as a white X\n",
        "means = GMModel.means_\n",
        "plt.scatter(means[:, 0], means[:, 1],\n",
        "            marker='x', s=169, linewidths=3,\n",
        "            color='w', zorder=10, label = \"Centroid\")\n",
        "plt.contour(xx,yy, Z)\n",
        "plt.title('GMM clustering k = 4 (PCA-reduced data)')\n",
        "plt.legend()\n",
        "plt.xlim(x_min, x_max)\n",
        "plt.ylim(y_min, y_max)\n",
        "plt.xticks(())\n",
        "plt.yticks(())\n",
        "plt.show()"
      ],
      "execution_count": 34,
      "outputs": [
        {
          "output_type": "display_data",
          "data": {
            "image/png": "[encoded data removed]",
            "text/plain": [
              "<Figure size 432x288 with 1 Axes>"
            ]
          },
          "metadata": {
            "tags": []
          }
        }
      ]
    },
    {
      "cell_type": "code",
      "metadata": {
        "colab": {
          "base_uri": "https://localhost:8080/"
        },
        "id": "LgP-pEYma-Jc",
        "outputId": "80007dba-8dfc-49b5-c018-5db202139e22"
      },
      "source": [
        "GMModel = GaussianMixture(n_components=5, )\n",
        "GMModel.fit(reduced_data)"
      ],
      "execution_count": 35,
      "outputs": [
        {
          "output_type": "execute_result",
          "data": {
            "text/plain": [
              "GaussianMixture(covariance_type='full', init_params='kmeans', max_iter=100,\n",
              "                means_init=None, n_components=5, n_init=1, precisions_init=None,\n",
              "                random_state=None, reg_covar=1e-06, tol=0.001, verbose=0,\n",
              "                verbose_interval=10, warm_start=False, weights_init=None)"
            ]
          },
          "metadata": {
            "tags": []
          },
          "execution_count": 35
        }
      ]
    },
    {
      "cell_type": "code",
      "metadata": {
        "id": "2qGCzbK-bBOm"
      },
      "source": [
        "# Step size of the mesh. Decrease to increase the quality of the VQ.\n",
        "h = .02     # point in the mesh [x_min, x_max]x[y_min, y_max].\n",
        "\n",
        "# Plot the decision boundary. For that, we will assign a color to each\n",
        "x_min, x_max = reduced_data[:, 0].min() - 1, reduced_data[:, 0].max() + 1\n",
        "y_min, y_max = reduced_data[:, 1].min() - 1, reduced_data[:, 1].max() + 1\n",
        "xx, yy = np.meshgrid(np.arange(x_min, x_max, h), np.arange(y_min, y_max, h))"
      ],
      "execution_count": 36,
      "outputs": []
    },
    {
      "cell_type": "code",
      "metadata": {
        "id": "yVDZ-ccXbDI8"
      },
      "source": [
        "Z = GMModel.predict(np.c_[xx.ravel(), yy.ravel()]).reshape(xx.shape)"
      ],
      "execution_count": 37,
      "outputs": []
    },
    {
      "cell_type": "code",
      "metadata": {
        "colab": {
          "base_uri": "https://localhost:8080/",
          "height": 268
        },
        "id": "EzRSsxjWbE_h",
        "outputId": "cc6b0371-1f2c-4a87-c104-3bc5dbddc81a"
      },
      "source": [
        "plt.figure(1)\n",
        "plt.clf()\n",
        "plt.imshow(Z, interpolation='nearest',\n",
        "           extent=(xx.min(), xx.max(), yy.min(), yy.max()),\n",
        "           cmap=plt.cm.Accent,\n",
        "           aspect='auto', origin='lower')\n",
        "\n",
        "plt.plot(reduced_data[:, 0], reduced_data[:, 1], 'k.', markersize=0.5)\n",
        "# Plot the centroids as a white X\n",
        "means = GMModel.means_\n",
        "plt.scatter(means[:, 0], means[:, 1],\n",
        "            marker='x', s=169, linewidths=3,\n",
        "            color='w', zorder=10, label = \"Centroid\")\n",
        "plt.contour(xx,yy, Z)\n",
        "plt.title('GMM clustering k = 5 (PCA-reduced data)')\n",
        "plt.legend()\n",
        "plt.xlim(x_min, x_max)\n",
        "plt.ylim(y_min, y_max)\n",
        "plt.xticks(())\n",
        "plt.yticks(())\n",
        "plt.show()"
      ],
      "execution_count": 38,
      "outputs": [
        {
          "output_type": "display_data",
          "data": {
            "image/png": "[encoded data removed]",
            "text/plain": [
              "<Figure size 432x288 with 1 Axes>"
            ]
          },
          "metadata": {
            "tags": []
          }
        }
      ]
    },
    {
      "cell_type": "code",
      "metadata": {
        "id": "OF0en126bHlL"
      },
      "source": [
        ""
      ],
      "execution_count": null,
      "outputs": []
    }
  ]
}